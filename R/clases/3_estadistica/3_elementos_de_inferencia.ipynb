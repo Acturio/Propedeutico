{
 "cells": [
  {
   "cell_type": "markdown",
   "metadata": {},
   "source": [
    "**Notas para contenedor de docker:**"
   ]
  },
  {
   "cell_type": "markdown",
   "metadata": {},
   "source": [
    "Comando de docker para ejecución de la nota de forma local:\n",
    "\n",
    "nota: cambiar `dir_montar` por la ruta de directorio que se desea mapear a `/datos` dentro del contenedor de docker.\n",
    "\n",
    "```\n",
    "dir_montar=<ruta completa de mi máquina a mi directorio>#aquí colocar la ruta al directorio a montar, por ejemplo: \n",
    "#dir_montar=/Users/erick/midirectorio.\n",
    "```\n",
    "\n",
    "Ejecutar:\n",
    "\n",
    "```\n",
    "$docker run --rm -v $dir_montar:/datos --name jupyterlab_prope_r_kernel_tidyverse -p 8888:8888 -d palmoreck/jupyterlab_prope_r_kernel_tidyverse:2.1.4   \n",
    "\n",
    "```"
   ]
  },
  {
   "cell_type": "markdown",
   "metadata": {},
   "source": [
    "Ir a `localhost:8888` y escribir el password para jupyterlab: `qwerty`\n",
    "\n",
    "Detener el contenedor de docker:\n",
    "\n",
    "```\n",
    "docker stop jupyterlab_prope_r_kernel_tidyverse\n",
    "```\n"
   ]
  },
  {
   "cell_type": "markdown",
   "metadata": {},
   "source": [
    "Documentación de la imagen de docker `palmoreck/jupyterlab_prope_r_kernel_tidyverse:2.1.4` en [liga](https://github.com/palmoreck/dockerfiles/tree/master/jupyterlab/prope_r_kernel_tidyverse)."
   ]
  },
  {
   "cell_type": "markdown",
   "metadata": {},
   "source": [
    "---"
   ]
  },
  {
   "cell_type": "markdown",
   "metadata": {},
   "source": [
    "Para ejecución de la nota usar:\n",
    "\n",
    "[docker](https://www.docker.com/) (instalación de forma **local** con [Get docker](https://docs.docker.com/install/)) y ejecutar comandos que están al inicio de la nota de forma **local**. \n",
    "\n",
    "O bien dar click en alguno de los botones siguientes:"
   ]
  },
  {
   "cell_type": "markdown",
   "metadata": {},
   "source": [
    "[![Binder](https://mybinder.org/badge_logo.svg)](https://mybinder.org/v2/gh/palmoreck/dockerfiles-for-binder/jupyterlab_prope_r_kernel_tidyerse?urlpath=lab/tree/Propedeutico/R/clases/3_estadistica/3_elementos_de_inferencia.ipynb) esta opción crea una máquina individual en un servidor de Google, clona el repositorio y permite la ejecución de los notebooks de jupyter."
   ]
  },
  {
   "cell_type": "markdown",
   "metadata": {},
   "source": [
    "[![Run on Repl.it](https://repl.it/badge/github/palmoreck/dummy)](https://repl.it/languages/Rlang) esta opción no clona el repositorio, no ejecuta los notebooks de jupyter pero permite ejecución de instrucciones de Python de forma colaborativa con [repl.it](https://repl.it/). Al dar click se crearán nuevos ***repl*** debajo de sus users de ***repl.it***.\n"
   ]
  },
  {
   "cell_type": "markdown",
   "metadata": {},
   "source": [
    "### Lo siguiente está basado en los libros:\n",
    "\n",
    "### * B. Rumbos, Pensando Antes de Actuar: Fundamentos de Elección Racional, 2009\n",
    "\n",
    "### * G. J. Kerns, Introduction to Probability and Statistics Using R, 2014.\n",
    "\n",
    "### El libro de G. J. Kerns tiene github: [jkerns/IPSUR](https://github.com/gjkerns/IPSUR)\n"
   ]
  },
  {
   "cell_type": "markdown",
   "metadata": {},
   "source": [
    "**Nota:**\n",
    "\n",
    "* En algunas líneas no es necesario colocar `print` y sólo se ha realizado para mostrar los resultados de las funciones en un formato similar al de R pues la nota se escribió con *jupyterlab* y *R*."
   ]
  },
  {
   "cell_type": "code",
   "execution_count": 1,
   "metadata": {},
   "outputs": [],
   "source": [
    "install.packages(\"latex2exp\",lib=\"/usr/local/lib/R/site-library/\",\n",
    "                repos=\"https://cran.itam.mx/\")"
   ]
  },
  {
   "cell_type": "code",
   "execution_count": 1,
   "metadata": {},
   "outputs": [],
   "source": [
    "library(ggplot2)\n",
    "library(latex2exp)"
   ]
  },
  {
   "cell_type": "code",
   "execution_count": 2,
   "metadata": {},
   "outputs": [],
   "source": [
    "options(repr.plot.width=8, repr.plot.height=8) #esta línea sólo se ejecuta para jupyterlab con R"
   ]
  },
  {
   "cell_type": "markdown",
   "metadata": {},
   "source": [
    "# Introducción"
   ]
  },
  {
   "cell_type": "markdown",
   "metadata": {},
   "source": [
    "El objetivo de la Estadística es la de descripción de fenómenos que a través de datos manifiestan variabilidad. En particular, la inferencia estadística **describe alguna característica de una población** en base a la **información que se tiene de una o varias muestras de la misma**.  Por ejemplo, para llevar a cabo una encuesta de opinión política, no es necesario consultar a toda la población de votantes para concluir que cierto porcentaje de ésta favorece a un(a) candidato(a). "
   ]
  },
  {
   "cell_type": "markdown",
   "metadata": {},
   "source": [
    "En esta nota revisamos el método de Fisher con su variante propuesta por Jerzy Neyman (1894 - 1981) y Egon Pearson (1895 - 1980, hijo de Karl Pearson) para la metodología de prueba (o contraste) de hipótesis y determinar si las suposiciones sobre la población son soportadas (estadísticamente significativas) a partir de una muestra de tal población. Tal método forma parte de la inferencia estadística. Otro método de inferencia es la construcción de **intervalos de confianza** y está relacionado directamente con el de las pruebas de hipótesis."
   ]
  },
  {
   "cell_type": "markdown",
   "metadata": {},
   "source": [
    "**Un poco de historia ...**"
   ]
  },
  {
   "cell_type": "markdown",
   "metadata": {},
   "source": [
    "Ronald Aylmer Fisher (1890 - 1962), matemático inglés, cuyo interés por la agricultura y la genética lo llevó a dirigir el centro de investigación agrícola más importante de su época en el Reino Unido, el *Rothamsted Agricultural Experiment Station*, contribuyó gran parte de las ideas fundamentales que utiliza la estadística moderna y originó lo que se conoce como **diseño de experimentos**. La **aleatoriedad del muestreo** fue introducida por él, formalizó lo que hoy conocemos como **pruebas de hipótesis** y acuñó el término de **hipótesis nula**, entre otras aportaciones."
   ]
  },
  {
   "cell_type": "markdown",
   "metadata": {},
   "source": [
    "# Hipótesis y evidencia"
   ]
  },
  {
   "cell_type": "markdown",
   "metadata": {},
   "source": [
    "De acuerdo al filósofo austriaco Karl Popper (1902 - 1994) el conocimiento se construye, a partir de la imposibilidad de la negación de las hipótesis que se introducen para explicar la realidad. **Una hipótesis no puede desecharse, a menos que haya evidencia suficiente para ponerla en duda**."
   ]
  },
  {
   "cell_type": "markdown",
   "metadata": {},
   "source": [
    "Usualmente las hipótesis surgen para tratar de explicar algún fenómeno, por ejemplo:"
   ]
  },
  {
   "cell_type": "markdown",
   "metadata": {},
   "source": [
    "1) **Fenómeno:** amanecer. Hipótesis: **el sol sale todos los días**.\n",
    "\n",
    "2) **Fenómeno:** un paciente llega a ver a una médica y le explica sus síntomas. Hipótesis: **paciente enfermo de la enfermedad \"X\"**.\n",
    "\n",
    "3) **Fenómeno:** estudiante realiza examen de admisión a un departamento \"Y\" de una universidad. Hipótesis: **admisión al departamento \"Y\" es sin sesgo**."
   ]
  },
  {
   "cell_type": "markdown",
   "metadata": {},
   "source": [
    "Las hipótesis **son rechazadas o no dependiendo de los datos observados basados en una o varias muestras (evidencia)**. Las hipótesis iniciales son nombradas **hipótesis nulas** (no hay cambio, no hay diferencia, no hay característica especial...). Para cada ejemplo anterior supóngase que cada hipótesis es la inicial  o nula y además se tienen las siguientes evidencias:"
   ]
  },
  {
   "cell_type": "markdown",
   "metadata": {},
   "source": [
    "1) Una persona observa la salida del sol en la mañana por su ventana. \n",
    "\n",
    "2) La médica reconoce síntomas relacionados a la enfermedad \"X\".\n",
    "\n",
    "3) La estudiante revisa los resultados del examen de admisión."
   ]
  },
  {
   "cell_type": "markdown",
   "metadata": {},
   "source": [
    "Para cada evidencia se calculan probabilidades de la evidencia dada la hipótesis por algún modelo de probabilidad (por ejemplo modelo equiprobable, subjetivo o frecuentista, ver [1_elementos_de_probabilidad](https://github.com/ITAM-DS/Propedeutico/blob/master/R/clases/2_probabilidad/1_elementos_de_probabilidad.ipynb) y con alguna metodología (en esta nota revisamos el método por Neyman y Pearson):\n",
    "\n",
    "1) Probabilidad que el sol salga el día de mañana dado que el sol sale todos los días: 1.\n",
    "\n",
    "2) Probabilidad que el paciente tenga tales síntomas dado que el paciente tiene la enfermedad \"X\": 0.8.\n",
    "\n",
    "3) Probabilidad de ser admitida en el departamento \"Y\" dado que la admisión a tal departamento es sin sesgo: 0.4."
   ]
  },
  {
   "cell_type": "markdown",
   "metadata": {},
   "source": [
    "Entonces cada hipótesis nula se rechaza (la evidencia **sugiere** fuertemente que es falsa) o no se rechaza (la evidencia **no sugiere** fuertemente que es falsa) en favor o no, respectivamente, de la **hipótesis alterna** (complementaria de la hipótesis nula). Para cada ejemplo anterior se tienen como ejemplo las siguientes hipótesis alternas:\n",
    "\n",
    "* El sol no sale todos los días.\n",
    "\n",
    "* El paciente no tiene la enfermedad \"X\".\n",
    "\n",
    "* Admisión al departamento \"Y\" tiene sesgo."
   ]
  },
  {
   "cell_type": "markdown",
   "metadata": {},
   "source": [
    "Las **pruebas o contraste de hipótesis** son una metodología estadística que verifican la validez de las hipótesis o infieren características de una población (por ejemplo **parámetros** si las hipótesis están enunciadas en términos de parámetros poblacionales) al ser puestas a prueba con la evidencia observada u obtenida vía muestras de la población (datos)."
   ]
  },
  {
   "cell_type": "markdown",
   "metadata": {},
   "source": [
    "**Comentarios:** \n",
    "\n",
    "* El no rechazo/rechazo de la hipótesis nula **no garantiza** que las hipótesis nulas/alternas sean verdaderas pues que la evidencia (datos) no contradigan las hipótesis no implica su veracidad (principalmente porque la evidencia también tiene incertidumbre). Por ejemplo, no rechazar la hipótesis que el paciente tiene la enfermedad \"X\" dada la evidencia **no implica** que el paciente efectivamente esté enfermo de la enfermedad \"X\" (podría tener otra enfermedad relacionada); asimismo, rechazar que el proceso de admisión al departamento \"Y\" a estudiantes no tiene sesgo **no sugiere** que exista sesgo al proceso de admisión para estudiantes (podría darse la situación que estudiantes no cumplan con el perfil requerido).\n",
    "\n",
    "* La notación para la hipótesis inicial o nula es $H_0$ y la alternativa es $H_a$.\n",
    "\n",
    "* Es importante definir $H_0$ de modo que su rechazo nos proporcione información útil y relevante. Por ejemplo, si se especifica la hipótesis nula: \"el $90\\%$ de los crímenes cometidos en la ciudad de México quedan impunes\", la hipótesis alterna es: \"el porcentaje que queda impune es distinto del $90\\%$\" y el rechazo de la hipótesis nula en favor de la alterna no es muy útil. En este ejemplo podría escribirse a $H_0$ como: \"Al menos un $90\\%$ de los crímenes cometidos en la ciudad de México quedan impunes\"."
   ]
  },
  {
   "cell_type": "markdown",
   "metadata": {},
   "source": [
    "## Nivel de significancia de la prueba"
   ]
  },
  {
   "cell_type": "markdown",
   "metadata": {},
   "source": [
    "El rechazo o no rechazo de la hipótesis nula conduce a errores si tal hipótesis es verdadera o falsa respectivamente. Neyman y Pearson nombraron a tales errores como errores de tipo 1 y 2:\n",
    "\n",
    "|$H_0$|Rechazar $H_0$|No rechazar $H_0$|\n",
    "|:------:|:----:|:----:|\n",
    "|Verdadera|Error tipo I|-|\n",
    "|Falsa|-|Error tipo II|\n",
    "\n",
    "y en el proceso estadístico de pruebas de hipótesis se **considera más grave el error tipo I que el II** por ello se controla la probabilidad del error tipo I, el cual se define como el **nivel de significancia de la prueba**:\n",
    "\n",
    "$$\\text{nivel de significancia de la prueba es: } P(\\text{ETI}) = \\alpha$$\n",
    "\n",
    "donde: ET1 es el error tipo 1. Típicamente $\\alpha$ es $0.05$ o $0.01$. Tales valores están relacionados con el hecho que en la mayoría de los casos la distribución de los datos es aproximada por una normal y para tal distribución, el $95\\%$ de los datos se encuentran a una distancia de $2\\sigma$ (aprox.) de la media y el $99\\%$ a una distancia de $3\\sigma$ (aprox.) y estos valores son particularmente fáciles de calcular sin ninguna ayuda computacional\\*.\n",
    "\n",
    "\\* El cuantil .01 en una distribución normal estándar es $-2.32$ y el cuantil $.05$ es $-1.64$.\n",
    "\n",
    "Así, se define al **nivel de significancia de la prueba** como la **probabilidad máxima con la cual podemos rechazar la hipótesis nula**.\n"
   ]
  },
  {
   "cell_type": "markdown",
   "metadata": {},
   "source": [
    "**Comentarios:** \n",
    "\n",
    "* El ET1 puede considerarse como encarcelar a una persona inocente y el ET2 como no sentenciar a una persona culpable (el ET1 el \"error más grave\"). La probabilidad de cometer ET2 se denota como $\\beta$ y la probabilidad de cometer ET1 como $\\alpha$.\n",
    "\n",
    "* Podemos también escribir que ET1 es un **falso positivo:** observar una diferencia (\"rechazar o positivo\") cuando en realidad no hay diferencia estadísticamente significativa. \n",
    "\n",
    "\n",
    "* Podemos también escribir que ET2 es un **falso negativo:** no observar una diferencia (\"no rechazar o negativo\") cuando en realidad sí hay diferencia estadísticamente sinificativa .\n",
    "\n",
    "* $H_0$ típicamente no es rechazada a menos que la evidencia sugiera fuertemente que es falsa (es significativa).\n",
    "\n",
    "* Una vez fijada la probabilidad de cometer ET1 el proceso de Neyman y Pearson **minimiza** la probabilidad de cometer ET2, esto es, minimizar la probabilidad de no rechazar cuando $H_0$ es falsa. Tal probabilidad equivale a **maximizar** la probabilidad de rechazar $H_0$ cuando $H_0$ es falsa pues: \n",
    "\n",
    "$$\\beta = P(\\text{ETII}) = P(\\{\\text{no rechazar } H_0\\}|\\{H_0 \\text{ es falsa}\\})=1-P(\\{\\text{rechazar} H_0\\}|\\{H_0 \\text{ es falsa}\\}).$$ \n",
    "\n",
    "Entonces: $\\min \\beta$ equivale a $\\max P(\\{\\text{rechazar} H_0\\}|\\{H_0 \\text{ es falsa}\\})$.\n",
    "\n",
    "\n",
    "* A la probabilidad de rechazar $H_0$ dado que $H_0$ es falsa se le conoce como **potencia de la prueba** y está dada por $1-\\beta$. Maximizar la potencia es entonces maximizar la probabilidad de rechazo de una hipótesis falsa.\n",
    "\n",
    "* Evidentemente nos gustaría que la probabilidad de ambos tipos de error fuese lo más baja posible, sin embargo, para **una muestra dada** existe un trueque inevitable entre las dos probabilidades $\\alpha$ y $\\beta$. Si una disminuye la otra aumenta y viceversa. Una vez más, depende de la experimentadora tomar la decisión adecuada. Si dado un tamaño de muestra y un valor de significancia $\\alpha$, puede elegirse entre pruebas con distinta potencia, entonces lo óptimo es escoger la que tiene la potencia máxima.\n",
    "\n",
    "    Lo siguiente es parte del artículo original de Neyman y Pearson: \"¿Qué es más serio, condenar a un inocente o exonerar a un culpable? Esto dependerá de las consecuencias del error: ¿se castigará con la muerte o simplemente con una multa? ¿Cuál es el peligro a la comunidad de tener un criminal suelto? Desde el punto de vista de la teoría matemática, lo único que podemos lograr es demostrar como el riesgo de errores puede ser controlado y minimizado.\""
   ]
  },
  {
   "cell_type": "markdown",
   "metadata": {},
   "source": [
    "## Valor p o cálculo de la probabilidad condicional dado que $H_0$ es verdadera"
   ]
  },
  {
   "cell_type": "markdown",
   "metadata": {},
   "source": [
    "En varios ejemplos para diferentes valores del nivel de significancia de la prueba, $\\alpha$, suele darse la situación que se rechaza $H_0$ para un valor de $\\alpha$ y para otro valor no se rechaza $H_0$ por lo que nuestra decisión final depende de $\\alpha$. ¿Cuál es el valor entonces que se debe elegir $.05$ o $.01$? ¿cuál es el nivel de significancia para el cual se rechazaría a cualquier nivel de significancia más alto y cuál es el nivel para el que cualquier valor de nivel de significancia más bajo no se rechazaría?."
   ]
  },
  {
   "cell_type": "markdown",
   "metadata": {},
   "source": [
    "El **valor p** o **nivel de significancia observado** de una prueba de hipótesis, es la probabilidad de **obtener los datos o evidencia, a partir de una muestra**, dado que la hipótesis nula es verdadera."
   ]
  },
  {
   "cell_type": "markdown",
   "metadata": {},
   "source": [
    "### Ejemplo"
   ]
  },
  {
   "cell_type": "markdown",
   "metadata": {},
   "source": [
    "Imaginemos que un estudiante realiza un examen de matemáticas de opción múltiple. El examen consta de $10$ preguntas, cada una con $5$ opciones de respuesta, de las cuales sólo una es la correcta. Este estudiante obtiene $5$ preguntas correctas. \n",
    "\n",
    "Notemos que si las respuestas se eligen en forma aleatoria, la probabilidad de éxito es de $\\frac{1}{5}$ para cada pregunta. Podemos pensar al proceso de contestar el examen aleatoriamente como un experimento binomial con $10$ ensayos y probabilidad de éxito de $\\frac{1}{5}$ en cada ensayo y $X$ variable aleatoria binomial $n=10, p=\\frac{1}{5}$. Por tanto el número de aciertos esperados al contestar de forma aleatoria es de:\n",
    "\n",
    "$$\\mu = (10) \\frac{1}{5} = 2.$$"
   ]
  },
  {
   "cell_type": "markdown",
   "metadata": {},
   "source": [
    "¿Qué tan plausible es que el estudiante haya obtenido al menos $5$ aciertos? ¿Será meramente producto del azar o quizás posee algún conocimiento de matemáticas? Para contestar estas preguntas planteamos las siguientes hipótesis complementarias:"
   ]
  },
  {
   "cell_type": "markdown",
   "metadata": {},
   "source": [
    "$H_0$ : el estudiante contestó al azar"
   ]
  },
  {
   "cell_type": "markdown",
   "metadata": {},
   "source": [
    "$H_a$ : el estudiante no contestó al azar."
   ]
  },
  {
   "cell_type": "markdown",
   "metadata": {},
   "source": [
    "La probabilidad de tener al menos 5 aciertos puede calcularse como, $$P(X \\geq 5) = 1 - P(X < 5)=1-\\displaystyle \\sum_{i=0}^4P(X=i)$$"
   ]
  },
  {
   "cell_type": "markdown",
   "metadata": {},
   "source": [
    "Si $H_0$ es cierta y $p=\\frac{1}{5}$ entonces:"
   ]
  },
  {
   "cell_type": "code",
   "execution_count": 3,
   "metadata": {},
   "outputs": [
    {
     "data": {
      "text/html": [
       "0.0327934976"
      ],
      "text/latex": [
       "0.0327934976"
      ],
      "text/markdown": [
       "0.0327934976"
      ],
      "text/plain": [
       "[1] 0.0327935"
      ]
     },
     "metadata": {},
     "output_type": "display_data"
    }
   ],
   "source": [
    "pbinom(5,10,1/5,lower.tail = F) + dbinom(5,10,1/5)"
   ]
  },
  {
   "cell_type": "markdown",
   "metadata": {},
   "source": [
    "**Obs:** el valor anterior es el **valor p**."
   ]
  },
  {
   "cell_type": "markdown",
   "metadata": {},
   "source": [
    "En conclusión, la probabilidad de que el estudiante haya obtenido al menos $5$ aciertos contestando de manera aletoria es de $3.3\\%$. Existen dos posibilidades:\n",
    "\n",
    "* $H_0$ es verdadera y estamos ante un acontecimiento inusual que sólo ocurre el $3.3\\%$ del tiempo o bien,\n",
    "\n",
    "* $H_0$ es falsa."
   ]
  },
  {
   "cell_type": "markdown",
   "metadata": {},
   "source": [
    "Si $\\alpha=.01$ no rechazamos y si $\\alpha=.05$ sí rechazamos de acuerdo al valor p. En el segundo caso, tenemos que $H_0$ se rechazaría en favor de $H_a$. \n",
    "\n",
    "Ahora, si consideramos que los $5$ aciertos no fueron obra de la casualidad, entonces, ¿podemos concluir que el estudiante sabe algo de matemáticas? Desafortunadamente no, ya que no puede descartarse que haya copiado algunas de las respuestas. Intuitivamente, los $5$ aciertos obtenidos podrían ser suficientemente significativos para descartar que son producto del azar."
   ]
  },
  {
   "cell_type": "markdown",
   "metadata": {},
   "source": [
    "**Comentarios:**\n",
    "\n",
    "* **El valor p nos proporciona el límite entre rechazar y no rechazar de acuerdo a la regla: si el valor p es menor que el nivel de significancia de la prueba $\\alpha$ entonces rechazamos $H_0$**. En este sentido, **el valor p es el valor mínimo para el cual el valor de la muestra observada conduce a rechazar $H_0$** ($\\alpha$'s más grandes que el valor p conducen a rechazar $H_0$).\n",
    "\n",
    "* Un valor p pequeño, no favorece a la hipótesis nula (rechazamos), un valor p grande indica que los datos obtenidos son compatibles con la hipótesis nula (no rechazamos). En el ejemplo anterior valores p más pequeños conducen a concluir que no fue producto del azar las respuestas del estudiante."
   ]
  },
  {
   "cell_type": "markdown",
   "metadata": {},
   "source": [
    "## Región de rechazo y estadísticas de prueba"
   ]
  },
  {
   "cell_type": "markdown",
   "metadata": {},
   "source": [
    "La región de rechazo o región crítica $\\mathscr{C}$ es el subconjunto de valores del espacio muestral (aquel que contiene diferentes muestras de la población) para los cuales se rechaza $H_0$. El procedimiento estadístico de pruebas de hipótesis por Neyman y Pearson entonces fija la probabilidad del error tipo 1 como: $$\\alpha = P(ET1) = P(\\{x_1,\\dots,x_n\\} \\in \\mathscr{C} | \\{H_0 \\text{ es verdadera}\\}).$$"
   ]
  },
  {
   "cell_type": "markdown",
   "metadata": {},
   "source": [
    "y se rechaza $H_0$ si $\\alpha$ es pequeño (o en la práctica el valor p si es pequeño). En las pruebas de hipótesis **paramétricas** (población completamente definida en términos de parámetros, por ejemplo $\\mu$ o $\\sigma$) la probabilidad (condicional) anterior típicamente se reformula en términos de una estadística resúmen, por ejemplo $\\bar{X}$: $$\\alpha = P(ET1) = P(\\bar{X} \\in \\mathscr{C} | \\{H_0 \\text{ es verdadera}\\}).$$"
   ]
  },
  {
   "cell_type": "markdown",
   "metadata": {},
   "source": [
    "y a esta estadística se le nombra **estadística de prueba**."
   ]
  },
  {
   "cell_type": "markdown",
   "metadata": {},
   "source": [
    "### Ejemplo"
   ]
  },
  {
   "cell_type": "markdown",
   "metadata": {},
   "source": [
    "Fisher originalmente construyó las pruebas de hipótesis para probar la eficacia de fertilizantes y pesticidas en experimentos agrícolas para evaluar la productividad del campo en cuestión. Supongamos que quiere determinarse si la adopción del uso de cierto fertilizante para el maíz es deseable. Los pasos a seguir son los siguientes:\n",
    "\n",
    "* Diseñar un experimento con una muestra de parcelas en las que se aplica el fertilizante.\n",
    "\n",
    "* Elegir una cantidad que represente a los datos que nos interesa medir, usualmente se trata de una media, de una desviación estándar o de una proporción. En este caso queremos representar el rendimiento o productividad de las parcelas. La cantidad a medir supóngase que es la cantidad promedio de maíz producida, $\\mu$, el rendimiento promedio. Sea $R_0$ el valor actual del rendimiento promedio del maíz. \n",
    "\n",
    "* Determinar la hipótesis nula y la alterna, que en este caso son: $H_0:$ el fertilizante no sirve, $H_a:$ el fertilizante sirve. En términos del rendimiento promedio éstas se reescriben como:"
   ]
  },
  {
   "cell_type": "markdown",
   "metadata": {},
   "source": [
    "$$H_0: \\mu = R_0$$"
   ]
  },
  {
   "cell_type": "markdown",
   "metadata": {},
   "source": [
    "$$H_a: \\mu > R_0$$"
   ]
  },
  {
   "cell_type": "markdown",
   "metadata": {},
   "source": [
    "* Establecer un nivel de significancia, por ejemplo $\\alpha = 0.05.$\n",
    "\n",
    "* Obtener los datos acerca de los rendimientos de cada parcela de la muestra y calcular el rendimiento promedio $\\bar{x}$. Tomando $\\bar{X}$ como estadística de prueba si $\\bar{x} \\leq R_0$ entonces $H_0$ no será rechazada (el fertilizante no sirve). O bien:\n",
    "\n",
    "* Calcular: $P(\\bar{X} > \\bar{x}|\\{H_0 \\text{ es verdadera })$ el cual es el valor p. Si el valor p es menor a $0.05$, entonces concluimos que estamos ante algo muy inusual, que sólo ocurre con probabilidad menor al $5\\%$ o bien, la hipótesis nula es falsa. Se dice que los resultados son significativos a un nivel de $0.05$. Dado que $0.05$ es el nivel de significancia preestablecido, se procede a rechazar la hipótesis nula -en favor de la alterna-, es decir, el fertilizante sirve.\n"
   ]
  },
  {
   "cell_type": "markdown",
   "metadata": {},
   "source": [
    "## Ejemplo en R..."
   ]
  },
  {
   "cell_type": "markdown",
   "metadata": {},
   "source": [
    "Supóngase que la proporción de estudiantes que son admitidos a la Universidad Berkley de California está denotado por *prop* y la oficina de relaciones públicas emite un comunicado en el que se menciona que la UCB ha tenido un $40\\%$ de aceptación. Considérese los datos *UCBAdmissions* de *R* que contienen la admisión del año $1973$ por género, departamento y la variable *admitido* y *no admitido*:"
   ]
  },
  {
   "cell_type": "code",
   "execution_count": 4,
   "metadata": {},
   "outputs": [
    {
     "name": "stdout",
     "output_type": "stream",
     "text": [
      "$Admit\n",
      "[1] \"Admitted\" \"Rejected\"\n",
      "\n",
      "$Gender\n",
      "[1] \"Male\"   \"Female\"\n",
      "\n",
      "$Dept\n",
      "[1] \"A\" \"B\" \"C\" \"D\" \"E\" \"F\"\n",
      "\n"
     ]
    }
   ],
   "source": [
    "print(dimnames(UCBAdmissions))"
   ]
  },
  {
   "cell_type": "markdown",
   "metadata": {},
   "source": [
    "Supóngase que tales datos constituyen una muestra aleatoria simple. \n",
    "\n",
    "**Responder:** ¿tales datos son consistentes con la carta emitida por relaciones públicas o proveen evidencia que la tasa de aceptación es significativamente menor al $40\\%$? (usar un nivel de significancia de $\\alpha=0.01$)."
   ]
  },
  {
   "cell_type": "markdown",
   "metadata": {},
   "source": [
    "**Solución:**"
   ]
  },
  {
   "cell_type": "markdown",
   "metadata": {},
   "source": [
    "La hipótesis nula es $H_0: prop=0.4$ y la hipótesis alternativa es $H_a: prop<0.4$. Rechazamos la hipótesis nula si el valor p es menor a $\\alpha = 0.01$. El valor p se calcula como: $$P(\\hat{p} < \\hat{p}_{obs}|H_0 \\text{ es verdadera })$$"
   ]
  },
  {
   "cell_type": "markdown",
   "metadata": {},
   "source": [
    "donde: $\\hat{p}$ es la estadística de prueba (proporción estimada) y $\\hat{p}_{obs}$ es la proporción calculada/observada en los datos."
   ]
  },
  {
   "cell_type": "markdown",
   "metadata": {},
   "source": [
    "Suponiendo normalidad (garantizada por el teorema del límite central) y que $H_0$ es verdadera resulta: $\\frac{\\hat{p} - 0.4}{\\sqrt{\\frac{.4(1-.4)}{n}}} \\sim N(0,1)$ y $\\hat{p}_{obs}$ se calcula con los datos:"
   ]
  },
  {
   "cell_type": "code",
   "execution_count": 5,
   "metadata": {},
   "outputs": [],
   "source": [
    "#in next line we use number 1 to combine by gender and department\n",
    "#if instead 1 we use c(1,2) result is combined by department only\n",
    "#this last one is equivalent to apply(UCBAdmissions, 1, sum)\n",
    "admitted_rejected <- margin.table(UCBAdmissions, 1) "
   ]
  },
  {
   "cell_type": "code",
   "execution_count": 6,
   "metadata": {},
   "outputs": [
    {
     "name": "stdout",
     "output_type": "stream",
     "text": [
      "Admit\n",
      "Admitted Rejected \n",
      "    1755     2771 \n",
      "[1] \"proporcion de admitidos en los datos de UCBAdmissions:\"\n",
      "[1] 0.3877596\n"
     ]
    }
   ],
   "source": [
    "print(admitted_rejected)\n",
    "print('proporcion de admitidos en los datos de UCBAdmissions:')\n",
    "p_obs<-as.numeric(admitted_rejected[1]/(admitted_rejected[1]+admitted_rejected[2]))\n",
    "print(p_obs)"
   ]
  },
  {
   "cell_type": "markdown",
   "metadata": {},
   "source": [
    "por lo que $\\hat{p}_{obs}=\\frac{1755}{1755+2771} = 0.3878$ y se tiene:"
   ]
  },
  {
   "cell_type": "code",
   "execution_count": 7,
   "metadata": {},
   "outputs": [
    {
     "name": "stdout",
     "output_type": "stream",
     "text": [
      "[1] -1.680919\n"
     ]
    }
   ],
   "source": [
    "#number of students\n",
    "n<-as.numeric(admitted_rejected[1]+admitted_rejected[2]) \n",
    "\n",
    "#proportion assuming H0 is True\n",
    "p_H_0<-0.4\n",
    "\n",
    "#observed value of test statistic \n",
    "obs_test_statistic <-(p_obs-p_H_0)/sqrt((p_H_0)*(1-p_H_0)/n)\n",
    "\n",
    "print(obs_test_statistic)"
   ]
  },
  {
   "cell_type": "markdown",
   "metadata": {},
   "source": [
    "que es aproximadamente $-1.681$ y el valor p entonces es: $$P(\\hat{p} < \\hat{p}_{obs}) = P\\left(\\frac{\\hat{p} - 0.4}{\\sqrt{\\frac{.4(1-.4)}{n}}} < -1.681\\right) = P(Z < -1.68) \\approx 0.0464 ,$$ donde $Z \\sim N(0,1)$."
   ]
  },
  {
   "cell_type": "code",
   "execution_count": 8,
   "metadata": {},
   "outputs": [
    {
     "data": {
      "text/html": [
       "0.0463892932957709"
      ],
      "text/latex": [
       "0.0463892932957709"
      ],
      "text/markdown": [
       "0.0463892932957709"
      ],
      "text/plain": [
       "[1] 0.04638929"
      ]
     },
     "metadata": {},
     "output_type": "display_data"
    }
   ],
   "source": [
    "pnorm(obs_test_statistic)"
   ]
  },
  {
   "cell_type": "markdown",
   "metadata": {},
   "source": [
    "Y para el nivel de significancia especificado $\\alpha=0.01$ **no se rechaza** $H_0$ en favor de la hipótesis: \"la proporción verdadera de estudiantes admitidos a la Universidad es menor al $40\\%$\" y los **datos observados son consistentes con el comunicado**."
   ]
  },
  {
   "cell_type": "markdown",
   "metadata": {},
   "source": [
    "**Obs:** si $\\alpha=0.05$ entonces sí hubiéramos rechazado $H_0$ y hubiéramos concluido que los datos UCBAdmissions dan evidencia significativa que la proporción verdadera de estudiantes que son admitidos a la Universidad es menor al $40\\%$ por lo que **los datos no son consistentes con el comunicado**. Depende de cada situación el nivel de significancia fijado, ¿se trata de una situación de vida o muerte o de algo con consecuencias menos drásticas?"
   ]
  },
  {
   "cell_type": "markdown",
   "metadata": {},
   "source": [
    "## Valor crítico"
   ]
  },
  {
   "cell_type": "markdown",
   "metadata": {},
   "source": [
    "En el ejemplo anterior obsérvese que para un nivel de significancia $\\alpha = 0.01$ se le corresponde el cuantil $-z_{0.99} = z_{0.01}$ cuyo valor es:"
   ]
  },
  {
   "cell_type": "code",
   "execution_count": 9,
   "metadata": {},
   "outputs": [
    {
     "data": {
      "text/html": [
       "-2.32634787404084"
      ],
      "text/latex": [
       "-2.32634787404084"
      ],
      "text/markdown": [
       "-2.32634787404084"
      ],
      "text/plain": [
       "[1] -2.326348"
      ]
     },
     "metadata": {},
     "output_type": "display_data"
    }
   ],
   "source": [
    "-qnorm(.99)"
   ]
  },
  {
   "cell_type": "code",
   "execution_count": 10,
   "metadata": {},
   "outputs": [
    {
     "data": {
      "text/html": [
       "-2.32634787404084"
      ],
      "text/latex": [
       "-2.32634787404084"
      ],
      "text/markdown": [
       "-2.32634787404084"
      ],
      "text/plain": [
       "[1] -2.326348"
      ]
     },
     "metadata": {},
     "output_type": "display_data"
    }
   ],
   "source": [
    "qnorm(.01)"
   ]
  },
  {
   "cell_type": "markdown",
   "metadata": {},
   "source": [
    "y para el nivel de significancia $\\alpha = 0.05$ se tiene como valor al cuantil $-z_{0.95} = z_{.05}$:"
   ]
  },
  {
   "cell_type": "code",
   "execution_count": 11,
   "metadata": {},
   "outputs": [
    {
     "data": {
      "text/html": [
       "-1.64485362695147"
      ],
      "text/latex": [
       "-1.64485362695147"
      ],
      "text/markdown": [
       "-1.64485362695147"
      ],
      "text/plain": [
       "[1] -1.644854"
      ]
     },
     "metadata": {},
     "output_type": "display_data"
    }
   ],
   "source": [
    "-qnorm(.95)"
   ]
  },
  {
   "cell_type": "code",
   "execution_count": 12,
   "metadata": {},
   "outputs": [
    {
     "data": {
      "text/html": [
       "-1.64485362695147"
      ],
      "text/latex": [
       "-1.64485362695147"
      ],
      "text/markdown": [
       "-1.64485362695147"
      ],
      "text/plain": [
       "[1] -1.644854"
      ]
     },
     "metadata": {},
     "output_type": "display_data"
    }
   ],
   "source": [
    "qnorm(.05)"
   ]
  },
  {
   "cell_type": "markdown",
   "metadata": {},
   "source": [
    "**¿Conclusión?** "
   ]
  },
  {
   "cell_type": "markdown",
   "metadata": {},
   "source": [
    "Rechazamos o no $H_0$ de acuerdo al valor p con la regla: "
   ]
  },
  {
   "cell_type": "markdown",
   "metadata": {},
   "source": [
    "**rechazar $H_0$ si el valor p es menor que el nivel de significancia $\\alpha$**"
   ]
  },
  {
   "cell_type": "markdown",
   "metadata": {},
   "source": [
    "o bien si conocemos los valores de los cuantiles y el valor observado de la **estadística de prueba** también podemos concluir si debemos o no rechazar $H_0$. En el ejemplo el valor observado de la estadística de prueba en la variable `obs_test_statistic` es aproximadamente $-1.681$ entonces:"
   ]
  },
  {
   "cell_type": "markdown",
   "metadata": {},
   "source": [
    "* Rechazamos $H_0$ para un nivel de significancia $\\alpha = 0.05$ pues el valor observado de la estadítica de prueba es $\\approx -1.681$ y cumple que es menor a $-1.644 \\approx z_{.05}$.\n",
    "\n",
    "* No rechazamos $H_0$ para un nivel de significancia $\\alpha = 0.01$ pues el valor observado de la estadítica de prueba es $\\approx -1.681$ y cumple que es mayor que $-2.32 \\approx z_{.01}$\n",
    "\n",
    "\n",
    "Los valores $z_{.05}$ o $z_{.01}$ (cuantiles) se conocen como **valores críticos**."
   ]
  },
  {
   "cell_type": "markdown",
   "metadata": {},
   "source": [
    "## Visualización"
   ]
  },
  {
   "cell_type": "markdown",
   "metadata": {},
   "source": [
    "En la siguiente gráfica visualizamos el nivel de significancia $\\alpha = 0.05$ asociado al valor crítico $z_{.05}$ y el valor observado de la estadística de prueba del ejemplo anterior."
   ]
  },
  {
   "cell_type": "code",
   "execution_count": 13,
   "metadata": {},
   "outputs": [],
   "source": [
    "alpha = 0.05\n",
    "quantile = qnorm(alpha)"
   ]
  },
  {
   "cell_type": "code",
   "execution_count": 14,
   "metadata": {},
   "outputs": [],
   "source": [
    "set.seed(2000)\n",
    "n <- 5000\n",
    "df <- data.frame(x=rnorm(n))\n",
    "y <- dnorm(df$x)\n",
    "df$y <- y"
   ]
  },
  {
   "cell_type": "code",
   "execution_count": 15,
   "metadata": {},
   "outputs": [
    {
     "data": {
      "text/html": [
       "<table>\n",
       "<caption>A data.frame: 6 × 2</caption>\n",
       "<thead>\n",
       "\t<tr><th></th><th scope=col>x</th><th scope=col>y</th></tr>\n",
       "\t<tr><th></th><th scope=col>&lt;dbl&gt;</th><th scope=col>&lt;dbl&gt;</th></tr>\n",
       "</thead>\n",
       "<tbody>\n",
       "\t<tr><th scope=row>1</th><td>-0.8538432</td><td>0.27707621</td></tr>\n",
       "\t<tr><th scope=row>2</th><td>-0.3528894</td><td>0.37485950</td></tr>\n",
       "\t<tr><th scope=row>3</th><td> 0.8901495</td><td>0.26844167</td></tr>\n",
       "\t<tr><th scope=row>4</th><td> 1.7412867</td><td>0.08759965</td></tr>\n",
       "\t<tr><th scope=row>5</th><td> 0.9160783</td><td>0.26222869</td></tr>\n",
       "\t<tr><th scope=row>6</th><td>-1.1766014</td><td>0.19966107</td></tr>\n",
       "</tbody>\n",
       "</table>\n"
      ],
      "text/latex": [
       "A data.frame: 6 × 2\n",
       "\\begin{tabular}{r|ll}\n",
       "  & x & y\\\\\n",
       "  & <dbl> & <dbl>\\\\\n",
       "\\hline\n",
       "\t1 & -0.8538432 & 0.27707621\\\\\n",
       "\t2 & -0.3528894 & 0.37485950\\\\\n",
       "\t3 &  0.8901495 & 0.26844167\\\\\n",
       "\t4 &  1.7412867 & 0.08759965\\\\\n",
       "\t5 &  0.9160783 & 0.26222869\\\\\n",
       "\t6 & -1.1766014 & 0.19966107\\\\\n",
       "\\end{tabular}\n"
      ],
      "text/markdown": [
       "\n",
       "A data.frame: 6 × 2\n",
       "\n",
       "| <!--/--> | x &lt;dbl&gt; | y &lt;dbl&gt; |\n",
       "|---|---|---|\n",
       "| 1 | -0.8538432 | 0.27707621 |\n",
       "| 2 | -0.3528894 | 0.37485950 |\n",
       "| 3 |  0.8901495 | 0.26844167 |\n",
       "| 4 |  1.7412867 | 0.08759965 |\n",
       "| 5 |  0.9160783 | 0.26222869 |\n",
       "| 6 | -1.1766014 | 0.19966107 |\n",
       "\n"
      ],
      "text/plain": [
       "  x          y         \n",
       "1 -0.8538432 0.27707621\n",
       "2 -0.3528894 0.37485950\n",
       "3  0.8901495 0.26844167\n",
       "4  1.7412867 0.08759965\n",
       "5  0.9160783 0.26222869\n",
       "6 -1.1766014 0.19966107"
      ]
     },
     "metadata": {},
     "output_type": "display_data"
    }
   ],
   "source": [
    "head(df)"
   ]
  },
  {
   "cell_type": "code",
   "execution_count": 16,
   "metadata": {},
   "outputs": [],
   "source": [
    "gf <- ggplot(data = df, aes(x=x, y=y)) + geom_point(size=.2) + \n",
    "      ggtitle(\"rnorm\") +\n",
    "      theme(plot.title = element_text(size=20, hjust = 0.5))"
   ]
  },
  {
   "cell_type": "code",
   "execution_count": 17,
   "metadata": {},
   "outputs": [
    {
     "name": "stderr",
     "output_type": "stream",
     "text": [
      "Warning message in is.na(x):\n",
      "“is.na() applied to non-(list or vector) of type 'expression'”\n"
     ]
    },
    {
     "data": {
      "image/png": "[encoded data removed]",
      "text/plain": [
       "plot without title"
      ]
     },
     "metadata": {
      "image/png": {
       "height": 480,
       "width": 480
      }
     },
     "output_type": "display_data"
    }
   ],
   "source": [
    "gf + \n",
    "geom_area(mapping = aes(x = ifelse(x < quantile, x, quantile),\n",
    "                        y = ifelse(x < quantile, y, 0)), \n",
    "          fill = \"salmon\") + \n",
    "geom_text(x=-2,y=2e-2,label=TeX(\"$\\\\alpha = 0.05$\"), size=4 )"
   ]
  },
  {
   "cell_type": "code",
   "execution_count": 18,
   "metadata": {},
   "outputs": [],
   "source": [
    "gf2 <- gf + \n",
    "       geom_segment(aes(x = quantile, \n",
    "                        y = 0, \n",
    "                        xend = quantile, \n",
    "                        yend = dnorm(quantile)\n",
    "                        ),\n",
    "                     colour = \"salmon\"\n",
    "                    ) +\n",
    "       geom_area(mapping = aes(x = ifelse(x < quantile, x, quantile),\n",
    "                               y = ifelse(x < quantile, y, 0)), \n",
    "                 fill = \"salmon\") +\n",
    "       geom_segment(aes(x = obs_test_statistic, \n",
    "                        y = 0, \n",
    "                        xend = obs_test_statistic, \n",
    "                        yend = dnorm(obs_test_statistic)\n",
    "                        ),\n",
    "                     colour = \"blue\"\n",
    "                    )"
   ]
  },
  {
   "cell_type": "code",
   "execution_count": 19,
   "metadata": {},
   "outputs": [
    {
     "name": "stderr",
     "output_type": "stream",
     "text": [
      "Warning message in is.na(x):\n",
      "“is.na() applied to non-(list or vector) of type 'expression'”\n"
     ]
    },
    {
     "data": {
      "image/png": "[encoded data removed]",
      "text/plain": [
       "plot without title"
      ]
     },
     "metadata": {
      "image/png": {
       "height": 480,
       "width": 480
      }
     },
     "output_type": "display_data"
    }
   ],
   "source": [
    "gf2 +\n",
    "geom_text(x = obs_test_statistic - .4, y = -1e-2, label = \"-1.681\") + \n",
    "geom_text(x = quantile +  .4, y = -1e-2, label = \"-1.644\") + \n",
    "geom_text(x=-2.1,y=2e-2,label=TeX(\"$\\\\alpha = 0.05$\"), size=4 )"
   ]
  },
  {
   "cell_type": "code",
   "execution_count": 23,
   "metadata": {},
   "outputs": [
    {
     "name": "stderr",
     "output_type": "stream",
     "text": [
      "Warning message:\n",
      "“Removed 4655 rows containing missing values (geom_point).”\n",
      "Warning message in is.na(x):\n",
      "“is.na() applied to non-(list or vector) of type 'expression'”\n"
     ]
    },
    {
     "data": {
      "image/png": "[encoded data removed]",
      "text/plain": [
       "plot without title"
      ]
     },
     "metadata": {
      "image/png": {
       "height": 480,
       "width": 480
      }
     },
     "output_type": "display_data"
    }
   ],
   "source": [
    "gf2 + \n",
    "geom_text(x = obs_test_statistic - .2, y = -5e-3, label = \"-1.681\", size = 5) + \n",
    "geom_text(x = quantile +  .1, y = -5e-3, label = \"-1.644\", size = 5) + \n",
    "geom_text(x=-2.1,y=2e-2,label=TeX(\"$\\\\alpha = 0.05$\"), size=9 ) +\n",
    "ylim(-1e-2,0.15) + \n",
    "xlim(-4, -1.5)\n"
   ]
  }
 ],
 "metadata": {
  "kernelspec": {
   "display_name": "R",
   "language": "R",
   "name": "ir"
  },
  "language_info": {
   "codemirror_mode": "r",
   "file_extension": ".r",
   "mimetype": "text/x-r-source",
   "name": "R",
   "pygments_lexer": "r",
   "version": "3.6.3"
  }
 },
 "nbformat": 4,
 "nbformat_minor": 4
}
