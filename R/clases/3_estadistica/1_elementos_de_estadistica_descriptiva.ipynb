{
 "cells": [
  {
   "cell_type": "markdown",
   "metadata": {},
   "source": [
    "Lo siguiente está basado en los libros:\n",
    "\n",
    "* B. Rumbos, Pensando Antes de Actuar: Fundamentos de Elección Racional, 2009\n",
    "\n",
    "* J. Albert & M. Rizzo, \"R by Example\", 2012\n",
    "\n",
    "* G. J. Kerns, Introduction to Probability and Statistics Using R, 2014.\n",
    "\n",
    "* M.D. Ugarte, A. F. Militino, A. T. Arnholt, Probability and Statistics with R\", 2ed.\n",
    "\n",
    "El libro de G. J. Kerns tiene github: [jkerns/IPSUR](https://github.com/gjkerns/IPSUR)\n",
    "\n",
    "El libro de J. Albert & M. Rizzo tiene github: https://github.com/mariarizzo/RbyExample\n",
    "\n",
    "El libro de M. D. Ugarte, A. F. Militino, A. T. Arnholttiene github de scripts [alanarnholt/PASWR2E-Rscripts](https://github.com/alanarnholt/PASWR2E-Rscripts)"
   ]
  },
  {
   "cell_type": "markdown",
   "metadata": {},
   "source": [
    "Y en clases de [Felipe González](https://github.com/felipegonzalez). "
   ]
  },
  {
   "cell_type": "markdown",
   "metadata": {},
   "source": [
    "**Nota:**\n",
    "\n",
    "* En algunas líneas no es necesario colocar `print` y sólo se ha realizado para mostrar los resultados de las funciones en un formato similar al de R pues la nota se escribió con *jupyterlab* y *R*."
   ]
  },
  {
   "cell_type": "code",
   "execution_count": 1,
   "metadata": {},
   "outputs": [],
   "source": [
    "library(ggplot2)"
   ]
  },
  {
   "cell_type": "code",
   "execution_count": 2,
   "metadata": {},
   "outputs": [],
   "source": [
    "options(repr.plot.width=3.5, repr.plot.height=3.5) #esta línea sólo se ejecuta para jupyterlab con R"
   ]
  },
  {
   "cell_type": "markdown",
   "metadata": {},
   "source": [
    "# Estadística"
   ]
  },
  {
   "cell_type": "markdown",
   "metadata": {},
   "source": [
    "La Estadística **tiene por objetivo** la recolección, organización, resumen, análisis y presentación de los **datos** y proporciona herramientas y métodos para lo anterior."
   ]
  },
  {
   "cell_type": "markdown",
   "metadata": {},
   "source": [
    "**Comentario:** Es importante mencionar que el **objetivo** anterior puede pensarse como un flujo de trabajo unidireccional, esto es: recolectar -> organizar -> resumir -> analizar -> presentar; **sin embargo** considerarlo unidireccional **cierra las puertas** al proceso de mejoramiento de cada uno de los pasos involucrados, por lo que se prefiere un flujo de la forma:"
   ]
  },
  {
   "cell_type": "markdown",
   "metadata": {},
   "source": [
    "(cuadros)"
   ]
  },
  {
   "cell_type": "markdown",
   "metadata": {},
   "source": [
    "Al conjunto de todos los datos que se desean estudiar se le denomina **población**, asimismo, a cualquier subconjunto del total de datos se le conoce como **muestra**. Por ejemplo, las encuestas pretenden encontrar alguna **característica de interés** de una población -digamos votantes- por medio del análisis de una muestra."
   ]
  },
  {
   "cell_type": "markdown",
   "metadata": {},
   "source": [
    "La **estadística descriptiva** obtiene, organiza y presenta la información. La **inferencia estadística** prueba la validez -o la invalidez- de hipótesis que se tienen acerca de una población, con base a información de una o varias muestras."
   ]
  },
  {
   "cell_type": "markdown",
   "metadata": {},
   "source": [
    "# Tipos de datos y variables"
   ]
  },
  {
   "cell_type": "markdown",
   "metadata": {},
   "source": [
    "Datos: información especializada y organizada (en alguna forma) para análisis o usada como base de una decisión. Un *dataset* es una colección de datos relacionados de alguna forma."
   ]
  },
  {
   "cell_type": "markdown",
   "metadata": {},
   "source": [
    "Para **estudiar características de los datos** la Estadística los representa por medio de **variables** las cuales pueden ser de dos tipos:"
   ]
  },
  {
   "cell_type": "markdown",
   "metadata": {},
   "source": [
    "* **cuantitativas**: la variable mide una cantidad de interés. Puede estar en una **escala de intervalo o de razón**. Está en una de intervalo si tienen una interpretación las distancias entre las cantidades medidas: hay un significado de \"mayor\", \"menor\" o \"igual\" a una cantidad y \"por cuántas unidades una cantidad difiere de otra\". Se encuentran en una escala de razón si cumple con la propiedad de las de intervalo pero además el valor \"0\" y los cocientes entre cantidades tienen un significado ($0$ representa que no hay medición alguna de la cantidad medida por la variable).\n",
    "\n",
    "* **cualitativas**: la variable define grupos o categorías. Si las categorías no tienen un orden se les llama **nominales** y si lo tienen se les llama **ordinales**.\n"
   ]
  },
  {
   "cell_type": "markdown",
   "metadata": {},
   "source": [
    "## Ejemplos"
   ]
  },
  {
   "cell_type": "markdown",
   "metadata": {},
   "source": [
    "* masculino, femenino, música de jazz, música de rock son variables cualitativas y son nominales.\n",
    "\n",
    "* primaria, segundaria, preparatoria y universidad son variables cualitativas ordinales.\n",
    "\n",
    "* $80^{o}C, -5^{o}F$, pH $= 7$ son variables cuantitativas de intervalo (el valor $0$ no representa \"no calor\" para $^{o}C$ o $^{o}F$, tampoco representa \"no acidez\" para el pH).\n",
    "\n",
    "* $5 kg, 1.50 m, 0^{o}K$ son variables cuantitativas de razón."
   ]
  },
  {
   "cell_type": "markdown",
   "metadata": {},
   "source": [
    "**Comentarios:** \n",
    "\n",
    "* En *R* un *data frame* puede contener variables de tipos diferentes.\n",
    "\n",
    "* Las **variables aleatorias** que revisamos en el tema de probabilidad nos ayudan a modelar, analizar y extraer características de los datos.\n",
    "\n",
    "* Si un dataset tiene una única variable asociada es univariado, si tiene dos bivariado y más de dos se le llama multivariado."
   ]
  },
  {
   "cell_type": "markdown",
   "metadata": {},
   "source": [
    "Así como las variables son de diferentes tipos, a **los datos se les subdivide en distintas categorías dependiendo del enfoque de estudio**. Comúnmente se clasifican en cuantitativos o numéricos, cualitativos, lógicos, faltantes, atípicos, ... pero también han surgido actualmente otras categorías como **estructurados y no estructurados**. Cualquiera que sea la categoría en el que se les agrupe, la visualización es una herramienta muy útil para su análisis y modelación."
   ]
  },
  {
   "cell_type": "markdown",
   "metadata": {},
   "source": [
    "# Visualizando distribuciones de datos"
   ]
  },
  {
   "cell_type": "markdown",
   "metadata": {},
   "source": [
    "Siguiendo con la relación que se ha establecido entre variables y datos, **la visualización depende del tipo de variable**. Si se tiene una variable categórica típicamente se utilizan tablas que enlistan categorías y la frecuencia con la que ocurren tales categorías para representar la distribución de los datos. Para una variable cuantitativa la distribución de los datos se representa con histogramas o gráficas de densidad."
   ]
  },
  {
   "cell_type": "markdown",
   "metadata": {},
   "source": [
    "## Datos categóricos"
   ]
  },
  {
   "cell_type": "markdown",
   "metadata": {},
   "source": [
    "Como se escribió arriba se utilizan tablas conocidas como de frecuencias absolutas o de frecuencias relativas (proporciones) para representar este tipo de datos."
   ]
  },
  {
   "cell_type": "markdown",
   "metadata": {},
   "source": [
    "### Ejemplo"
   ]
  },
  {
   "cell_type": "markdown",
   "metadata": {},
   "source": [
    "En *R* la función *read.table* puede usarse para leer datos directamente de internet (pero algunos sitios pueden restringir la lectura)."
   ]
  },
  {
   "cell_type": "markdown",
   "metadata": {},
   "source": [
    "El archivo *PiDigits.dat* contiene los primeros $5000$ dígitos del número $\\pi$. Los datos son proveídos por *National Institute of Standards and Technology (NIST)*. Documentación del archivo está insertada al inicio y los dígitos inician en la línea $61$."
   ]
  },
  {
   "cell_type": "code",
   "execution_count": 3,
   "metadata": {},
   "outputs": [],
   "source": [
    "#la url del sitio debe estar en una misma línea\n",
    "pidigits = read.table(\n",
    "    'http://www.itl.nist.gov/div898/strd/univ/data/PiDigits.dat', \n",
    "    skip=60) "
   ]
  },
  {
   "cell_type": "code",
   "execution_count": 4,
   "metadata": {},
   "outputs": [
    {
     "data": {
      "text/html": [
       "<table>\n",
       "<caption>A data.frame: 6 x 1</caption>\n",
       "<thead>\n",
       "\t<tr><th scope=col>V1</th></tr>\n",
       "\t<tr><th scope=col>&lt;int&gt;</th></tr>\n",
       "</thead>\n",
       "<tbody>\n",
       "\t<tr><td>3</td></tr>\n",
       "\t<tr><td>1</td></tr>\n",
       "\t<tr><td>4</td></tr>\n",
       "\t<tr><td>1</td></tr>\n",
       "\t<tr><td>5</td></tr>\n",
       "\t<tr><td>9</td></tr>\n",
       "</tbody>\n",
       "</table>\n"
      ],
      "text/latex": [
       "A data.frame: 6 x 1\n",
       "\\begin{tabular}{r|l}\n",
       " V1\\\\\n",
       " <int>\\\\\n",
       "\\hline\n",
       "\t 3\\\\\n",
       "\t 1\\\\\n",
       "\t 4\\\\\n",
       "\t 1\\\\\n",
       "\t 5\\\\\n",
       "\t 9\\\\\n",
       "\\end{tabular}\n"
      ],
      "text/markdown": [
       "\n",
       "A data.frame: 6 x 1\n",
       "\n",
       "| V1 &lt;int&gt; |\n",
       "|---|\n",
       "| 3 |\n",
       "| 1 |\n",
       "| 4 |\n",
       "| 1 |\n",
       "| 5 |\n",
       "| 9 |\n",
       "\n"
      ],
      "text/plain": [
       "  V1\n",
       "1 3 \n",
       "2 1 \n",
       "3 4 \n",
       "4 1 \n",
       "5 5 \n",
       "6 9 "
      ]
     },
     "metadata": {},
     "output_type": "display_data"
    }
   ],
   "source": [
    "head(pidigits) #pidigits es un data.frame y por default se crea la variable V1"
   ]
  },
  {
   "cell_type": "code",
   "execution_count": 5,
   "metadata": {},
   "outputs": [
    {
     "name": "stdout",
     "output_type": "stream",
     "text": [
      "[1] 5000    1\n"
     ]
    }
   ],
   "source": [
    "print(dim(pidigits))"
   ]
  },
  {
   "cell_type": "markdown",
   "metadata": {},
   "source": [
    "**Pregunta: ¿cómo están distribuidos los dígitos? ¿es una distribución uniforme?**"
   ]
  },
  {
   "cell_type": "markdown",
   "metadata": {},
   "source": [
    "Para responder esta pregunta podemos usar la función `table`:"
   ]
  },
  {
   "cell_type": "code",
   "execution_count": 6,
   "metadata": {},
   "outputs": [
    {
     "data": {
      "text/plain": [
       "pidigits\n",
       "  0   1   2   3   4   5   6   7   8   9 \n",
       "466 531 496 461 508 525 513 488 491 521 "
      ]
     },
     "metadata": {},
     "output_type": "display_data"
    }
   ],
   "source": [
    "tabla<- table(pidigits)\n",
    "tabla"
   ]
  },
  {
   "cell_type": "markdown",
   "metadata": {},
   "source": [
    "Y para facilitar la interpretación se puede resumir la información en proporciones:"
   ]
  },
  {
   "cell_type": "code",
   "execution_count": 7,
   "metadata": {},
   "outputs": [
    {
     "data": {
      "text/plain": [
       "pidigits\n",
       "     0      1      2      3      4      5      6      7      8      9 \n",
       "0.0932 0.1062 0.0992 0.0922 0.1016 0.1050 0.1026 0.0976 0.0982 0.1042 "
      ]
     },
     "metadata": {},
     "output_type": "display_data"
    }
   ],
   "source": [
    "prop <- prop.table(table(pidigits)) #este resultado también podría haberse\n",
    "                                    #calculado como table(pidigits) / 5000 \n",
    "prop"
   ]
  },
  {
   "cell_type": "markdown",
   "metadata": {},
   "source": [
    "Y aunque viendo los resultados anteriores podemos responder la pregunta, es mejor visualizarlos. Graficamos la tabla de frecuencias:"
   ]
  },
  {
   "cell_type": "code",
   "execution_count": 8,
   "metadata": {},
   "outputs": [],
   "source": [
    "options(repr.plot.width=5, repr.plot.height=3) #esta línea sólo se ejecuta para jupyterlab con R"
   ]
  },
  {
   "cell_type": "code",
   "execution_count": 9,
   "metadata": {},
   "outputs": [
    {
     "data": {
      "image/png": "[encoded data removed]",
      "text/plain": [
       "plot without title"
      ]
     },
     "metadata": {},
     "output_type": "display_data"
    }
   ],
   "source": [
    "par(mfcol=c(1,2)) #subplots\n",
    "par(cex=0.7) #control size of labels\n",
    "plot(tabla, ylab='Frecuencia absoluta')\n",
    "plot(prop, ylab='Frecuencia relativa')\n",
    "abline(h = .1, col='coral3')  #se traza una línea con abline en .1"
   ]
  },
  {
   "cell_type": "markdown",
   "metadata": {},
   "source": [
    "También podemos usar `barplot`:"
   ]
  },
  {
   "cell_type": "code",
   "execution_count": 10,
   "metadata": {},
   "outputs": [
    {
     "data": {
      "image/png": "[encoded data removed]",
      "text/plain": [
       "plot without title"
      ]
     },
     "metadata": {},
     "output_type": "display_data"
    }
   ],
   "source": [
    "par(mfcol=c(1,2)) #subplots\n",
    "par(cex=0.7) #control size of labels\n",
    "barplot(tabla,xlab='digit', ylab='Frecuencia absoluta')\n",
    "barplot(prop, xlab='digit', ylab='Frecuencia relativa')\n",
    "abline(h = .1, col='coral3') #se traza una línea con abline en .1"
   ]
  },
  {
   "cell_type": "markdown",
   "metadata": {},
   "source": [
    "La **respuesta** a la pregunta ¿cómo están distribuidos los dígitos? a partir de la gráfica es clara que están alrededor del valor $.1$ y podríamos concluir que es una distribución uniforme. Estadísticas resumen como la desviación estándar podrían aún más aclararnos esta situación y se verá en la nota de distribuciones comunes que la varianza muestral de una proporción está dada por: $\\sqrt{\\frac{p(1-p)}{n}}$ con $p$ la proporción de los dígitos. Ésta puede estimarse de los datos con:"
   ]
  },
  {
   "cell_type": "code",
   "execution_count": 11,
   "metadata": {},
   "outputs": [
    {
     "data": {
      "text/plain": [
       "pidigits\n",
       "           0            1            2            3            4            5 \n",
       "5.814250e-05 6.161869e-05 5.978607e-05 5.786161e-05 6.042431e-05 6.131068e-05 \n",
       "           6            7            8            9 \n",
       "6.068715e-05 5.935461e-05 5.951698e-05 6.110396e-05 "
      ]
     },
     "metadata": {},
     "output_type": "display_data"
    }
   ],
   "source": [
    "desv_est <- sqrt(prop*(1-prop))/dim(pidigits)[1]\n",
    "desv_est"
   ]
  },
  {
   "cell_type": "markdown",
   "metadata": {},
   "source": [
    "Y para presentarlos en una forma tabular podemos realizar: $\\hat{p} \\pm 2\\hat{\\sigma}$:"
   ]
  },
  {
   "cell_type": "code",
   "execution_count": 12,
   "metadata": {},
   "outputs": [
    {
     "data": {
      "text/html": [
       "<table>\n",
       "<caption>A matrix: 10 x 3 of type dbl</caption>\n",
       "<thead>\n",
       "\t<tr><th></th><th scope=col></th><th scope=col>prop</th><th scope=col></th></tr>\n",
       "</thead>\n",
       "<tbody>\n",
       "\t<tr><th scope=row>0</th><td>0.0931</td><td>0.0932</td><td>0.0933</td></tr>\n",
       "\t<tr><th scope=row>1</th><td>0.1061</td><td>0.1062</td><td>0.1063</td></tr>\n",
       "\t<tr><th scope=row>2</th><td>0.0991</td><td>0.0992</td><td>0.0993</td></tr>\n",
       "\t<tr><th scope=row>3</th><td>0.0921</td><td>0.0922</td><td>0.0923</td></tr>\n",
       "\t<tr><th scope=row>4</th><td>0.1015</td><td>0.1016</td><td>0.1017</td></tr>\n",
       "\t<tr><th scope=row>5</th><td>0.1049</td><td>0.1050</td><td>0.1051</td></tr>\n",
       "\t<tr><th scope=row>6</th><td>0.1025</td><td>0.1026</td><td>0.1027</td></tr>\n",
       "\t<tr><th scope=row>7</th><td>0.0975</td><td>0.0976</td><td>0.0977</td></tr>\n",
       "\t<tr><th scope=row>8</th><td>0.0981</td><td>0.0982</td><td>0.0983</td></tr>\n",
       "\t<tr><th scope=row>9</th><td>0.1041</td><td>0.1042</td><td>0.1043</td></tr>\n",
       "</tbody>\n",
       "</table>\n"
      ],
      "text/latex": [
       "A matrix: 10 x 3 of type dbl\n",
       "\\begin{tabular}{r|lll}\n",
       "  &  & prop & \\\\\n",
       "\\hline\n",
       "\t0 & 0.0931 & 0.0932 & 0.0933\\\\\n",
       "\t1 & 0.1061 & 0.1062 & 0.1063\\\\\n",
       "\t2 & 0.0991 & 0.0992 & 0.0993\\\\\n",
       "\t3 & 0.0921 & 0.0922 & 0.0923\\\\\n",
       "\t4 & 0.1015 & 0.1016 & 0.1017\\\\\n",
       "\t5 & 0.1049 & 0.1050 & 0.1051\\\\\n",
       "\t6 & 0.1025 & 0.1026 & 0.1027\\\\\n",
       "\t7 & 0.0975 & 0.0976 & 0.0977\\\\\n",
       "\t8 & 0.0981 & 0.0982 & 0.0983\\\\\n",
       "\t9 & 0.1041 & 0.1042 & 0.1043\\\\\n",
       "\\end{tabular}\n"
      ],
      "text/markdown": [
       "\n",
       "A matrix: 10 x 3 of type dbl\n",
       "\n",
       "| <!--/--> | <!----> | prop | <!----> |\n",
       "|---|---|---|---|\n",
       "| 0 | 0.0931 | 0.0932 | 0.0933 |\n",
       "| 1 | 0.1061 | 0.1062 | 0.1063 |\n",
       "| 2 | 0.0991 | 0.0992 | 0.0993 |\n",
       "| 3 | 0.0921 | 0.0922 | 0.0923 |\n",
       "| 4 | 0.1015 | 0.1016 | 0.1017 |\n",
       "| 5 | 0.1049 | 0.1050 | 0.1051 |\n",
       "| 6 | 0.1025 | 0.1026 | 0.1027 |\n",
       "| 7 | 0.0975 | 0.0976 | 0.0977 |\n",
       "| 8 | 0.0981 | 0.0982 | 0.0983 |\n",
       "| 9 | 0.1041 | 0.1042 | 0.1043 |\n",
       "\n"
      ],
      "text/plain": [
       "         prop         \n",
       "0 0.0931 0.0932 0.0933\n",
       "1 0.1061 0.1062 0.1063\n",
       "2 0.0991 0.0992 0.0993\n",
       "3 0.0921 0.0922 0.0923\n",
       "4 0.1015 0.1016 0.1017\n",
       "5 0.1049 0.1050 0.1051\n",
       "6 0.1025 0.1026 0.1027\n",
       "7 0.0975 0.0976 0.0977\n",
       "8 0.0981 0.0982 0.0983\n",
       "9 0.1041 0.1042 0.1043"
      ]
     },
     "metadata": {},
     "output_type": "display_data"
    }
   ],
   "source": [
    "options(digits=3) #para sólo imprimir 3 número de dígitos\n",
    "cbind(prop-2*desv_est, prop, prop+2*desv_est)"
   ]
  },
  {
   "cell_type": "markdown",
   "metadata": {},
   "source": [
    "Con lo que se observa que las proporciones están en el intervalo $(\\hat{p}-2\\hat{\\sigma},\\hat{p}+2\\hat{\\sigma}).$"
   ]
  },
  {
   "cell_type": "markdown",
   "metadata": {},
   "source": [
    "**Nota:** aunque para este tipo de datos también podríamos realizar gráficas tipo [Pie chart](https://en.wikipedia.org/wiki/Pie_chart) **no se recomiendan** usarlas por problemas de sobrelape y visualización de los porcentajes, por ejemplo: "
   ]
  },
  {
   "cell_type": "code",
   "execution_count": 13,
   "metadata": {},
   "outputs": [
    {
     "data": {
      "image/png": "[encoded data removed]",
      "text/plain": [
       "plot without title"
      ]
     },
     "metadata": {},
     "output_type": "display_data"
    }
   ],
   "source": [
    "options(repr.plot.width=3, repr.plot.height=3) #esta línea sólo se ejecuta para jupyterlab con R\n",
    "pie(c(48,20,18,12), labels=c('A','B','C','D'))"
   ]
  },
  {
   "cell_type": "markdown",
   "metadata": {},
   "source": [
    "Si sólo observamos la gráfica anterior ¿hay diferencia entre 'B' y 'C'? ---> **misterio.** "
   ]
  },
  {
   "cell_type": "markdown",
   "metadata": {},
   "source": [
    "### Ejemplo 2"
   ]
  },
  {
   "cell_type": "markdown",
   "metadata": {},
   "source": [
    "En el ejemplo anterior se utilizó la función de `table`de *R* para calcular el número de conteos en cada clase. Tal función utiliza el tipo *factor*, el cual es útil para representar vectores que contengan datos categóricos. Se utiliza la palabra `factor` para crear tal tipo (aunque hay funciones en `R` que automáticamente crean factores, por ejemplo `read.table` al leer columnas de caracteres):"
   ]
  },
  {
   "cell_type": "markdown",
   "metadata": {},
   "source": [
    "Considérese el lanzamiento de un dado siete veces que resulta en el vector `resultados`:"
   ]
  },
  {
   "cell_type": "code",
   "execution_count": 14,
   "metadata": {},
   "outputs": [
    {
     "name": "stdout",
     "output_type": "stream",
     "text": [
      "[1] 1 4 3 5 4 2 4\n"
     ]
    }
   ],
   "source": [
    "resultados=c(1, 4, 3, 5, 4, 2, 4)\n",
    "valores_posibles = c(1, 2, 3, 4, 5, 6)\n",
    "etiquetas = c(\"uno\", \"dos\", \"tres\", \"cuatro\", \"cinco\", \"seis\")\n",
    "fy = factor(resultados, levels=valores_posibles, labels=etiquetas)\n",
    "print(resultados)"
   ]
  },
  {
   "cell_type": "markdown",
   "metadata": {},
   "source": [
    "Obsérvese que es un tipo de variable categórica nominal. Y al calcular las frecuencias absolutas se obtiene:"
   ]
  },
  {
   "cell_type": "code",
   "execution_count": 15,
   "metadata": {},
   "outputs": [
    {
     "data": {
      "text/plain": [
       "fy\n",
       "   uno    dos   tres cuatro  cinco   seis \n",
       "     1      1      1      3      1      0 "
      ]
     },
     "metadata": {},
     "output_type": "display_data"
    }
   ],
   "source": [
    "table(fy)"
   ]
  },
  {
   "cell_type": "markdown",
   "metadata": {},
   "source": [
    "no hay resultados para el valor de $6$ por lo que se tiene igual a $0$."
   ]
  },
  {
   "cell_type": "markdown",
   "metadata": {},
   "source": [
    "Usaremos la función de `table` para el siguiente ejemplo del famoso dataset con nombre \"Weldon's Dice\" publicado por el paper de Karl Pearson's en el año 1900 [(referencia)](https://www.tandfonline.com/doi/abs/10.1080/14786440009463897). En ese tiempo, el biólogo inglés Walter F. R. Weldon, usó $12$ dados para generar datos aleatorios, obteniendo la cantidad de $26,306$!!! números aleatorios."
   ]
  },
  {
   "cell_type": "markdown",
   "metadata": {},
   "source": [
    "En los resultados, Weldon consideró el número $5$ y $6$ como éxitos en los $12$ dados y los otros números como fracasos. **Si se tiene un dado justo**, la probabilidad de éxito de un sólo dado es $\\frac{1}{3}$. El número de éxitos totales en $12$ dados se puede modelar con una **variable aleatoria binomial** con probabilidad de éxito $\\frac{1}{3}$."
   ]
  },
  {
   "cell_type": "markdown",
   "metadata": {},
   "source": [
    "En *R* se pueden calcular probabilidades de una binomial con la función `dbinom`:"
   ]
  },
  {
   "cell_type": "code",
   "execution_count": 16,
   "metadata": {},
   "outputs": [
    {
     "name": "stdout",
     "output_type": "stream",
     "text": [
      " [1] 7.71e-03 4.62e-02 1.27e-01 2.12e-01 2.38e-01 1.91e-01 1.11e-01 4.77e-02\n",
      " [9] 1.49e-02 3.31e-03 4.97e-04 4.52e-05 1.88e-06\n"
     ]
    }
   ],
   "source": [
    "options(digits=3) #para sólo imprimir 3 número de dígitos de p\n",
    "k = 0:12 #vector que contiene el número de éxitos: 0 éxitos,..., 12 éxitos\n",
    "n = 12 #número de pruebas\n",
    "prob = 1/3 #probabilidad de éxito\n",
    "p = dbinom(k, size=n, prob=prob)\n",
    "print(p)"
   ]
  },
  {
   "cell_type": "code",
   "execution_count": 17,
   "metadata": {},
   "outputs": [
    {
     "name": "stdout",
     "output_type": "stream",
     "text": [
      " 0  1  2  3  4  5  6  7  8  9 10 11 12 \n",
      " 0  1  2  3  3  2  1  1  0  0  0  0  0 \n"
     ]
    }
   ],
   "source": [
    "v_e_12_lanzamientos = round(n*p)\n",
    "names(v_e_12_lanzamientos) = k\n",
    "print(v_e_12_lanzamientos)"
   ]
  },
  {
   "cell_type": "markdown",
   "metadata": {},
   "source": [
    "Esto es, en promedio como mínimo en $12$ lanzamientos de $12$ dados tendremos $1$ éxito y como máximo $7$ (éxito es se obtiene o un $5$ o un $6$ en $12$ dados)."
   ]
  },
  {
   "cell_type": "markdown",
   "metadata": {},
   "source": [
    "En $26,306$ lanzamientos de $12$ dados justos, el número esperado de resultados (outcomes) es (redondeando al entero más próximo):"
   ]
  },
  {
   "cell_type": "code",
   "execution_count": 18,
   "metadata": {},
   "outputs": [
    {
     "name": "stdout",
     "output_type": "stream",
     "text": [
      "   0    1    2    3    4    5    6    7    8    9   10   11   12 \n",
      " 203 1216 3345 5576 6273 5018 2927 1255  392   87   13    1    0 \n"
     ]
    }
   ],
   "source": [
    "n_Weldon = 26306\n",
    "v_e = round(n_Weldon* p)\n",
    "names(v_e) = k\n",
    "print(v_e)"
   ]
  },
  {
   "cell_type": "markdown",
   "metadata": {},
   "source": [
    "Esto es, para $0$ éxitos, el valor esperado es de $203$ lanzamientos: si lanzamos $26,306$ veces los $12$ dados, en promedio $203$ veces obtendremos números distintos a $5$ y a $6$, en proporción o frecuencias relativas equivale a:"
   ]
  },
  {
   "cell_type": "code",
   "execution_count": 19,
   "metadata": {},
   "outputs": [
    {
     "data": {
      "text/html": [
       "0.00771687067589143"
      ],
      "text/latex": [
       "0.00771687067589143"
      ],
      "text/markdown": [
       "0.00771687067589143"
      ],
      "text/plain": [
       "[1] 0.00772"
      ]
     },
     "metadata": {},
     "output_type": "display_data"
    }
   ],
   "source": [
    "203/n_Weldon"
   ]
  },
  {
   "cell_type": "markdown",
   "metadata": {},
   "source": [
    "y más frecuentemente en $4$ dados en promedio observaremos éxitos:"
   ]
  },
  {
   "cell_type": "code",
   "execution_count": 20,
   "metadata": {},
   "outputs": [
    {
     "data": {
      "text/html": [
       "0.238462708127423"
      ],
      "text/latex": [
       "0.238462708127423"
      ],
      "text/markdown": [
       "0.238462708127423"
      ],
      "text/plain": [
       "[1] 0.238"
      ]
     },
     "metadata": {},
     "output_type": "display_data"
    }
   ],
   "source": [
    "6273/n_Weldon"
   ]
  },
  {
   "cell_type": "markdown",
   "metadata": {},
   "source": [
    "Asimismo, si lanzamos $26306$ veces los $12$ dados, en promedio en ninguna ocasión en todos los dados tendremos éxito."
   ]
  },
  {
   "cell_type": "markdown",
   "metadata": {},
   "source": [
    "El dataset \"Weldon's Dice\" contiene la siguiente información:"
   ]
  },
  {
   "cell_type": "code",
   "execution_count": 21,
   "metadata": {},
   "outputs": [
    {
     "name": "stdout",
     "output_type": "stream",
     "text": [
      "   0    1    2    3    4    5    6    7    8    9   10   11   12 \n",
      " 185 1149 3265 5475 6114 5194 3067 1331  403  105   14    4    0 \n"
     ]
    }
   ],
   "source": [
    "Weldon = c(185, 1149, 3265, 5475, 6114, 5194, 3067,1331, 403, 105, 14, 4, 0)\n",
    "names(Weldon) = k\n",
    "print(Weldon)"
   ]
  },
  {
   "cell_type": "markdown",
   "metadata": {},
   "source": [
    "De los $26,306$ lanzamientos de los $12$ dados, Weldon obtuvo $0$ éxitos en $185$ de éstos, en promedio (en promedio en $185$ lanzamientos en ningún dado salió ni el $5$ ni el $6$)."
   ]
  },
  {
   "cell_type": "markdown",
   "metadata": {},
   "source": [
    "Una forma de revisar si hay diferencia entre lo observado (lo realizado por Weldon) y lo esperado (lo teórico) es crear una tabla entre los conteos observados en la variable `Weldon` y los conteos esperados en la variable `v_e` y tomar diferencias:"
   ]
  },
  {
   "cell_type": "code",
   "execution_count": 22,
   "metadata": {},
   "outputs": [
    {
     "data": {
      "text/html": [
       "<table>\n",
       "<caption>A data.frame: 13 x 3</caption>\n",
       "<thead>\n",
       "\t<tr><th></th><th scope=col>v_e</th><th scope=col>Weldon</th><th scope=col>Diff</th></tr>\n",
       "\t<tr><th></th><th scope=col>&lt;dbl&gt;</th><th scope=col>&lt;dbl&gt;</th><th scope=col>&lt;dbl&gt;</th></tr>\n",
       "</thead>\n",
       "<tbody>\n",
       "\t<tr><th scope=row>0</th><td> 203</td><td> 185</td><td> -18</td></tr>\n",
       "\t<tr><th scope=row>1</th><td>1216</td><td>1149</td><td> -67</td></tr>\n",
       "\t<tr><th scope=row>2</th><td>3345</td><td>3265</td><td> -80</td></tr>\n",
       "\t<tr><th scope=row>3</th><td>5576</td><td>5475</td><td>-101</td></tr>\n",
       "\t<tr><th scope=row>4</th><td>6273</td><td>6114</td><td>-159</td></tr>\n",
       "\t<tr><th scope=row>5</th><td>5018</td><td>5194</td><td> 176</td></tr>\n",
       "\t<tr><th scope=row>6</th><td>2927</td><td>3067</td><td> 140</td></tr>\n",
       "\t<tr><th scope=row>7</th><td>1255</td><td>1331</td><td>  76</td></tr>\n",
       "\t<tr><th scope=row>8</th><td> 392</td><td> 403</td><td>  11</td></tr>\n",
       "\t<tr><th scope=row>9</th><td>  87</td><td> 105</td><td>  18</td></tr>\n",
       "\t<tr><th scope=row>10</th><td>  13</td><td>  14</td><td>   1</td></tr>\n",
       "\t<tr><th scope=row>11</th><td>   1</td><td>   4</td><td>   3</td></tr>\n",
       "\t<tr><th scope=row>12</th><td>   0</td><td>   0</td><td>   0</td></tr>\n",
       "</tbody>\n",
       "</table>\n"
      ],
      "text/latex": [
       "A data.frame: 13 x 3\n",
       "\\begin{tabular}{r|lll}\n",
       "  & v\\_e & Weldon & Diff\\\\\n",
       "  & <dbl> & <dbl> & <dbl>\\\\\n",
       "\\hline\n",
       "\t0 &  203 &  185 &  -18\\\\\n",
       "\t1 & 1216 & 1149 &  -67\\\\\n",
       "\t2 & 3345 & 3265 &  -80\\\\\n",
       "\t3 & 5576 & 5475 & -101\\\\\n",
       "\t4 & 6273 & 6114 & -159\\\\\n",
       "\t5 & 5018 & 5194 &  176\\\\\n",
       "\t6 & 2927 & 3067 &  140\\\\\n",
       "\t7 & 1255 & 1331 &   76\\\\\n",
       "\t8 &  392 &  403 &   11\\\\\n",
       "\t9 &   87 &  105 &   18\\\\\n",
       "\t10 &   13 &   14 &    1\\\\\n",
       "\t11 &    1 &    4 &    3\\\\\n",
       "\t12 &    0 &    0 &    0\\\\\n",
       "\\end{tabular}\n"
      ],
      "text/markdown": [
       "\n",
       "A data.frame: 13 x 3\n",
       "\n",
       "| <!--/--> | v_e &lt;dbl&gt; | Weldon &lt;dbl&gt; | Diff &lt;dbl&gt; |\n",
       "|---|---|---|---|\n",
       "| 0 |  203 |  185 |  -18 |\n",
       "| 1 | 1216 | 1149 |  -67 |\n",
       "| 2 | 3345 | 3265 |  -80 |\n",
       "| 3 | 5576 | 5475 | -101 |\n",
       "| 4 | 6273 | 6114 | -159 |\n",
       "| 5 | 5018 | 5194 |  176 |\n",
       "| 6 | 2927 | 3067 |  140 |\n",
       "| 7 | 1255 | 1331 |   76 |\n",
       "| 8 |  392 |  403 |   11 |\n",
       "| 9 |   87 |  105 |   18 |\n",
       "| 10 |   13 |   14 |    1 |\n",
       "| 11 |    1 |    4 |    3 |\n",
       "| 12 |    0 |    0 |    0 |\n",
       "\n"
      ],
      "text/plain": [
       "   v_e  Weldon Diff\n",
       "0   203  185    -18\n",
       "1  1216 1149    -67\n",
       "2  3345 3265    -80\n",
       "3  5576 5475   -101\n",
       "4  6273 6114   -159\n",
       "5  5018 5194    176\n",
       "6  2927 3067    140\n",
       "7  1255 1331     76\n",
       "8   392  403     11\n",
       "9    87  105     18\n",
       "10   13   14      1\n",
       "11    1    4      3\n",
       "12    0    0      0"
      ]
     },
     "metadata": {},
     "output_type": "display_data"
    }
   ],
   "source": [
    "data.frame(v_e, Weldon, Diff=Weldon - v_e)"
   ]
  },
  {
   "cell_type": "markdown",
   "metadata": {},
   "source": [
    "Y se puede ver que entre $0$ y $4$ éxitos lo esperado es mayor que lo observado, esto es, para obtener en $26,306$ lanzamientos un número de $3$ éxitos (sacar $5$ o $6$ en los $12$ dados) $5576$ lanzamientos de los $12$ dados se tuvieron que realizar en promedio vs los $5475$ lanzamientos que lo realizó Weldon en promedio."
   ]
  },
  {
   "cell_type": "markdown",
   "metadata": {},
   "source": [
    "Una forma visual de comparar los conteos observados de los esperados puede realizarse con dos bar plots de frecuencias de lo observado y lo esperado:"
   ]
  },
  {
   "cell_type": "code",
   "execution_count": 23,
   "metadata": {},
   "outputs": [],
   "source": [
    "options(repr.plot.width=3.5, repr.plot.height=3.5)#esta línea sólo se ejecuta para jupyterlab con R"
   ]
  },
  {
   "cell_type": "code",
   "execution_count": 24,
   "metadata": {},
   "outputs": [
    {
     "data": {
      "image/png": "[encoded data removed]",
      "text/plain": [
       "plot without title"
      ]
     },
     "metadata": {},
     "output_type": "display_data"
    }
   ],
   "source": [
    "counts = cbind(v_e, Weldon)\n",
    "barplot(counts, beside=TRUE)"
   ]
  },
  {
   "cell_type": "markdown",
   "metadata": {},
   "source": [
    "Y visualmente parece que coinciden aproximadamente. También visualmente es mejor y más fácil comparar en el mismo gráfico:"
   ]
  },
  {
   "cell_type": "code",
   "execution_count": 25,
   "metadata": {},
   "outputs": [],
   "source": [
    "options(repr.plot.width=4, repr.plot.height=4)#esta línea sólo se ejecuta para jupyterlab con R"
   ]
  },
  {
   "cell_type": "code",
   "execution_count": 26,
   "metadata": {},
   "outputs": [
    {
     "data": {
      "image/png": "[encoded data removed]",
      "text/plain": [
       "plot without title"
      ]
     },
     "metadata": {},
     "output_type": "display_data"
    }
   ],
   "source": [
    "par(ps = 7) #tamaño de texto en ejes y en leyenda\n",
    "plot(k, v_e, type=\"h\", lwd=1, lty=1, ylab=\"Count\") #type h para líneas\n",
    "                                                   #lwd para line width\n",
    "                                                   #ldty para line type\n",
    "lines(k + .2, Weldon, type=\"h\", lwd=2, lty=2) #lo observado por Weldon\n",
    "legend(8, 5000, legend=c(\"V_e\", \"Weldon\"), lty=c(1,2), bty='n')"
   ]
  },
  {
   "cell_type": "markdown",
   "metadata": {},
   "source": [
    "**Nota:** Aunque visualmente se observan ambas frecuencias muy similares, es necesario usar **inferencia estadística** para probar si los datos son consistentes con el modelo binomial del dado justo. Esto se realiza con una prueba de bondad de ajuste de nombre **ji-cuadrada**. "
   ]
  },
  {
   "cell_type": "markdown",
   "metadata": {},
   "source": [
    "# Datos cuantitativos"
   ]
  },
  {
   "cell_type": "code",
   "execution_count": 27,
   "metadata": {},
   "outputs": [],
   "source": [
    "options(repr.plot.width=4, repr.plot.height=4) #esta línea sólo se ejecuta para jupyterlab con R"
   ]
  },
  {
   "cell_type": "markdown",
   "metadata": {},
   "source": [
    "## Ejemplo: dataset: mammals de la librería MASS"
   ]
  },
  {
   "cell_type": "markdown",
   "metadata": {},
   "source": [
    "Este dataset contiene dos variables numéricas: `body` y `brain` y contiene el promedio del peso del cuerpo (kg) y promedio del peso del cerebro (g) de mamíferos respectivamente. El número de mamíferos es de $62$:"
   ]
  },
  {
   "cell_type": "code",
   "execution_count": 28,
   "metadata": {},
   "outputs": [
    {
     "data": {
      "text/html": [
       "<table>\n",
       "<caption>A data.frame: 6 x 2</caption>\n",
       "<thead>\n",
       "\t<tr><th></th><th scope=col>body</th><th scope=col>brain</th></tr>\n",
       "\t<tr><th></th><th scope=col>&lt;dbl&gt;</th><th scope=col>&lt;dbl&gt;</th></tr>\n",
       "</thead>\n",
       "<tbody>\n",
       "\t<tr><th scope=row>Arctic fox</th><td>  3.38</td><td> 44.5</td></tr>\n",
       "\t<tr><th scope=row>Owl monkey</th><td>  0.48</td><td> 15.5</td></tr>\n",
       "\t<tr><th scope=row>Mountain beaver</th><td>  1.35</td><td>  8.1</td></tr>\n",
       "\t<tr><th scope=row>Cow</th><td>465.00</td><td>423.0</td></tr>\n",
       "\t<tr><th scope=row>Grey wolf</th><td> 36.33</td><td>119.5</td></tr>\n",
       "\t<tr><th scope=row>Goat</th><td> 27.66</td><td>115.0</td></tr>\n",
       "</tbody>\n",
       "</table>\n"
      ],
      "text/latex": [
       "A data.frame: 6 x 2\n",
       "\\begin{tabular}{r|ll}\n",
       "  & body & brain\\\\\n",
       "  & <dbl> & <dbl>\\\\\n",
       "\\hline\n",
       "\tArctic fox &   3.38 &  44.5\\\\\n",
       "\tOwl monkey &   0.48 &  15.5\\\\\n",
       "\tMountain beaver &   1.35 &   8.1\\\\\n",
       "\tCow & 465.00 & 423.0\\\\\n",
       "\tGrey wolf &  36.33 & 119.5\\\\\n",
       "\tGoat &  27.66 & 115.0\\\\\n",
       "\\end{tabular}\n"
      ],
      "text/markdown": [
       "\n",
       "A data.frame: 6 x 2\n",
       "\n",
       "| <!--/--> | body &lt;dbl&gt; | brain &lt;dbl&gt; |\n",
       "|---|---|---|\n",
       "| Arctic fox |   3.38 |  44.5 |\n",
       "| Owl monkey |   0.48 |  15.5 |\n",
       "| Mountain beaver |   1.35 |   8.1 |\n",
       "| Cow | 465.00 | 423.0 |\n",
       "| Grey wolf |  36.33 | 119.5 |\n",
       "| Goat |  27.66 | 115.0 |\n",
       "\n"
      ],
      "text/plain": [
       "                body   brain\n",
       "Arctic fox        3.38  44.5\n",
       "Owl monkey        0.48  15.5\n",
       "Mountain beaver   1.35   8.1\n",
       "Cow             465.00 423.0\n",
       "Grey wolf        36.33 119.5\n",
       "Goat             27.66 115.0"
      ]
     },
     "metadata": {},
     "output_type": "display_data"
    }
   ],
   "source": [
    "library(MASS)\n",
    "head(mammals)"
   ]
  },
  {
   "cell_type": "code",
   "execution_count": 29,
   "metadata": {},
   "outputs": [
    {
     "name": "stdout",
     "output_type": "stream",
     "text": [
      "[1] 62  2\n"
     ]
    }
   ],
   "source": [
    "print(dim(mammals))"
   ]
  },
  {
   "cell_type": "markdown",
   "metadata": {},
   "source": [
    "y es un `data.frame`:"
   ]
  },
  {
   "cell_type": "code",
   "execution_count": 30,
   "metadata": {},
   "outputs": [
    {
     "data": {
      "text/html": [
       "FALSE"
      ],
      "text/latex": [
       "FALSE"
      ],
      "text/markdown": [
       "FALSE"
      ],
      "text/plain": [
       "[1] FALSE"
      ]
     },
     "metadata": {},
     "output_type": "display_data"
    }
   ],
   "source": [
    "is.matrix(mammals)"
   ]
  },
  {
   "cell_type": "code",
   "execution_count": 31,
   "metadata": {},
   "outputs": [
    {
     "data": {
      "text/html": [
       "TRUE"
      ],
      "text/latex": [
       "TRUE"
      ],
      "text/markdown": [
       "TRUE"
      ],
      "text/plain": [
       "[1] TRUE"
      ]
     },
     "metadata": {},
     "output_type": "display_data"
    }
   ],
   "source": [
    "is.data.frame(mammals)"
   ]
  },
  {
   "cell_type": "markdown",
   "metadata": {},
   "source": [
    "se puede convertir un `data frame` a una `matrix` con: `as.matrix` si se desea en el análisis:"
   ]
  },
  {
   "cell_type": "code",
   "execution_count": 32,
   "metadata": {},
   "outputs": [
    {
     "data": {
      "text/html": [
       "<table>\n",
       "<caption>A matrix: 6 x 2 of type dbl</caption>\n",
       "<thead>\n",
       "\t<tr><th></th><th scope=col>body</th><th scope=col>brain</th></tr>\n",
       "</thead>\n",
       "<tbody>\n",
       "\t<tr><th scope=row>Arctic fox</th><td>  3.38</td><td> 44.5</td></tr>\n",
       "\t<tr><th scope=row>Owl monkey</th><td>  0.48</td><td> 15.5</td></tr>\n",
       "\t<tr><th scope=row>Mountain beaver</th><td>  1.35</td><td>  8.1</td></tr>\n",
       "\t<tr><th scope=row>Cow</th><td>465.00</td><td>423.0</td></tr>\n",
       "\t<tr><th scope=row>Grey wolf</th><td> 36.33</td><td>119.5</td></tr>\n",
       "\t<tr><th scope=row>Goat</th><td> 27.66</td><td>115.0</td></tr>\n",
       "</tbody>\n",
       "</table>\n"
      ],
      "text/latex": [
       "A matrix: 6 x 2 of type dbl\n",
       "\\begin{tabular}{r|ll}\n",
       "  & body & brain\\\\\n",
       "\\hline\n",
       "\tArctic fox &   3.38 &  44.5\\\\\n",
       "\tOwl monkey &   0.48 &  15.5\\\\\n",
       "\tMountain beaver &   1.35 &   8.1\\\\\n",
       "\tCow & 465.00 & 423.0\\\\\n",
       "\tGrey wolf &  36.33 & 119.5\\\\\n",
       "\tGoat &  27.66 & 115.0\\\\\n",
       "\\end{tabular}\n"
      ],
      "text/markdown": [
       "\n",
       "A matrix: 6 x 2 of type dbl\n",
       "\n",
       "| <!--/--> | body | brain |\n",
       "|---|---|---|\n",
       "| Arctic fox |   3.38 |  44.5 |\n",
       "| Owl monkey |   0.48 |  15.5 |\n",
       "| Mountain beaver |   1.35 |   8.1 |\n",
       "| Cow | 465.00 | 423.0 |\n",
       "| Grey wolf |  36.33 | 119.5 |\n",
       "| Goat |  27.66 | 115.0 |\n",
       "\n"
      ],
      "text/plain": [
       "                body   brain\n",
       "Arctic fox        3.38  44.5\n",
       "Owl monkey        0.48  15.5\n",
       "Mountain beaver   1.35   8.1\n",
       "Cow             465.00 423.0\n",
       "Grey wolf        36.33 119.5\n",
       "Goat             27.66 115.0"
      ]
     },
     "metadata": {},
     "output_type": "display_data"
    }
   ],
   "source": [
    "head(as.matrix(mammals))"
   ]
  },
  {
   "cell_type": "markdown",
   "metadata": {},
   "source": [
    "La función de `summary` calcula $5$ resúmenes de datos y el promedio:"
   ]
  },
  {
   "cell_type": "code",
   "execution_count": 33,
   "metadata": {},
   "outputs": [
    {
     "data": {
      "text/plain": [
       "      body              brain        \n",
       " Min.   :   0.005   Min.   :   0.14  \n",
       " 1st Qu.:   0.600   1st Qu.:   4.25  \n",
       " Median :   3.342   Median :  17.25  \n",
       " Mean   : 198.790   Mean   : 283.13  \n",
       " 3rd Qu.:  48.203   3rd Qu.: 166.00  \n",
       " Max.   :6654.000   Max.   :5712.00  "
      ]
     },
     "metadata": {},
     "output_type": "display_data"
    }
   ],
   "source": [
    "options(digits = 7)#para imprimir 7 número de dígitos en el summary\n",
    "summary(mammals)"
   ]
  },
  {
   "cell_type": "markdown",
   "metadata": {},
   "source": [
    "Obsérvese que los promedios exceden no sólo a las medianas sino también a los cuartiles de tercer orden, lo cual se apreciaría mejor con un `boxplot`. También obsérvese que hay mamíferos que en promedio tienen tamaños de $0.005kg$ y $0.14g$ en cuerpo y cerebro respectivamente vs $6654 kg$ y $5712g$ respectivamente."
   ]
  },
  {
   "cell_type": "markdown",
   "metadata": {},
   "source": [
    "### Boxplot"
   ]
  },
  {
   "cell_type": "markdown",
   "metadata": {},
   "source": [
    "En el `boxplot` se muestran $5$ números ... pero no es posible apreciarlos en las siguientes gráficas... tendremos que transformar nuestros datos y también muestra `outliers` o datos atípicos o extremos graficados como circunferencias:"
   ]
  },
  {
   "cell_type": "code",
   "execution_count": 34,
   "metadata": {},
   "outputs": [
    {
     "data": {
      "image/png": "[encoded data removed]",
      "text/plain": [
       "plot without title"
      ]
     },
     "metadata": {},
     "output_type": "display_data"
    }
   ],
   "source": [
    "boxplot(mammals$body)"
   ]
  },
  {
   "cell_type": "code",
   "execution_count": 35,
   "metadata": {},
   "outputs": [
    {
     "data": {
      "image/png": "[encoded data removed]",
      "text/plain": [
       "plot without title"
      ]
     },
     "metadata": {},
     "output_type": "display_data"
    }
   ],
   "source": [
    "boxplot(mammals$brain)"
   ]
  },
  {
   "cell_type": "markdown",
   "metadata": {},
   "source": [
    "Obsérvese en el eje vertical que están los datos tienen un mismo rango por lo que podemos colocarlos en un solo `boxplot` (aún estándo una variable en *kg* y otra en *g*):"
   ]
  },
  {
   "cell_type": "code",
   "execution_count": 36,
   "metadata": {},
   "outputs": [
    {
     "data": {
      "image/png": "[encoded data removed]",
      "text/plain": [
       "plot without title"
      ]
     },
     "metadata": {},
     "output_type": "display_data"
    }
   ],
   "source": [
    "boxplot(mammals)"
   ]
  },
  {
   "cell_type": "markdown",
   "metadata": {},
   "source": [
    "Al igual que el `summary` de la sección anterior observamos con este `boxplot` que tenemos en el dataset `mammals`, mamíferos con tamaños muy grandes de cuerpo y cerebro (en promedio)."
   ]
  },
  {
   "cell_type": "markdown",
   "metadata": {},
   "source": [
    "**Nota:** Los datos atípicos o extremos pueden ser datos erróneos o pueden ser datos que son correctos pero se alejan del patrón general. Es muy importante su tratamiento pues nos dan información sobre el correcto funcionamiento de los métodos estadísticos, la recolección de los datos o del objeto de estudio: aquél fenómeno(s) que produjo(eron) los datos."
   ]
  },
  {
   "cell_type": "markdown",
   "metadata": {},
   "source": [
    "### Scatterplot"
   ]
  },
  {
   "cell_type": "markdown",
   "metadata": {},
   "source": [
    "Para un `data.frame` como el de `mammals` con dos variables numéricas al hacer `plot` se obtiene un `scatterplot`"
   ]
  },
  {
   "cell_type": "code",
   "execution_count": 37,
   "metadata": {},
   "outputs": [
    {
     "data": {
      "image/png": "[encoded data removed]",
      "text/plain": [
       "plot without title"
      ]
     },
     "metadata": {},
     "output_type": "display_data"
    }
   ],
   "source": [
    "plot(mammals)"
   ]
  },
  {
   "cell_type": "markdown",
   "metadata": {},
   "source": [
    "## Transformando el dataset"
   ]
  },
  {
   "cell_type": "markdown",
   "metadata": {},
   "source": [
    "Como ya observamos en el `scatterplot` y `boxplot` anteriores tenemos mediciones de mamíferos que no permiten visualizar bien los datos por datos extremos. Para arreglar esto, es mejor realizar una transformación de logaritmo para apreciar mejor los datos:"
   ]
  },
  {
   "cell_type": "code",
   "execution_count": 38,
   "metadata": {},
   "outputs": [
    {
     "data": {
      "image/png": "[encoded data removed]",
      "text/plain": [
       "plot without title"
      ]
     },
     "metadata": {},
     "output_type": "display_data"
    }
   ],
   "source": [
    "plot(log(mammals$body),  #se aplica logaritmo a todo un vector\n",
    "     log(mammals$brain), #se aplica logaritmo a todo un vector\n",
    "     xlab=\"log(body)\", ylab=\"log(brain)\")"
   ]
  },
  {
   "cell_type": "markdown",
   "metadata": {},
   "source": [
    "Si se aplica la transformación de logaritmo a todo el dataset se obtiene un `data frame` de dos variables numéricas:"
   ]
  },
  {
   "cell_type": "code",
   "execution_count": 39,
   "metadata": {},
   "outputs": [
    {
     "data": {
      "text/html": [
       "<table>\n",
       "<caption>A data.frame: 6 x 2</caption>\n",
       "<thead>\n",
       "\t<tr><th></th><th scope=col>log_body</th><th scope=col>log_brain</th></tr>\n",
       "\t<tr><th></th><th scope=col>&lt;dbl&gt;</th><th scope=col>&lt;dbl&gt;</th></tr>\n",
       "</thead>\n",
       "<tbody>\n",
       "\t<tr><th scope=row>Arctic fox</th><td> 1.2193539</td><td>3.795489</td></tr>\n",
       "\t<tr><th scope=row>Owl monkey</th><td>-0.7339692</td><td>2.740840</td></tr>\n",
       "\t<tr><th scope=row>Mountain beaver</th><td> 0.3001046</td><td>2.091864</td></tr>\n",
       "\t<tr><th scope=row>Cow</th><td> 6.1420374</td><td>6.047372</td></tr>\n",
       "\t<tr><th scope=row>Grey wolf</th><td> 3.5926438</td><td>4.783316</td></tr>\n",
       "\t<tr><th scope=row>Goat</th><td> 3.3199873</td><td>4.744932</td></tr>\n",
       "</tbody>\n",
       "</table>\n"
      ],
      "text/latex": [
       "A data.frame: 6 x 2\n",
       "\\begin{tabular}{r|ll}\n",
       "  & log\\_body & log\\_brain\\\\\n",
       "  & <dbl> & <dbl>\\\\\n",
       "\\hline\n",
       "\tArctic fox &  1.2193539 & 3.795489\\\\\n",
       "\tOwl monkey & -0.7339692 & 2.740840\\\\\n",
       "\tMountain beaver &  0.3001046 & 2.091864\\\\\n",
       "\tCow &  6.1420374 & 6.047372\\\\\n",
       "\tGrey wolf &  3.5926438 & 4.783316\\\\\n",
       "\tGoat &  3.3199873 & 4.744932\\\\\n",
       "\\end{tabular}\n"
      ],
      "text/markdown": [
       "\n",
       "A data.frame: 6 x 2\n",
       "\n",
       "| <!--/--> | log_body &lt;dbl&gt; | log_brain &lt;dbl&gt; |\n",
       "|---|---|---|\n",
       "| Arctic fox |  1.2193539 | 3.795489 |\n",
       "| Owl monkey | -0.7339692 | 2.740840 |\n",
       "| Mountain beaver |  0.3001046 | 2.091864 |\n",
       "| Cow |  6.1420374 | 6.047372 |\n",
       "| Grey wolf |  3.5926438 | 4.783316 |\n",
       "| Goat |  3.3199873 | 4.744932 |\n",
       "\n"
      ],
      "text/plain": [
       "                log_body   log_brain\n",
       "Arctic fox       1.2193539 3.795489 \n",
       "Owl monkey      -0.7339692 2.740840 \n",
       "Mountain beaver  0.3001046 2.091864 \n",
       "Cow              6.1420374 6.047372 \n",
       "Grey wolf        3.5926438 4.783316 \n",
       "Goat             3.3199873 4.744932 "
      ]
     },
     "metadata": {},
     "output_type": "display_data"
    }
   ],
   "source": [
    "log_mammals <- log(mammals)\n",
    "colnames(log_mammals) <- c('log_body', 'log_brain')\n",
    "head(log_mammals)"
   ]
  },
  {
   "cell_type": "markdown",
   "metadata": {},
   "source": [
    "y al realizar el `summary` con tal transformación se obtienen datos menos \"extremos\":"
   ]
  },
  {
   "cell_type": "code",
   "execution_count": 40,
   "metadata": {},
   "outputs": [
    {
     "data": {
      "text/plain": [
       "    log_body         log_brain     \n",
       " Min.   :-5.2983   Min.   :-1.966  \n",
       " 1st Qu.:-0.5203   1st Qu.: 1.442  \n",
       " Median : 1.2066   Median : 2.848  \n",
       " Mean   : 1.3375   Mean   : 3.140  \n",
       " 3rd Qu.: 3.8639   3rd Qu.: 5.111  \n",
       " Max.   : 8.8030   Max.   : 8.650  "
      ]
     },
     "metadata": {},
     "output_type": "display_data"
    }
   ],
   "source": [
    "summary(log_mammals)"
   ]
  },
  {
   "cell_type": "code",
   "execution_count": 41,
   "metadata": {},
   "outputs": [
    {
     "data": {
      "image/png": "[encoded data removed]",
      "text/plain": [
       "plot without title"
      ]
     },
     "metadata": {},
     "output_type": "display_data"
    }
   ],
   "source": [
    "boxplot(log_mammals)"
   ]
  },
  {
   "cell_type": "markdown",
   "metadata": {},
   "source": [
    "**Obs:**\n",
    "\n",
    "* En un `boxplot` se muestran $5$ números: mediana (recta gruesa horizontal en cada caja), primer y tercer cuartil (que delimitan a las cajas). \n",
    "\n",
    "* La línea punteada superior llega hasta el tercer cuartil más $1.5$ veces el tamaño de la caja o hasta el valor máximo (no outlier), la línea punteada inferior llega hasta el valor mínimo de los datos (no outlier) o hasta el primer cuartil menos $1.5$ veces el tamaño de la caja. \n",
    "\n",
    "* Los *outliers* se muestran con circunferencias y están más allá de las líneas punteadas(en este caso no tenemos outliers para la transformación realizada). \n",
    "\n",
    "* La mediana puede estar más cerca al valor del primer o tercer cuartil si hay sesgo en la distribución de los datos (de hecho en la dirección opuesta al sesgo es donde se encontrará la mediana)."
   ]
  },
  {
   "cell_type": "markdown",
   "metadata": {},
   "source": [
    "**Comentario:** ver por ejemplo la ayuda de la función `fivenum`: `?fivenum` para los $5$ números de Tukey."
   ]
  },
  {
   "cell_type": "markdown",
   "metadata": {},
   "source": [
    "Los `outliers` se pueden obtener con:"
   ]
  },
  {
   "cell_type": "code",
   "execution_count": 42,
   "metadata": {},
   "outputs": [
    {
     "name": "stdout",
     "output_type": "stream",
     "text": [
      " [1]  465.0 2547.0  187.1  521.0  529.0  207.0 6654.0  250.0  192.0  160.0\n"
     ]
    }
   ],
   "source": [
    "print((boxplot.stats(mammals$body)$out))"
   ]
  },
  {
   "cell_type": "code",
   "execution_count": 43,
   "metadata": {},
   "outputs": [
    {
     "name": "stdout",
     "output_type": "stream",
     "text": [
      "[1]  423 4603  419  655  680 1320 5712  490  440\n"
     ]
    }
   ],
   "source": [
    "print((boxplot.stats(mammals$brain)$out))"
   ]
  },
  {
   "cell_type": "markdown",
   "metadata": {},
   "source": [
    "### Boxplot y scatterplot con ggplot2"
   ]
  },
  {
   "cell_type": "markdown",
   "metadata": {},
   "source": [
    "A continuación, a manera de ejemplo de uso del paquete `ggplot2` para gráficas se colocan los datos `log_mammals` en un formato adecuado (\"long format\"):"
   ]
  },
  {
   "cell_type": "code",
   "execution_count": 44,
   "metadata": {},
   "outputs": [],
   "source": [
    "df_mammals_body <- data.frame(medida = rep('body', times=nrow(mammals)),\n",
    "                         mammal=rownames(log_mammals),\n",
    "                         valor = log_mammals$log_body)"
   ]
  },
  {
   "cell_type": "code",
   "execution_count": 45,
   "metadata": {},
   "outputs": [
    {
     "data": {
      "text/html": [
       "<table>\n",
       "<caption>A data.frame: 6 x 3</caption>\n",
       "<thead>\n",
       "\t<tr><th scope=col>medida</th><th scope=col>mammal</th><th scope=col>valor</th></tr>\n",
       "\t<tr><th scope=col>&lt;fct&gt;</th><th scope=col>&lt;fct&gt;</th><th scope=col>&lt;dbl&gt;</th></tr>\n",
       "</thead>\n",
       "<tbody>\n",
       "\t<tr><td>body</td><td>Arctic fox     </td><td> 1.2193539</td></tr>\n",
       "\t<tr><td>body</td><td>Owl monkey     </td><td>-0.7339692</td></tr>\n",
       "\t<tr><td>body</td><td>Mountain beaver</td><td> 0.3001046</td></tr>\n",
       "\t<tr><td>body</td><td>Cow            </td><td> 6.1420374</td></tr>\n",
       "\t<tr><td>body</td><td>Grey wolf      </td><td> 3.5926438</td></tr>\n",
       "\t<tr><td>body</td><td>Goat           </td><td> 3.3199873</td></tr>\n",
       "</tbody>\n",
       "</table>\n"
      ],
      "text/latex": [
       "A data.frame: 6 x 3\n",
       "\\begin{tabular}{r|lll}\n",
       " medida & mammal & valor\\\\\n",
       " <fct> & <fct> & <dbl>\\\\\n",
       "\\hline\n",
       "\t body & Arctic fox      &  1.2193539\\\\\n",
       "\t body & Owl monkey      & -0.7339692\\\\\n",
       "\t body & Mountain beaver &  0.3001046\\\\\n",
       "\t body & Cow             &  6.1420374\\\\\n",
       "\t body & Grey wolf       &  3.5926438\\\\\n",
       "\t body & Goat            &  3.3199873\\\\\n",
       "\\end{tabular}\n"
      ],
      "text/markdown": [
       "\n",
       "A data.frame: 6 x 3\n",
       "\n",
       "| medida &lt;fct&gt; | mammal &lt;fct&gt; | valor &lt;dbl&gt; |\n",
       "|---|---|---|\n",
       "| body | Arctic fox      |  1.2193539 |\n",
       "| body | Owl monkey      | -0.7339692 |\n",
       "| body | Mountain beaver |  0.3001046 |\n",
       "| body | Cow             |  6.1420374 |\n",
       "| body | Grey wolf       |  3.5926438 |\n",
       "| body | Goat            |  3.3199873 |\n",
       "\n"
      ],
      "text/plain": [
       "  medida mammal          valor     \n",
       "1 body   Arctic fox       1.2193539\n",
       "2 body   Owl monkey      -0.7339692\n",
       "3 body   Mountain beaver  0.3001046\n",
       "4 body   Cow              6.1420374\n",
       "5 body   Grey wolf        3.5926438\n",
       "6 body   Goat             3.3199873"
      ]
     },
     "metadata": {},
     "output_type": "display_data"
    }
   ],
   "source": [
    "head(df_mammals_body)"
   ]
  },
  {
   "cell_type": "code",
   "execution_count": 46,
   "metadata": {},
   "outputs": [],
   "source": [
    "df_mammals_brain <- data.frame(medida = rep('brain', times=nrow(mammals)),\n",
    "                         mammal=rownames(log_mammals),\n",
    "                         valor = log_mammals$log_brain)"
   ]
  },
  {
   "cell_type": "code",
   "execution_count": 47,
   "metadata": {},
   "outputs": [
    {
     "data": {
      "text/html": [
       "<table>\n",
       "<caption>A data.frame: 6 x 3</caption>\n",
       "<thead>\n",
       "\t<tr><th scope=col>medida</th><th scope=col>mammal</th><th scope=col>valor</th></tr>\n",
       "\t<tr><th scope=col>&lt;fct&gt;</th><th scope=col>&lt;fct&gt;</th><th scope=col>&lt;dbl&gt;</th></tr>\n",
       "</thead>\n",
       "<tbody>\n",
       "\t<tr><td>brain</td><td>Arctic fox     </td><td>3.795489</td></tr>\n",
       "\t<tr><td>brain</td><td>Owl monkey     </td><td>2.740840</td></tr>\n",
       "\t<tr><td>brain</td><td>Mountain beaver</td><td>2.091864</td></tr>\n",
       "\t<tr><td>brain</td><td>Cow            </td><td>6.047372</td></tr>\n",
       "\t<tr><td>brain</td><td>Grey wolf      </td><td>4.783316</td></tr>\n",
       "\t<tr><td>brain</td><td>Goat           </td><td>4.744932</td></tr>\n",
       "</tbody>\n",
       "</table>\n"
      ],
      "text/latex": [
       "A data.frame: 6 x 3\n",
       "\\begin{tabular}{r|lll}\n",
       " medida & mammal & valor\\\\\n",
       " <fct> & <fct> & <dbl>\\\\\n",
       "\\hline\n",
       "\t brain & Arctic fox      & 3.795489\\\\\n",
       "\t brain & Owl monkey      & 2.740840\\\\\n",
       "\t brain & Mountain beaver & 2.091864\\\\\n",
       "\t brain & Cow             & 6.047372\\\\\n",
       "\t brain & Grey wolf       & 4.783316\\\\\n",
       "\t brain & Goat            & 4.744932\\\\\n",
       "\\end{tabular}\n"
      ],
      "text/markdown": [
       "\n",
       "A data.frame: 6 x 3\n",
       "\n",
       "| medida &lt;fct&gt; | mammal &lt;fct&gt; | valor &lt;dbl&gt; |\n",
       "|---|---|---|\n",
       "| brain | Arctic fox      | 3.795489 |\n",
       "| brain | Owl monkey      | 2.740840 |\n",
       "| brain | Mountain beaver | 2.091864 |\n",
       "| brain | Cow             | 6.047372 |\n",
       "| brain | Grey wolf       | 4.783316 |\n",
       "| brain | Goat            | 4.744932 |\n",
       "\n"
      ],
      "text/plain": [
       "  medida mammal          valor   \n",
       "1 brain  Arctic fox      3.795489\n",
       "2 brain  Owl monkey      2.740840\n",
       "3 brain  Mountain beaver 2.091864\n",
       "4 brain  Cow             6.047372\n",
       "5 brain  Grey wolf       4.783316\n",
       "6 brain  Goat            4.744932"
      ]
     },
     "metadata": {},
     "output_type": "display_data"
    }
   ],
   "source": [
    "head(df_mammals_brain)"
   ]
  },
  {
   "cell_type": "code",
   "execution_count": 48,
   "metadata": {},
   "outputs": [],
   "source": [
    "df_mammals_gg<-rbind(df_mammals_body, df_mammals_brain)"
   ]
  },
  {
   "cell_type": "code",
   "execution_count": 49,
   "metadata": {},
   "outputs": [
    {
     "data": {
      "text/html": [
       "<table>\n",
       "<caption>A data.frame: 6 x 3</caption>\n",
       "<thead>\n",
       "\t<tr><th scope=col>medida</th><th scope=col>mammal</th><th scope=col>valor</th></tr>\n",
       "\t<tr><th scope=col>&lt;fct&gt;</th><th scope=col>&lt;fct&gt;</th><th scope=col>&lt;dbl&gt;</th></tr>\n",
       "</thead>\n",
       "<tbody>\n",
       "\t<tr><td>body</td><td>Arctic fox     </td><td> 1.2193539</td></tr>\n",
       "\t<tr><td>body</td><td>Owl monkey     </td><td>-0.7339692</td></tr>\n",
       "\t<tr><td>body</td><td>Mountain beaver</td><td> 0.3001046</td></tr>\n",
       "\t<tr><td>body</td><td>Cow            </td><td> 6.1420374</td></tr>\n",
       "\t<tr><td>body</td><td>Grey wolf      </td><td> 3.5926438</td></tr>\n",
       "\t<tr><td>body</td><td>Goat           </td><td> 3.3199873</td></tr>\n",
       "</tbody>\n",
       "</table>\n"
      ],
      "text/latex": [
       "A data.frame: 6 x 3\n",
       "\\begin{tabular}{r|lll}\n",
       " medida & mammal & valor\\\\\n",
       " <fct> & <fct> & <dbl>\\\\\n",
       "\\hline\n",
       "\t body & Arctic fox      &  1.2193539\\\\\n",
       "\t body & Owl monkey      & -0.7339692\\\\\n",
       "\t body & Mountain beaver &  0.3001046\\\\\n",
       "\t body & Cow             &  6.1420374\\\\\n",
       "\t body & Grey wolf       &  3.5926438\\\\\n",
       "\t body & Goat            &  3.3199873\\\\\n",
       "\\end{tabular}\n"
      ],
      "text/markdown": [
       "\n",
       "A data.frame: 6 x 3\n",
       "\n",
       "| medida &lt;fct&gt; | mammal &lt;fct&gt; | valor &lt;dbl&gt; |\n",
       "|---|---|---|\n",
       "| body | Arctic fox      |  1.2193539 |\n",
       "| body | Owl monkey      | -0.7339692 |\n",
       "| body | Mountain beaver |  0.3001046 |\n",
       "| body | Cow             |  6.1420374 |\n",
       "| body | Grey wolf       |  3.5926438 |\n",
       "| body | Goat            |  3.3199873 |\n",
       "\n"
      ],
      "text/plain": [
       "  medida mammal          valor     \n",
       "1 body   Arctic fox       1.2193539\n",
       "2 body   Owl monkey      -0.7339692\n",
       "3 body   Mountain beaver  0.3001046\n",
       "4 body   Cow              6.1420374\n",
       "5 body   Grey wolf        3.5926438\n",
       "6 body   Goat             3.3199873"
      ]
     },
     "metadata": {},
     "output_type": "display_data"
    }
   ],
   "source": [
    "head(df_mammals_gg)"
   ]
  },
  {
   "cell_type": "code",
   "execution_count": 50,
   "metadata": {},
   "outputs": [
    {
     "data": {
      "text/html": [
       "<table>\n",
       "<caption>A data.frame: 6 x 3</caption>\n",
       "<thead>\n",
       "\t<tr><th></th><th scope=col>medida</th><th scope=col>mammal</th><th scope=col>valor</th></tr>\n",
       "\t<tr><th></th><th scope=col>&lt;fct&gt;</th><th scope=col>&lt;fct&gt;</th><th scope=col>&lt;dbl&gt;</th></tr>\n",
       "</thead>\n",
       "<tbody>\n",
       "\t<tr><th scope=row>119</th><td>brain</td><td>Echidna        </td><td>3.2188758</td></tr>\n",
       "\t<tr><th scope=row>120</th><td>brain</td><td>Brazilian tapir</td><td>5.1298987</td></tr>\n",
       "\t<tr><th scope=row>121</th><td>brain</td><td>Tenrec         </td><td>0.9555114</td></tr>\n",
       "\t<tr><th scope=row>122</th><td>brain</td><td>Phalanger      </td><td>2.4336134</td></tr>\n",
       "\t<tr><th scope=row>123</th><td>brain</td><td>Tree shrew     </td><td>0.9162907</td></tr>\n",
       "\t<tr><th scope=row>124</th><td>brain</td><td>Red fox        </td><td>3.9199912</td></tr>\n",
       "</tbody>\n",
       "</table>\n"
      ],
      "text/latex": [
       "A data.frame: 6 x 3\n",
       "\\begin{tabular}{r|lll}\n",
       "  & medida & mammal & valor\\\\\n",
       "  & <fct> & <fct> & <dbl>\\\\\n",
       "\\hline\n",
       "\t119 & brain & Echidna         & 3.2188758\\\\\n",
       "\t120 & brain & Brazilian tapir & 5.1298987\\\\\n",
       "\t121 & brain & Tenrec          & 0.9555114\\\\\n",
       "\t122 & brain & Phalanger       & 2.4336134\\\\\n",
       "\t123 & brain & Tree shrew      & 0.9162907\\\\\n",
       "\t124 & brain & Red fox         & 3.9199912\\\\\n",
       "\\end{tabular}\n"
      ],
      "text/markdown": [
       "\n",
       "A data.frame: 6 x 3\n",
       "\n",
       "| <!--/--> | medida &lt;fct&gt; | mammal &lt;fct&gt; | valor &lt;dbl&gt; |\n",
       "|---|---|---|---|\n",
       "| 119 | brain | Echidna         | 3.2188758 |\n",
       "| 120 | brain | Brazilian tapir | 5.1298987 |\n",
       "| 121 | brain | Tenrec          | 0.9555114 |\n",
       "| 122 | brain | Phalanger       | 2.4336134 |\n",
       "| 123 | brain | Tree shrew      | 0.9162907 |\n",
       "| 124 | brain | Red fox         | 3.9199912 |\n",
       "\n"
      ],
      "text/plain": [
       "    medida mammal          valor    \n",
       "119 brain  Echidna         3.2188758\n",
       "120 brain  Brazilian tapir 5.1298987\n",
       "121 brain  Tenrec          0.9555114\n",
       "122 brain  Phalanger       2.4336134\n",
       "123 brain  Tree shrew      0.9162907\n",
       "124 brain  Red fox         3.9199912"
      ]
     },
     "metadata": {},
     "output_type": "display_data"
    }
   ],
   "source": [
    "tail(df_mammals_gg)"
   ]
  },
  {
   "cell_type": "code",
   "execution_count": 51,
   "metadata": {},
   "outputs": [
    {
     "name": "stdout",
     "output_type": "stream",
     "text": [
      "[1] 124   3\n"
     ]
    }
   ],
   "source": [
    "print(dim(df_mammals_gg))"
   ]
  },
  {
   "cell_type": "code",
   "execution_count": 52,
   "metadata": {},
   "outputs": [],
   "source": [
    "gf <- ggplot(data=df_mammals_gg)  ##objeto de ggplot"
   ]
  },
  {
   "cell_type": "markdown",
   "metadata": {},
   "source": [
    "### Boxplot con ggplot2"
   ]
  },
  {
   "cell_type": "code",
   "execution_count": 53,
   "metadata": {},
   "outputs": [
    {
     "data": {
      "image/png": "[encoded data removed]",
      "text/plain": [
       "plot without title"
      ]
     },
     "metadata": {},
     "output_type": "display_data"
    }
   ],
   "source": [
    "gf + geom_boxplot(aes(x=medida, y=valor, fill = medida))"
   ]
  },
  {
   "cell_type": "markdown",
   "metadata": {},
   "source": [
    "### Scatterplot con ggplot2"
   ]
  },
  {
   "cell_type": "markdown",
   "metadata": {},
   "source": [
    "Los logaritmos del tamaño del cuerpo y del tamaño del cerebro están correlacionados positivamente:"
   ]
  },
  {
   "cell_type": "code",
   "execution_count": 54,
   "metadata": {},
   "outputs": [
    {
     "data": {
      "text/html": [
       "<table>\n",
       "<caption>A matrix: 2 x 2 of type dbl</caption>\n",
       "<thead>\n",
       "\t<tr><th></th><th scope=col>log_body</th><th scope=col>log_brain</th></tr>\n",
       "</thead>\n",
       "<tbody>\n",
       "\t<tr><th scope=row>log_body</th><td>1.00</td><td>0.96</td></tr>\n",
       "\t<tr><th scope=row>log_brain</th><td>0.96</td><td>1.00</td></tr>\n",
       "</tbody>\n",
       "</table>\n"
      ],
      "text/latex": [
       "A matrix: 2 x 2 of type dbl\n",
       "\\begin{tabular}{r|ll}\n",
       "  & log\\_body & log\\_brain\\\\\n",
       "\\hline\n",
       "\tlog\\_body & 1.00 & 0.96\\\\\n",
       "\tlog\\_brain & 0.96 & 1.00\\\\\n",
       "\\end{tabular}\n"
      ],
      "text/markdown": [
       "\n",
       "A matrix: 2 x 2 of type dbl\n",
       "\n",
       "| <!--/--> | log_body | log_brain |\n",
       "|---|---|---|\n",
       "| log_body | 1.00 | 0.96 |\n",
       "| log_brain | 0.96 | 1.00 |\n",
       "\n"
      ],
      "text/plain": [
       "          log_body log_brain\n",
       "log_body  1.00     0.96     \n",
       "log_brain 0.96     1.00     "
      ]
     },
     "metadata": {},
     "output_type": "display_data"
    }
   ],
   "source": [
    "options(digits=3)#para sólo imprimir 3 número de dígitos\n",
    "cor(log_mammals)"
   ]
  },
  {
   "cell_type": "markdown",
   "metadata": {},
   "source": [
    "Por lo que se puede añadir una recta por regresión lineal:"
   ]
  },
  {
   "cell_type": "code",
   "execution_count": 55,
   "metadata": {},
   "outputs": [
    {
     "data": {
      "image/png": "[encoded data removed]",
      "text/plain": [
       "plot without title"
      ]
     },
     "metadata": {},
     "output_type": "display_data"
    }
   ],
   "source": [
    "ggplot(log_mammals)+geom_point(aes(x=log_body, y=log_brain)) +\n",
    "geom_smooth(aes(x=log_body, y=log_brain),method=\"lm\")"
   ]
  },
  {
   "cell_type": "markdown",
   "metadata": {},
   "source": [
    "### Stripchart o dotplot"
   ]
  },
  {
   "cell_type": "markdown",
   "metadata": {},
   "source": [
    "La función `stripchart` realiza la gráfica a lo largo de una línea horizontal de la variable dada y también se puede colocar una fórmula en la que se especifiquen grupos. Se recomienda este tipo de gráficas para una cantidad moderada de datos (no muy grande). Ver ejemplo siguiente:"
   ]
  },
  {
   "cell_type": "markdown",
   "metadata": {},
   "source": [
    "##### en mammals ..."
   ]
  },
  {
   "cell_type": "markdown",
   "metadata": {},
   "source": [
    "Podemos añadir una nueva variable que sea categórica y represente el tamaño de los mamíferos: `grandes` y `chicos`. Un mamífero lo categorizamos como `grande` si el peso de su cuerpo está por encima de la mediana (para los datos transformados con `log`). Una variable `size` puede añadirse al `data.frame` para indicar lo anterior:"
   ]
  },
  {
   "cell_type": "code",
   "execution_count": 56,
   "metadata": {},
   "outputs": [],
   "source": [
    "m = median(log_mammals$log_body)\n",
    "log_mammals$size = ifelse(log_mammals$log_body >= m, \"grande\", \"pequenio\")"
   ]
  },
  {
   "cell_type": "code",
   "execution_count": 57,
   "metadata": {},
   "outputs": [
    {
     "data": {
      "text/html": [
       "<table>\n",
       "<caption>A data.frame: 6 x 3</caption>\n",
       "<thead>\n",
       "\t<tr><th></th><th scope=col>log_body</th><th scope=col>log_brain</th><th scope=col>size</th></tr>\n",
       "\t<tr><th></th><th scope=col>&lt;dbl&gt;</th><th scope=col>&lt;dbl&gt;</th><th scope=col>&lt;chr&gt;</th></tr>\n",
       "</thead>\n",
       "<tbody>\n",
       "\t<tr><th scope=row>Arctic fox</th><td> 1.219</td><td>3.80</td><td>grande  </td></tr>\n",
       "\t<tr><th scope=row>Owl monkey</th><td>-0.734</td><td>2.74</td><td>pequenio</td></tr>\n",
       "\t<tr><th scope=row>Mountain beaver</th><td> 0.300</td><td>2.09</td><td>pequenio</td></tr>\n",
       "\t<tr><th scope=row>Cow</th><td> 6.142</td><td>6.05</td><td>grande  </td></tr>\n",
       "\t<tr><th scope=row>Grey wolf</th><td> 3.593</td><td>4.78</td><td>grande  </td></tr>\n",
       "\t<tr><th scope=row>Goat</th><td> 3.320</td><td>4.74</td><td>grande  </td></tr>\n",
       "</tbody>\n",
       "</table>\n"
      ],
      "text/latex": [
       "A data.frame: 6 x 3\n",
       "\\begin{tabular}{r|lll}\n",
       "  & log\\_body & log\\_brain & size\\\\\n",
       "  & <dbl> & <dbl> & <chr>\\\\\n",
       "\\hline\n",
       "\tArctic fox &  1.219 & 3.80 & grande  \\\\\n",
       "\tOwl monkey & -0.734 & 2.74 & pequenio\\\\\n",
       "\tMountain beaver &  0.300 & 2.09 & pequenio\\\\\n",
       "\tCow &  6.142 & 6.05 & grande  \\\\\n",
       "\tGrey wolf &  3.593 & 4.78 & grande  \\\\\n",
       "\tGoat &  3.320 & 4.74 & grande  \\\\\n",
       "\\end{tabular}\n"
      ],
      "text/markdown": [
       "\n",
       "A data.frame: 6 x 3\n",
       "\n",
       "| <!--/--> | log_body &lt;dbl&gt; | log_brain &lt;dbl&gt; | size &lt;chr&gt; |\n",
       "|---|---|---|---|\n",
       "| Arctic fox |  1.219 | 3.80 | grande   |\n",
       "| Owl monkey | -0.734 | 2.74 | pequenio |\n",
       "| Mountain beaver |  0.300 | 2.09 | pequenio |\n",
       "| Cow |  6.142 | 6.05 | grande   |\n",
       "| Grey wolf |  3.593 | 4.78 | grande   |\n",
       "| Goat |  3.320 | 4.74 | grande   |\n",
       "\n"
      ],
      "text/plain": [
       "                log_body log_brain size    \n",
       "Arctic fox       1.219   3.80      grande  \n",
       "Owl monkey      -0.734   2.74      pequenio\n",
       "Mountain beaver  0.300   2.09      pequenio\n",
       "Cow              6.142   6.05      grande  \n",
       "Grey wolf        3.593   4.78      grande  \n",
       "Goat             3.320   4.74      grande  "
      ]
     },
     "metadata": {},
     "output_type": "display_data"
    }
   ],
   "source": [
    "head(log_mammals)"
   ]
  },
  {
   "cell_type": "markdown",
   "metadata": {},
   "source": [
    "y observar la distribución de los puntos con `stripchart` de acuerdo a cada tamaño del mamífero:"
   ]
  },
  {
   "cell_type": "code",
   "execution_count": 58,
   "metadata": {},
   "outputs": [
    {
     "data": {
      "image/png": "[encoded data removed]",
      "text/plain": [
       "plot without title"
      ]
     },
     "metadata": {},
     "output_type": "display_data"
    }
   ],
   "source": [
    "stripchart(log_mammals$log_body~log_mammals$size,\n",
    "          method=\"stack\", pch=1, cex=1) #stack grafica los puntos encima de\n",
    "                                        #unos de otros con mismo valor\n",
    "                                        #se recomienda para valores discretos\n",
    "                                        #con muchos empates"
   ]
  },
  {
   "cell_type": "code",
   "execution_count": 59,
   "metadata": {},
   "outputs": [
    {
     "data": {
      "image/png": "[encoded data removed]",
      "text/plain": [
       "plot without title"
      ]
     },
     "metadata": {},
     "output_type": "display_data"
    }
   ],
   "source": [
    "stripchart(log_mammals$log_body~log_mammals$size,\n",
    "          method=\"jitter\",\n",
    "          jitter=.1,\n",
    "          pch=1,\n",
    "          cex=.7) #con el método jitter\n",
    "                  #añadimos algo de ruido en el eje vertical\n",
    "                  #para separar valores que empatan aunque para\n",
    "                  #este ejemplo que tiene datos en un continuo\n",
    "                  #son pocos los valores iguales"
   ]
  },
  {
   "cell_type": "markdown",
   "metadata": {},
   "source": [
    "### Stripchart o dotplot con ggplot2"
   ]
  },
  {
   "cell_type": "markdown",
   "metadata": {},
   "source": [
    "Creamos la variable `size` para añadirla al formato `largo` de datos."
   ]
  },
  {
   "cell_type": "code",
   "execution_count": 60,
   "metadata": {},
   "outputs": [],
   "source": [
    "df_mammals_body$size = ifelse(df_mammals_body$valor >= m, \"grande\", \"pequenio\")\n",
    "df_mammals_brain$size = df_mammals_body$size"
   ]
  },
  {
   "cell_type": "code",
   "execution_count": 61,
   "metadata": {},
   "outputs": [
    {
     "data": {
      "text/html": [
       "<ol class=list-inline>\n",
       "\t<li>'grande'</li>\n",
       "\t<li>'pequenio'</li>\n",
       "\t<li>'pequenio'</li>\n",
       "\t<li>'grande'</li>\n",
       "\t<li>'grande'</li>\n",
       "\t<li>'grande'</li>\n",
       "</ol>\n"
      ],
      "text/latex": [
       "\\begin{enumerate*}\n",
       "\\item 'grande'\n",
       "\\item 'pequenio'\n",
       "\\item 'pequenio'\n",
       "\\item 'grande'\n",
       "\\item 'grande'\n",
       "\\item 'grande'\n",
       "\\end{enumerate*}\n"
      ],
      "text/markdown": [
       "1. 'grande'\n",
       "2. 'pequenio'\n",
       "3. 'pequenio'\n",
       "4. 'grande'\n",
       "5. 'grande'\n",
       "6. 'grande'\n",
       "\n",
       "\n"
      ],
      "text/plain": [
       "[1] \"grande\"   \"pequenio\" \"pequenio\" \"grande\"   \"grande\"   \"grande\"  "
      ]
     },
     "metadata": {},
     "output_type": "display_data"
    }
   ],
   "source": [
    "head(df_mammals_brain$size)"
   ]
  },
  {
   "cell_type": "code",
   "execution_count": 62,
   "metadata": {},
   "outputs": [
    {
     "data": {
      "text/html": [
       "<table>\n",
       "<caption>A data.frame: 6 x 3</caption>\n",
       "<thead>\n",
       "\t<tr><th scope=col>medida</th><th scope=col>mammal</th><th scope=col>valor</th></tr>\n",
       "\t<tr><th scope=col>&lt;fct&gt;</th><th scope=col>&lt;fct&gt;</th><th scope=col>&lt;dbl&gt;</th></tr>\n",
       "</thead>\n",
       "<tbody>\n",
       "\t<tr><td>body</td><td>Arctic fox     </td><td> 1.219</td></tr>\n",
       "\t<tr><td>body</td><td>Owl monkey     </td><td>-0.734</td></tr>\n",
       "\t<tr><td>body</td><td>Mountain beaver</td><td> 0.300</td></tr>\n",
       "\t<tr><td>body</td><td>Cow            </td><td> 6.142</td></tr>\n",
       "\t<tr><td>body</td><td>Grey wolf      </td><td> 3.593</td></tr>\n",
       "\t<tr><td>body</td><td>Goat           </td><td> 3.320</td></tr>\n",
       "</tbody>\n",
       "</table>\n"
      ],
      "text/latex": [
       "A data.frame: 6 x 3\n",
       "\\begin{tabular}{r|lll}\n",
       " medida & mammal & valor\\\\\n",
       " <fct> & <fct> & <dbl>\\\\\n",
       "\\hline\n",
       "\t body & Arctic fox      &  1.219\\\\\n",
       "\t body & Owl monkey      & -0.734\\\\\n",
       "\t body & Mountain beaver &  0.300\\\\\n",
       "\t body & Cow             &  6.142\\\\\n",
       "\t body & Grey wolf       &  3.593\\\\\n",
       "\t body & Goat            &  3.320\\\\\n",
       "\\end{tabular}\n"
      ],
      "text/markdown": [
       "\n",
       "A data.frame: 6 x 3\n",
       "\n",
       "| medida &lt;fct&gt; | mammal &lt;fct&gt; | valor &lt;dbl&gt; |\n",
       "|---|---|---|\n",
       "| body | Arctic fox      |  1.219 |\n",
       "| body | Owl monkey      | -0.734 |\n",
       "| body | Mountain beaver |  0.300 |\n",
       "| body | Cow             |  6.142 |\n",
       "| body | Grey wolf       |  3.593 |\n",
       "| body | Goat            |  3.320 |\n",
       "\n"
      ],
      "text/plain": [
       "  medida mammal          valor \n",
       "1 body   Arctic fox       1.219\n",
       "2 body   Owl monkey      -0.734\n",
       "3 body   Mountain beaver  0.300\n",
       "4 body   Cow              6.142\n",
       "5 body   Grey wolf        3.593\n",
       "6 body   Goat             3.320"
      ]
     },
     "metadata": {},
     "output_type": "display_data"
    }
   ],
   "source": [
    "head(df_mammals_gg)"
   ]
  },
  {
   "cell_type": "code",
   "execution_count": 63,
   "metadata": {},
   "outputs": [],
   "source": [
    "df_mammals_gg$size <-c(df_mammals_body$size, df_mammals_body$size)"
   ]
  },
  {
   "cell_type": "code",
   "execution_count": 64,
   "metadata": {},
   "outputs": [
    {
     "data": {
      "text/html": [
       "<table>\n",
       "<caption>A data.frame: 6 x 4</caption>\n",
       "<thead>\n",
       "\t<tr><th scope=col>medida</th><th scope=col>mammal</th><th scope=col>valor</th><th scope=col>size</th></tr>\n",
       "\t<tr><th scope=col>&lt;fct&gt;</th><th scope=col>&lt;fct&gt;</th><th scope=col>&lt;dbl&gt;</th><th scope=col>&lt;chr&gt;</th></tr>\n",
       "</thead>\n",
       "<tbody>\n",
       "\t<tr><td>body</td><td>Arctic fox     </td><td> 1.219</td><td>grande  </td></tr>\n",
       "\t<tr><td>body</td><td>Owl monkey     </td><td>-0.734</td><td>pequenio</td></tr>\n",
       "\t<tr><td>body</td><td>Mountain beaver</td><td> 0.300</td><td>pequenio</td></tr>\n",
       "\t<tr><td>body</td><td>Cow            </td><td> 6.142</td><td>grande  </td></tr>\n",
       "\t<tr><td>body</td><td>Grey wolf      </td><td> 3.593</td><td>grande  </td></tr>\n",
       "\t<tr><td>body</td><td>Goat           </td><td> 3.320</td><td>grande  </td></tr>\n",
       "</tbody>\n",
       "</table>\n"
      ],
      "text/latex": [
       "A data.frame: 6 x 4\n",
       "\\begin{tabular}{r|llll}\n",
       " medida & mammal & valor & size\\\\\n",
       " <fct> & <fct> & <dbl> & <chr>\\\\\n",
       "\\hline\n",
       "\t body & Arctic fox      &  1.219 & grande  \\\\\n",
       "\t body & Owl monkey      & -0.734 & pequenio\\\\\n",
       "\t body & Mountain beaver &  0.300 & pequenio\\\\\n",
       "\t body & Cow             &  6.142 & grande  \\\\\n",
       "\t body & Grey wolf       &  3.593 & grande  \\\\\n",
       "\t body & Goat            &  3.320 & grande  \\\\\n",
       "\\end{tabular}\n"
      ],
      "text/markdown": [
       "\n",
       "A data.frame: 6 x 4\n",
       "\n",
       "| medida &lt;fct&gt; | mammal &lt;fct&gt; | valor &lt;dbl&gt; | size &lt;chr&gt; |\n",
       "|---|---|---|---|\n",
       "| body | Arctic fox      |  1.219 | grande   |\n",
       "| body | Owl monkey      | -0.734 | pequenio |\n",
       "| body | Mountain beaver |  0.300 | pequenio |\n",
       "| body | Cow             |  6.142 | grande   |\n",
       "| body | Grey wolf       |  3.593 | grande   |\n",
       "| body | Goat            |  3.320 | grande   |\n",
       "\n"
      ],
      "text/plain": [
       "  medida mammal          valor  size    \n",
       "1 body   Arctic fox       1.219 grande  \n",
       "2 body   Owl monkey      -0.734 pequenio\n",
       "3 body   Mountain beaver  0.300 pequenio\n",
       "4 body   Cow              6.142 grande  \n",
       "5 body   Grey wolf        3.593 grande  \n",
       "6 body   Goat             3.320 grande  "
      ]
     },
     "metadata": {},
     "output_type": "display_data"
    }
   ],
   "source": [
    "head(df_mammals_gg)"
   ]
  },
  {
   "cell_type": "markdown",
   "metadata": {},
   "source": [
    "Volvemos a crear el objeto de `ggplot2`:"
   ]
  },
  {
   "cell_type": "code",
   "execution_count": 65,
   "metadata": {},
   "outputs": [],
   "source": [
    "gf <- ggplot(data=df_mammals_gg)"
   ]
  },
  {
   "cell_type": "code",
   "execution_count": 66,
   "metadata": {},
   "outputs": [
    {
     "data": {
      "image/png": "[encoded data removed]",
      "text/plain": [
       "plot without title"
      ]
     },
     "metadata": {},
     "output_type": "display_data"
    }
   ],
   "source": [
    "gf + geom_point(aes(x=medida,y=valor))+\n",
    "facet_wrap(~size)"
   ]
  },
  {
   "cell_type": "markdown",
   "metadata": {},
   "source": [
    "Entonces mamíferos con cuerpo pesado (ligero) en kg tienen cerebro pesado (ligero) en g."
   ]
  },
  {
   "cell_type": "code",
   "execution_count": 67,
   "metadata": {},
   "outputs": [
    {
     "data": {
      "image/png": "[encoded data removed]",
      "text/plain": [
       "plot without title"
      ]
     },
     "metadata": {},
     "output_type": "display_data"
    }
   ],
   "source": [
    "gf + geom_boxplot(aes(x=medida, y=valor, fill = medida)) + \n",
    "geom_jitter(aes(x=medida,y=valor),position=position_jitter(width=0.05,height=0.05),size=1)"
   ]
  },
  {
   "cell_type": "code",
   "execution_count": 68,
   "metadata": {},
   "outputs": [
    {
     "data": {
      "image/png": "[encoded data removed]",
      "text/plain": [
       "plot without title"
      ]
     },
     "metadata": {},
     "output_type": "display_data"
    }
   ],
   "source": [
    "gf + geom_boxplot(aes(x=medida, y=valor, fill = medida)) + \n",
    "#geom_point(aes(x=medida,y=valor))\n",
    "geom_jitter(aes(x=medida,y=valor),position=position_jitter(height=0.05,width=0.05), size=.3) +\n",
    "facet_wrap(~size)"
   ]
  },
  {
   "cell_type": "markdown",
   "metadata": {},
   "source": [
    "### Histogramas"
   ]
  },
  {
   "cell_type": "markdown",
   "metadata": {},
   "source": [
    "Aunque la `barplot` y el histograma se ven similares, la `barplot` es usada para **datos cualitativos o categóricos** y el **histograma para datos numéricos o cuantitativos**. No obstante, los `bins` o anchos de los intervalos que se utilizan en un histograma son en esencia categorías. "
   ]
  },
  {
   "cell_type": "markdown",
   "metadata": {},
   "source": [
    "A manera de ejemplo, a continuación se muestra cómo se pueden construir intervalos y contar cuántos datos caen en cada uno y luego se le pasa a la función de `hist` con el argumento `breaks`."
   ]
  },
  {
   "cell_type": "code",
   "execution_count": 69,
   "metadata": {},
   "outputs": [
    {
     "data": {
      "text/html": [
       "<table>\n",
       "<caption>A data.frame: 6 x 5</caption>\n",
       "<thead>\n",
       "\t<tr><th></th><th scope=col>log_body</th><th scope=col>log_brain</th><th scope=col>size</th><th scope=col>intervalo_body</th><th scope=col>intervalo_brain</th></tr>\n",
       "\t<tr><th></th><th scope=col>&lt;dbl&gt;</th><th scope=col>&lt;dbl&gt;</th><th scope=col>&lt;chr&gt;</th><th scope=col>&lt;fct&gt;</th><th scope=col>&lt;fct&gt;</th></tr>\n",
       "</thead>\n",
       "<tbody>\n",
       "\t<tr><th scope=row>Arctic fox</th><td> 1.219</td><td>3.80</td><td>grande  </td><td>(0.202,1.7] </td><td>(3.03,4.53]</td></tr>\n",
       "\t<tr><th scope=row>Owl monkey</th><td>-0.734</td><td>2.74</td><td>pequenio</td><td>(-1.3,0.202]</td><td>(1.53,3.03]</td></tr>\n",
       "\t<tr><th scope=row>Mountain beaver</th><td> 0.300</td><td>2.09</td><td>pequenio</td><td>(0.202,1.7] </td><td>(1.53,3.03]</td></tr>\n",
       "\t<tr><th scope=row>Cow</th><td> 6.142</td><td>6.05</td><td>grande  </td><td>(4.7,6.2]   </td><td>(6.03,7.53]</td></tr>\n",
       "\t<tr><th scope=row>Grey wolf</th><td> 3.593</td><td>4.78</td><td>grande  </td><td>(3.2,4.7]   </td><td>(4.53,6.03]</td></tr>\n",
       "\t<tr><th scope=row>Goat</th><td> 3.320</td><td>4.74</td><td>grande  </td><td>(3.2,4.7]   </td><td>(4.53,6.03]</td></tr>\n",
       "</tbody>\n",
       "</table>\n"
      ],
      "text/latex": [
       "A data.frame: 6 x 5\n",
       "\\begin{tabular}{r|lllll}\n",
       "  & log\\_body & log\\_brain & size & intervalo\\_body & intervalo\\_brain\\\\\n",
       "  & <dbl> & <dbl> & <chr> & <fct> & <fct>\\\\\n",
       "\\hline\n",
       "\tArctic fox &  1.219 & 3.80 & grande   & (0.202,1.7{]}  & (3.03,4.53{]}\\\\\n",
       "\tOwl monkey & -0.734 & 2.74 & pequenio & (-1.3,0.202{]} & (1.53,3.03{]}\\\\\n",
       "\tMountain beaver &  0.300 & 2.09 & pequenio & (0.202,1.7{]}  & (1.53,3.03{]}\\\\\n",
       "\tCow &  6.142 & 6.05 & grande   & (4.7,6.2{]}    & (6.03,7.53{]}\\\\\n",
       "\tGrey wolf &  3.593 & 4.78 & grande   & (3.2,4.7{]}    & (4.53,6.03{]}\\\\\n",
       "\tGoat &  3.320 & 4.74 & grande   & (3.2,4.7{]}    & (4.53,6.03{]}\\\\\n",
       "\\end{tabular}\n"
      ],
      "text/markdown": [
       "\n",
       "A data.frame: 6 x 5\n",
       "\n",
       "| <!--/--> | log_body &lt;dbl&gt; | log_brain &lt;dbl&gt; | size &lt;chr&gt; | intervalo_body &lt;fct&gt; | intervalo_brain &lt;fct&gt; |\n",
       "|---|---|---|---|---|---|\n",
       "| Arctic fox |  1.219 | 3.80 | grande   | (0.202,1.7]  | (3.03,4.53] |\n",
       "| Owl monkey | -0.734 | 2.74 | pequenio | (-1.3,0.202] | (1.53,3.03] |\n",
       "| Mountain beaver |  0.300 | 2.09 | pequenio | (0.202,1.7]  | (1.53,3.03] |\n",
       "| Cow |  6.142 | 6.05 | grande   | (4.7,6.2]    | (6.03,7.53] |\n",
       "| Grey wolf |  3.593 | 4.78 | grande   | (3.2,4.7]    | (4.53,6.03] |\n",
       "| Goat |  3.320 | 4.74 | grande   | (3.2,4.7]    | (4.53,6.03] |\n",
       "\n"
      ],
      "text/plain": [
       "                log_body log_brain size     intervalo_body intervalo_brain\n",
       "Arctic fox       1.219   3.80      grande   (0.202,1.7]    (3.03,4.53]    \n",
       "Owl monkey      -0.734   2.74      pequenio (-1.3,0.202]   (1.53,3.03]    \n",
       "Mountain beaver  0.300   2.09      pequenio (0.202,1.7]    (1.53,3.03]    \n",
       "Cow              6.142   6.05      grande   (4.7,6.2]      (6.03,7.53]    \n",
       "Grey wolf        3.593   4.78      grande   (3.2,4.7]      (4.53,6.03]    \n",
       "Goat             3.320   4.74      grande   (3.2,4.7]      (4.53,6.03]    "
      ]
     },
     "metadata": {},
     "output_type": "display_data"
    }
   ],
   "source": [
    "#los siguientes valores de dif y width fueron elegidos de acuerdo al summary \n",
    "#anterior usando los datos en escala logarítmica.\n",
    "#La idea es que se cubran todas las mediciones de log_body y log_brain\n",
    "#en el rango en el que se encuentran.\n",
    "\n",
    "#Para log_body:\n",
    "dif <- 0.5\n",
    "width <- 1.5\n",
    "minimo <- min(log_mammals$log_body) - dif\n",
    "maximo <- max(log_mammals$log_body) + dif\n",
    "cortes_body <- seq(minimo, maximo, by = width)\n",
    "log_mammals$intervalo_body <- cut(log_mammals$log_body, breaks = cortes_body)\n",
    "\n",
    "#Para log_brain:\n",
    "dif <- 1\n",
    "minimo <- min(log_mammals$log_brain) - dif\n",
    "maximo <- max(log_mammals$log_body) + dif\n",
    "cortes_brain <- seq(minimo, maximo, by = width)\n",
    "log_mammals$intervalo_brain <- cut(log_mammals$log_brain, breaks = cortes_brain)\n",
    "head(log_mammals)"
   ]
  },
  {
   "cell_type": "markdown",
   "metadata": {},
   "source": [
    "Para las frecuencias en cada intervalo (intervalos de la forma \"( ]\") podemos usar `table` y `prop.table`:"
   ]
  },
  {
   "cell_type": "code",
   "execution_count": 70,
   "metadata": {},
   "outputs": [
    {
     "data": {
      "text/plain": [
       "\n",
       " (-5.8,-4.3]  (-4.3,-2.8]  (-2.8,-1.3] (-1.3,0.202]  (0.202,1.7]    (1.7,3.2] \n",
       "           2            4            6           10           17            4 \n",
       "   (3.2,4.7]    (4.7,6.2]    (6.2,7.7]    (7.7,9.2] \n",
       "           9            6            2            2 "
      ]
     },
     "metadata": {},
     "output_type": "display_data"
    }
   ],
   "source": [
    "table(log_mammals$intervalo_body)"
   ]
  },
  {
   "cell_type": "code",
   "execution_count": 71,
   "metadata": {},
   "outputs": [
    {
     "data": {
      "text/plain": [
       "\n",
       " (-2.97,-1.47] (-1.47,0.0339]  (0.0339,1.53]    (1.53,3.03]    (3.03,4.53] \n",
       "             1              6              9             16              9 \n",
       "   (4.53,6.03]    (6.03,7.53]    (7.53,9.03] \n",
       "            12              7              2 "
      ]
     },
     "metadata": {},
     "output_type": "display_data"
    }
   ],
   "source": [
    "table(log_mammals$intervalo_brain)"
   ]
  },
  {
   "cell_type": "code",
   "execution_count": 72,
   "metadata": {},
   "outputs": [
    {
     "data": {
      "text/plain": [
       "\n",
       " (-5.8,-4.3]  (-4.3,-2.8]  (-2.8,-1.3] (-1.3,0.202]  (0.202,1.7]    (1.7,3.2] \n",
       "       0.032        0.065        0.097        0.161        0.274        0.065 \n",
       "   (3.2,4.7]    (4.7,6.2]    (6.2,7.7]    (7.7,9.2] \n",
       "       0.145        0.097        0.032        0.032 "
      ]
     },
     "metadata": {},
     "output_type": "display_data"
    }
   ],
   "source": [
    "options(digits = 2) #para sólo imprimir 2 número de dígitos\n",
    "prop.table(table(log_mammals$intervalo_body))"
   ]
  },
  {
   "cell_type": "code",
   "execution_count": 73,
   "metadata": {},
   "outputs": [
    {
     "data": {
      "text/plain": [
       "\n",
       " (-2.97,-1.47] (-1.47,0.0339]  (0.0339,1.53]    (1.53,3.03]    (3.03,4.53] \n",
       "         0.016          0.097          0.145          0.258          0.145 \n",
       "   (4.53,6.03]    (6.03,7.53]    (7.53,9.03] \n",
       "         0.194          0.113          0.032 "
      ]
     },
     "metadata": {},
     "output_type": "display_data"
    }
   ],
   "source": [
    "prop.table(table(log_mammals$intervalo_brain))"
   ]
  },
  {
   "cell_type": "markdown",
   "metadata": {},
   "source": [
    "Histograma con los cortes anteriores:"
   ]
  },
  {
   "cell_type": "code",
   "execution_count": 74,
   "metadata": {},
   "outputs": [
    {
     "data": {
      "image/png": "[encoded data removed]",
      "text/plain": [
       "Plot with title \"\""
      ]
     },
     "metadata": {},
     "output_type": "display_data"
    }
   ],
   "source": [
    "par(mfrow=c(2,2)) #subplots\n",
    "par(cex=0.4) #control size of labels\n",
    "hist(log_mammals$log_body, breaks=cortes_body, \n",
    "     main=\"Frecuencias absolutas\", col='gray60') #conteos\n",
    "hist(log_mammals$log_body, breaks=cortes_body, \n",
    "     main=\"Frecuencias relativas\", col='gray60',prob=T)#frecuencias entre 0 y 1 (relativas)\n",
    "hist(log_mammals$log_brain, breaks=cortes_brain, \n",
    "     main=\"\", col='gray60')\n",
    "hist(log_mammals$log_brain, breaks=cortes_brain, \n",
    "     main=\"\", col='gray60',prob=T)"
   ]
  },
  {
   "cell_type": "markdown",
   "metadata": {},
   "source": [
    "Histograma con los `breaks` que se calculan en la función `hist`:"
   ]
  },
  {
   "cell_type": "code",
   "execution_count": 75,
   "metadata": {},
   "outputs": [
    {
     "data": {
      "image/png": "[encoded data removed]",
      "text/plain": [
       "Plot with title \"\""
      ]
     },
     "metadata": {},
     "output_type": "display_data"
    }
   ],
   "source": [
    "par(mfrow=c(2,2)) #subplots\n",
    "par(cex=0.4) #control size of labels\n",
    "hist(log_mammals$log_body, \n",
    "     main=\"Frecuencias absolutas\", col='gray60')\n",
    "hist(log_mammals$log_body, \n",
    "     main=\"Frecuencias relativas\", col='gray60',prob=T)\n",
    "hist(log_mammals$log_brain, \n",
    "     main=\"\", col='gray60')\n",
    "hist(log_mammals$log_brain, \n",
    "     main=\"\", col='gray60',prob=T)"
   ]
  },
  {
   "cell_type": "markdown",
   "metadata": {},
   "source": [
    "**Obs:** \n",
    "\n",
    "* Obsérvese que los histogramas creados con la función `hist` son por default histogramas de conteos y los histogramas cambian de acuerdo a los `breaks` o *binwidths* elegidos.\n",
    "\n",
    "* Las barras de los histogramas anteriores del lado derecho se obtienen de los conteos o tabla de frecuencias y están escaladas según la frecuencia relativa en el ancho del intervalo de clase correspondiente.\n",
    "\n",
    "* En los histogramas buscamos alrededor de qué valores se agrupan los datos, dispersión y forma (simetría, sesgo, colas largas o cortas), subgrupos o datos atípicos.\n",
    "\n",
    "* Como se observó, al variar el número de `breaks` o `binwidth` los histogramas cambian (asimismo si se eligen construir con intervalos de la forma \"(]\" o \"[)\" por lo que una pregunta natural es ¿cuál debe ser el ancho del intervalo? la respuesta no es simple pues cada histograma que se realiza depende de los datos que se están analizando. Lo mejor es ir modificando los anchos o los `breaks` (experimentando). Los histogramas no deben tener anchos de intervalos demasiado angostos ni demasiado anchos, se debe tener un balance entre estas medidas."
   ]
  },
  {
   "cell_type": "markdown",
   "metadata": {},
   "source": [
    "### Histograma con ggplot2"
   ]
  },
  {
   "cell_type": "markdown",
   "metadata": {},
   "source": [
    "A manera de ejemplo de uso del paquete de `ggplot2` para graficar histogramas, usamos el objeto `gf` creado anteriormente con la función `ggplot` y le colocamos la capa de `geom_histogram`."
   ]
  },
  {
   "cell_type": "code",
   "execution_count": 76,
   "metadata": {},
   "outputs": [
    {
     "data": {
      "image/png": "[encoded data removed]",
      "text/plain": [
       "plot without title"
      ]
     },
     "metadata": {},
     "output_type": "display_data"
    }
   ],
   "source": [
    "#usamos los breaks creados anteriormente\n",
    "gf+ geom_histogram(aes(x=valor,\n",
    "                       fill = medida),\n",
    "                   breaks=c(cortes_body, cortes_brain)) +\n",
    "facet_wrap(~medida, nrow=2) #gráfica en 2 páneles"
   ]
  },
  {
   "cell_type": "markdown",
   "metadata": {},
   "source": [
    "Para representar la frecuencia entre $0$ y $1$:"
   ]
  },
  {
   "cell_type": "code",
   "execution_count": 77,
   "metadata": {},
   "outputs": [
    {
     "data": {
      "image/png": "[encoded data removed]",
      "text/plain": [
       "plot without title"
      ]
     },
     "metadata": {},
     "output_type": "display_data"
    }
   ],
   "source": [
    "#la variable width fue creada antes para generar\n",
    "#los breaks en el mismo bloque de código\n",
    "gf+ geom_histogram(aes(x=valor,\n",
    "                       fill = medida,\n",
    "                       y=width*..density..),\n",
    "                   breaks=c(cortes_body, cortes_brain)) +\n",
    "facet_wrap(~medida,nrow=2)"
   ]
  },
  {
   "cell_type": "markdown",
   "metadata": {},
   "source": [
    "# Propiedades de distribuciones de datos"
   ]
  },
  {
   "cell_type": "markdown",
   "metadata": {},
   "source": [
    "Una vez realizada la visualización de los datos lo siguiente es identificar algunas propiedades presentes en la misma. Entre las propiedades que deben como mínimo identificarse están:\n",
    "\n",
    "* Centro: ¿a lo largo de qué valor(es) se encuentran centrados mis datos? revisamos la tendencia de los datos a estar concentrados en cierto(s) valor(es).\n",
    "\n",
    "* Dispersión: ¿qué tanta dispersión se encuentran en mis datos? lo cual está íntimamente relacionado con ¿qué variabilidad existe en mis datos?, ¿cómo es la variabilidad?, ¿cómo describir a la variabilidad? ... estos son parte de los objetivos principales de la Estadística. Los datasets que tienen gran dispersión en una variable tienden a cubrir un intervalo grande, los que tienen menos dispersión en una variable tienden a agruparse alrededor de un valor central.\n",
    "\n",
    "* Forma: simetría, colas delgadas o gruesas (pesadas), un(os) valor(es) que se repite(n) constantemente o no... estas características típicamente se relacionan con una herramienta visual como un `barplot` o un histograma. La forma nos ayuda a describir la estructura de los datos y a elegir la herramienta de análisis. Entre las formas típicas que encontramos están:"
   ]
  },
  {
   "cell_type": "markdown",
   "metadata": {},
   "source": [
    "<p align=\"centered\">\n",
    "<img src=\"https://drive.google.com/uc?export=view&id=1cjPXIV_DD4pg9plUSW4Le1fAln3ud7Rz\" heigth=\"500\" width=\"500\">\n",
    "</p>"
   ]
  },
  {
   "cell_type": "markdown",
   "metadata": {},
   "source": [
    "La gráfica anterior fue copiada directamente del libro M.D. Ugarte, A. F. Militino, A. T. Arnholt, Probability and Statistics with R\", 2ed. capítulo 2 en donde se muestran formas comunes de distribuciones.\n",
    "\n",
    "* Todas son simétricas con excepción de la número $2$ y $8$ que se caracterizan por ser **sesgadas a la derecha y a la izquierda respectivamente**.\n",
    "\n",
    "* Todas son **unimodales** con excepción de la $1$, $4$ y $9$ las cuales cumplen con ser **bimodal, uniforme y multimodal respectivamente**. \n",
    "\n",
    "* De las **simétricas** es conveniente distinguir las que tienen **colas cortas o largas o normales**. Ejemplos se obsevan en la $3, 5$ y $7$. La $4$ y la $6$ además de ser simétricas, también son de cola corta."
   ]
  },
  {
   "cell_type": "markdown",
   "metadata": {},
   "source": [
    "También la **curtosis** se utiliza para revisar la forma de la distribución de los datos. Dependiendo de lo \"picuda\" y el tipo de colas que tiene la distribución es el nombre que adquiere. **Platicúrtica** menos picuda y con colas más delgadas que la distribución normal ($5$ anterior) y como ejemplo está el número $4$ anterior; **leptocúrtica** más picuda y colas más gruesas (colas pesadas) que la distribución normal; **mesocúrtica** similar a la distribución normal: un pico redondeado y colas moderadas. Como ejemplo de una distribución leptocúrtica se encuentra la distribución logística:"
   ]
  },
  {
   "cell_type": "code",
   "execution_count": 78,
   "metadata": {},
   "outputs": [],
   "source": [
    "set.seed(2000)\n",
    "n <- 50\n",
    "df <- data.frame(x=rlogis(n))\n",
    "y <- dlogis(df$x)\n",
    "df$y <- y"
   ]
  },
  {
   "cell_type": "code",
   "execution_count": 79,
   "metadata": {},
   "outputs": [],
   "source": [
    "gf <-ggplot(data = df, aes(x=x, y=y)) + geom_point(size=.01) + ggtitle('rlogis') +\n",
    "theme(plot.title = element_text(size=10, hjust = 0.5))"
   ]
  },
  {
   "cell_type": "code",
   "execution_count": 80,
   "metadata": {},
   "outputs": [
    {
     "data": {
      "image/png": "[encoded data removed]",
      "text/plain": [
       "plot without title"
      ]
     },
     "metadata": {},
     "output_type": "display_data"
    }
   ],
   "source": [
    "gf"
   ]
  },
  {
   "cell_type": "code",
   "execution_count": 81,
   "metadata": {},
   "outputs": [
    {
     "data": {
      "image/png": "[encoded data removed]",
      "text/plain": [
       "plot without title"
      ]
     },
     "metadata": {},
     "output_type": "display_data"
    }
   ],
   "source": [
    "gf + geom_smooth(method='loess', colour='red', size=.5) #lowess: locally weighted\n",
    "                                                        #regression"
   ]
  },
  {
   "cell_type": "markdown",
   "metadata": {},
   "source": [
    "# Estadísticas descriptivas"
   ]
  },
  {
   "cell_type": "markdown",
   "metadata": {},
   "source": [
    "Utilizamos además de la herramienta de visualización, resúmenes numéricos que nos ayuden a caracterizar la distribución de los datos. Entre las estadísticas descriptivas más comunes se encuentran:"
   ]
  },
  {
   "cell_type": "markdown",
   "metadata": {},
   "source": [
    "## Medidas de tendencia central"
   ]
  },
  {
   "cell_type": "markdown",
   "metadata": {},
   "source": [
    "¿Alrededor de cuál(es) valor(es) se localiza o centra la distribución de los datos?"
   ]
  },
  {
   "cell_type": "markdown",
   "metadata": {},
   "source": [
    "### Media o promedio"
   ]
  },
  {
   "cell_type": "markdown",
   "metadata": {},
   "source": [
    "La media **muestral** de variables $x_1, x_2, \\dots, x_n$ se denota como: $\\bar{x}$ y está definida: $$\\bar{x} = \\frac{1}{n} \\displaystyle \\sum_{i=1}^n x_i.$$"
   ]
  },
  {
   "cell_type": "markdown",
   "metadata": {},
   "source": [
    "**Ejemplo:** "
   ]
  },
  {
   "cell_type": "markdown",
   "metadata": {},
   "source": [
    "1) para el conjunto de valores $\\{8,7,10,8,9,7\\}$ se tiene:"
   ]
  },
  {
   "cell_type": "code",
   "execution_count": 82,
   "metadata": {},
   "outputs": [
    {
     "data": {
      "text/html": [
       "8.17"
      ],
      "text/latex": [
       "8.17"
      ],
      "text/markdown": [
       "8.17"
      ],
      "text/plain": [
       "[1] 8.2"
      ]
     },
     "metadata": {},
     "output_type": "display_data"
    }
   ],
   "source": [
    "vec<-c(8,7,10,8,9,7)\n",
    "promedio<-mean(vec)\n",
    "round(promedio,2)"
   ]
  },
  {
   "cell_type": "markdown",
   "metadata": {},
   "source": [
    "2) para el conjunto de valores $\\{8,7,10,8,9,700\\}$ se tiene:"
   ]
  },
  {
   "cell_type": "code",
   "execution_count": 83,
   "metadata": {},
   "outputs": [
    {
     "data": {
      "text/html": [
       "123.67"
      ],
      "text/latex": [
       "123.67"
      ],
      "text/markdown": [
       "123.67"
      ],
      "text/plain": [
       "[1] 124"
      ]
     },
     "metadata": {},
     "output_type": "display_data"
    }
   ],
   "source": [
    "vec<-c(8,7,10,8,9,700)\n",
    "promedio<-mean(vec)\n",
    "round(promedio,2)"
   ]
  },
  {
   "cell_type": "markdown",
   "metadata": {},
   "source": [
    "**Obs:** \n",
    "\n",
    "* Obsérvese que la media de datos es muy sensible a valores extremos o atípicos aunque la media se calcula muy fácilmente. \n",
    "\n",
    "* Para grandes poblaciones de datos numéricos, es común utilizar a la media para representar a la población.\n",
    "\n",
    "\n",
    "* Dada una población típicamente la media poblacional o media real es desconocida por lo que se tiene que inferir mediante las medias de una o varias muestras de la población. A la media de la población total o media real se denota como $\\mu$. Si tenemos un gran número de muestras, el valor esperado de sus medias es una buena aproximación de la media de la población. En este caso decimos que $\\bar{x}$ (media muestral) es un **estimador sin sesgo** de $\\mu$ (media poblacional)."
   ]
  },
  {
   "cell_type": "markdown",
   "metadata": {},
   "source": [
    "### Medias recortadas"
   ]
  },
  {
   "cell_type": "markdown",
   "metadata": {},
   "source": [
    "Está diseñada para aliviar la sensibilidad de la media a valores extremos. La idea es cortar una fracción (menos de $.5$) las observaciones en los extremos de una lista ordenada y calcular la media muestral resultado del corte. Un ejemplo de esto son las medias de las evaluaciones de los jueces en eventos deportivos: se elimina la calificación más alta y la más baja y se toma el promedio de las restantes como representativo."
   ]
  },
  {
   "cell_type": "markdown",
   "metadata": {},
   "source": [
    "**Ejemplo:**"
   ]
  },
  {
   "cell_type": "markdown",
   "metadata": {},
   "source": [
    "1) para el conjunto de valores $\\{8,7,10,8,9,7\\}$ se tiene:"
   ]
  },
  {
   "cell_type": "code",
   "execution_count": 84,
   "metadata": {},
   "outputs": [
    {
     "data": {
      "text/html": [
       "8"
      ],
      "text/latex": [
       "8"
      ],
      "text/markdown": [
       "8"
      ],
      "text/plain": [
       "[1] 8"
      ]
     },
     "metadata": {},
     "output_type": "display_data"
    }
   ],
   "source": [
    "vec<-c(8,7,10,8,9,7)\n",
    "promedio_recortado<-mean(vec, trim=1/6)\n",
    "round(promedio_recortado,2)"
   ]
  },
  {
   "cell_type": "markdown",
   "metadata": {},
   "source": [
    "2) para el conjunto de valores $\\{8,7,10,8,9,700\\}$ se tiene:"
   ]
  },
  {
   "cell_type": "code",
   "execution_count": 85,
   "metadata": {},
   "outputs": [
    {
     "data": {
      "text/html": [
       "8.75"
      ],
      "text/latex": [
       "8.75"
      ],
      "text/markdown": [
       "8.75"
      ],
      "text/plain": [
       "[1] 8.8"
      ]
     },
     "metadata": {},
     "output_type": "display_data"
    }
   ],
   "source": [
    "vec<-c(8,7,10,8,9,700)\n",
    "promedio_recortado<-mean(vec, trim=1/6)\n",
    "round(promedio_recortado,2)"
   ]
  },
  {
   "cell_type": "markdown",
   "metadata": {},
   "source": [
    "**Obs:** es resistente a valores extremos y comparte con la media propiedades matemáticas interesantes, sin embargo, se requiere ordenar a los datos."
   ]
  },
  {
   "cell_type": "markdown",
   "metadata": {},
   "source": [
    "### Mediana"
   ]
  },
  {
   "cell_type": "markdown",
   "metadata": {},
   "source": [
    "La mediana es el valor que parte al conjunto de datos ordenados en dos. Para encontrar la mediana, los datos se ordenan de menor a mayor y,\n",
    "\n",
    "* si el número de datos es impar, la mediana es el valor que se encuentra a la mitad del conjunto,\n",
    "\n",
    "* si el número de datos es par, la mediana es el promedio de los dos datos intermedios."
   ]
  },
  {
   "cell_type": "markdown",
   "metadata": {},
   "source": [
    "**Ejemplo:**"
   ]
  },
  {
   "cell_type": "markdown",
   "metadata": {},
   "source": [
    "1) Para el conjunto de valores $\\{8,7,10,8,9,7\\}$ se tiene:"
   ]
  },
  {
   "cell_type": "code",
   "execution_count": 86,
   "metadata": {},
   "outputs": [
    {
     "data": {
      "text/html": [
       "8"
      ],
      "text/latex": [
       "8"
      ],
      "text/markdown": [
       "8"
      ],
      "text/plain": [
       "[1] 8"
      ]
     },
     "metadata": {},
     "output_type": "display_data"
    }
   ],
   "source": [
    "vec<-c(8,7,10,8,9,7)\n",
    "mediana<-median(vec)\n",
    "round(mediana,2)"
   ]
  },
  {
   "cell_type": "markdown",
   "metadata": {},
   "source": [
    "2) Para el conjunto de valores $\\{8,7,10,8,9,700\\}$ se tiene:"
   ]
  },
  {
   "cell_type": "code",
   "execution_count": 87,
   "metadata": {},
   "outputs": [
    {
     "data": {
      "text/html": [
       "8.5"
      ],
      "text/latex": [
       "8.5"
      ],
      "text/markdown": [
       "8.5"
      ],
      "text/plain": [
       "[1] 8.5"
      ]
     },
     "metadata": {},
     "output_type": "display_data"
    }
   ],
   "source": [
    "vec<-c(8,7,10,8,9,700)\n",
    "mediana<-median(vec)\n",
    "round(mediana,2)"
   ]
  },
  {
   "cell_type": "markdown",
   "metadata": {},
   "source": [
    "3) Para el conjunto de valores $\\{1,3,8,15,5,9,2,1,4\\}$ se tiene:"
   ]
  },
  {
   "cell_type": "code",
   "execution_count": 88,
   "metadata": {},
   "outputs": [
    {
     "data": {
      "text/html": [
       "4"
      ],
      "text/latex": [
       "4"
      ],
      "text/markdown": [
       "4"
      ],
      "text/plain": [
       "[1] 4"
      ]
     },
     "metadata": {},
     "output_type": "display_data"
    }
   ],
   "source": [
    "vec <- c(1,3,8,15,5,9,2,1,4)\n",
    "mediana<-median(vec)\n",
    "round(median(vec),2)"
   ]
  },
  {
   "cell_type": "markdown",
   "metadata": {},
   "source": [
    "**Obs:** \n",
    "\n",
    "* Obsérvese que la mediana es resistente a datos extremos o atípicos pero para su cálculo se requiere ordenar los datos.\n",
    "\n",
    "* Si la media es igual a la mediana se dice que la distribución es **simétrica**. Si la media es mayor a la mediana, decimos que hay **sesgo a la derecha**, y si la media es menor a la mediana, entonces decimos que hay **sesgo a la izquierda**."
   ]
  },
  {
   "cell_type": "markdown",
   "metadata": {},
   "source": [
    "**Nota:** la mediana es resistente a los datos extremos, sin embargo no utiliza todos los datos (piénsese en que se debe calcular un promedio para el caso impar). En una primer exploración de los datos se recomienda utilizar la mediana. Tradicionalmente la media es más ocupada que la mediana y la mediana más que las medias recortadas; además, la media se utiliza típicamente en la inferencia estadística por lo que si se va a utilizar se debe verificar la presencia de *outliers* en los datos."
   ]
  },
  {
   "cell_type": "markdown",
   "metadata": {},
   "source": [
    "### Moda"
   ]
  },
  {
   "cell_type": "markdown",
   "metadata": {},
   "source": [
    "La media y la mediana no toman en cuenta la repetición de los datos, se define para este efecto, la moda. Ésta es simplemente el **valor o categoría** que ocurre con mayor frecuencia en un conjunto de datos. Es claro que puede haber más de una moda ya que puede haber más de un dato que se repita con la misma frecuencia. Para el caso de dos modas, decimos que la distribución de los datos es **bimodal**. Cuando existen más de dos modas, la distribución se denomina **multimodal**.\n"
   ]
  },
  {
   "cell_type": "markdown",
   "metadata": {},
   "source": [
    "**Ejemplo:**"
   ]
  },
  {
   "cell_type": "markdown",
   "metadata": {},
   "source": [
    "1) Para el conjunto de valores $\\{100,55,60,100,70,100,55,60\\}$ se tiene:"
   ]
  },
  {
   "cell_type": "code",
   "execution_count": 89,
   "metadata": {},
   "outputs": [
    {
     "data": {
      "text/plain": [
       "vec\n",
       " 55  60  70 100 \n",
       "  2   2   1   3 "
      ]
     },
     "metadata": {},
     "output_type": "display_data"
    }
   ],
   "source": [
    "vec <- c(100,55,60,100,70,100,55,60)\n",
    "table(vec)"
   ]
  },
  {
   "cell_type": "markdown",
   "metadata": {},
   "source": [
    "por lo que la moda es $100$."
   ]
  },
  {
   "cell_type": "markdown",
   "metadata": {},
   "source": [
    "2) Para el conjunto de valores $\\{100,55,60,100,70,55\\}$ se tiene: "
   ]
  },
  {
   "cell_type": "code",
   "execution_count": 90,
   "metadata": {},
   "outputs": [
    {
     "data": {
      "text/plain": [
       "vec\n",
       " 55  60  70 100 \n",
       "  2   1   1   2 "
      ]
     },
     "metadata": {},
     "output_type": "display_data"
    }
   ],
   "source": [
    "vec <- c(100,55,60,100,70,55)\n",
    "table(vec)"
   ]
  },
  {
   "cell_type": "markdown",
   "metadata": {},
   "source": [
    "es bimodal con modas de 55 y 100."
   ]
  },
  {
   "cell_type": "markdown",
   "metadata": {},
   "source": [
    "3)Para el conjunto {coche, canicas, trompo, pelota, coche, pelota, yoyo, pelota} se tiene:"
   ]
  },
  {
   "cell_type": "code",
   "execution_count": 91,
   "metadata": {},
   "outputs": [
    {
     "data": {
      "text/plain": [
       "vec\n",
       "canicas   coche  pelota  trompo    yoyo \n",
       "      1       2       3       1       1 "
      ]
     },
     "metadata": {},
     "output_type": "display_data"
    }
   ],
   "source": [
    "vec<-c('coche', 'canicas', 'trompo', 'pelota', 'coche',\n",
    "       'pelota', 'yoyo', 'pelota')\n",
    "table(vec)"
   ]
  },
  {
   "cell_type": "markdown",
   "metadata": {},
   "source": [
    "la moda es pelota."
   ]
  },
  {
   "cell_type": "markdown",
   "metadata": {},
   "source": [
    "**Obs:** \n",
    "\n",
    "* Visualmente una moda se puede localizar en un histograma o en un `barplot` pues es un **máximo local** del histograma o la(s) barra(s) más grande en un `barplot`.\n",
    "\n",
    "* Si la distribución de datos es unimodal y aproximadamente simétrica, la moda se interpreta fácilmente pues es una medida de tendencia central."
   ]
  },
  {
   "cell_type": "markdown",
   "metadata": {},
   "source": [
    "## Medidas de dispersión"
   ]
  },
  {
   "cell_type": "markdown",
   "metadata": {},
   "source": [
    "### Varianza muestral y desviación estándar muestral"
   ]
  },
  {
   "cell_type": "markdown",
   "metadata": {},
   "source": [
    "La varianza muestral denotada como $S^2$ para variables $x_1, x_2, \\dots, x_n$ se calcula con la fórmula: $$ S^2 = \\frac{1}{n-1}\\displaystyle \\sum_{i=1}^n(x_i - \\bar{x})^2$$"
   ]
  },
  {
   "cell_type": "markdown",
   "metadata": {},
   "source": [
    "La desviación estándar muestral es: $S = \\sqrt{S^2}$ y se utiliza para reportar la dispersión en las mismas unidades que los datos."
   ]
  },
  {
   "cell_type": "markdown",
   "metadata": {},
   "source": [
    "1) para el conjunto de valores $\\{8,7,10,8,9,7\\}$ se tiene:"
   ]
  },
  {
   "cell_type": "code",
   "execution_count": 92,
   "metadata": {},
   "outputs": [
    {
     "data": {
      "text/html": [
       "1.37"
      ],
      "text/latex": [
       "1.37"
      ],
      "text/markdown": [
       "1.37"
      ],
      "text/plain": [
       "[1] 1.4"
      ]
     },
     "metadata": {},
     "output_type": "display_data"
    },
    {
     "data": {
      "text/html": [
       "1.17"
      ],
      "text/latex": [
       "1.17"
      ],
      "text/markdown": [
       "1.17"
      ],
      "text/plain": [
       "[1] 1.2"
      ]
     },
     "metadata": {},
     "output_type": "display_data"
    }
   ],
   "source": [
    "vec<-c(8,7,10,8,9,7)\n",
    "varianza<-var(vec)\n",
    "desv_est<-sd(vec)\n",
    "round(varianza,2)\n",
    "round(desv_est,2)"
   ]
  },
  {
   "cell_type": "markdown",
   "metadata": {},
   "source": [
    "2) para el conjunto de valores $\\{8,7,10,8,9,700\\}$ se tiene:"
   ]
  },
  {
   "cell_type": "code",
   "execution_count": 94,
   "metadata": {},
   "outputs": [
    {
     "data": {
      "text/html": [
       "79719.47"
      ],
      "text/latex": [
       "79719.47"
      ],
      "text/markdown": [
       "79719.47"
      ],
      "text/plain": [
       "[1] 79719"
      ]
     },
     "metadata": {},
     "output_type": "display_data"
    },
    {
     "data": {
      "text/html": [
       "282.35"
      ],
      "text/latex": [
       "282.35"
      ],
      "text/markdown": [
       "282.35"
      ],
      "text/plain": [
       "[1] 282"
      ]
     },
     "metadata": {},
     "output_type": "display_data"
    }
   ],
   "source": [
    "vec<-c(8,7,10,8,9,700)\n",
    "varianza<-var(vec)\n",
    "desv_est<-sd(vec)\n",
    "round(varianza,2)\n",
    "round(desv_est,2)"
   ]
  },
  {
   "cell_type": "markdown",
   "metadata": {},
   "source": [
    "**Obs:**\n",
    "\n",
    "* Es sensible a los datos extremos o atípicos.\n",
    "\n",
    "* Si se calcula la varianza muestral de datos de una variable aleatoria $X$ entonces $S^2$ es un estimador de la varianza poblacional de $X$: $\\sigma_{X}$.\n",
    "\n",
    "* Una interpretación para la desviación estándar se da utilizando las siguientes reglas:\n",
    "\n",
    "a) Regla de Chebychev: la proporción de observaciones dentro de $k$ desviaciones estándar de la media es al menos $1-\\frac{1}{k^2}$, esto es, al menos $75\\%, 89\\%$ y $94\\%$ de los datos están dentro de $2,3$ y $4$ desviaciones estándar de la media, respectivamente.\n",
    "\n",
    "**Nota:** esta regla de Chebychev aplica para cualquier distribución, cualquier lista de números no importando de dónde provienen o de qué histograma, sin embargo hay casos en los que no nos dice mucho tal regla. Por ejemplo, si $k$ es cercano a $1$ entonces $1-\\frac{1}{k^2}$ es cercano a $0$ y tendríamos que al menos $0\\%$ de observaciones aproximadamente están dentro de una desviación estándar de la media (lo cual no dice mucho...).\n",
    "\n",
    "b) Regla empírica: si los datos siguen una curva de campana, entonces aproximadamente $68\\%, 95\\%$ y $99.7\\%$ de los datos se encuentran dentro de $1, 2$ y $3$ desviaciones estándar de la media, respectivamente.\n"
   ]
  },
  {
   "cell_type": "markdown",
   "metadata": {},
   "source": [
    "### Rango intercuartílico o amplitud"
   ]
  },
  {
   "cell_type": "markdown",
   "metadata": {},
   "source": [
    "Los cuartiles son resistentes a datos extremos o atípicos y una medida de dispersión asociada con ellos es el rango intercuartílico definido como: $IQR = q_{0.75} - q_{0.25}$ (el cual aparece en una `boxplot`)."
   ]
  },
  {
   "cell_type": "markdown",
   "metadata": {},
   "source": [
    "**Obs:** es resistente a outliers y no normalidad pero requiere se haga un ordenamiento de los datos y sólo involucra el $50\\%$ de los mismos."
   ]
  },
  {
   "cell_type": "markdown",
   "metadata": {},
   "source": [
    "1) para el conjunto de valores $\\{8,7,10,8,9,7\\}$ se tiene:"
   ]
  },
  {
   "cell_type": "code",
   "execution_count": 95,
   "metadata": {},
   "outputs": [
    {
     "data": {
      "text/html": [
       "1.5"
      ],
      "text/latex": [
       "1.5"
      ],
      "text/markdown": [
       "1.5"
      ],
      "text/plain": [
       "[1] 1.5"
      ]
     },
     "metadata": {},
     "output_type": "display_data"
    }
   ],
   "source": [
    "vec<-c(8,7,10,8,9,7)\n",
    "rango_iq<-IQR(vec)\n",
    "round(rango_iq,2)\n"
   ]
  },
  {
   "cell_type": "markdown",
   "metadata": {},
   "source": [
    "2) para el conjunto de valores $\\{8,7,10,8,9,700\\}$ se tiene:"
   ]
  },
  {
   "cell_type": "code",
   "execution_count": 96,
   "metadata": {},
   "outputs": [
    {
     "data": {
      "text/html": [
       "1.75"
      ],
      "text/latex": [
       "1.75"
      ],
      "text/markdown": [
       "1.75"
      ],
      "text/plain": [
       "[1] 1.8"
      ]
     },
     "metadata": {},
     "output_type": "display_data"
    }
   ],
   "source": [
    "vec<-c(8,7,10,8,9,700)\n",
    "rango_iq<-IQR(vec)\n",
    "round(rango_iq,2)"
   ]
  },
  {
   "cell_type": "markdown",
   "metadata": {},
   "source": [
    "**Obs:** \n",
    "\n",
    "* Si el conjunto de datos es  aproximadamente normal se sugieren usar la media y la desviación estándar. Si se tiene un conjunto de datos con una forma inusual, sesgada o con valores extremos o atípicos se sugiere la mediana y el $IQR$.\n",
    "\n",
    "* El $IQR$ y la desviación estándar, $S$, no están midiendo la misma cantidad en promedio pues se puede verificar que si la distribución de los datos es similar a una campana entonces en promedio $S$ es aproximadamente $\\sigma$ pero el $IQR$ es más grande que $S$."
   ]
  },
  {
   "cell_type": "markdown",
   "metadata": {},
   "source": [
    "## Correlación"
   ]
  },
  {
   "cell_type": "markdown",
   "metadata": {},
   "source": [
    "En presencia de datos en los que se han medido dos variables, el coeficiente de correlación de Pearson muestral mide la asociación lineal entre tales variables y se define como: $$r_{x,y}=\\frac{\\displaystyle \\sum_{i=1}^n(x_i-\\bar{x})(y_i-\\bar{y})}{\\sqrt{\\displaystyle \\sum_{i=1}^n(x_i-\\bar{x})(y_i-\\bar{y})}}.$$"
   ]
  },
  {
   "cell_type": "markdown",
   "metadata": {},
   "source": [
    "**Obs:**\n",
    "\n",
    "* $-1 < r_{x,y} < 1$. Valores cercanos a $-1$ o a $1$ indican relación lineal fuerte, $0$ indica no correlación entre $x$ y $y$.\n",
    "\n",
    "* Es independiente de la escala en la que están medidas las variables, esto es, se obtiene el mismo valor de correlación si se realizan transformaciones lineales a los datos: $r_{x,y}=r_{ax+b,cy+d}$ con $a,c$ constantes positivas y $b,d$ constantes."
   ]
  },
  {
   "cell_type": "markdown",
   "metadata": {},
   "source": [
    "Por ejemplo:"
   ]
  },
  {
   "cell_type": "code",
   "execution_count": 97,
   "metadata": {},
   "outputs": [
    {
     "data": {
      "text/html": [
       "0.775421876511879"
      ],
      "text/latex": [
       "0.775421876511879"
      ],
      "text/markdown": [
       "0.775421876511879"
      ],
      "text/plain": [
       "[1] 0.78"
      ]
     },
     "metadata": {},
     "output_type": "display_data"
    }
   ],
   "source": [
    "x<-c(1,3,4,-1,2)\n",
    "y<-c(0,-1,3,-7,4)\n",
    "cor(x,y)"
   ]
  },
  {
   "cell_type": "code",
   "execution_count": 98,
   "metadata": {},
   "outputs": [
    {
     "data": {
      "text/html": [
       "0.775421876511879"
      ],
      "text/latex": [
       "0.775421876511879"
      ],
      "text/markdown": [
       "0.775421876511879"
      ],
      "text/plain": [
       "[1] 0.78"
      ]
     },
     "metadata": {},
     "output_type": "display_data"
    }
   ],
   "source": [
    "a=3;c=2; b=-1;d=5\n",
    "cor(a*x+b,c*y+d)"
   ]
  },
  {
   "cell_type": "markdown",
   "metadata": {},
   "source": [
    "## Cuantiles"
   ]
  },
  {
   "cell_type": "markdown",
   "metadata": {},
   "source": [
    "**Nota:** Dados un conjunto finito de datos representados como $x_1, x_2, \\dots, x_n$ si se ordenan en una secuencia creciente de la forma: $$x_{(1)} \\leq x_{(2)} \\leq \\dots, x_{(n)}$$ se obtienen las llamadas **estadísticas de orden:**. El valor $x_{(k)}$ cumple que aproximadamente $100\\frac{k}{n}\\%$ de valores se encuentran por debajo de $x_{(k)}$. Las estadísticas de orden dan información sobre la forma de distribución de los datos pues dan una idea de alrededor de cuáles valores los datos se encuentran concentrados y dónde son escasos."
   ]
  },
  {
   "cell_type": "markdown",
   "metadata": {},
   "source": [
    "Los cuantiles están relacionados con las estadísticas de orden sin embargo, no hay una definición universal de los mismos, por ejemplo:\n",
    "\n",
    "* Considerándose que los datos son ordenados de menor a mayor (estadísticas de orden), un cuantil de orden $p$, denotado como $q_p$ marca un corte en los datos de modo que una proporción $p$ de valores de los datos son menores o iguales a $q_p$. Por ejemplo, para el cuantil de orden $p=0.36$ se tiene un $36\\%$ aproximadamente de cantidad de valores debajo o iguales al valor $q_{.36}$. Otro ejemplo, si los datos son $\\{3,4,4,5\\}$ entonces el $3$ es el cuantil $\\frac{1}{4}$ ($q_{.25}=3$), el $4$ es el cuantil $\\frac{2}{4}$ ($q_{.5}=4$), también $4$ es el cuantil $\\frac{3}{4}$ ($q_{.5}=4$) y el $5$ es el cuantil $1$ ($q_{1}=5$). El problema con esta definición es que hay distribuciones de datos que no tienen cuantil $0$ ni cuantil $1$ (para un cuantil $0$ piénsese en $n$ grande, entonces $\\frac{1}{n} \\rightarrow 0$ y análogamente para el cuantil $1$ sería $1-\\frac{1}{n}$ que tiende a $1$), por ejemplo para la distribución normal se tiene: \n"
   ]
  },
  {
   "cell_type": "code",
   "execution_count": 99,
   "metadata": {},
   "outputs": [
    {
     "data": {
      "image/png": "[encoded data removed]",
      "text/plain": [
       "plot without title"
      ]
     },
     "metadata": {},
     "output_type": "display_data"
    }
   ],
   "source": [
    "curve(qnorm, xlim=c(0,1), n = 50, xlab='proporcion')"
   ]
  },
  {
   "cell_type": "markdown",
   "metadata": {},
   "source": [
    "* Otra definición teórica es: $q_p$ es el cuantil de orden $p$ para la variable aleatoria $X$ si: $$P(X \\leq q_p) = p$$ donde: $p$ es la proporción."
   ]
  },
  {
   "cell_type": "markdown",
   "metadata": {},
   "source": [
    "Los cuantiles más comunes son el cuantil $.25$ (también llamado primer cuartil), el cuantil $.5$ (o mediana) y el cuantil $.75$ (también llamado tercer cuartil)."
   ]
  },
  {
   "cell_type": "markdown",
   "metadata": {},
   "source": [
    "En la práctica, hay **$9$ diferentes tipos de fórmulas** en la función `quantile` de *R* para su cálculo y se pueden ver los detalles con `?quantile`. Por ejemplo:"
   ]
  },
  {
   "cell_type": "markdown",
   "metadata": {},
   "source": [
    "Para los datos: $\\{3, 4,4,5\\}$ se tiene el primer, segundo y tercer cuartil:"
   ]
  },
  {
   "cell_type": "code",
   "execution_count": 100,
   "metadata": {},
   "outputs": [
    {
     "name": "stdout",
     "output_type": "stream",
     "text": [
      "25% 50% 75% \n",
      "3.8 4.0 4.2 \n"
     ]
    }
   ],
   "source": [
    "vec<-c(3,4,4,5)\n",
    "cuantiles <- quantile(vec,probs = c(.25,.5,.75))\n",
    "print(cuantiles)"
   ]
  },
  {
   "cell_type": "markdown",
   "metadata": {},
   "source": [
    "A continuación se grafican los cuantiles para distribuciones conocidas:"
   ]
  },
  {
   "cell_type": "code",
   "execution_count": 101,
   "metadata": {},
   "outputs": [],
   "source": [
    "options(repr.plot.width=5, repr.plot.height=4)#esta línea sólo se ejecuta para jupyterlab con R"
   ]
  },
  {
   "cell_type": "markdown",
   "metadata": {},
   "source": [
    "### Normal"
   ]
  },
  {
   "cell_type": "code",
   "execution_count": 102,
   "metadata": {},
   "outputs": [],
   "source": [
    "set.seed(2000)\n",
    "n <- 500\n",
    "vec<-rnorm(n)\n",
    "vec_eval<-dnorm(vec)\n",
    "proporcion<-seq(0,1,1/n)\n",
    "cuantiles<-quantile(vec, probs=proporcion)"
   ]
  },
  {
   "cell_type": "code",
   "execution_count": 103,
   "metadata": {},
   "outputs": [
    {
     "data": {
      "image/png": "[encoded data removed]",
      "text/plain": [
       "Plot with title \"Distribucion de datos\""
      ]
     },
     "metadata": {},
     "output_type": "display_data"
    }
   ],
   "source": [
    "par(mfrow=c(1,2)) #subplots\n",
    "par(cex=0.5) #control size of labels\n",
    "plot(proporcion,cuantiles, cex = .1)\n",
    "plot(vec,vec_eval, cex=.1, xlab='rnorm', ylab='', main='Distribucion de datos')"
   ]
  },
  {
   "cell_type": "markdown",
   "metadata": {},
   "source": [
    "### Uniforme"
   ]
  },
  {
   "cell_type": "code",
   "execution_count": 104,
   "metadata": {},
   "outputs": [],
   "source": [
    "set.seed(2000)\n",
    "n <- 500\n",
    "vec<-runif(n)\n",
    "vec_eval<-dunif(vec)\n",
    "proporcion<-seq(0,1,1/n)\n",
    "cuantiles<-quantile(vec, probs=proporcion)"
   ]
  },
  {
   "cell_type": "code",
   "execution_count": 105,
   "metadata": {},
   "outputs": [
    {
     "data": {
      "image/png": "[encoded data removed]",
      "text/plain": [
       "Plot with title \"Distribucion de datos\""
      ]
     },
     "metadata": {},
     "output_type": "display_data"
    }
   ],
   "source": [
    "par(mfrow=c(1,2)) #subplots\n",
    "par(cex=0.5) #control size of labels\n",
    "plot(proporcion,cuantiles, cex = .1)\n",
    "plot(vec,vec_eval, cex=.1, xlab='runif', ylab='', main='Distribucion de datos')"
   ]
  },
  {
   "cell_type": "markdown",
   "metadata": {},
   "source": [
    "### Beta"
   ]
  },
  {
   "cell_type": "code",
   "execution_count": 106,
   "metadata": {},
   "outputs": [],
   "source": [
    "set.seed(2000)\n",
    "n <- 500\n",
    "vec<-rbeta(n, shape1=.5,shape2=.5)\n",
    "vec_eval<-dbeta(vec,shape1=.5,shape2=.5)\n",
    "proporcion<-seq(0,1,1/n)\n",
    "cuantiles<-quantile(vec, probs=proporcion)"
   ]
  },
  {
   "cell_type": "code",
   "execution_count": 107,
   "metadata": {},
   "outputs": [
    {
     "data": {
      "image/png": "[encoded data removed]",
      "text/plain": [
       "Plot with title \"Distribucion de datos\""
      ]
     },
     "metadata": {},
     "output_type": "display_data"
    }
   ],
   "source": [
    "par(mfrow=c(1,2)) #subplots\n",
    "par(cex=0.5) #control size of labels\n",
    "plot(proporcion,cuantiles, cex = .1)\n",
    "plot(vec,vec_eval, cex=.1, xlab='rbeta', ylab='', main='Distribucion de datos')"
   ]
  },
  {
   "cell_type": "markdown",
   "metadata": {},
   "source": [
    "### Exponencial"
   ]
  },
  {
   "cell_type": "code",
   "execution_count": 108,
   "metadata": {},
   "outputs": [],
   "source": [
    "set.seed(2000)\n",
    "n <- 500\n",
    "vec<-rexp(n)\n",
    "vec_eval = dexp(vec)\n",
    "proporcion<-seq(0,1,1/n)\n",
    "cuantiles<-quantile(vec, probs=proporcion)"
   ]
  },
  {
   "cell_type": "code",
   "execution_count": 109,
   "metadata": {},
   "outputs": [
    {
     "data": {
      "image/png": "[encoded data removed]",
      "text/plain": [
       "Plot with title \"Distribucion de datos\""
      ]
     },
     "metadata": {},
     "output_type": "display_data"
    }
   ],
   "source": [
    "par(mfrow=c(1,2)) #subplots\n",
    "par(cex=0.5) #control size of labels\n",
    "plot(proporcion,cuantiles, cex = .1)\n",
    "plot(vec,vec_eval, cex=.1, xlab='rexp', ylab='', main='Distribucion de datos')"
   ]
  },
  {
   "cell_type": "markdown",
   "metadata": {},
   "source": [
    "### Ejemplo de distribución con dos modas"
   ]
  },
  {
   "cell_type": "code",
   "execution_count": 124,
   "metadata": {},
   "outputs": [],
   "source": [
    "proporcion<-seq(0,1,1/n)\n",
    "cuantiles<-quantile(faithful$eruptions, probs=proporcion)"
   ]
  },
  {
   "cell_type": "code",
   "execution_count": 126,
   "metadata": {},
   "outputs": [
    {
     "data": {
      "image/png": "[encoded data removed]",
      "text/plain": [
       "Plot with title \"\""
      ]
     },
     "metadata": {},
     "output_type": "display_data"
    }
   ],
   "source": [
    "par(mfrow=c(1,2)) #subplots\n",
    "par(cex=0.5) #control size of labels\n",
    "plot(proporcion,cuantiles, cex = .1)\n",
    "hist(faithful$eruptions,main='', col = 'gray50', prob=T)"
   ]
  },
  {
   "cell_type": "markdown",
   "metadata": {},
   "source": [
    "A manera de resúmen de las gráficas de cuantiles anteriores:\n",
    "\n",
    "* Datos concentrados en una región tienen pendientes bajas en la gráfica de cuantiles y por el contrario, datos dispersos tienen pendientes altas en la gráfica de cuantiles.\n",
    "\n",
    "* La distribución uniforme genera gráficos de cuantiles en forma de línea recta de $45^{o}$.\n",
    "\n",
    "* Las distribuciones sesgadas a la derecha tienen gráficos de cuantiles convexos y por el contrario distribuciones sesgadas a la izquierda tienen gráficos de cuantiles cóncavos. Y en general para un histograma: para valores crecientes en los que el histograma decrece se tiene convexidad y para valores crecientes en los que el histograma crece se tiene concavidad.\n",
    "\n",
    "* Las distribuciones con más de una moda en las que se definen grupos tienen una separación en los gráficos de cuantiles por una pendiente alta entre cada grupo y presencia de concavidad y convexidad."
   ]
  },
  {
   "cell_type": "markdown",
   "metadata": {},
   "source": [
    "**Comentario:** si se tienen datos de dos variables: $x_1, x_2, \\dots, x_n$ y $y_1, y_2, \\dots, y_n$ se puede utilizar el comando `qqplot` para comparar los cuantiles de ambos conjuntos y lo que se estará haciendo es calcular las estadísticas de orden de ambos conjuntos de datos: $x_{(1)}, x_{(2)}, \\dots,x_{(n)}$ y $y_{(1)}, y_{(2)}, \\dots, y_{(n)}$ y se graficarán $(x_{(1)}, y_{(1)}), (x_{(2)}, y_{(2)}), \\dots, (x_{(n)}, y_{(n)})$. Si siguen la forma de una línea recta entonces $x_{(k)} = y_{(k)}, \\forall k=1,2,\\dots, n$ y son parte de la misma población de datos (aunque datos reales nunca siguen una línea recta perfecta)."
   ]
  },
  {
   "cell_type": "markdown",
   "metadata": {},
   "source": [
    "# Para más referencias sobre visualización:\n",
    "\n",
    "* E. Tufte, Beautiful Evidence, 2006.\n",
    "\n",
    "* W. Cleveland, Visualizing Data, 1993."
   ]
  },
  {
   "cell_type": "markdown",
   "metadata": {},
   "source": [
    "# Ejercicios"
   ]
  },
  {
   "cell_type": "markdown",
   "metadata": {},
   "source": [
    "1) Considérese el experimento de lanzar $20$ veces una moneda y obtener la secuencia: $H,T,H,H,T,H,H,T,H,H,T,T,H,T,T,T,H,H,H,T$.\n",
    "\n",
    "a) Tabular los resultados del experimento anterior encontrando las proporciones de $H$ y $T$ en los $20$ lanzamientos.\n",
    "\n",
    "b) Graficar las proporciones con `barplot` y `plot`."
   ]
  },
  {
   "cell_type": "markdown",
   "metadata": {},
   "source": [
    "2) Para el dataset analizado anteriormente y que se creó: `log_mammals` realizar:\n",
    "\n",
    "a)Para datos cuantitativos es común realizar diagramas de tallos y hojas. Investigar la interpretación de estos diagramas y usar la función `stem` del paquete `base` de *R* para realizar tales diagramas a las variables `log_body` y `log_brain` e interpretarlas.\n",
    "\n",
    "b) `scatterplot` coloreando diferente a cada grupo que se creó: `mamífero pequeño` y `mamífero grande` con la variable `size`.\n",
    "\n",
    "c) Instalar el paquete `dplyr` para colocar los datos en un formato `long` y se pueda graficar con el paquete de `ggplot2` con la función `gather` el dataframe `log_mammals`. Después de instalar tal paquete, realizar mismo enunciado que a) pero con `geom_points` y paquete `ggplot2`.\n",
    "\n",
    "d) Calcular estadísticas como el promedio y mediana por grupos de `mamífero pequeño` y `mamífero grande` con `dplyr` y funciones como `group_by`, `sumarise` y el operador `%>%` (pipe). Ver como ayuda: [Data Wrangling with dplyr and tidyr](https://www.rstudio.com/wp-content/uploads/2015/02/data-wrangling-cheatsheet.pdf) o [Data Transformation with dplyr](https://ugoproto.github.io/ugo_r_doc/dplyr.pdf) o bien como ejemplo de uso: https://genomicsclass.github.io/book/pages/dplyr_tutorial.html u otro tutorial en la red de `dplyr`."
   ]
  },
  {
   "cell_type": "code",
   "execution_count": 112,
   "metadata": {},
   "outputs": [
    {
     "data": {
      "text/html": [
       "<table>\n",
       "<caption>A data.frame: 6 x 5</caption>\n",
       "<thead>\n",
       "\t<tr><th></th><th scope=col>log_body</th><th scope=col>log_brain</th><th scope=col>size</th><th scope=col>intervalo_body</th><th scope=col>intervalo_brain</th></tr>\n",
       "\t<tr><th></th><th scope=col>&lt;dbl&gt;</th><th scope=col>&lt;dbl&gt;</th><th scope=col>&lt;chr&gt;</th><th scope=col>&lt;fct&gt;</th><th scope=col>&lt;fct&gt;</th></tr>\n",
       "</thead>\n",
       "<tbody>\n",
       "\t<tr><th scope=row>Arctic fox</th><td> 1.22</td><td>3.8</td><td>grande  </td><td>(0.202,1.7] </td><td>(3.03,4.53]</td></tr>\n",
       "\t<tr><th scope=row>Owl monkey</th><td>-0.73</td><td>2.7</td><td>pequenio</td><td>(-1.3,0.202]</td><td>(1.53,3.03]</td></tr>\n",
       "\t<tr><th scope=row>Mountain beaver</th><td> 0.30</td><td>2.1</td><td>pequenio</td><td>(0.202,1.7] </td><td>(1.53,3.03]</td></tr>\n",
       "\t<tr><th scope=row>Cow</th><td> 6.14</td><td>6.0</td><td>grande  </td><td>(4.7,6.2]   </td><td>(6.03,7.53]</td></tr>\n",
       "\t<tr><th scope=row>Grey wolf</th><td> 3.59</td><td>4.8</td><td>grande  </td><td>(3.2,4.7]   </td><td>(4.53,6.03]</td></tr>\n",
       "\t<tr><th scope=row>Goat</th><td> 3.32</td><td>4.7</td><td>grande  </td><td>(3.2,4.7]   </td><td>(4.53,6.03]</td></tr>\n",
       "</tbody>\n",
       "</table>\n"
      ],
      "text/latex": [
       "A data.frame: 6 x 5\n",
       "\\begin{tabular}{r|lllll}\n",
       "  & log\\_body & log\\_brain & size & intervalo\\_body & intervalo\\_brain\\\\\n",
       "  & <dbl> & <dbl> & <chr> & <fct> & <fct>\\\\\n",
       "\\hline\n",
       "\tArctic fox &  1.22 & 3.8 & grande   & (0.202,1.7{]}  & (3.03,4.53{]}\\\\\n",
       "\tOwl monkey & -0.73 & 2.7 & pequenio & (-1.3,0.202{]} & (1.53,3.03{]}\\\\\n",
       "\tMountain beaver &  0.30 & 2.1 & pequenio & (0.202,1.7{]}  & (1.53,3.03{]}\\\\\n",
       "\tCow &  6.14 & 6.0 & grande   & (4.7,6.2{]}    & (6.03,7.53{]}\\\\\n",
       "\tGrey wolf &  3.59 & 4.8 & grande   & (3.2,4.7{]}    & (4.53,6.03{]}\\\\\n",
       "\tGoat &  3.32 & 4.7 & grande   & (3.2,4.7{]}    & (4.53,6.03{]}\\\\\n",
       "\\end{tabular}\n"
      ],
      "text/markdown": [
       "\n",
       "A data.frame: 6 x 5\n",
       "\n",
       "| <!--/--> | log_body &lt;dbl&gt; | log_brain &lt;dbl&gt; | size &lt;chr&gt; | intervalo_body &lt;fct&gt; | intervalo_brain &lt;fct&gt; |\n",
       "|---|---|---|---|---|---|\n",
       "| Arctic fox |  1.22 | 3.8 | grande   | (0.202,1.7]  | (3.03,4.53] |\n",
       "| Owl monkey | -0.73 | 2.7 | pequenio | (-1.3,0.202] | (1.53,3.03] |\n",
       "| Mountain beaver |  0.30 | 2.1 | pequenio | (0.202,1.7]  | (1.53,3.03] |\n",
       "| Cow |  6.14 | 6.0 | grande   | (4.7,6.2]    | (6.03,7.53] |\n",
       "| Grey wolf |  3.59 | 4.8 | grande   | (3.2,4.7]    | (4.53,6.03] |\n",
       "| Goat |  3.32 | 4.7 | grande   | (3.2,4.7]    | (4.53,6.03] |\n",
       "\n"
      ],
      "text/plain": [
       "                log_body log_brain size     intervalo_body intervalo_brain\n",
       "Arctic fox       1.22    3.8       grande   (0.202,1.7]    (3.03,4.53]    \n",
       "Owl monkey      -0.73    2.7       pequenio (-1.3,0.202]   (1.53,3.03]    \n",
       "Mountain beaver  0.30    2.1       pequenio (0.202,1.7]    (1.53,3.03]    \n",
       "Cow              6.14    6.0       grande   (4.7,6.2]      (6.03,7.53]    \n",
       "Grey wolf        3.59    4.8       grande   (3.2,4.7]      (4.53,6.03]    \n",
       "Goat             3.32    4.7       grande   (3.2,4.7]      (4.53,6.03]    "
      ]
     },
     "metadata": {},
     "output_type": "display_data"
    }
   ],
   "source": [
    "head(log_mammals)"
   ]
  },
  {
   "cell_type": "markdown",
   "metadata": {},
   "source": [
    "3) Considérese el dataset `randu` (ejecutar `?randu` para una descripción):\n",
    "\n",
    "a) Usar la función `mean` para calcular la media muestral en cada uno de los números que forman la tripleta: $x, y, z$. Asimismo usar la función `var` para calcular una matriz de varianzas y covarianzas muestral. \n",
    "\n",
    "b) Queremos ver la distribución del promedio por renglón de cada observación del dataset `randu`, para esto utilizar la función de `apply` para calcular tal promedio, alternativamente usar `rowMeans`.\n",
    "\n",
    "c) Utilizar la función `hist` del paquete base para calcular un histograma con los `breaks` definido por tal función. \n",
    "\n",
    "d) Calcular sus propios `breaks` y volver a graficar el histograma con `hist` y con `geom_histogram` del paquete `ggplot2`."
   ]
  },
  {
   "cell_type": "markdown",
   "metadata": {},
   "source": [
    "4) Realizar gráficas con el comando `qqplot` para comparar $2$ distribuciones de datos, por ejemplo:"
   ]
  },
  {
   "cell_type": "code",
   "execution_count": 127,
   "metadata": {},
   "outputs": [],
   "source": [
    "options(repr.plot.width=4, repr.plot.height=4)#esta línea sólo se ejecuta para jupyterlab con R"
   ]
  },
  {
   "cell_type": "code",
   "execution_count": 128,
   "metadata": {},
   "outputs": [
    {
     "data": {
      "image/png": "[encoded data removed]",
      "text/plain": [
       "plot without title"
      ]
     },
     "metadata": {},
     "output_type": "display_data"
    }
   ],
   "source": [
    "n<-500\n",
    "set.seed(2000)\n",
    "par(cex=0.5) #control size of labels\n",
    "datos<- qqplot(rnorm(n), rexp(n)-3, cex=.1, xlab='', ylab='')\n",
    "abline(0,1) #recta a 45 grados, sirve de apoyo para realizar comentarios"
   ]
  },
  {
   "cell_type": "markdown",
   "metadata": {},
   "source": [
    "Realizar conclusiones de sus gráficas `qqplot`. Por ejemplo, sin utilizar la información de cuáles distribuciones se han generado los datos, ni cuáles están en el eje vertical ni horizontal del gráfico anterior se puede establecer: \"en el gráfico anterior se observa que una de las distribuciones está sesgada respecto a la otra. Este tipo de gráfica es similar al de una distribución sesgada a la derecha por lo que o bien, la cola izquierda de la otra distribución está más cercana a la mediana o tiene colas ligeras\"."
   ]
  }
 ],
 "metadata": {
  "kernelspec": {
   "display_name": "R",
   "language": "R",
   "name": "ir"
  },
  "language_info": {
   "codemirror_mode": "r",
   "file_extension": ".r",
   "mimetype": "text/x-r-source",
   "name": "R",
   "pygments_lexer": "r",
   "version": "3.6.0"
  }
 },
 "nbformat": 4,
 "nbformat_minor": 2
}
