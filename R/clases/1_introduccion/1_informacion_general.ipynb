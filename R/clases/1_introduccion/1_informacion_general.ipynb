{
 "cells": [
  {
   "cell_type": "markdown",
   "metadata": {},
   "source": [
    "Lo siguiente está basado en [R: Un lenguaje para análisis de datos por E. B. Zamudio](http://allman.rhon.itam.mx/~ebarrios/docs/porqueR.pdf), el prefacio y capítulo 1 de M.D. Ugarte, A. F. Militino, A. T. Arnholt, Probability and Statistics with R y [R-intro](https://cran.r-project.org/doc/manuals/R-intro.html)"
   ]
  },
  {
   "cell_type": "markdown",
   "metadata": {},
   "source": [
    "# Información general"
   ]
  },
  {
   "cell_type": "markdown",
   "metadata": {},
   "source": [
    "## ¿Qué es?"
   ]
  },
  {
   "cell_type": "markdown",
   "metadata": {},
   "source": [
    "R es un lenguaje de programación basado en *S* el cual es un lenguaje y un ambiente de programación interactiva para el análisis de datos y graficación desarrollado por los *Bell laboratories* por Rick Becker, John Chambers y Allan Wilks. Dos dialectos del lenguaje S existen: *R* una implementación **open source** disponible en [r-project](http://www.r-project.org) y *S-PLUS* una implementación comercial. R es el resultado de esfuerzos de todo el mundo y fue escrito inicialmente por Robert Gentleman y Ross Ihaka del departamento de Estadística de la Universidad de Auckland en 1996."
   ]
  },
  {
   "cell_type": "markdown",
   "metadata": {},
   "source": [
    "R es un lenguaje y ambiente para cómputo estadístico y graficación. El término *ambiente* lo caracteriza como un sistema completamente planeado y coherente en el que técnicas estadísticas clásicas y modernas han sido implementadas. Algunas forman parte de *R* las llamadas *built-in* pero otras se proveen vía *packages*. Alrededor de *25* packages son incluídas con la instalación de R (*standard* & *recommended*) y muchas más se encuentran disponibles en [CRAN family of Internet sites: Contributed Packages](https://cran.r-project.org/web/packages/index.html)"
   ]
  },
  {
   "cell_type": "markdown",
   "metadata": {},
   "source": [
    "## ¿Qué provee?"
   ]
  },
  {
   "cell_type": "markdown",
   "metadata": {},
   "source": [
    "El ambiente de R contiene software que permite la manipulación de datos, cálculos y visualización de gráficos y tiene:\n",
    "\n",
    "* programas para almacenamiento y manejo de datos.\n",
    "* una gamma amplia de operadores para cálculos en arreglos, en particular matrices.\n",
    "* una gran colección de herramientas intermedias correctamente integradas para análisis de datos.\n",
    "* lenguaje de programación *S* para *loops*, funciones definidas por users y desarrollo para I/O.\n"
   ]
  },
  {
   "cell_type": "markdown",
   "metadata": {},
   "source": [
    "*R* es un vehículo para desarrollo de nuevos métodos de análisis de datos de forma interactiva y se extiende por medio de paquetes."
   ]
  },
  {
   "cell_type": "markdown",
   "metadata": {},
   "source": [
    "## ¿Diferencia entre S y R?"
   ]
  },
  {
   "cell_type": "markdown",
   "metadata": {},
   "source": [
    "(extraído de [R-intro: 1.3 R and statistics](https://cran.r-project.org/doc/manuals/R-intro.html)) \"There is an important difference in philosophy between S (and hence R) and the other main statistical systems. In S a statistical analysis is normally done as a series of steps, with intermediate results being stored in objects. Thus whereas SAS and SPSS will give copious output from a regression or discriminant analysis, R will give minimal output and store the results in a fit object for subsequent interrogation by further R functions.\""
   ]
  },
  {
   "cell_type": "markdown",
   "metadata": {},
   "source": [
    "## Características de S "
   ]
  },
  {
   "cell_type": "markdown",
   "metadata": {},
   "source": [
    "(extraído de [R: Un lenguaje para análisis de datos por E. B. Zamudio](http://allman.rhon.itam.mx/~ebarrios/docs/porqueR.pdf))"
   ]
  },
  {
   "cell_type": "markdown",
   "metadata": {},
   "source": [
    "* *S* es sobre datos: provee de herramientas generales y fáciles de usar para la organización, almacenamiento y recuperación de varios tipos de datos.\n",
    "\n",
    "* *S* es sobre análisis: es decir, cálculos necesarios para entender los datos. *S* provee de métodos numéricos y otras técnicas computacionales.\n",
    "\n",
    "* *S* es sobre programación: usted puede programar funciones en el mismo lenguaje *S* aprovechando su poder y simplicidad. Si es necesario el lenguaje ofrece  interfaces  sencillas  para  comunicación  con  el  sistema  operativo  o rutinas en C y Fortran.\n",
    "\n",
    "* Especialmente, *S* es sobre graficación: ver a los datos de maneras interactivas, informativas y flexibles. Las capacidades de *S* están diseñadas para motivar la creación de nuevas herramientas e intentar nuevas ideas.\n"
   ]
  },
  {
   "cell_type": "markdown",
   "metadata": {},
   "source": [
    "## Ejemplo:"
   ]
  },
  {
   "cell_type": "markdown",
   "metadata": {},
   "source": [
    "Calcular la probabilidad de obtener sol al lanzar una moneda vía simulación."
   ]
  },
  {
   "cell_type": "markdown",
   "metadata": {},
   "source": [
    "**Solución:** para este caso simulamos $1000$ lanzamientos con la función *sample* que se encuentra en el paquete **base** de R. Al final del ejemplo se muestra cómo acceder a su descripción y la misma."
   ]
  },
  {
   "cell_type": "markdown",
   "metadata": {},
   "source": [
    "Por ejemplo si queremos simular un resultado de lanzamiento lo ejecutamos como:"
   ]
  },
  {
   "cell_type": "code",
   "execution_count": 1,
   "metadata": {},
   "outputs": [
    {
     "data": {
      "text/html": [
       "'aguila'"
      ],
      "text/latex": [
       "'aguila'"
      ],
      "text/markdown": [
       "'aguila'"
      ],
      "text/plain": [
       "[1] \"aguila\""
      ]
     },
     "metadata": {},
     "output_type": "display_data"
    }
   ],
   "source": [
    "set.seed(2000) #set.seed para hacer los resultados reproducibles, el valor 2000 se eligió de forma arbitraria\n",
    "sample(c('aguila', 'sol'),1)"
   ]
  },
  {
   "cell_type": "markdown",
   "metadata": {},
   "source": [
    "Si queremos simular tres resultados de lanzamientos realizamos:"
   ]
  },
  {
   "cell_type": "code",
   "execution_count": 2,
   "metadata": {},
   "outputs": [
    {
     "data": {
      "text/html": [
       "<ol class=list-inline>\n",
       "\t<li>'aguila'</li>\n",
       "\t<li>'sol'</li>\n",
       "\t<li>'sol'</li>\n",
       "</ol>\n"
      ],
      "text/latex": [
       "\\begin{enumerate*}\n",
       "\\item 'aguila'\n",
       "\\item 'sol'\n",
       "\\item 'sol'\n",
       "\\end{enumerate*}\n"
      ],
      "text/markdown": [
       "1. 'aguila'\n",
       "2. 'sol'\n",
       "3. 'sol'\n",
       "\n",
       "\n"
      ],
      "text/plain": [
       "[1] \"aguila\" \"sol\"    \"sol\"   "
      ]
     },
     "metadata": {},
     "output_type": "display_data"
    }
   ],
   "source": [
    "set.seed(2000)\n",
    "sample(c('aguila', 'sol'),3, replace=T)"
   ]
  },
  {
   "cell_type": "markdown",
   "metadata": {},
   "source": [
    "Creamos una función con la palabra *function* que recibe el número de lanzamientos a realizar:"
   ]
  },
  {
   "cell_type": "code",
   "execution_count": 3,
   "metadata": {},
   "outputs": [],
   "source": [
    "lanza_moneda <- function(numero_de_lanzamientos){\n",
    "    set.seed(2000)\n",
    "    sample(c('aguila', 'sol'),numero_de_lanzamientos,replace=T)\n",
    "    }"
   ]
  },
  {
   "cell_type": "markdown",
   "metadata": {},
   "source": [
    "**Obs:** obsérvese que se ha utilizado el operador de asignación `<-`. También es posible utilizar `=` pero hay situaciones cuando el uso del `=` crea confusión por lo que se opta por `<-`."
   ]
  },
  {
   "cell_type": "markdown",
   "metadata": {},
   "source": [
    "Por ejemplo 4 lanzamientos se realizan con:"
   ]
  },
  {
   "cell_type": "code",
   "execution_count": 4,
   "metadata": {},
   "outputs": [
    {
     "data": {
      "text/html": [
       "<ol class=list-inline>\n",
       "\t<li>'aguila'</li>\n",
       "\t<li>'sol'</li>\n",
       "\t<li>'sol'</li>\n",
       "\t<li>'sol'</li>\n",
       "</ol>\n"
      ],
      "text/latex": [
       "\\begin{enumerate*}\n",
       "\\item 'aguila'\n",
       "\\item 'sol'\n",
       "\\item 'sol'\n",
       "\\item 'sol'\n",
       "\\end{enumerate*}\n"
      ],
      "text/markdown": [
       "1. 'aguila'\n",
       "2. 'sol'\n",
       "3. 'sol'\n",
       "4. 'sol'\n",
       "\n",
       "\n"
      ],
      "text/plain": [
       "[1] \"aguila\" \"sol\"    \"sol\"    \"sol\"   "
      ]
     },
     "metadata": {},
     "output_type": "display_data"
    }
   ],
   "source": [
    "lanza_moneda(4)"
   ]
  },
  {
   "cell_type": "markdown",
   "metadata": {},
   "source": [
    "Entonces nuestra simulación de lanzamientos se ejecuta como sigue:"
   ]
  },
  {
   "cell_type": "code",
   "execution_count": 5,
   "metadata": {},
   "outputs": [
    {
     "data": {
      "text/html": [
       "0.497"
      ],
      "text/latex": [
       "0.497"
      ],
      "text/markdown": [
       "0.497"
      ],
      "text/plain": [
       "[1] 0.497"
      ]
     },
     "metadata": {},
     "output_type": "display_data"
    }
   ],
   "source": [
    "num_lanzamientos <- 1000\n",
    "sum(lanza_moneda(num_lanzamientos)=='sol')/num_lanzamientos"
   ]
  },
  {
   "cell_type": "markdown",
   "metadata": {},
   "source": [
    "el cual es un valor cercano a la respuesta $0.5$."
   ]
  },
  {
   "cell_type": "markdown",
   "metadata": {},
   "source": [
    "### ¿Y si quisiéramos usar un paquete para este ejemplo? ..."
   ]
  },
  {
   "cell_type": "markdown",
   "metadata": {},
   "source": [
    "Un paquete es una colección de funciones de R, datos (*datasets*) y código compilado que tienen una organización uniforme."
   ]
  },
  {
   "cell_type": "markdown",
   "metadata": {},
   "source": [
    "Se pueden instalar con la línea `install.packages('package', dependencies=TRUE)` que utiliza por default el repositorio [The Comprehensive R Archive Network: CRAN](https://cran.r-project.org/) (pero hay otros repositorios como: [Bioconductor](https://www.bioconductor.org/), [Omegahat](http://www.omegahat.net/) o [R-Forge](http://r-forge.r-project.org/))."
   ]
  },
  {
   "cell_type": "markdown",
   "metadata": {},
   "source": [
    "El paquete `prob` es un framework para calcular probabilidades de experimentos sencillos (finitos) y generar las posibilidades de resultados. Ver: [Package prob](https://cran.r-project.org/web/packages/prob/prob.pdf)"
   ]
  },
  {
   "cell_type": "markdown",
   "metadata": {},
   "source": [
    "Una vez instalado el paquete se debe hacer disponibles todos los contenidos del paquete: \"load a package\", para esto la función `library` se utiliza:"
   ]
  },
  {
   "cell_type": "code",
   "execution_count": 6,
   "metadata": {},
   "outputs": [
    {
     "name": "stderr",
     "output_type": "stream",
     "text": [
      "Loading required package: combinat\n",
      "\n",
      "Attaching package: 'combinat'\n",
      "\n",
      "The following object is masked from 'package:utils':\n",
      "\n",
      "    combn\n",
      "\n",
      "Loading required package: fAsianOptions\n",
      "Loading required package: timeDate\n",
      "Loading required package: timeSeries\n",
      "Loading required package: fBasics\n",
      "Loading required package: fOptions\n",
      "\n",
      "Attaching package: 'prob'\n",
      "\n",
      "The following objects are masked from 'package:base':\n",
      "\n",
      "    intersect, setdiff, union\n",
      "\n"
     ]
    }
   ],
   "source": [
    "library(prob) #si se ejecuta la función library sin argumentos: `library()`\n",
    "              #se enlistan todos los paquetes instalados"
   ]
  },
  {
   "cell_type": "markdown",
   "metadata": {},
   "source": [
    "**Obs:** obsérvese que al ejecutar `library` el output indica que está ennmascarados algunos objetos como `union`. Esto indica que en `prob` existe un objeto con nombre `union` y también en `base` existe el mismo nombre de `union`. Para ejecutar una u otra función se puede: usar una sintaxis de la forma `base::union` para uso de la función `union` del paquete `base` o bien `prob:union` para uso de la función `union` del paquete `prob` aunque también muchas de las funciones se *comportan* de forma distinta dependiendo del tipo de argumentos que reciben. "
   ]
  },
  {
   "cell_type": "code",
   "execution_count": 7,
   "metadata": {},
   "outputs": [
    {
     "data": {
      "text/html": [
       "<ol class=list-inline>\n",
       "\t<li>'package:prob'</li>\n",
       "\t<li>'package:base'</li>\n",
       "</ol>\n"
      ],
      "text/latex": [
       "\\begin{enumerate*}\n",
       "\\item 'package:prob'\n",
       "\\item 'package:base'\n",
       "\\end{enumerate*}\n"
      ],
      "text/markdown": [
       "1. 'package:prob'\n",
       "2. 'package:base'\n",
       "\n",
       "\n"
      ],
      "text/plain": [
       "[1] \"package:prob\" \"package:base\""
      ]
     },
     "metadata": {},
     "output_type": "display_data"
    }
   ],
   "source": [
    "find('union') #usamos la función find para observar el enmascaramiento antes descrito"
   ]
  },
  {
   "cell_type": "markdown",
   "metadata": {},
   "source": [
    "Se utiliza la función `tosscoin` para resolver el problema y se puede acceder a los argumentos de la misma con:"
   ]
  },
  {
   "cell_type": "code",
   "execution_count": 8,
   "metadata": {},
   "outputs": [
    {
     "data": {
      "text/html": [
       "<pre class=language-r><code>function (times, makespace = FALSE) \n",
       "NULL</code></pre>"
      ],
      "text/latex": [
       "\\begin{minted}{r}\n",
       "function (times, makespace = FALSE) \n",
       "NULL\n",
       "\\end{minted}"
      ],
      "text/markdown": [
       "```r\n",
       "function (times, makespace = FALSE) \n",
       "NULL\n",
       "```"
      ],
      "text/plain": [
       "function (times, makespace = FALSE) \n",
       "NULL"
      ]
     },
     "metadata": {},
     "output_type": "display_data"
    }
   ],
   "source": [
    "args(tosscoin)"
   ]
  },
  {
   "cell_type": "markdown",
   "metadata": {},
   "source": [
    "#### 1 lanzamiento de una moneda, dos posibilidades"
   ]
  },
  {
   "cell_type": "code",
   "execution_count": 9,
   "metadata": {},
   "outputs": [
    {
     "data": {
      "text/html": [
       "<table>\n",
       "<caption>A data.frame: 2 x 1</caption>\n",
       "<thead>\n",
       "\t<tr><th scope=col>toss1</th></tr>\n",
       "\t<tr><th scope=col>&lt;fct&gt;</th></tr>\n",
       "</thead>\n",
       "<tbody>\n",
       "\t<tr><td>H</td></tr>\n",
       "\t<tr><td>T</td></tr>\n",
       "</tbody>\n",
       "</table>\n"
      ],
      "text/latex": [
       "A data.frame: 2 x 1\n",
       "\\begin{tabular}{r|l}\n",
       " toss1\\\\\n",
       " <fct>\\\\\n",
       "\\hline\n",
       "\t H\\\\\n",
       "\t T\\\\\n",
       "\\end{tabular}\n"
      ],
      "text/markdown": [
       "\n",
       "A data.frame: 2 x 1\n",
       "\n",
       "| toss1 &lt;fct&gt; |\n",
       "|---|\n",
       "| H |\n",
       "| T |\n",
       "\n"
      ],
      "text/plain": [
       "  toss1\n",
       "1 H    \n",
       "2 T    "
      ]
     },
     "metadata": {},
     "output_type": "display_data"
    }
   ],
   "source": [
    "tosscoin(1) "
   ]
  },
  {
   "cell_type": "markdown",
   "metadata": {},
   "source": [
    "#### 1 lanzamiento de una moneda, dos posibilidades y probabilidad de .5"
   ]
  },
  {
   "cell_type": "code",
   "execution_count": 10,
   "metadata": {},
   "outputs": [
    {
     "data": {
      "text/html": [
       "<table>\n",
       "<caption>A data.frame: 2 x 2</caption>\n",
       "<thead>\n",
       "\t<tr><th scope=col>toss1</th><th scope=col>probs</th></tr>\n",
       "\t<tr><th scope=col>&lt;fct&gt;</th><th scope=col>&lt;dbl&gt;</th></tr>\n",
       "</thead>\n",
       "<tbody>\n",
       "\t<tr><td>H</td><td>0.5</td></tr>\n",
       "\t<tr><td>T</td><td>0.5</td></tr>\n",
       "</tbody>\n",
       "</table>\n"
      ],
      "text/latex": [
       "A data.frame: 2 x 2\n",
       "\\begin{tabular}{r|ll}\n",
       " toss1 & probs\\\\\n",
       " <fct> & <dbl>\\\\\n",
       "\\hline\n",
       "\t H & 0.5\\\\\n",
       "\t T & 0.5\\\\\n",
       "\\end{tabular}\n"
      ],
      "text/markdown": [
       "\n",
       "A data.frame: 2 x 2\n",
       "\n",
       "| toss1 &lt;fct&gt; | probs &lt;dbl&gt; |\n",
       "|---|---|\n",
       "| H | 0.5 |\n",
       "| T | 0.5 |\n",
       "\n"
      ],
      "text/plain": [
       "  toss1 probs\n",
       "1 H     0.5  \n",
       "2 T     0.5  "
      ]
     },
     "metadata": {},
     "output_type": "display_data"
    }
   ],
   "source": [
    "tosscoin(1, makespace = T) "
   ]
  },
  {
   "cell_type": "markdown",
   "metadata": {},
   "source": [
    "#### Lanzamiento de tres monedas, 8 posibilidades y probabilidad de 1/8"
   ]
  },
  {
   "cell_type": "markdown",
   "metadata": {},
   "source": [
    "A manera de ejemplo de uso de esta función puede realizar diferentes cálculos de probabilidades"
   ]
  },
  {
   "cell_type": "code",
   "execution_count": 11,
   "metadata": {},
   "outputs": [
    {
     "data": {
      "text/html": [
       "<table>\n",
       "<caption>A data.frame: 8 x 4</caption>\n",
       "<thead>\n",
       "\t<tr><th scope=col>toss1</th><th scope=col>toss2</th><th scope=col>toss3</th><th scope=col>probs</th></tr>\n",
       "\t<tr><th scope=col>&lt;fct&gt;</th><th scope=col>&lt;fct&gt;</th><th scope=col>&lt;fct&gt;</th><th scope=col>&lt;dbl&gt;</th></tr>\n",
       "</thead>\n",
       "<tbody>\n",
       "\t<tr><td>H</td><td>H</td><td>H</td><td>0.125</td></tr>\n",
       "\t<tr><td>T</td><td>H</td><td>H</td><td>0.125</td></tr>\n",
       "\t<tr><td>H</td><td>T</td><td>H</td><td>0.125</td></tr>\n",
       "\t<tr><td>T</td><td>T</td><td>H</td><td>0.125</td></tr>\n",
       "\t<tr><td>H</td><td>H</td><td>T</td><td>0.125</td></tr>\n",
       "\t<tr><td>T</td><td>H</td><td>T</td><td>0.125</td></tr>\n",
       "\t<tr><td>H</td><td>T</td><td>T</td><td>0.125</td></tr>\n",
       "\t<tr><td>T</td><td>T</td><td>T</td><td>0.125</td></tr>\n",
       "</tbody>\n",
       "</table>\n"
      ],
      "text/latex": [
       "A data.frame: 8 x 4\n",
       "\\begin{tabular}{r|llll}\n",
       " toss1 & toss2 & toss3 & probs\\\\\n",
       " <fct> & <fct> & <fct> & <dbl>\\\\\n",
       "\\hline\n",
       "\t H & H & H & 0.125\\\\\n",
       "\t T & H & H & 0.125\\\\\n",
       "\t H & T & H & 0.125\\\\\n",
       "\t T & T & H & 0.125\\\\\n",
       "\t H & H & T & 0.125\\\\\n",
       "\t T & H & T & 0.125\\\\\n",
       "\t H & T & T & 0.125\\\\\n",
       "\t T & T & T & 0.125\\\\\n",
       "\\end{tabular}\n"
      ],
      "text/markdown": [
       "\n",
       "A data.frame: 8 x 4\n",
       "\n",
       "| toss1 &lt;fct&gt; | toss2 &lt;fct&gt; | toss3 &lt;fct&gt; | probs &lt;dbl&gt; |\n",
       "|---|---|---|---|\n",
       "| H | H | H | 0.125 |\n",
       "| T | H | H | 0.125 |\n",
       "| H | T | H | 0.125 |\n",
       "| T | T | H | 0.125 |\n",
       "| H | H | T | 0.125 |\n",
       "| T | H | T | 0.125 |\n",
       "| H | T | T | 0.125 |\n",
       "| T | T | T | 0.125 |\n",
       "\n"
      ],
      "text/plain": [
       "  toss1 toss2 toss3 probs\n",
       "1 H     H     H     0.125\n",
       "2 T     H     H     0.125\n",
       "3 H     T     H     0.125\n",
       "4 T     T     H     0.125\n",
       "5 H     H     T     0.125\n",
       "6 T     H     T     0.125\n",
       "7 H     T     T     0.125\n",
       "8 T     T     T     0.125"
      ]
     },
     "metadata": {},
     "output_type": "display_data"
    }
   ],
   "source": [
    "tosscoin(3, makespace = T) "
   ]
  },
  {
   "cell_type": "markdown",
   "metadata": {},
   "source": [
    "## Funciones para obtener información o ayuda"
   ]
  },
  {
   "cell_type": "markdown",
   "metadata": {},
   "source": [
    "La función `sample` se encuentra en el *base package* de R:"
   ]
  },
  {
   "cell_type": "code",
   "execution_count": 12,
   "metadata": {},
   "outputs": [
    {
     "data": {
      "text/html": [
       "\n",
       "<table width=\"100%\" summary=\"page for base-package {base}\"><tr><td>base-package {base}</td><td style=\"text-align: right;\">R Documentation</td></tr></table>\n",
       "\n",
       "<h2>\n",
       "The R Base Package\n",
       "</h2>\n",
       "\n",
       "<h3>Description</h3>\n",
       "\n",
       "<p>Base R functions\n",
       "</p>\n",
       "\n",
       "\n",
       "<h3>Details</h3>\n",
       "\n",
       "<p>This package contains the basic functions which let <span style=\"font-family: Courier New, Courier; color: #666666;\"><b>R</b></span>\n",
       "function as a language:  arithmetic, input/output, basic\n",
       "programming support, etc.  Its contents are available through\n",
       "inheritance from any environment.\n",
       "</p>\n",
       "<p>For a complete list of functions, use <code>library(help = \"base\")</code>.\n",
       "</p>\n",
       "\n",
       "<hr /><div style=\"text-align: center;\">[Package <em>base</em> version 3.6.0 ]</div>"
      ],
      "text/latex": [
       "\\inputencoding{utf8}\n",
       "\\HeaderA{base-package}{The R Base Package}{base.Rdash.package}\n",
       "\\aliasA{base}{base-package}{base}\n",
       "\\keyword{package}{base-package}\n",
       "%\n",
       "\\begin{Description}\\relax\n",
       "Base R functions\n",
       "\\end{Description}\n",
       "%\n",
       "\\begin{Details}\\relax\n",
       "This package contains the basic functions which let \\R{}\n",
       "function as a language:  arithmetic, input/output, basic\n",
       "programming support, etc.  Its contents are available through\n",
       "inheritance from any environment.\n",
       "\n",
       "For a complete list of functions, use \\code{library(help = \"base\")}.\n",
       "\\end{Details}"
      ],
      "text/plain": [
       "base-package               package:base                R Documentation\n",
       "\n",
       "_\bT_\bh_\be _\bR _\bB_\ba_\bs_\be _\bP_\ba_\bc_\bk_\ba_\bg_\be\n",
       "\n",
       "_\bD_\be_\bs_\bc_\br_\bi_\bp_\bt_\bi_\bo_\bn:\n",
       "\n",
       "     Base R functions\n",
       "\n",
       "_\bD_\be_\bt_\ba_\bi_\bl_\bs:\n",
       "\n",
       "     This package contains the basic functions which let R function as\n",
       "     a language: arithmetic, input/output, basic programming support,\n",
       "     etc.  Its contents are available through inheritance from any\n",
       "     environment.\n",
       "\n",
       "     For a complete list of functions, use 'library(help = \"base\")'.\n"
      ]
     },
     "metadata": {},
     "output_type": "display_data"
    }
   ],
   "source": [
    "?base"
   ]
  },
  {
   "cell_type": "markdown",
   "metadata": {},
   "source": [
    "Sin embargo como se hizo `library(prob)` anteriormente (y se tiene enmascaramiento de algunos objetos) si ejecutamos la ayuda para la función de sample se obtiene:"
   ]
  },
  {
   "cell_type": "code",
   "execution_count": 13,
   "metadata": {},
   "outputs": [
    {
     "data": {
      "text/html": [
       "\n",
       "<table width=\"100%\" summary=\"page for sample {timeDate}\"><tr><td>sample {timeDate}</td><td style=\"text-align: right;\">R Documentation</td></tr></table>\n",
       "\n",
       "<h2>Resampling 'timeDate' Objects</h2>\n",
       "\n",
       "<h3>Description</h3>\n",
       "\n",
       "<p>Resamples a 'timeDate' object.\n",
       "</p>\n",
       "\n",
       "\n",
       "<h3>Value</h3>\n",
       "\n",
       "<p>returns an object of class <code>\"timeDate\"</code>.\n",
       "</p>\n",
       "\n",
       "\n",
       "<h3>Examples</h3>\n",
       "\n",
       "<pre>\n",
       "## c -\n",
       "   # Create Character Vectors:\n",
       "   dts = c(\"1989-09-28\", \"2001-01-15\", \"2004-08-30\", \"1990-02-09\")\n",
       "   dts\n",
       "   tms = c(  \"23:12:55\",   \"10:34:02\",   \"08:30:00\",   \"11:18:23\")\n",
       "   tms\n",
       "   \n",
       "## \"+/-\" - \n",
       "   # Add One Day to a Given timeDate Object:\n",
       "   GMT = timeDate(dts, zone = \"GMT\", FinCenter = \"GMT\")\n",
       "   GMT\n",
       "   ZUR = timeDate(dts, zone = \"GMT\", FinCenter = \"Europe/Zurich\")\n",
       "   ZUR\n",
       "   \n",
       "## c - \n",
       "   # Concatenate and Replicate timeDate Objects:\n",
       "   c(GMT[1:2], ZUR[1:2])\n",
       "   c(ZUR[1:2], GMT[1:2])\n",
       "   \n",
       "## rep - \n",
       "   rep(ZUR[2], times = 3)\n",
       "   rep(ZUR[2:3], times = 2)  \n",
       "</pre>\n",
       "\n",
       "<hr /><div style=\"text-align: center;\">[Package <em>timeDate</em> version 3043.102 ]</div>"
      ],
      "text/latex": [
       "\\inputencoding{utf8}\n",
       "\\HeaderA{sample}{Resampling 'timeDate' Objects}{sample}\n",
       "\\aliasA{sample,timeDate-method}{sample}{sample,timeDate.Rdash.method}\n",
       "\\keyword{chron}{sample}\n",
       "%\n",
       "\\begin{Description}\\relax\n",
       "\n",
       "Resamples a 'timeDate' object.\n",
       "\\end{Description}\n",
       "%\n",
       "\\begin{Value}\n",
       "\n",
       "returns an object of class \\code{\"timeDate\"}.\n",
       "\n",
       "\\end{Value}\n",
       "%\n",
       "\\begin{Examples}\n",
       "\\begin{ExampleCode}\n",
       "## c -\n",
       "   # Create Character Vectors:\n",
       "   dts = c(\"1989-09-28\", \"2001-01-15\", \"2004-08-30\", \"1990-02-09\")\n",
       "   dts\n",
       "   tms = c(  \"23:12:55\",   \"10:34:02\",   \"08:30:00\",   \"11:18:23\")\n",
       "   tms\n",
       "   \n",
       "## \"+/-\" - \n",
       "   # Add One Day to a Given timeDate Object:\n",
       "   GMT = timeDate(dts, zone = \"GMT\", FinCenter = \"GMT\")\n",
       "   GMT\n",
       "   ZUR = timeDate(dts, zone = \"GMT\", FinCenter = \"Europe/Zurich\")\n",
       "   ZUR\n",
       "   \n",
       "## c - \n",
       "   # Concatenate and Replicate timeDate Objects:\n",
       "   c(GMT[1:2], ZUR[1:2])\n",
       "   c(ZUR[1:2], GMT[1:2])\n",
       "   \n",
       "## rep - \n",
       "   rep(ZUR[2], times = 3)\n",
       "   rep(ZUR[2:3], times = 2)  \n",
       "\\end{ExampleCode}\n",
       "\\end{Examples}"
      ],
      "text/plain": [
       "sample                package:timeDate                 R Documentation\n",
       "\n",
       "_\bR_\be_\bs_\ba_\bm_\bp_\bl_\bi_\bn_\bg '_\bt_\bi_\bm_\be_\bD_\ba_\bt_\be' _\bO_\bb_\bj_\be_\bc_\bt_\bs\n",
       "\n",
       "_\bD_\be_\bs_\bc_\br_\bi_\bp_\bt_\bi_\bo_\bn:\n",
       "\n",
       "     Resamples a 'timeDate' object.\n",
       "\n",
       "_\bV_\ba_\bl_\bu_\be:\n",
       "\n",
       "     returns an object of class '\"timeDate\"'.\n",
       "\n",
       "_\bE_\bx_\ba_\bm_\bp_\bl_\be_\bs:\n",
       "\n",
       "     ## c -\n",
       "        # Create Character Vectors:\n",
       "        dts = c(\"1989-09-28\", \"2001-01-15\", \"2004-08-30\", \"1990-02-09\")\n",
       "        dts\n",
       "        tms = c(  \"23:12:55\",   \"10:34:02\",   \"08:30:00\",   \"11:18:23\")\n",
       "        tms\n",
       "        \n",
       "     ## \"+/-\" - \n",
       "        # Add One Day to a Given timeDate Object:\n",
       "        GMT = timeDate(dts, zone = \"GMT\", FinCenter = \"GMT\")\n",
       "        GMT\n",
       "        ZUR = timeDate(dts, zone = \"GMT\", FinCenter = \"Europe/Zurich\")\n",
       "        ZUR\n",
       "        \n",
       "     ## c - \n",
       "        # Concatenate and Replicate timeDate Objects:\n",
       "        c(GMT[1:2], ZUR[1:2])\n",
       "        c(ZUR[1:2], GMT[1:2])\n",
       "        \n",
       "     ## rep - \n",
       "        rep(ZUR[2], times = 3)\n",
       "        rep(ZUR[2:3], times = 2)  \n",
       "     "
      ]
     },
     "metadata": {},
     "output_type": "display_data"
    }
   ],
   "source": [
    "?sample"
   ]
  },
  {
   "cell_type": "markdown",
   "metadata": {},
   "source": [
    "Y observando que el paquete `timeDate` también tiene una función sample en el output de arriba o con:"
   ]
  },
  {
   "cell_type": "code",
   "execution_count": 14,
   "metadata": {},
   "outputs": [
    {
     "data": {
      "text/html": [
       "<ol class=list-inline>\n",
       "\t<li>'package:timeSeries'</li>\n",
       "\t<li>'package:timeDate'</li>\n",
       "\t<li>'package:base'</li>\n",
       "</ol>\n"
      ],
      "text/latex": [
       "\\begin{enumerate*}\n",
       "\\item 'package:timeSeries'\n",
       "\\item 'package:timeDate'\n",
       "\\item 'package:base'\n",
       "\\end{enumerate*}\n"
      ],
      "text/markdown": [
       "1. 'package:timeSeries'\n",
       "2. 'package:timeDate'\n",
       "3. 'package:base'\n",
       "\n",
       "\n"
      ],
      "text/plain": [
       "[1] \"package:timeSeries\" \"package:timeDate\"   \"package:base\"      "
      ]
     },
     "metadata": {},
     "output_type": "display_data"
    }
   ],
   "source": [
    "find('sample')"
   ]
  },
  {
   "cell_type": "markdown",
   "metadata": {},
   "source": [
    "entonces se puede acceder a su ayuda con:"
   ]
  },
  {
   "cell_type": "code",
   "execution_count": 15,
   "metadata": {},
   "outputs": [
    {
     "data": {
      "text/html": [
       "\n",
       "<table width=\"100%\" summary=\"page for sample {timeDate}\"><tr><td>sample {timeDate}</td><td style=\"text-align: right;\">R Documentation</td></tr></table>\n",
       "\n",
       "<h2>Resampling 'timeDate' Objects</h2>\n",
       "\n",
       "<h3>Description</h3>\n",
       "\n",
       "<p>Resamples a 'timeDate' object.\n",
       "</p>\n",
       "\n",
       "\n",
       "<h3>Value</h3>\n",
       "\n",
       "<p>returns an object of class <code>\"timeDate\"</code>.\n",
       "</p>\n",
       "\n",
       "\n",
       "<h3>Examples</h3>\n",
       "\n",
       "<pre>\n",
       "## c -\n",
       "   # Create Character Vectors:\n",
       "   dts = c(\"1989-09-28\", \"2001-01-15\", \"2004-08-30\", \"1990-02-09\")\n",
       "   dts\n",
       "   tms = c(  \"23:12:55\",   \"10:34:02\",   \"08:30:00\",   \"11:18:23\")\n",
       "   tms\n",
       "   \n",
       "## \"+/-\" - \n",
       "   # Add One Day to a Given timeDate Object:\n",
       "   GMT = timeDate(dts, zone = \"GMT\", FinCenter = \"GMT\")\n",
       "   GMT\n",
       "   ZUR = timeDate(dts, zone = \"GMT\", FinCenter = \"Europe/Zurich\")\n",
       "   ZUR\n",
       "   \n",
       "## c - \n",
       "   # Concatenate and Replicate timeDate Objects:\n",
       "   c(GMT[1:2], ZUR[1:2])\n",
       "   c(ZUR[1:2], GMT[1:2])\n",
       "   \n",
       "## rep - \n",
       "   rep(ZUR[2], times = 3)\n",
       "   rep(ZUR[2:3], times = 2)  \n",
       "</pre>\n",
       "\n",
       "<hr /><div style=\"text-align: center;\">[Package <em>timeDate</em> version 3043.102 ]</div>"
      ],
      "text/latex": [
       "\\inputencoding{utf8}\n",
       "\\HeaderA{sample}{Resampling 'timeDate' Objects}{sample}\n",
       "\\aliasA{sample,timeDate-method}{sample}{sample,timeDate.Rdash.method}\n",
       "\\keyword{chron}{sample}\n",
       "%\n",
       "\\begin{Description}\\relax\n",
       "\n",
       "Resamples a 'timeDate' object.\n",
       "\\end{Description}\n",
       "%\n",
       "\\begin{Value}\n",
       "\n",
       "returns an object of class \\code{\"timeDate\"}.\n",
       "\n",
       "\\end{Value}\n",
       "%\n",
       "\\begin{Examples}\n",
       "\\begin{ExampleCode}\n",
       "## c -\n",
       "   # Create Character Vectors:\n",
       "   dts = c(\"1989-09-28\", \"2001-01-15\", \"2004-08-30\", \"1990-02-09\")\n",
       "   dts\n",
       "   tms = c(  \"23:12:55\",   \"10:34:02\",   \"08:30:00\",   \"11:18:23\")\n",
       "   tms\n",
       "   \n",
       "## \"+/-\" - \n",
       "   # Add One Day to a Given timeDate Object:\n",
       "   GMT = timeDate(dts, zone = \"GMT\", FinCenter = \"GMT\")\n",
       "   GMT\n",
       "   ZUR = timeDate(dts, zone = \"GMT\", FinCenter = \"Europe/Zurich\")\n",
       "   ZUR\n",
       "   \n",
       "## c - \n",
       "   # Concatenate and Replicate timeDate Objects:\n",
       "   c(GMT[1:2], ZUR[1:2])\n",
       "   c(ZUR[1:2], GMT[1:2])\n",
       "   \n",
       "## rep - \n",
       "   rep(ZUR[2], times = 3)\n",
       "   rep(ZUR[2:3], times = 2)  \n",
       "\\end{ExampleCode}\n",
       "\\end{Examples}"
      ],
      "text/plain": [
       "sample                package:timeDate                 R Documentation\n",
       "\n",
       "_\bR_\be_\bs_\ba_\bm_\bp_\bl_\bi_\bn_\bg '_\bt_\bi_\bm_\be_\bD_\ba_\bt_\be' _\bO_\bb_\bj_\be_\bc_\bt_\bs\n",
       "\n",
       "_\bD_\be_\bs_\bc_\br_\bi_\bp_\bt_\bi_\bo_\bn:\n",
       "\n",
       "     Resamples a 'timeDate' object.\n",
       "\n",
       "_\bV_\ba_\bl_\bu_\be:\n",
       "\n",
       "     returns an object of class '\"timeDate\"'.\n",
       "\n",
       "_\bE_\bx_\ba_\bm_\bp_\bl_\be_\bs:\n",
       "\n",
       "     ## c -\n",
       "        # Create Character Vectors:\n",
       "        dts = c(\"1989-09-28\", \"2001-01-15\", \"2004-08-30\", \"1990-02-09\")\n",
       "        dts\n",
       "        tms = c(  \"23:12:55\",   \"10:34:02\",   \"08:30:00\",   \"11:18:23\")\n",
       "        tms\n",
       "        \n",
       "     ## \"+/-\" - \n",
       "        # Add One Day to a Given timeDate Object:\n",
       "        GMT = timeDate(dts, zone = \"GMT\", FinCenter = \"GMT\")\n",
       "        GMT\n",
       "        ZUR = timeDate(dts, zone = \"GMT\", FinCenter = \"Europe/Zurich\")\n",
       "        ZUR\n",
       "        \n",
       "     ## c - \n",
       "        # Concatenate and Replicate timeDate Objects:\n",
       "        c(GMT[1:2], ZUR[1:2])\n",
       "        c(ZUR[1:2], GMT[1:2])\n",
       "        \n",
       "     ## rep - \n",
       "        rep(ZUR[2], times = 3)\n",
       "        rep(ZUR[2:3], times = 2)  \n",
       "     "
      ]
     },
     "metadata": {},
     "output_type": "display_data"
    }
   ],
   "source": [
    "?timeDate::sample"
   ]
  },
  {
   "cell_type": "markdown",
   "metadata": {},
   "source": [
    "y para la función `sample` del `base package` que nos interesa debemos hacer:"
   ]
  },
  {
   "cell_type": "code",
   "execution_count": 16,
   "metadata": {},
   "outputs": [
    {
     "data": {
      "text/html": [
       "\n",
       "<table width=\"100%\" summary=\"page for sample {base}\"><tr><td>sample {base}</td><td style=\"text-align: right;\">R Documentation</td></tr></table>\n",
       "\n",
       "<h2>Random Samples and Permutations</h2>\n",
       "\n",
       "<h3>Description</h3>\n",
       "\n",
       "<p><code>sample</code> takes a sample of the specified size from the elements\n",
       "of <code>x</code> using either with or without replacement.\n",
       "</p>\n",
       "\n",
       "\n",
       "<h3>Usage</h3>\n",
       "\n",
       "<pre>\n",
       "sample(x, size, replace = FALSE, prob = NULL)\n",
       "\n",
       "sample.int(n, size = n, replace = FALSE, prob = NULL,\n",
       "           useHash = (!replace &amp;&amp; is.null(prob) &amp;&amp; size &lt;= n/2 &amp;&amp; n &gt; 1e7))\n",
       "</pre>\n",
       "\n",
       "\n",
       "<h3>Arguments</h3>\n",
       "\n",
       "<table summary=\"R argblock\">\n",
       "<tr valign=\"top\"><td><code>x</code></td>\n",
       "<td>\n",
       "<p>either a vector of one or more elements from which to choose,\n",
       "or a positive integer.  See &lsquo;Details.&rsquo;</p>\n",
       "</td></tr>\n",
       "<tr valign=\"top\"><td><code>n</code></td>\n",
       "<td>\n",
       "<p>a positive number, the number of items to choose from.  See\n",
       "&lsquo;Details.&rsquo;</p>\n",
       "</td></tr>\n",
       "<tr valign=\"top\"><td><code>size</code></td>\n",
       "<td>\n",
       "<p>a non-negative integer giving the number of items to choose.</p>\n",
       "</td></tr>\n",
       "<tr valign=\"top\"><td><code>replace</code></td>\n",
       "<td>\n",
       "<p>should sampling be with replacement?</p>\n",
       "</td></tr>\n",
       "<tr valign=\"top\"><td><code>prob</code></td>\n",
       "<td>\n",
       "<p>a vector of probability weights for obtaining the elements\n",
       "of the vector being sampled.</p>\n",
       "</td></tr>\n",
       "<tr valign=\"top\"><td><code>useHash</code></td>\n",
       "<td>\n",
       "<p><code>logical</code> indicating if the hash-version of\n",
       "the algorithm should be used.  Can only be used for <code>replace =\n",
       "      FALSE</code>, <code>prob = NULL</code>, and <code>size &lt;= n/2</code>, and really\n",
       "should be used for large <code>n</code>, as <code>useHash=FALSE</code> will use\n",
       "memory proportional to <code>n</code>.</p>\n",
       "</td></tr>\n",
       "</table>\n",
       "\n",
       "\n",
       "<h3>Details</h3>\n",
       "\n",
       "<p>If <code>x</code> has length 1, is numeric (in the sense of\n",
       "<code>is.numeric</code>) and <code>x &gt;= 1</code>, sampling <em>via</em>\n",
       "<code>sample</code> takes place from <code>1:x</code>.  <em>Note</em> that this\n",
       "convenience feature may lead to undesired behaviour when <code>x</code> is\n",
       "of varying length in calls such as <code>sample(x)</code>.  See the examples.\n",
       "</p>\n",
       "<p>Otherwise <code>x</code> can be any <span style=\"font-family: Courier New, Courier; color: #666666;\"><b>R</b></span> object for which <code>length</code> and\n",
       "subsetting by integers make sense: S3 or S4 methods for these\n",
       "operations will be dispatched as appropriate.\n",
       "</p>\n",
       "<p>For <code>sample</code> the default for <code>size</code> is the number of items\n",
       "inferred from the first argument, so that <code>sample(x)</code> generates a\n",
       "random permutation of the elements of <code>x</code> (or <code>1:x</code>).\n",
       "</p>\n",
       "<p>It is allowed to ask for <code>size = 0</code> samples with <code>n = 0</code> or\n",
       "a length-zero <code>x</code>, but otherwise <code>n &gt; 0</code> or positive\n",
       "<code>length(x)</code> is required.\n",
       "</p>\n",
       "<p>Non-integer positive numerical values of <code>n</code> or <code>x</code> will be\n",
       "truncated to the next smallest integer, which has to be no larger than\n",
       "<code>.Machine$integer.max</code>.\n",
       "</p>\n",
       "<p>The optional <code>prob</code> argument can be used to give a vector of\n",
       "weights for obtaining the elements of the vector being sampled.  They\n",
       "need not sum to one, but they should be non-negative and not all zero.\n",
       "If <code>replace</code> is true, Walker's alias method (Ripley, 1987) is\n",
       "used when there are more than 200 reasonably probable values: this\n",
       "gives results incompatible with those from <span style=\"font-family: Courier New, Courier; color: #666666;\"><b>R</b></span> &lt; 2.2.0.\n",
       "</p>\n",
       "<p>If <code>replace</code> is false, these probabilities are applied\n",
       "sequentially, that is the probability of choosing the next item is\n",
       "proportional to the weights amongst the remaining items.  The number\n",
       "of nonzero weights must be at least <code>size</code> in this case.\n",
       "</p>\n",
       "<p><code>sample.int</code> is a bare interface in which both <code>n</code> and\n",
       "<code>size</code> must be supplied as integers.\n",
       "</p>\n",
       "<p>Argument <code>n</code> can be larger than the largest integer of\n",
       "type <code>integer</code>, up to the largest representable integer in type\n",
       "<code>double</code>.  Only uniform sampling is supported.  Two\n",
       "random numbers are used to ensure uniform sampling of large integers.\n",
       "</p>\n",
       "\n",
       "\n",
       "<h3>Value</h3>\n",
       "\n",
       "<p>For <code>sample</code> a vector of length <code>size</code> with elements\n",
       "drawn from either <code>x</code> or from the integers <code>1:x</code>.\n",
       "</p>\n",
       "<p>For <code>sample.int</code>, an integer vector of length <code>size</code> with\n",
       "elements from <code>1:n</code>, or a double vector if\n",
       "<i>n &gt;= 2^31</i>.\n",
       "</p>\n",
       "\n",
       "\n",
       "<h3>References</h3>\n",
       "\n",
       "<p>Becker, R. A., Chambers, J. M. and Wilks, A. R. (1988)\n",
       "<em>The New S Language</em>.\n",
       "Wadsworth &amp; Brooks/Cole.\n",
       "</p>\n",
       "<p>Ripley, B. D. (1987) <em>Stochastic Simulation</em>. Wiley.\n",
       "</p>\n",
       "\n",
       "\n",
       "<h3>See Also</h3>\n",
       "\n",
       "<p><code>RNGkind(sample.kind = ..)</code> about random number generation,\n",
       "notably the change of <code>sample()</code> results with <span style=\"font-family: Courier New, Courier; color: #666666;\"><b>R</b></span> version 3.6.0.\n",
       "</p>\n",
       "<p>CRAN package <a href=\"https://CRAN.R-project.org/package=sampling\"><span class=\"pkg\">sampling</span></a> for other methods of weighted sampling\n",
       "without replacement.\n",
       "</p>\n",
       "\n",
       "\n",
       "<h3>Examples</h3>\n",
       "\n",
       "<pre>\n",
       "x &lt;- 1:12\n",
       "# a random permutation\n",
       "sample(x)\n",
       "# bootstrap resampling -- only if length(x) &gt; 1 !\n",
       "sample(x, replace = TRUE)\n",
       "\n",
       "# 100 Bernoulli trials\n",
       "sample(c(0,1), 100, replace = TRUE)\n",
       "\n",
       "## More careful bootstrapping --  Consider this when using sample()\n",
       "## programmatically (i.e., in your function or simulation)!\n",
       "\n",
       "# sample()'s surprise -- example\n",
       "x &lt;- 1:10\n",
       "    sample(x[x &gt;  8]) # length 2\n",
       "    sample(x[x &gt;  9]) # oops -- length 10!\n",
       "    sample(x[x &gt; 10]) # length 0\n",
       "\n",
       "## safer version:\n",
       "resample &lt;- function(x, ...) x[sample.int(length(x), ...)]\n",
       "resample(x[x &gt;  8]) # length 2\n",
       "resample(x[x &gt;  9]) # length 1\n",
       "resample(x[x &gt; 10]) # length 0\n",
       "\n",
       "## R 3.x.y only\n",
       "sample.int(1e10, 12, replace = TRUE)\n",
       "sample.int(1e10, 12) # not that there is much chance of duplicates\n",
       "</pre>\n",
       "\n",
       "<hr /><div style=\"text-align: center;\">[Package <em>base</em> version 3.6.0 ]</div>"
      ],
      "text/latex": [
       "\\inputencoding{utf8}\n",
       "\\HeaderA{sample}{Random Samples and Permutations}{sample}\n",
       "\\methaliasA{sample.int}{sample}{sample.int}\n",
       "\\keyword{distribution}{sample}\n",
       "%\n",
       "\\begin{Description}\\relax\n",
       "\\code{sample} takes a sample of the specified size from the elements\n",
       "of \\code{x} using either with or without replacement.\n",
       "\\end{Description}\n",
       "%\n",
       "\\begin{Usage}\n",
       "\\begin{verbatim}\n",
       "sample(x, size, replace = FALSE, prob = NULL)\n",
       "\n",
       "sample.int(n, size = n, replace = FALSE, prob = NULL,\n",
       "           useHash = (!replace && is.null(prob) && size <= n/2 && n > 1e7))\n",
       "\\end{verbatim}\n",
       "\\end{Usage}\n",
       "%\n",
       "\\begin{Arguments}\n",
       "\\begin{ldescription}\n",
       "\\item[\\code{x}] either a vector of one or more elements from which to choose,\n",
       "or a positive integer.  See `Details.'\n",
       "\\item[\\code{n}] a positive number, the number of items to choose from.  See\n",
       "`Details.'\n",
       "\\item[\\code{size}] a non-negative integer giving the number of items to choose.\n",
       "\\item[\\code{replace}] should sampling be with replacement?\n",
       "\\item[\\code{prob}] a vector of probability weights for obtaining the elements\n",
       "of the vector being sampled.\n",
       "\\item[\\code{useHash}] \\code{\\LinkA{logical}{logical}} indicating if the hash-version of\n",
       "the algorithm should be used.  Can only be used for \\code{replace =\n",
       "      FALSE}, \\code{prob = NULL}, and \\code{size <= n/2}, and really\n",
       "should be used for large \\code{n}, as \\code{useHash=FALSE} will use\n",
       "memory proportional to \\code{n}.\n",
       "\\end{ldescription}\n",
       "\\end{Arguments}\n",
       "%\n",
       "\\begin{Details}\\relax\n",
       "If \\code{x} has length 1, is numeric (in the sense of\n",
       "\\code{\\LinkA{is.numeric}{is.numeric}}) and \\code{x >= 1}, sampling \\emph{via}\n",
       "\\code{sample} takes place from \\code{1:x}.  \\emph{Note} that this\n",
       "convenience feature may lead to undesired behaviour when \\code{x} is\n",
       "of varying length in calls such as \\code{sample(x)}.  See the examples.\n",
       "\n",
       "Otherwise \\code{x} can be any \\R{} object for which \\code{length} and\n",
       "subsetting by integers make sense: S3 or S4 methods for these\n",
       "operations will be dispatched as appropriate.\n",
       "\n",
       "For \\code{sample} the default for \\code{size} is the number of items\n",
       "inferred from the first argument, so that \\code{sample(x)} generates a\n",
       "random permutation of the elements of \\code{x} (or \\code{1:x}).\n",
       "\n",
       "It is allowed to ask for \\code{size = 0} samples with \\code{n = 0} or\n",
       "a length-zero \\code{x}, but otherwise \\code{n > 0} or positive\n",
       "\\code{length(x)} is required.\n",
       "\n",
       "Non-integer positive numerical values of \\code{n} or \\code{x} will be\n",
       "truncated to the next smallest integer, which has to be no larger than\n",
       "\\code{\\LinkA{.Machine}{.Machine}\\$integer.max}.\n",
       "\n",
       "The optional \\code{prob} argument can be used to give a vector of\n",
       "weights for obtaining the elements of the vector being sampled.  They\n",
       "need not sum to one, but they should be non-negative and not all zero.\n",
       "If \\code{replace} is true, Walker's alias method (Ripley, 1987) is\n",
       "used when there are more than 200 reasonably probable values: this\n",
       "gives results incompatible with those from \\R{} < 2.2.0.\n",
       "\n",
       "If \\code{replace} is false, these probabilities are applied\n",
       "sequentially, that is the probability of choosing the next item is\n",
       "proportional to the weights amongst the remaining items.  The number\n",
       "of nonzero weights must be at least \\code{size} in this case.\n",
       "\n",
       "\\code{sample.int} is a bare interface in which both \\code{n} and\n",
       "\\code{size} must be supplied as integers.\n",
       "\n",
       "Argument \\code{n} can be larger than the largest integer of\n",
       "type \\code{integer}, up to the largest representable integer in type\n",
       "\\code{double}.  Only uniform sampling is supported.  Two\n",
       "random numbers are used to ensure uniform sampling of large integers.\n",
       "\\end{Details}\n",
       "%\n",
       "\\begin{Value}\n",
       "For \\code{sample} a vector of length \\code{size} with elements\n",
       "drawn from either \\code{x} or from the integers \\code{1:x}.\n",
       "\n",
       "For \\code{sample.int}, an integer vector of length \\code{size} with\n",
       "elements from \\code{1:n}, or a double vector if\n",
       "\\eqn{n \\ge 2^{31}}{}.\n",
       "\\end{Value}\n",
       "%\n",
       "\\begin{References}\\relax\n",
       "Becker, R. A., Chambers, J. M. and Wilks, A. R. (1988)\n",
       "\\emph{The New S Language}.\n",
       "Wadsworth \\& Brooks/Cole.\n",
       "\n",
       "Ripley, B. D. (1987) \\emph{Stochastic Simulation}. Wiley.\n",
       "\\end{References}\n",
       "%\n",
       "\\begin{SeeAlso}\\relax\n",
       "\\code{\\LinkA{RNGkind}{RNGkind}(sample.kind = ..)} about random number generation,\n",
       "notably the change of \\code{sample()} results with \\R{} version 3.6.0.\n",
       "\n",
       "CRAN package \\Rhref{https://CRAN.R-project.org/package=sampling}{\\pkg{sampling}} for other methods of weighted sampling\n",
       "without replacement.\n",
       "\\end{SeeAlso}\n",
       "%\n",
       "\\begin{Examples}\n",
       "\\begin{ExampleCode}\n",
       "x <- 1:12\n",
       "# a random permutation\n",
       "sample(x)\n",
       "# bootstrap resampling -- only if length(x) > 1 !\n",
       "sample(x, replace = TRUE)\n",
       "\n",
       "# 100 Bernoulli trials\n",
       "sample(c(0,1), 100, replace = TRUE)\n",
       "\n",
       "## More careful bootstrapping --  Consider this when using sample()\n",
       "## programmatically (i.e., in your function or simulation)!\n",
       "\n",
       "# sample()'s surprise -- example\n",
       "x <- 1:10\n",
       "    sample(x[x >  8]) # length 2\n",
       "    sample(x[x >  9]) # oops -- length 10!\n",
       "    sample(x[x > 10]) # length 0\n",
       "\n",
       "## safer version:\n",
       "resample <- function(x, ...) x[sample.int(length(x), ...)]\n",
       "resample(x[x >  8]) # length 2\n",
       "resample(x[x >  9]) # length 1\n",
       "resample(x[x > 10]) # length 0\n",
       "\n",
       "## R 3.x.y only\n",
       "sample.int(1e10, 12, replace = TRUE)\n",
       "sample.int(1e10, 12) # not that there is much chance of duplicates\n",
       "\\end{ExampleCode}\n",
       "\\end{Examples}"
      ],
      "text/plain": [
       "sample                  package:base                   R Documentation\n",
       "\n",
       "_\bR_\ba_\bn_\bd_\bo_\bm _\bS_\ba_\bm_\bp_\bl_\be_\bs _\ba_\bn_\bd _\bP_\be_\br_\bm_\bu_\bt_\ba_\bt_\bi_\bo_\bn_\bs\n",
       "\n",
       "_\bD_\be_\bs_\bc_\br_\bi_\bp_\bt_\bi_\bo_\bn:\n",
       "\n",
       "     'sample' takes a sample of the specified size from the elements of\n",
       "     'x' using either with or without replacement.\n",
       "\n",
       "_\bU_\bs_\ba_\bg_\be:\n",
       "\n",
       "     sample(x, size, replace = FALSE, prob = NULL)\n",
       "     \n",
       "     sample.int(n, size = n, replace = FALSE, prob = NULL,\n",
       "                useHash = (!replace && is.null(prob) && size <= n/2 && n > 1e7))\n",
       "     \n",
       "_\bA_\br_\bg_\bu_\bm_\be_\bn_\bt_\bs:\n",
       "\n",
       "       x: either a vector of one or more elements from which to choose,\n",
       "          or a positive integer.  See 'Details.'\n",
       "\n",
       "       n: a positive number, the number of items to choose from.  See\n",
       "          'Details.'\n",
       "\n",
       "    size: a non-negative integer giving the number of items to choose.\n",
       "\n",
       " replace: should sampling be with replacement?\n",
       "\n",
       "    prob: a vector of probability weights for obtaining the elements of\n",
       "          the vector being sampled.\n",
       "\n",
       " useHash: 'logical' indicating if the hash-version of the algorithm\n",
       "          should be used.  Can only be used for 'replace = FALSE',\n",
       "          'prob = NULL', and 'size <= n/2', and really should be used\n",
       "          for large 'n', as 'useHash=FALSE' will use memory\n",
       "          proportional to 'n'.\n",
       "\n",
       "_\bD_\be_\bt_\ba_\bi_\bl_\bs:\n",
       "\n",
       "     If 'x' has length 1, is numeric (in the sense of 'is.numeric') and\n",
       "     'x >= 1', sampling _via_ 'sample' takes place from '1:x'.  _Note_\n",
       "     that this convenience feature may lead to undesired behaviour when\n",
       "     'x' is of varying length in calls such as 'sample(x)'.  See the\n",
       "     examples.\n",
       "\n",
       "     Otherwise 'x' can be any R object for which 'length' and\n",
       "     subsetting by integers make sense: S3 or S4 methods for these\n",
       "     operations will be dispatched as appropriate.\n",
       "\n",
       "     For 'sample' the default for 'size' is the number of items\n",
       "     inferred from the first argument, so that 'sample(x)' generates a\n",
       "     random permutation of the elements of 'x' (or '1:x').\n",
       "\n",
       "     It is allowed to ask for 'size = 0' samples with 'n = 0' or a\n",
       "     length-zero 'x', but otherwise 'n > 0' or positive 'length(x)' is\n",
       "     required.\n",
       "\n",
       "     Non-integer positive numerical values of 'n' or 'x' will be\n",
       "     truncated to the next smallest integer, which has to be no larger\n",
       "     than '.Machine$integer.max'.\n",
       "\n",
       "     The optional 'prob' argument can be used to give a vector of\n",
       "     weights for obtaining the elements of the vector being sampled.\n",
       "     They need not sum to one, but they should be non-negative and not\n",
       "     all zero.  If 'replace' is true, Walker's alias method (Ripley,\n",
       "     1987) is used when there are more than 200 reasonably probable\n",
       "     values: this gives results incompatible with those from R < 2.2.0.\n",
       "\n",
       "     If 'replace' is false, these probabilities are applied\n",
       "     sequentially, that is the probability of choosing the next item is\n",
       "     proportional to the weights amongst the remaining items.  The\n",
       "     number of nonzero weights must be at least 'size' in this case.\n",
       "\n",
       "     'sample.int' is a bare interface in which both 'n' and 'size' must\n",
       "     be supplied as integers.\n",
       "\n",
       "     Argument 'n' can be larger than the largest integer of type\n",
       "     'integer', up to the largest representable integer in type\n",
       "     'double'.  Only uniform sampling is supported.  Two random numbers\n",
       "     are used to ensure uniform sampling of large integers.\n",
       "\n",
       "_\bV_\ba_\bl_\bu_\be:\n",
       "\n",
       "     For 'sample' a vector of length 'size' with elements drawn from\n",
       "     either 'x' or from the integers '1:x'.\n",
       "\n",
       "     For 'sample.int', an integer vector of length 'size' with elements\n",
       "     from '1:n', or a double vector if n >= 2^31.\n",
       "\n",
       "_\bR_\be_\bf_\be_\br_\be_\bn_\bc_\be_\bs:\n",
       "\n",
       "     Becker, R. A., Chambers, J. M. and Wilks, A. R. (1988) _The New S\n",
       "     Language_.  Wadsworth & Brooks/Cole.\n",
       "\n",
       "     Ripley, B. D. (1987) _Stochastic Simulation_. Wiley.\n",
       "\n",
       "_\bS_\be_\be _\bA_\bl_\bs_\bo:\n",
       "\n",
       "     'RNGkind(sample.kind = ..)' about random number generation,\n",
       "     notably the change of 'sample()' results with R version 3.6.0.\n",
       "\n",
       "     CRAN package 'sampling' for other methods of weighted sampling\n",
       "     without replacement.\n",
       "\n",
       "_\bE_\bx_\ba_\bm_\bp_\bl_\be_\bs:\n",
       "\n",
       "     x <- 1:12\n",
       "     # a random permutation\n",
       "     sample(x)\n",
       "     # bootstrap resampling -- only if length(x) > 1 !\n",
       "     sample(x, replace = TRUE)\n",
       "     \n",
       "     # 100 Bernoulli trials\n",
       "     sample(c(0,1), 100, replace = TRUE)\n",
       "     \n",
       "     ## More careful bootstrapping --  Consider this when using sample()\n",
       "     ## programmatically (i.e., in your function or simulation)!\n",
       "     \n",
       "     # sample()'s surprise -- example\n",
       "     x <- 1:10\n",
       "         sample(x[x >  8]) # length 2\n",
       "         sample(x[x >  9]) # oops -- length 10!\n",
       "         sample(x[x > 10]) # length 0\n",
       "     \n",
       "     ## safer version:\n",
       "     resample <- function(x, ...) x[sample.int(length(x), ...)]\n",
       "     resample(x[x >  8]) # length 2\n",
       "     resample(x[x >  9]) # length 1\n",
       "     resample(x[x > 10]) # length 0\n",
       "     \n",
       "     ## R 3.x.y only\n",
       "     sample.int(1e10, 12, replace = TRUE)\n",
       "     sample.int(1e10, 12) # not that there is much chance of duplicates\n",
       "     "
      ]
     },
     "metadata": {},
     "output_type": "display_data"
    }
   ],
   "source": [
    "?base::sample "
   ]
  },
  {
   "cell_type": "markdown",
   "metadata": {},
   "source": [
    "Si queremos ejecutar los ejemplos de la ayuda se utiliza la función `args`:"
   ]
  },
  {
   "cell_type": "code",
   "execution_count": 17,
   "metadata": {},
   "outputs": [
    {
     "data": {
      "text/html": [
       "<pre class=language-r><code>function (topic, package = NULL, lib.loc = NULL, character.only = FALSE, \n",
       "<span style=white-space:pre-wrap>    give.lines = FALSE, local = FALSE, echo = TRUE, verbose = getOption(\"verbose\"), </span>\n",
       "<span style=white-space:pre-wrap>    setRNG = FALSE, ask = getOption(\"example.ask\"), prompt.prefix = abbreviate(topic, </span>\n",
       "<span style=white-space:pre-wrap>        6), run.dontrun = FALSE, run.donttest = interactive()) </span>\n",
       "NULL</code></pre>"
      ],
      "text/latex": [
       "\\begin{minted}{r}\n",
       "function (topic, package = NULL, lib.loc = NULL, character.only = FALSE, \n",
       "    give.lines = FALSE, local = FALSE, echo = TRUE, verbose = getOption(\"verbose\"), \n",
       "    setRNG = FALSE, ask = getOption(\"example.ask\"), prompt.prefix = abbreviate(topic, \n",
       "        6), run.dontrun = FALSE, run.donttest = interactive()) \n",
       "NULL\n",
       "\\end{minted}"
      ],
      "text/markdown": [
       "```r\n",
       "function (topic, package = NULL, lib.loc = NULL, character.only = FALSE, \n",
       "    give.lines = FALSE, local = FALSE, echo = TRUE, verbose = getOption(\"verbose\"), \n",
       "    setRNG = FALSE, ask = getOption(\"example.ask\"), prompt.prefix = abbreviate(topic, \n",
       "        6), run.dontrun = FALSE, run.donttest = interactive()) \n",
       "NULL\n",
       "```"
      ],
      "text/plain": [
       "function (topic, package = NULL, lib.loc = NULL, character.only = FALSE, \n",
       "    give.lines = FALSE, local = FALSE, echo = TRUE, verbose = getOption(\"verbose\"), \n",
       "    setRNG = FALSE, ask = getOption(\"example.ask\"), prompt.prefix = abbreviate(topic, \n",
       "        6), run.dontrun = FALSE, run.donttest = interactive()) \n",
       "NULL"
      ]
     },
     "metadata": {},
     "output_type": "display_data"
    }
   ],
   "source": [
    "args(example) #observamos los argumentos que recibe la función `example`"
   ]
  },
  {
   "cell_type": "code",
   "execution_count": 18,
   "metadata": {},
   "outputs": [
    {
     "name": "stdout",
     "output_type": "stream",
     "text": [
      "\n",
      "sample> x <- 1:12\n",
      "\n",
      "sample> # a random permutation\n",
      "sample> sample(x)\n",
      " [1] 10 12  1  7  3  2  8  9  6  4  5 11\n",
      "\n",
      "sample> # bootstrap resampling -- only if length(x) > 1 !\n",
      "sample> sample(x, replace = TRUE)\n",
      " [1]  5  7 10  7  1  2 12  6  3 11  9  4\n",
      "\n",
      "sample> # 100 Bernoulli trials\n",
      "sample> sample(c(0,1), 100, replace = TRUE)\n",
      "  [1] 0 1 0 1 0 0 0 0 0 1 1 1 1 0 1 1 0 1 0 1 0 1 1 1 0 1 0 0 1 0 0 0 1 0 1 0 1\n",
      " [38] 1 0 0 0 0 0 1 1 1 1 1 1 0 1 1 0 1 0 1 1 1 1 0 1 1 1 1 1 0 0 0 0 1 0 1 1 1\n",
      " [75] 0 0 1 1 0 0 1 0 1 1 0 0 1 1 0 1 1 1 0 1 1 1 1 1 0 1\n",
      "\n",
      "sample> ## More careful bootstrapping --  Consider this when using sample()\n",
      "sample> ## programmatically (i.e., in your function or simulation)!\n",
      "sample> \n",
      "sample> # sample()'s surprise -- example\n",
      "sample> x <- 1:10\n",
      "\n",
      "sample>     sample(x[x >  8]) # length 2\n",
      "[1] 10  9\n",
      "\n",
      "sample>     sample(x[x >  9]) # oops -- length 10!\n",
      " [1]  4 10  7  6  3  2  8  1  5  9\n",
      "\n",
      "sample>     sample(x[x > 10]) # length 0\n",
      "integer(0)\n",
      "\n",
      "sample> ## safer version:\n",
      "sample> resample <- function(x, ...) x[sample.int(length(x), ...)]\n",
      "\n",
      "sample> resample(x[x >  8]) # length 2\n",
      "[1] 10  9\n",
      "\n",
      "sample> resample(x[x >  9]) # length 1\n",
      "[1] 10\n",
      "\n",
      "sample> resample(x[x > 10]) # length 0\n",
      "integer(0)\n",
      "\n",
      "sample> ## R 3.x.y only\n",
      "sample> sample.int(1e10, 12, replace = TRUE)\n",
      " [1] 6947055776 2896614766 4977502286 2569502461 8266682766  547093619\n",
      " [7] 4686084765 7473363247 5934621588 3090222068 1014677429 9947690807\n",
      "\n",
      "sample> sample.int(1e10, 12) # not that there is much chance of duplicates\n",
      " [1] 1810701389 4390918746 6629590780 9773810430 7517617771 7917543863\n",
      " [7] 3350176483 6467148473 6689718386 4324852850 2633532651 9051247851\n"
     ]
    }
   ],
   "source": [
    "example(sample, package='base')"
   ]
  },
  {
   "cell_type": "markdown",
   "metadata": {},
   "source": [
    "## Para saber más sobre R"
   ]
  },
  {
   "cell_type": "markdown",
   "metadata": {},
   "source": [
    "* Ir a la documentación oficial: https://cran.r-project.org/doc/manuals/R-intro.html\n",
    "* Ir a [aquí](https://github.com/ITAM-DS/Propedeutico/tree/master/R) para más referencias sobre R.\n",
    "\n",
    "Sobre paquetes:\n",
    "* En Bioconductor (y otros repositorios) encontrarás paquetes que no están en CRAN.\n",
    "* La mejor manera de conocer qué hace y usar un paquete es ir a su documentación oficial y seguir un tutorial o vignette:\n",
    "\n",
    "```\n",
    "#vignette() muestra documentación de todos los paquetes instalados\n",
    "vignette('prob') #muestra documentación del paquete prob\n",
    "```\n",
    "\n",
    "* Para instalación de paquetes dar click en [devtools](https://devtools.r-lib.org/) que es una colección de herramientas para desarrollo de paquetes (pero también tiene funcionalidad para instalación de paquetes) y su correspondiente [Package Development:: Cheat Sheet](https://rawgit.com/rstudio/cheatsheets/master/package-development.pdf).\n",
    "\n",
    "Sobre funciones para encontrar objetos:\n",
    "\n",
    "* La función `apropos` también ayuda a encontrar objetos, por ejemplo:"
   ]
  },
  {
   "cell_type": "code",
   "execution_count": 19,
   "metadata": {},
   "outputs": [
    {
     "data": {
      "text/html": [
       "<ol class=list-inline>\n",
       "\t<li>'Reunion'</li>\n",
       "\t<li>'isClassUnion'</li>\n",
       "\t<li>'setClassUnion'</li>\n",
       "\t<li>'ts.union'</li>\n",
       "\t<li>'union'</li>\n",
       "\t<li>'union'</li>\n",
       "\t<li>'union.data.frame'</li>\n",
       "\t<li>'union.default'</li>\n",
       "\t<li>'union.ps'</li>\n",
       "</ol>\n"
      ],
      "text/latex": [
       "\\begin{enumerate*}\n",
       "\\item 'Reunion'\n",
       "\\item 'isClassUnion'\n",
       "\\item 'setClassUnion'\n",
       "\\item 'ts.union'\n",
       "\\item 'union'\n",
       "\\item 'union'\n",
       "\\item 'union.data.frame'\n",
       "\\item 'union.default'\n",
       "\\item 'union.ps'\n",
       "\\end{enumerate*}\n"
      ],
      "text/markdown": [
       "1. 'Reunion'\n",
       "2. 'isClassUnion'\n",
       "3. 'setClassUnion'\n",
       "4. 'ts.union'\n",
       "5. 'union'\n",
       "6. 'union'\n",
       "7. 'union.data.frame'\n",
       "8. 'union.default'\n",
       "9. 'union.ps'\n",
       "\n",
       "\n"
      ],
      "text/plain": [
       "[1] \"Reunion\"          \"isClassUnion\"     \"setClassUnion\"    \"ts.union\"        \n",
       "[5] \"union\"            \"union\"            \"union.data.frame\" \"union.default\"   \n",
       "[9] \"union.ps\"        "
      ]
     },
     "metadata": {},
     "output_type": "display_data"
    }
   ],
   "source": [
    "apropos('union') #union función del paquete prob"
   ]
  },
  {
   "cell_type": "code",
   "execution_count": 22,
   "metadata": {},
   "outputs": [
    {
     "data": {
      "text/plain": [
       "R version 3.6.0 (2019-04-26)\n",
       "Platform: x86_64-pc-linux-gnu (64-bit)\n",
       "Running under: Ubuntu 18.04.2 LTS\n",
       "\n",
       "Matrix products: default\n",
       "BLAS:   /usr/lib/x86_64-linux-gnu/blas/libblas.so.3.7.1\n",
       "LAPACK: /usr/lib/x86_64-linux-gnu/lapack/liblapack.so.3.7.1\n",
       "\n",
       "locale:\n",
       "[1] C\n",
       "\n",
       "attached base packages:\n",
       "[1] stats     graphics  grDevices utils     datasets  methods   base     \n",
       "\n",
       "other attached packages:\n",
       "[1] prob_1.0-1            fAsianOptions_3042.82 fOptions_3042.86     \n",
       "[4] fBasics_3042.89       timeSeries_3042.102   timeDate_3043.102    \n",
       "[7] combinat_0.0-8       \n",
       "\n",
       "loaded via a namespace (and not attached):\n",
       " [1] Rcpp_1.0.1          uuid_0.1-2          rlang_0.3.4        \n",
       " [4] tools_3.6.0         htmltools_0.3.6     digest_0.6.19      \n",
       " [7] crayon_1.3.4        IRdisplay_0.7.0     repr_1.0.1         \n",
       "[10] base64enc_0.1-3     vctrs_0.1.0         IRkernel_1.0.1.9000\n",
       "[13] zeallot_0.1.0       evaluate_0.14       pbdZMQ_0.3-3       \n",
       "[16] compiler_3.6.0      pillar_1.4.1        backports_1.1.4    \n",
       "[19] spatial_7.3-11      jsonlite_1.6       "
      ]
     },
     "metadata": {},
     "output_type": "display_data"
    }
   ],
   "source": [
    "sessionInfo()"
   ]
  },
  {
   "cell_type": "code",
   "execution_count": null,
   "metadata": {},
   "outputs": [],
   "source": []
  }
 ],
 "metadata": {
  "kernelspec": {
   "display_name": "R",
   "language": "R",
   "name": "ir"
  },
  "language_info": {
   "codemirror_mode": "r",
   "file_extension": ".r",
   "mimetype": "text/x-r-source",
   "name": "R",
   "pygments_lexer": "r",
   "version": "3.6.0"
  }
 },
 "nbformat": 4,
 "nbformat_minor": 2
}
