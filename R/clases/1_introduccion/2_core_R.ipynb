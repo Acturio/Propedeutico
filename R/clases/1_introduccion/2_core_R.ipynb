{
 "cells": [
  {
   "cell_type": "markdown",
   "metadata": {},
   "source": [
    "# Ejemplos y enunciados de diferentes libros"
   ]
  },
  {
   "cell_type": "markdown",
   "metadata": {},
   "source": [
    "## J. Albert & M. Rizzo, \"R by Example\", 2012."
   ]
  },
  {
   "cell_type": "markdown",
   "metadata": {},
   "source": [
    "El libro tiene github: https://github.com/mariarizzo/RbyExample"
   ]
  },
  {
   "cell_type": "markdown",
   "metadata": {},
   "source": [
    "### Vectores"
   ]
  },
  {
   "cell_type": "markdown",
   "metadata": {},
   "source": [
    "c función `combine` y crea un vector de sus argumentos que se almacena en `x`, un vector:"
   ]
  },
  {
   "cell_type": "code",
   "execution_count": 4,
   "metadata": {},
   "outputs": [],
   "source": [
    "x <- c(-2, 109, 1, 0) "
   ]
  },
  {
   "cell_type": "code",
   "execution_count": 6,
   "metadata": {},
   "outputs": [
    {
     "name": "stdout",
     "output_type": "stream",
     "text": [
      "[1]  -2 109   1   0\n"
     ]
    }
   ],
   "source": [
    "print(x)"
   ]
  },
  {
   "cell_type": "markdown",
   "metadata": {},
   "source": [
    "Tenemos funciones que crean vectores por ejemplo:"
   ]
  },
  {
   "cell_type": "code",
   "execution_count": 7,
   "metadata": {},
   "outputs": [],
   "source": [
    "y <- rpois(200, lambda = .61)"
   ]
  },
  {
   "cell_type": "code",
   "execution_count": 8,
   "metadata": {},
   "outputs": [
    {
     "name": "stdout",
     "output_type": "stream",
     "text": [
      "  [1] 0 1 1 0 1 2 0 0 1 0 0 0 0 0 0 0 0 0 0 0 1 1 0 0 1 2 1 0 0 0 1 1 1 0 0 1 0\n",
      " [38] 0 2 0 1 1 1 1 0 0 0 1 0 0 1 3 0 0 0 0 0 0 0 2 0 0 0 1 2 0 0 0 0 1 0 0 2 0\n",
      " [75] 0 1 1 1 0 1 0 0 0 0 0 0 1 1 0 1 0 1 0 0 0 0 0 0 0 2 0 0 0 0 1 0 0 0 1 3 0\n",
      "[112] 1 1 1 0 1 1 0 1 1 0 0 0 1 3 1 1 2 0 0 0 0 3 0 0 1 0 1 0 0 0 2 0 0 1 1 0 0\n",
      "[149] 1 0 0 0 0 0 1 2 0 2 0 1 0 1 1 0 0 2 0 0 1 2 0 2 0 0 0 0 3 0 0 0 2 0 0 0 1\n",
      "[186] 0 0 1 1 0 0 0 0 0 2 3 0 1 0 1\n"
     ]
    }
   ],
   "source": [
    "print(y)"
   ]
  },
  {
   "cell_type": "markdown",
   "metadata": {},
   "source": [
    "Podemos hacer operaciones con los vectores, por ejemplo:"
   ]
  },
  {
   "cell_type": "code",
   "execution_count": 10,
   "metadata": {},
   "outputs": [
    {
     "name": "stdout",
     "output_type": "stream",
     "text": [
      "[1]  -6 105  -3  -4\n"
     ]
    }
   ],
   "source": [
    "print(x-4)"
   ]
  },
  {
   "cell_type": "code",
   "execution_count": 11,
   "metadata": {},
   "outputs": [
    {
     "name": "stdout",
     "output_type": "stream",
     "text": [
      "[1]  -8.000000 140.000000  -4.000000  -5.333333\n"
     ]
    }
   ],
   "source": [
    "print(4/3*(x-4))"
   ]
  },
  {
   "cell_type": "markdown",
   "metadata": {},
   "source": [
    "Y realizar operaciones entre vectores como:"
   ]
  },
  {
   "cell_type": "code",
   "execution_count": 12,
   "metadata": {},
   "outputs": [],
   "source": [
    "x2 <- c(48.2, 11.05, -1, 0)"
   ]
  },
  {
   "cell_type": "code",
   "execution_count": 13,
   "metadata": {},
   "outputs": [
    {
     "name": "stdout",
     "output_type": "stream",
     "text": [
      "[1] -50.20  97.95   2.00   0.00\n"
     ]
    }
   ],
   "source": [
    "print(x-x2)"
   ]
  },
  {
   "cell_type": "markdown",
   "metadata": {},
   "source": [
    "### Ejemplo: alturas de presidentes de Estados Unidos"
   ]
  },
  {
   "cell_type": "markdown",
   "metadata": {},
   "source": [
    "An article in [Wikipedia](https://en.wikipedia.org/wiki/Heights_of_presidents_and_presidential_candidates_of_the_United_States) reports data on the heights of Presidents of the United States and the heights of their opponents in the presidential election. It has been observed ([reference](https://www.washingtonpost.com/?noredirect=on), [reference](https://usatoday30.usatoday.com/news/politicselections/nation/president/2004-06-23-bush-kerry-cover_x.htm)) that the taller presidential candidate typically wins the election. In this example, we explore the data corresponding to the elections in the television era. In Table (reference) are the heights of the presidents and their opponents in the U.S. presidential elections of 1948 through 2008, extracted from the Wikipedia article."
   ]
  },
  {
   "cell_type": "code",
   "execution_count": 14,
   "metadata": {},
   "outputs": [],
   "source": [
    "winner <- c(185, 182, 182, 188, 188, 188, 185, 185, 177,\n",
    "182, 182, 193, 183, 179, 179, 175)\n",
    "opponent <- c(175, 193, 185, 187, 188, 173, 180, 177, 183,\n",
    "185, 180, 180, 182, 178, 178, 173)\n"
   ]
  },
  {
   "cell_type": "code",
   "execution_count": 15,
   "metadata": {},
   "outputs": [
    {
     "data": {
      "text/html": [
       "16"
      ],
      "text/latex": [
       "16"
      ],
      "text/markdown": [
       "16"
      ],
      "text/plain": [
       "[1] 16"
      ]
     },
     "metadata": {},
     "output_type": "display_data"
    }
   ],
   "source": [
    "length(winner)"
   ]
  },
  {
   "cell_type": "code",
   "execution_count": 16,
   "metadata": {},
   "outputs": [],
   "source": [
    "year = seq(from=2008, to=1948, by=-4)"
   ]
  },
  {
   "cell_type": "markdown",
   "metadata": {},
   "source": [
    "According to the [Washington Post blog](https://www.washingtonpost.com/?noredirect=on), Wikipedia misstates “Bill Clinton’s height, which was measured during official medical exams at 6 foot 2-1/2, making him just a tad taller than George H.W. Bush.” We can correct the height measurement for Bill Clinton by assigning a height of 189 cm to the fourth and fifth entries of the vector winner"
   ]
  },
  {
   "cell_type": "code",
   "execution_count": 17,
   "metadata": {},
   "outputs": [],
   "source": [
    "winner[4:5] = 189"
   ]
  },
  {
   "cell_type": "code",
   "execution_count": 18,
   "metadata": {},
   "outputs": [
    {
     "name": "stdout",
     "output_type": "stream",
     "text": [
      " [1] 185 182 182 189 189 188 185 185 177 182 182 193 183 179 179 175\n"
     ]
    }
   ],
   "source": [
    "print(winner)"
   ]
  },
  {
   "cell_type": "markdown",
   "metadata": {},
   "source": [
    "Are presidents taller than average adult males? According to the National Center for Health Statistics, in 2005 the average height for an adult male in the United States is 5 feet 9.2 inches or 175.768 cm. The sample mean is computed by the mean function."
   ]
  },
  {
   "cell_type": "code",
   "execution_count": 19,
   "metadata": {},
   "outputs": [
    {
     "data": {
      "text/html": [
       "183.4375"
      ],
      "text/latex": [
       "183.4375"
      ],
      "text/markdown": [
       "183.4375"
      ],
      "text/plain": [
       "[1] 183.4375"
      ]
     },
     "metadata": {},
     "output_type": "display_data"
    }
   ],
   "source": [
    "mean(winner)"
   ]
  },
  {
   "cell_type": "code",
   "execution_count": 20,
   "metadata": {},
   "outputs": [
    {
     "data": {
      "text/html": [
       "181.0625"
      ],
      "text/latex": [
       "181.0625"
      ],
      "text/markdown": [
       "181.0625"
      ],
      "text/plain": [
       "[1] 181.0625"
      ]
     },
     "metadata": {},
     "output_type": "display_data"
    }
   ],
   "source": [
    "mean(opponent)"
   ]
  },
  {
   "cell_type": "code",
   "execution_count": 21,
   "metadata": {},
   "outputs": [],
   "source": [
    "difference = winner - opponent"
   ]
  },
  {
   "cell_type": "code",
   "execution_count": 22,
   "metadata": {},
   "outputs": [
    {
     "name": "stdout",
     "output_type": "stream",
     "text": [
      " [1]  10 -11  -3   2   1  15   5   8  -6  -3   2  13   1   1   1   2\n"
     ]
    }
   ],
   "source": [
    "print(difference)"
   ]
  },
  {
   "cell_type": "markdown",
   "metadata": {},
   "source": [
    "An easy way to display our data is as a data frame:"
   ]
  },
  {
   "cell_type": "code",
   "execution_count": 23,
   "metadata": {},
   "outputs": [
    {
     "data": {
      "text/html": [
       "<table>\n",
       "<caption>A data.frame: 16 x 4</caption>\n",
       "<thead>\n",
       "\t<tr><th scope=col>year</th><th scope=col>winner</th><th scope=col>opponent</th><th scope=col>difference</th></tr>\n",
       "\t<tr><th scope=col>&lt;dbl&gt;</th><th scope=col>&lt;dbl&gt;</th><th scope=col>&lt;dbl&gt;</th><th scope=col>&lt;dbl&gt;</th></tr>\n",
       "</thead>\n",
       "<tbody>\n",
       "\t<tr><td>2008</td><td>185</td><td>175</td><td> 10</td></tr>\n",
       "\t<tr><td>2004</td><td>182</td><td>193</td><td>-11</td></tr>\n",
       "\t<tr><td>2000</td><td>182</td><td>185</td><td> -3</td></tr>\n",
       "\t<tr><td>1996</td><td>189</td><td>187</td><td>  2</td></tr>\n",
       "\t<tr><td>1992</td><td>189</td><td>188</td><td>  1</td></tr>\n",
       "\t<tr><td>1988</td><td>188</td><td>173</td><td> 15</td></tr>\n",
       "\t<tr><td>1984</td><td>185</td><td>180</td><td>  5</td></tr>\n",
       "\t<tr><td>1980</td><td>185</td><td>177</td><td>  8</td></tr>\n",
       "\t<tr><td>1976</td><td>177</td><td>183</td><td> -6</td></tr>\n",
       "\t<tr><td>1972</td><td>182</td><td>185</td><td> -3</td></tr>\n",
       "\t<tr><td>1968</td><td>182</td><td>180</td><td>  2</td></tr>\n",
       "\t<tr><td>1964</td><td>193</td><td>180</td><td> 13</td></tr>\n",
       "\t<tr><td>1960</td><td>183</td><td>182</td><td>  1</td></tr>\n",
       "\t<tr><td>1956</td><td>179</td><td>178</td><td>  1</td></tr>\n",
       "\t<tr><td>1952</td><td>179</td><td>178</td><td>  1</td></tr>\n",
       "\t<tr><td>1948</td><td>175</td><td>173</td><td>  2</td></tr>\n",
       "</tbody>\n",
       "</table>\n"
      ],
      "text/latex": [
       "A data.frame: 16 x 4\n",
       "\\begin{tabular}{r|llll}\n",
       " year & winner & opponent & difference\\\\\n",
       " <dbl> & <dbl> & <dbl> & <dbl>\\\\\n",
       "\\hline\n",
       "\t 2008 & 185 & 175 &  10\\\\\n",
       "\t 2004 & 182 & 193 & -11\\\\\n",
       "\t 2000 & 182 & 185 &  -3\\\\\n",
       "\t 1996 & 189 & 187 &   2\\\\\n",
       "\t 1992 & 189 & 188 &   1\\\\\n",
       "\t 1988 & 188 & 173 &  15\\\\\n",
       "\t 1984 & 185 & 180 &   5\\\\\n",
       "\t 1980 & 185 & 177 &   8\\\\\n",
       "\t 1976 & 177 & 183 &  -6\\\\\n",
       "\t 1972 & 182 & 185 &  -3\\\\\n",
       "\t 1968 & 182 & 180 &   2\\\\\n",
       "\t 1964 & 193 & 180 &  13\\\\\n",
       "\t 1960 & 183 & 182 &   1\\\\\n",
       "\t 1956 & 179 & 178 &   1\\\\\n",
       "\t 1952 & 179 & 178 &   1\\\\\n",
       "\t 1948 & 175 & 173 &   2\\\\\n",
       "\\end{tabular}\n"
      ],
      "text/markdown": [
       "\n",
       "A data.frame: 16 x 4\n",
       "\n",
       "| year &lt;dbl&gt; | winner &lt;dbl&gt; | opponent &lt;dbl&gt; | difference &lt;dbl&gt; |\n",
       "|---|---|---|---|\n",
       "| 2008 | 185 | 175 |  10 |\n",
       "| 2004 | 182 | 193 | -11 |\n",
       "| 2000 | 182 | 185 |  -3 |\n",
       "| 1996 | 189 | 187 |   2 |\n",
       "| 1992 | 189 | 188 |   1 |\n",
       "| 1988 | 188 | 173 |  15 |\n",
       "| 1984 | 185 | 180 |   5 |\n",
       "| 1980 | 185 | 177 |   8 |\n",
       "| 1976 | 177 | 183 |  -6 |\n",
       "| 1972 | 182 | 185 |  -3 |\n",
       "| 1968 | 182 | 180 |   2 |\n",
       "| 1964 | 193 | 180 |  13 |\n",
       "| 1960 | 183 | 182 |   1 |\n",
       "| 1956 | 179 | 178 |   1 |\n",
       "| 1952 | 179 | 178 |   1 |\n",
       "| 1948 | 175 | 173 |   2 |\n",
       "\n"
      ],
      "text/plain": [
       "   year winner opponent difference\n",
       "1  2008 185    175       10       \n",
       "2  2004 182    193      -11       \n",
       "3  2000 182    185       -3       \n",
       "4  1996 189    187        2       \n",
       "5  1992 189    188        1       \n",
       "6  1988 188    173       15       \n",
       "7  1984 185    180        5       \n",
       "8  1980 185    177        8       \n",
       "9  1976 177    183       -6       \n",
       "10 1972 182    185       -3       \n",
       "11 1968 182    180        2       \n",
       "12 1964 193    180       13       \n",
       "13 1960 183    182        1       \n",
       "14 1956 179    178        1       \n",
       "15 1952 179    178        1       \n",
       "16 1948 175    173        2       "
      ]
     },
     "metadata": {},
     "output_type": "display_data"
    }
   ],
   "source": [
    "data.frame(year, winner, opponent, difference)"
   ]
  },
  {
   "cell_type": "markdown",
   "metadata": {},
   "source": [
    "... We see that most, but not all, of the differences in height are positive, indicating that the taller candidate won the election. "
   ]
  },
  {
   "cell_type": "code",
   "execution_count": 24,
   "metadata": {},
   "outputs": [],
   "source": [
    "taller.won = winner > opponent"
   ]
  },
  {
   "cell_type": "code",
   "execution_count": 25,
   "metadata": {},
   "outputs": [
    {
     "name": "stdout",
     "output_type": "stream",
     "text": [
      " [1]  TRUE FALSE FALSE  TRUE  TRUE  TRUE  TRUE  TRUE FALSE FALSE  TRUE  TRUE\n",
      "[13]  TRUE  TRUE  TRUE  TRUE\n"
     ]
    }
   ],
   "source": [
    "print(taller.won)"
   ]
  },
  {
   "cell_type": "markdown",
   "metadata": {},
   "source": [
    "The table function summarizes discrete data such as the result in the vector taller.won"
   ]
  },
  {
   "cell_type": "code",
   "execution_count": 26,
   "metadata": {},
   "outputs": [
    {
     "data": {
      "text/plain": [
       "taller.won\n",
       "FALSE  TRUE \n",
       "    4    12 "
      ]
     },
     "metadata": {},
     "output_type": "display_data"
    }
   ],
   "source": [
    "table(taller.won)"
   ]
  },
  {
   "cell_type": "markdown",
   "metadata": {},
   "source": [
    "We can use the result of table to display percentages if we divide the result by 16 and multiply that result by 100."
   ]
  },
  {
   "cell_type": "code",
   "execution_count": 27,
   "metadata": {},
   "outputs": [
    {
     "data": {
      "text/plain": [
       "taller.won\n",
       "FALSE  TRUE \n",
       "   25    75 "
      ]
     },
     "metadata": {},
     "output_type": "display_data"
    }
   ],
   "source": [
    "table(taller.won) / 16 * 100"
   ]
  },
  {
   "cell_type": "markdown",
   "metadata": {},
   "source": [
    "Thus, in the last 16 elections, the odds in favor of the taller candidate winning the election are 3 to 1."
   ]
  },
  {
   "cell_type": "markdown",
   "metadata": {},
   "source": [
    "Several types of graphs of this data may be interesting to help visualize any pattern. For example, we could display a barplot of differences using the barplot function. For the plot we use the `rev` function to reverse the order of the differences so that the election year is increasing from left to right. We also provide a descriptive label for both axes."
   ]
  },
  {
   "cell_type": "code",
   "execution_count": 36,
   "metadata": {},
   "outputs": [],
   "source": [
    "options(repr.plot.width=4, repr.plot.height=4) #esto sólo para jupyter con R"
   ]
  },
  {
   "cell_type": "code",
   "execution_count": 34,
   "metadata": {},
   "outputs": [
    {
     "data": {
      "image/png": "[encoded data removed]",
      "text/plain": [
       "plot without title"
      ]
     },
     "metadata": {},
     "output_type": "display_data"
    }
   ],
   "source": [
    "barplot(rev(difference), xlab=\"Election years 1948 to 2008\",ylab=\"Height difference in cm\")"
   ]
  },
  {
   "cell_type": "markdown",
   "metadata": {},
   "source": [
    "Barplot of the difference in height of the election winner in the Electoral College over the height of the main opponent in the U.S. Presidential elections. Height differences in centimeters for election years 1948 through 2008 are shown from left to right. The electoral vote determines the outcome of the election. In 12 out of these 16 elections, the taller candidate won the electoral vote. In 2000, the taller candidate (Al Gore) did not win the electoral vote, but received more popular votes."
   ]
  },
  {
   "cell_type": "markdown",
   "metadata": {},
   "source": [
    "It would also be interesting to display a scatterplot of the data. A scatter- plot of loser’s heights vs winner’s height..."
   ]
  },
  {
   "cell_type": "code",
   "execution_count": 35,
   "metadata": {},
   "outputs": [
    {
     "data": {
      "image/png": "[encoded data removed]",
      "text/plain": [
       "plot without title"
      ]
     },
     "metadata": {},
     "output_type": "display_data"
    }
   ],
   "source": [
    "plot(winner, opponent)"
   ]
  },
  {
   "cell_type": "markdown",
   "metadata": {},
   "source": [
    "### En un script de R ..."
   ]
  },
  {
   "cell_type": "markdown",
   "metadata": {},
   "source": [
    "El ejemplo anterior lo podemos escribir en un sólo *script* el cual contiene las líneas de código de arriba:"
   ]
  },
  {
   "cell_type": "raw",
   "metadata": {},
   "source": [
    "#Archivo con extensión .R:\n",
    "winner <- c(185, 182, 182, 188, 188, 188, 185, 185, 177,\n",
    "182, 182, 193, 183, 179, 179, 175)\n",
    "opponent <- c(175, 193, 185, 187, 188, 173, 180, 177, 183,\n",
    "185, 180, 180, 182, 178, 178, 173)\n",
    "year = seq(from=2008, to=1948, by=-4)\n",
    "winner[4:5] = 189\n",
    "difference = winner - opponent\n",
    "data.frame(year, winner, opponent, difference)\n",
    "taller.won = winner > opponent\n",
    "if (sum(taller.won) > sum(!taller.won))\n",
    "    print('its true that the taller presidential candidate typically wins the election')"
   ]
  },
  {
   "cell_type": "markdown",
   "metadata": {},
   "source": [
    "Y lo ejecutamos guardándolo con nombre `miscript.R` en el directorio de trabajo, el cual se obtiene con: `getwd()`"
   ]
  },
  {
   "cell_type": "markdown",
   "metadata": {},
   "source": [
    "Hacemos:"
   ]
  },
  {
   "cell_type": "code",
   "execution_count": 67,
   "metadata": {},
   "outputs": [
    {
     "name": "stdout",
     "output_type": "stream",
     "text": [
      "[1] \"its true that the taller presidential candidate typically wins the election\"\n"
     ]
    }
   ],
   "source": [
    "source('miscript.R')"
   ]
  },
  {
   "cell_type": "markdown",
   "metadata": {},
   "source": [
    "## Secciones 1.3, 1.4, 1.7, 1.8, 1.9, 1.10, 1.16, 1.17 del libro de texto \"Probability and Statistics with R\" de M.D. Ugarte, A. F. Militino, A. T. Arnholt, **2ed**."
   ]
  },
  {
   "cell_type": "markdown",
   "metadata": {},
   "source": [
    "El libro tiene github para sus scripts [alanarnholt/PASWR2E-Rscripts](https://github.com/alanarnholt/PASWR2E-Rscripts)"
   ]
  },
  {
   "cell_type": "markdown",
   "metadata": {},
   "source": [
    "Temas importantes a revisar:\n",
    "\n",
    "* Vectors (1.3)\n",
    "* Mode & Class of an Object (1.4)\n",
    "* Rstudio (1.7)\n",
    "* Packages (1.8)\n",
    "* R Data Structures (1.9)\n",
    "    * Arrays & Matrices\n",
    "    * Lists\n",
    "    * Data frames\n",
    "* Reading and Saving Data in R (1.10)\n",
    "* Flow Control (1.16)\n",
    "* Creating functions (1.17)"
   ]
  },
  {
   "cell_type": "markdown",
   "metadata": {},
   "source": [
    "Algunos enunciados relevantes en el libro:\n",
    "\n",
    "**sección 1.3**\n",
    "\n",
    "* \"... All of the elements of a vector must have the same mode, that is, data type...\". Para más sobre el *mode* de un objeto ver [3.1 Intrinsic attributes: mode and length](https://cran.r-project.org/doc/manuals/R-intro.html#The-intrinsic-attributes-mode-and-length).\n",
    "\n",
    "* \"..., how do vectors with more than one element interact with vectors containing a single element (scalars)? Mathematical operations may be applied to two vectors provided the vectors are of the same length. **When the two vectors are not of the same length, R recycles the values of the shorter vector until the length of the shorter vector matches that of the longer vector**... **\"...Objects of different modes stored together are automatically converted to the simplest mode to represent the information...\"**.\n",
    "\n",
    "* \"Indices for R vectors start at 1, unlike indices in C and C++, which start at 0. Individual elements of a vector are accessed with [] (square brackets)...\" (sección 1.3.2)\n",
    "\n",
    "**sección 1.4**\n",
    "\n",
    "* \"...Many functions in R will behave differently depending on the class of their arguments. Functions that behave in this fashion are known as generic functions. Two common generic functions are print() and summary()...\"\n",
    "\n",
    "* \"... Although the only type of data structure discussed thus far has been the vector, which was described as a variable and subsequently called an object, **everything in R is actually an object**. Stored results from analyses, matrices, arrays, vectors, and so on, are all considered objects in R...\" \n",
    "\n",
    "* \"...It is not always the case that the mode and class of an object coincide. The mode of a linear model object is stored as a list; however, the class of a linear model object is lm...\"\n",
    "\n",
    "**sección 1.9**\n",
    "\n",
    "* \"...The concept of a vector is crucial as other data structures are defined in terms of vectors... an array is a vector with a dimension attribute... a matrix is also a vector...most R lists are generic vectors...data frames are data structures similar to matrices that allow the columns (vectors) to be of different types... **Data frames are the fundamental data structure used for most R's modeling software**...\"\n",
    "\n",
    "* \"Arrays are multidimensional arrangements of elements. A very common example of an array is a matrix, which is a two-dimensional array\"\n",
    "\n",
    "* \"Although two-dimensional arrays are matrices and the array() function can be used to create a matrix, the matrix() function allows the user to create matrices by using row-major order as well as column-major order.\" Para ver más sobre arrays y matrices y operaciones, factorizaciones matriciales y concatenación: [5 Arrays and matrices](https://cran.r-project.org/doc/manuals/R-intro.html#Arrays-and-matrices)\n",
    "\n",
    "* \"A factor is a vector with additional information indicating the distinct values or levels of the vector. Many statistical problems use categorical variables to classify subjects or to subdivide the data. Examples include variables such as socioeconomic status, gender, and marriage status. When using R, one should store categorical data in factors. To create a factor from a vector, one can use the factor() function.\" (sección 1.9.3)\n",
    "\n",
    "* \"A list is an object whose elements can be of different modes\" (sección 1.9.4). Para ver más sobre listas ver: [6 Lists and data frames](https://cran.r-project.org/doc/manuals/R-intro.html#Lists-and-data-frames).\n",
    "\n",
    "* \"A data frame is similar to a matrix in the sense that it is a rectangular structure used to store information. **It is different in that all elements of a matrix must be of the same mode (numeric, character, etc.), but this restriction does not apply to data frames**...\" (sección 1.9.5).\n",
    "\n",
    "* Leer con atención el uso de la función `attach` y `detach` en la sección 1.9.5.2 \"Accessing Data Frames\" y sección 1.9.5.3 \"Accessing Data from Packages\"."
   ]
  },
  {
   "cell_type": "markdown",
   "metadata": {},
   "source": [
    "## Otras referencias utilizadas en esta nota:\n",
    "\n",
    "* https://cran.r-project.org/doc/manuals/R-intro.html"
   ]
  },
  {
   "cell_type": "code",
   "execution_count": null,
   "metadata": {},
   "outputs": [],
   "source": []
  }
 ],
 "metadata": {
  "kernelspec": {
   "display_name": "R",
   "language": "R",
   "name": "ir"
  },
  "language_info": {
   "codemirror_mode": "r",
   "file_extension": ".r",
   "mimetype": "text/x-r-source",
   "name": "R",
   "pygments_lexer": "r",
   "version": "3.6.0"
  }
 },
 "nbformat": 4,
 "nbformat_minor": 2
}
