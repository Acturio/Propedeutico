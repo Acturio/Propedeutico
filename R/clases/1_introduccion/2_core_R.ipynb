{
 "cells": [
  {
   "cell_type": "markdown",
   "metadata": {},
   "source": [
    "Revisar y ejecutar los ejemplos secciones 1.3, 1.4, 1.7, 1.8, 1.9, 1.10, 1.16, 1.17 del libro de texto \"Probability and Statistics with R\" de M.D. Ugarte, A. F. Militino, A. T. Arnholt, **2ed**. El libro tiene github para sus scripts [alanarnholt/PASWR2E-Rscripts](https://github.com/alanarnholt/PASWR2E-Rscripts)"
   ]
  },
  {
   "cell_type": "markdown",
   "metadata": {},
   "source": [
    "Temas:\n",
    "\n",
    "* Vectores (1.3)\n",
    "* Mode & Class of an Object (1.4)\n",
    "* Rstudio (1.7)\n",
    "* Packages (1.8)\n",
    "* R Data Structures (1.9)\n",
    "    * Arrays & Matrices\n",
    "    * Lists\n",
    "    * Data frames\n",
    "* Reading and Saving Data in R (1.10)\n",
    "* Flow Control (1.16)\n",
    "* Creating functions (1.17)"
   ]
  },
  {
   "cell_type": "markdown",
   "metadata": {},
   "source": [
    "Algunos enunciados relevantes en el libro:\n",
    "\n",
    "**sección 1.3**\n",
    "\n",
    "* \"... All of the elements of a vector must have the same mode, that is, data type...\". Para más sobre el *mode* de un objeto ver [3.1 Intrinsic attributes: mode and length](https://cran.r-project.org/doc/manuals/R-intro.html#The-intrinsic-attributes-mode-and-length).\n",
    "\n",
    "* \"..., how do vectors with more than one element interact with vectors containing a single element (scalars)? Mathematical operations may be applied to two vectors provided the vectors are of the same length. **When the two vectors are not of the same length, R recycles the values of the shorter vector until the length of the shorter vector matches that of the longer vector**... **\"...Objects of different modes stored together are automatically converted to the simplest mode to represent the information...\"**.\n",
    "\n",
    "* \"Indices for R vectors start at 1, unlike indices in C and C++, which start at 0. Individual elements of a vector are accessed with [] (square brackets)...\" (sección 1.3.2)\n",
    "\n",
    "**sección 1.4**\n",
    "\n",
    "* \"...Many functions in R will behave differently depending on the class of their arguments. Functions that behave in this fashion are known as generic functions. Two common generic functions are print() and summary()...\"\n",
    "\n",
    "* \"... Although the only type of data structure discussed thus far has been the vector, which was described as a variable and subsequently called an object, **everything in R is actually an object**. Stored results from analyses, matrices, arrays, vectors, and so on, are all considered objects in R...\" \n",
    "\n",
    "* \"...It is not always the case that the mode and class of an object coincide. The mode of a linear model object is stored as a list; however, the class of a linear model object is lm...\"\n",
    "\n",
    "**sección 1.9**\n",
    "\n",
    "* \"...The concept of a vector is crucial as other data structures are defined in terms of vectors... an array is a vector with a dimension attribute... a matrix is also a vector...most R lists are generic vectors...data frames are data structures similar to matrices that allow the columns (vectors) to be of different types... **Data frames are the fundamental data structure used for most R's modeling software**...\"\n",
    "\n",
    "* \"Arrays are multidimensional arrangements of elements. A very common example of an array is a matrix, which is a two-dimensional array\"\n",
    "\n",
    "* \"Although two-dimensional arrays are matrices and the array() function can be used to create a matrix, the matrix() function allows the user to create matrices by using row-major order as well as column-major order.\" Para ver más sobre arrays y matrices y operaciones, factorizaciones matriciales y concatenación: [5 Arrays and matrices](https://cran.r-project.org/doc/manuals/R-intro.html#Arrays-and-matrices)\n",
    "\n",
    "* \"A factor is a vector with additional information indicating the distinct values or levels of the vector. Many statistical problems use categorical variables to classify subjects or to subdivide the data. Examples include variables such as socioeconomic status, gender, and marriage status. When using R, one should store categorical data in factors. To create a factor from a vector, one can use the factor() function.\" (sección 1.9.3)\n",
    "\n",
    "* \"A list is an object whose elements can be of different modes\" (sección 1.9.4). Para ver más sobre listas ver: [6 Lists and data frames](https://cran.r-project.org/doc/manuals/R-intro.html#Lists-and-data-frames).\n",
    "\n",
    "* \"A data frame is similar to a matrix in the sense that it is a rectangular structure used to store information. **It is different in that all elements of a matrix must be of the same mode (numeric, character, etc.), but this restriction does not apply to data frames**...\" (sección 1.9.5).\n",
    "\n",
    "* Leer con atención el uso de la función `attach` y `detach` en la sección 1.9.5.2 \"Accessing Data Frames\" y sección 1.9.5.3 \"Accessing Data from Packages\"."
   ]
  },
  {
   "cell_type": "markdown",
   "metadata": {},
   "source": [
    "## Otras referencias utilizadas en esta nota:\n",
    "\n",
    "* https://cran.r-project.org/doc/manuals/R-intro.html"
   ]
  },
  {
   "cell_type": "code",
   "execution_count": null,
   "metadata": {},
   "outputs": [],
   "source": []
  }
 ],
 "metadata": {
  "kernelspec": {
   "display_name": "R",
   "language": "R",
   "name": "ir"
  },
  "language_info": {
   "codemirror_mode": "r",
   "file_extension": ".r",
   "mimetype": "text/x-r-source",
   "name": "R",
   "pygments_lexer": "r",
   "version": "3.6.0"
  }
 },
 "nbformat": 4,
 "nbformat_minor": 2
}
