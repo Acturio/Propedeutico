{
 "cells": [
  {
   "cell_type": "markdown",
   "metadata": {},
   "source": [
    "Lo siguiente está basado en el libro de B. Rumbos, Pensando Antes de Actuar: Fundamentos de Elección Racional, 2009 y de G. J. Kerns, Introduction to Probability and Statistics Using R, 2014."
   ]
  },
  {
   "cell_type": "markdown",
   "metadata": {},
   "source": [
    "El libro de G. J. Kerns tiene github: [jkerns/IPSUR](https://github.com/gjkerns/IPSUR)"
   ]
  },
  {
   "cell_type": "markdown",
   "metadata": {},
   "source": [
    "**Notas:**\n",
    "\n",
    "* Se utilizará el paquete *prob* de *R* para los experimentos descritos en la nota y aunque con funciones nativas de *R* se pueden crear los experimentos, se le da preferencia a mostrar cómo en *R* se tienen paquetes para muchas aplicaciones.\n",
    "\n",
    "* En algunas líneas no es necesario colocar `print` y sólo se ha realizado para mostrar los resultados de las funciones en un formato similar al de R pues la nota se escribió con *jupyterlab* y *R*.\n",
    "\n",
    "* Cuidado al utilizar las funciones del paquete *prob* para construir espacios de probabilidad grandes como lanzar un dado 9 veces... (tal experimento tiene 10 millones de posibles resultados)"
   ]
  },
  {
   "cell_type": "code",
   "execution_count": 1,
   "metadata": {},
   "outputs": [],
   "source": [
    "options(repr.plot.width=3, repr.plot.height=3) #esta línea sólo se ejecuta para jupyterlab con R"
   ]
  },
  {
   "cell_type": "code",
   "execution_count": 2,
   "metadata": {},
   "outputs": [
    {
     "name": "stderr",
     "output_type": "stream",
     "text": [
      "Loading required package: combinat\n",
      "\n",
      "Attaching package: 'combinat'\n",
      "\n",
      "The following object is masked from 'package:utils':\n",
      "\n",
      "    combn\n",
      "\n",
      "Loading required package: fAsianOptions\n",
      "Loading required package: timeDate\n",
      "Loading required package: timeSeries\n",
      "Loading required package: fBasics\n",
      "Loading required package: fOptions\n",
      "\n",
      "Attaching package: 'prob'\n",
      "\n",
      "The following objects are masked from 'package:base':\n",
      "\n",
      "    intersect, setdiff, union\n",
      "\n"
     ]
    }
   ],
   "source": [
    "library(prob)\n",
    "library(ggplot2)"
   ]
  },
  {
   "cell_type": "markdown",
   "metadata": {},
   "source": [
    "# Variables aleatorias"
   ]
  },
  {
   "cell_type": "markdown",
   "metadata": {},
   "source": [
    "En este tema nos interesa asociar un *número* con el experimento aleatorio, aún más, que el número esté asociado con cada resultado del experimento aleatorio de modo que al realizar el experimento y observar el resultado $\\omega$ en $S$, el espacio de resultados, se calcule el número $X$. Esto es, para cada resultado (outcome) $r$ en $S$ se asocia el número $X(r)=x$."
   ]
  },
  {
   "cell_type": "markdown",
   "metadata": {},
   "source": [
    "Una variable aleatoria $X$ es una **función** $X: S \\rightarrow \\mathbb{R}$ que asocia cada resultado (outcome) $r \\in S$ de un experimento aleatorio, exactamente un número $X(r)=x$."
   ]
  },
  {
   "cell_type": "markdown",
   "metadata": {},
   "source": [
    "**Obs:** obsérvese que $X$ es aleatoria pues se define en términos del experimento aleatorio, por lo que $X$ toma valores númericos, cada uno con cierta probabilidad."
   ]
  },
  {
   "cell_type": "markdown",
   "metadata": {},
   "source": [
    "**Obs2:** típicamente se utiliza las letras mayúsculas para denotar a las variables aleatorias (funciones) y sus valores observados (los números que pueden tomar) con letras minúsculas. "
   ]
  },
  {
   "cell_type": "markdown",
   "metadata": {},
   "source": [
    "Así como $S$ es el espacio de resultados posibles del experimento, el **soporte de una variable aleatoria** es el conjunto de posibles valores que la variable aleatoria puede tomar. Si $X$ es variable aleatoria su soporte se denota: $S_X$."
   ]
  },
  {
   "cell_type": "markdown",
   "metadata": {},
   "source": [
    "## Ejemplos"
   ]
  },
  {
   "cell_type": "markdown",
   "metadata": {},
   "source": [
    "1) **Experimento:** lanzar dos veces una moneda. \n",
    "\n",
    "Se tiene: $S=${AA, AS, SA, SS}. Defínase $X$ la variable aleatoria como: $X$ cuenta el número de águilas. Entonces $X(AA) = 2$, $X(AS)=1$. Y podemos realizar una tabla con las posibilidades:\n",
    "\n",
    "|$r \\in S$| AA|AS|SA|SS|\n",
    "|:-----------:|:-----------:|:-----------:|:-----------:|:-----------:\n",
    "|$X(r) = x$|2|1|1|0|"
   ]
  },
  {
   "cell_type": "markdown",
   "metadata": {},
   "source": [
    "Se tiene que $S_X=\\{0,1,2\\}$ (conjunto de valores de $X$)."
   ]
  },
  {
   "cell_type": "markdown",
   "metadata": {},
   "source": [
    "2) **Experimento:** lanzar una moneda hasta observar un águila.\n",
    "\n",
    "Se tiene: $S=${A, SA, SSA, SSSA, \\dots}. Defínase $Y$ la variable aleatoria como: $Y$ cuenta el número de soles antes del primer águila. Entonces $S_Y=\\{0, 1, 2, \\dots\\}$"
   ]
  },
  {
   "cell_type": "markdown",
   "metadata": {},
   "source": [
    "3) Considérese el experimento de lanzar una moneda al aire y defínase la variable aleatoria $Z$ como: $Z$ el tiempo en segundos que le toma a la moneda caer al suelo. Entonces $S$ es el conjunto de números positivos y de hecho $S_Z$ también lo es."
   ]
  },
  {
   "cell_type": "markdown",
   "metadata": {},
   "source": [
    "**Obs:** Obsérvese en los ejemplos anteriores que los soportes de las variables $X, Y, Z$ son distintos. De hecho: $S_X$ es un conjunto finito, $S_Y$ es un conjunto infinito pero contable y $S_Z$ es un conjunto infinito no contable. Variables aleatorias con soportes similares a los de $X$ y $Y$ se les nombra **discretas** y similares al soporte de $Z$ se les nombra **continuas**."
   ]
  },
  {
   "cell_type": "markdown",
   "metadata": {},
   "source": [
    "## Distribución de probabilidad de una variable aleatoria"
   ]
  },
  {
   "cell_type": "markdown",
   "metadata": {},
   "source": [
    "Supongamos que $X$ es una variable aleatoria tal que dado un conjunto de resultados inciertos $\\{r_1,\\dots, r_n\\}$ ésta toma valores $X(r_1)=x_1,\\dots, X(r_n)=x_n$. Nótese que éstos no necesariamente son distintos. La probabilidad de que la variable aleatoria tome el valor $x_i$ se denota por: $P(X = x_i)$."
   ]
  },
  {
   "cell_type": "markdown",
   "metadata": {},
   "source": [
    "A la regla de correspondencia que asigna a cada valor $x_i$ su probabilidad $P(X = x_i),$ se le llama **distribución de probabilidad** de la variable aleatoria $X$. Si denotamos a esta regla por $f$ se tiene que: $f(x_i) = P(X = x_i)$."
   ]
  },
  {
   "cell_type": "markdown",
   "metadata": {},
   "source": [
    "**Notas:**\n",
    "\n",
    "* A veces también se utiliza la notación: $f_X(x_i)$.\n",
    "\n",
    "* Obsérvese que en estricto sentido se debería escribir: $f(x_i) = P(X(r_i) = x_i)$ pero por simplicidad en la escritura y notación se utiliza $f(x_i) = P(X = x_i)$."
   ]
  },
  {
   "cell_type": "markdown",
   "metadata": {},
   "source": [
    "### Ejemplos"
   ]
  },
  {
   "cell_type": "markdown",
   "metadata": {},
   "source": [
    "1) Supongamos que un volado ofrece una ganancia de $\\$ 100$ si sale águila y una pérdida de $\\$ 60$ si se sale sol. La variable aleatoria $X$ es la función dada por: $X(A) = 100$, $X(S) = -60$. La distribución de probabilidad $f$ es: $$f(100) = P(X = 100) = P(\\{A\\}) = \\frac{1}{2}$$ "
   ]
  },
  {
   "cell_type": "markdown",
   "metadata": {},
   "source": [
    "$$f(-60) = P(X = -60) = P(\\{S\\}) = \\frac{1}{2}$$"
   ]
  },
  {
   "cell_type": "markdown",
   "metadata": {},
   "source": [
    "2) Supóngase que el evento aleatorio es: $E=$ {el día de hoy llueve} y defínase $X$ variable aleatoria que representa un número que asocia mi satisfacción con la situación \"llevar paraguas\" y toma valores: $X(E) = 5, X(E^c) = -1$, esto es: llevo paraguas y si llueve me produce una satisfacción de $5$ puntos y si llevo paraguas y no llueve la inconveniencia me causa un disgusto de -1 punto.\n",
    "\n",
    "\n",
    "También defínase $Y$ como la variable aleatoria que representa un número que asocia mi satisfacción  con la situación \"no llevar paraguas\" y toma valores: $Y(E) = -6$, $Y(E^c)=4$. \n",
    "\n",
    "\n",
    "Las distribuciones de probabilidad de $X$ y $Y$ están dadas por la siguiente tabla y supóngase que $f$ es la distribución de probabilidad $X$ y $g$ es la de $Y$:\n",
    "\n",
    "|Evento|Valor de $X$|Valor de $Y$|P(Variable aleatoria = valor)|\n",
    "|:----:|:----:|:----:|:----:\n",
    "|llueve|5|-6|f(5) = P(X=5) = g(-6) = P(Y=-6) = .45|\n",
    "|no llueve|-1|4|f(-1) = P(X = -1) = g(4) = P(Y = 4) = .55|"
   ]
  },
  {
   "cell_type": "markdown",
   "metadata": {},
   "source": [
    "3) Pensemos en una urna con $10$ canicas rojas, $2$ amarillas y $3$ azules. Se nos ofrecen los siguientes premios: perder $\\$100$ si sacamos una canica roja, ganar $\\$150$ si sacamos un canica azul o amarilla. La variable aleatoria $Y$ es $Y(\\{roja\\}) = -100, Y (\\{azul\\}) = Y (\\{amarilla\\}) = 150$. La distribución de probabilidad de $f$ es:\n",
    "\n",
    "$$f(-100) = P(Y = -100) = P(\\{roja\\}) = \\frac{10}{15}$$"
   ]
  },
  {
   "cell_type": "markdown",
   "metadata": {},
   "source": [
    "$$f(150) = P(Y = 150) = P(\\{azul\\} \\cup \\{amarilla\\}) = \\frac{3}{15} + \\frac{2}{15}$$"
   ]
  },
  {
   "cell_type": "markdown",
   "metadata": {},
   "source": [
    "## Representación de la distribución de probabilidad de una variable"
   ]
  },
  {
   "cell_type": "markdown",
   "metadata": {},
   "source": [
    "La distribución de probabilidad puede representarse visualmente en un diagrama al que llamamos **histograma de probabilidad**. Un histograma es simplemente una gráfica de barras. Para este caso, en el eje horizontal se representan los valores que puede tomar la variable aleatoria y en el eje vertical la probabilidad asociada a cada valor. Por ejemplo, para el caso de los ejemplos $3)$ anterior:"
   ]
  },
  {
   "cell_type": "code",
   "execution_count": 3,
   "metadata": {},
   "outputs": [],
   "source": [
    "df = data.frame(evento = c('no llueve', 'llueve'), X = c(-1, 5), probabilidad=c(.55,.45))"
   ]
  },
  {
   "cell_type": "code",
   "execution_count": 4,
   "metadata": {},
   "outputs": [
    {
     "data": {
      "text/html": [
       "<table>\n",
       "<caption>A data.frame: 2 x 3</caption>\n",
       "<thead>\n",
       "\t<tr><th scope=col>evento</th><th scope=col>X</th><th scope=col>probabilidad</th></tr>\n",
       "\t<tr><th scope=col>&lt;fct&gt;</th><th scope=col>&lt;dbl&gt;</th><th scope=col>&lt;dbl&gt;</th></tr>\n",
       "</thead>\n",
       "<tbody>\n",
       "\t<tr><td>no llueve</td><td>-1</td><td>0.55</td></tr>\n",
       "\t<tr><td>llueve   </td><td> 5</td><td>0.45</td></tr>\n",
       "</tbody>\n",
       "</table>\n"
      ],
      "text/latex": [
       "A data.frame: 2 x 3\n",
       "\\begin{tabular}{r|lll}\n",
       " evento & X & probabilidad\\\\\n",
       " <fct> & <dbl> & <dbl>\\\\\n",
       "\\hline\n",
       "\t no llueve & -1 & 0.55\\\\\n",
       "\t llueve    &  5 & 0.45\\\\\n",
       "\\end{tabular}\n"
      ],
      "text/markdown": [
       "\n",
       "A data.frame: 2 x 3\n",
       "\n",
       "| evento &lt;fct&gt; | X &lt;dbl&gt; | probabilidad &lt;dbl&gt; |\n",
       "|---|---|---|\n",
       "| no llueve | -1 | 0.55 |\n",
       "| llueve    |  5 | 0.45 |\n",
       "\n"
      ],
      "text/plain": [
       "  evento    X  probabilidad\n",
       "1 no llueve -1 0.55        \n",
       "2 llueve     5 0.45        "
      ]
     },
     "metadata": {},
     "output_type": "display_data"
    }
   ],
   "source": [
    "df"
   ]
  },
  {
   "cell_type": "code",
   "execution_count": 5,
   "metadata": {},
   "outputs": [
    {
     "data": {
      "image/png": "[encoded data removed]",
      "text/plain": [
       "plot without title"
      ]
     },
     "metadata": {},
     "output_type": "display_data"
    }
   ],
   "source": [
    "ggplot(data = df, aes(x=X, y=probabilidad)) + \n",
    "geom_col(fill=c('coral3','steelblue'))  +\n",
    "geom_label(aes(label=evento))"
   ]
  },
  {
   "cell_type": "markdown",
   "metadata": {},
   "source": [
    "Y si se asume que la base de los rectángulos, por convención mide una unidad, observemos que la suma de las áreas de los rectángulos siempre es $1$ pues ésta es simplemente la suma de las probabilidades de todos los valores posibles que toma la variable aleatoria, concretamente: $$\\displaystyle \\sum_{i=1}^nf(x_i) = 1.$$"
   ]
  },
  {
   "cell_type": "markdown",
   "metadata": {},
   "source": [
    "## Transformaciones de variables aleatorias"
   ]
  },
  {
   "cell_type": "markdown",
   "metadata": {},
   "source": [
    "### ¿Cómo hacerlo en R?"
   ]
  },
  {
   "cell_type": "markdown",
   "metadata": {},
   "source": [
    "Se usa la función `addrv` del paquete `prob` y se tienen $2$ opciones (la función `addrv` se aplica únicamente a **data frames**)."
   ]
  },
  {
   "cell_type": "code",
   "execution_count": 6,
   "metadata": {},
   "outputs": [
    {
     "data": {
      "text/html": [
       "<pre class=language-r><code>function (space, FUN = NULL, invars = NULL, name = NULL, ...) \n",
       "NULL</code></pre>"
      ],
      "text/latex": [
       "\\begin{minted}{r}\n",
       "function (space, FUN = NULL, invars = NULL, name = NULL, ...) \n",
       "NULL\n",
       "\\end{minted}"
      ],
      "text/markdown": [
       "```r\n",
       "function (space, FUN = NULL, invars = NULL, name = NULL, ...) \n",
       "NULL\n",
       "```"
      ],
      "text/plain": [
       "function (space, FUN = NULL, invars = NULL, name = NULL, ...) \n",
       "NULL"
      ]
     },
     "metadata": {},
     "output_type": "display_data"
    }
   ],
   "source": [
    "args(addrv)"
   ]
  },
  {
   "cell_type": "markdown",
   "metadata": {},
   "source": [
    "**Primera opción**"
   ]
  },
  {
   "cell_type": "markdown",
   "metadata": {},
   "source": [
    "La idea es escribir una fórmula que defina la variable aleatoria dentro de la función `addrv`. El resultado se añadirá como columna a un *data frame*."
   ]
  },
  {
   "cell_type": "markdown",
   "metadata": {},
   "source": [
    "#### Ejemplo"
   ]
  },
  {
   "cell_type": "code",
   "execution_count": 7,
   "metadata": {},
   "outputs": [],
   "source": [
    "S <- rolldie(3, nsides = 4, makespace = TRUE) #lanzamiento de un dado tres veces.\n",
    "                                              #el dado tiene cuatro lados"
   ]
  },
  {
   "cell_type": "code",
   "execution_count": 8,
   "metadata": {},
   "outputs": [
    {
     "data": {
      "text/html": [
       "<table>\n",
       "<caption>A data.frame: 6 x 4</caption>\n",
       "<thead>\n",
       "\t<tr><th scope=col>X1</th><th scope=col>X2</th><th scope=col>X3</th><th scope=col>probs</th></tr>\n",
       "\t<tr><th scope=col>&lt;int&gt;</th><th scope=col>&lt;int&gt;</th><th scope=col>&lt;int&gt;</th><th scope=col>&lt;dbl&gt;</th></tr>\n",
       "</thead>\n",
       "<tbody>\n",
       "\t<tr><td>1</td><td>1</td><td>1</td><td>0.015625</td></tr>\n",
       "\t<tr><td>2</td><td>1</td><td>1</td><td>0.015625</td></tr>\n",
       "\t<tr><td>3</td><td>1</td><td>1</td><td>0.015625</td></tr>\n",
       "\t<tr><td>4</td><td>1</td><td>1</td><td>0.015625</td></tr>\n",
       "\t<tr><td>1</td><td>2</td><td>1</td><td>0.015625</td></tr>\n",
       "\t<tr><td>2</td><td>2</td><td>1</td><td>0.015625</td></tr>\n",
       "</tbody>\n",
       "</table>\n"
      ],
      "text/latex": [
       "A data.frame: 6 x 4\n",
       "\\begin{tabular}{r|llll}\n",
       " X1 & X2 & X3 & probs\\\\\n",
       " <int> & <int> & <int> & <dbl>\\\\\n",
       "\\hline\n",
       "\t 1 & 1 & 1 & 0.015625\\\\\n",
       "\t 2 & 1 & 1 & 0.015625\\\\\n",
       "\t 3 & 1 & 1 & 0.015625\\\\\n",
       "\t 4 & 1 & 1 & 0.015625\\\\\n",
       "\t 1 & 2 & 1 & 0.015625\\\\\n",
       "\t 2 & 2 & 1 & 0.015625\\\\\n",
       "\\end{tabular}\n"
      ],
      "text/markdown": [
       "\n",
       "A data.frame: 6 x 4\n",
       "\n",
       "| X1 &lt;int&gt; | X2 &lt;int&gt; | X3 &lt;int&gt; | probs &lt;dbl&gt; |\n",
       "|---|---|---|---|\n",
       "| 1 | 1 | 1 | 0.015625 |\n",
       "| 2 | 1 | 1 | 0.015625 |\n",
       "| 3 | 1 | 1 | 0.015625 |\n",
       "| 4 | 1 | 1 | 0.015625 |\n",
       "| 1 | 2 | 1 | 0.015625 |\n",
       "| 2 | 2 | 1 | 0.015625 |\n",
       "\n"
      ],
      "text/plain": [
       "  X1 X2 X3 probs   \n",
       "1 1  1  1  0.015625\n",
       "2 2  1  1  0.015625\n",
       "3 3  1  1  0.015625\n",
       "4 4  1  1  0.015625\n",
       "5 1  2  1  0.015625\n",
       "6 2  2  1  0.015625"
      ]
     },
     "metadata": {},
     "output_type": "display_data"
    }
   ],
   "source": [
    "head(S)"
   ]
  },
  {
   "cell_type": "code",
   "execution_count": 9,
   "metadata": {},
   "outputs": [
    {
     "data": {
      "text/html": [
       "64"
      ],
      "text/latex": [
       "64"
      ],
      "text/markdown": [
       "64"
      ],
      "text/plain": [
       "[1] 64"
      ]
     },
     "metadata": {},
     "output_type": "display_data"
    }
   ],
   "source": [
    "NROW(S)"
   ]
  },
  {
   "cell_type": "markdown",
   "metadata": {},
   "source": [
    "Defínase la variable aleatoria: $U = X1-X2+X3$. Entonces:"
   ]
  },
  {
   "cell_type": "code",
   "execution_count": 10,
   "metadata": {},
   "outputs": [],
   "source": [
    "S <- addrv(S, U = X1-X2+X3)"
   ]
  },
  {
   "cell_type": "code",
   "execution_count": 11,
   "metadata": {},
   "outputs": [
    {
     "name": "stdout",
     "output_type": "stream",
     "text": [
      "  X1 X2 X3 U    probs\n",
      "1  1  1  1 1 0.015625\n",
      "2  2  1  1 2 0.015625\n",
      "3  3  1  1 3 0.015625\n",
      "4  4  1  1 4 0.015625\n",
      "5  1  2  1 0 0.015625\n",
      "6  2  2  1 1 0.015625\n"
     ]
    }
   ],
   "source": [
    "print(head(S))"
   ]
  },
  {
   "cell_type": "code",
   "execution_count": 12,
   "metadata": {},
   "outputs": [
    {
     "data": {
      "text/html": [
       "64"
      ],
      "text/latex": [
       "64"
      ],
      "text/markdown": [
       "64"
      ],
      "text/plain": [
       "[1] 64"
      ]
     },
     "metadata": {},
     "output_type": "display_data"
    }
   ],
   "source": [
    "NROW(S)"
   ]
  },
  {
   "cell_type": "markdown",
   "metadata": {},
   "source": [
    "Se pueden responder preguntas del tipo:"
   ]
  },
  {
   "cell_type": "code",
   "execution_count": 13,
   "metadata": {},
   "outputs": [
    {
     "data": {
      "text/html": [
       "0.015625"
      ],
      "text/latex": [
       "0.015625"
      ],
      "text/markdown": [
       "0.015625"
      ],
      "text/plain": [
       "[1] 0.015625"
      ]
     },
     "metadata": {},
     "output_type": "display_data"
    }
   ],
   "source": [
    "Prob(S, U > 6)"
   ]
  },
  {
   "cell_type": "markdown",
   "metadata": {},
   "source": [
    "**Segunda opción**"
   ]
  },
  {
   "cell_type": "markdown",
   "metadata": {},
   "source": [
    "Usar una función de R o hecha por users como argumento a la función `addrv`. Por ejemplo, defínanse $V=\\max(X1, X2, X3)$ y $W=X1+X2+X3$, entonces:"
   ]
  },
  {
   "cell_type": "code",
   "execution_count": 14,
   "metadata": {},
   "outputs": [],
   "source": [
    "S <- addrv(S, FUN = max, invars = c(\"X1\",\"X2\",\"X3\"), name = \"V\") #max está definida en R\n",
    "S <- addrv(S, FUN = sum, invars = c(\"X1\",\"X2\",\"X3\"), name = \"W\") #sum está definida en R"
   ]
  },
  {
   "cell_type": "code",
   "execution_count": 15,
   "metadata": {},
   "outputs": [
    {
     "name": "stdout",
     "output_type": "stream",
     "text": [
      "  X1 X2 X3 U V W    probs\n",
      "1  1  1  1 1 1 3 0.015625\n",
      "2  2  1  1 2 2 4 0.015625\n",
      "3  3  1  1 3 3 5 0.015625\n",
      "4  4  1  1 4 4 6 0.015625\n",
      "5  1  2  1 0 2 4 0.015625\n",
      "6  2  2  1 1 2 5 0.015625\n"
     ]
    }
   ],
   "source": [
    "print(head(S))"
   ]
  },
  {
   "cell_type": "markdown",
   "metadata": {},
   "source": [
    "**Obs:** obsérvese que se utilizó el argumento `invars` para especificar a qué variables se les debe aplicar la función definida en el argumento `FUN` (si no se especifica, `FUN` se aplica a todas las columnas diferentes de `probs`. También obsérvese que tiene un argumento `name` para nombrar a la nueva variable."
   ]
  },
  {
   "cell_type": "markdown",
   "metadata": {},
   "source": [
    "### Distribución marginal de variables aleatorias"
   ]
  },
  {
   "cell_type": "markdown",
   "metadata": {},
   "source": [
    "En los ejemplos anteriores se observa que añadir variables aleatorias al espacio de probabilidad (data frame al que se le añade la columna `probs`) con `addrv` resultan en renglones de la variable aleatoria en cuestión repetidos. Se puede utilizar la función `marginal` para agregar los renglones del espacio de resultados por los valores de la variable aleatoria y acumular la probabilidad asociada con los valores distintos de ésta:"
   ]
  },
  {
   "cell_type": "code",
   "execution_count": 16,
   "metadata": {},
   "outputs": [
    {
     "data": {
      "text/html": [
       "<table>\n",
       "<caption>A data.frame: 4 x 2</caption>\n",
       "<thead>\n",
       "\t<tr><th scope=col>V</th><th scope=col>probs</th></tr>\n",
       "\t<tr><th scope=col>&lt;int&gt;</th><th scope=col>&lt;dbl&gt;</th></tr>\n",
       "</thead>\n",
       "<tbody>\n",
       "\t<tr><td>1</td><td>0.015625</td></tr>\n",
       "\t<tr><td>2</td><td>0.109375</td></tr>\n",
       "\t<tr><td>3</td><td>0.296875</td></tr>\n",
       "\t<tr><td>4</td><td>0.578125</td></tr>\n",
       "</tbody>\n",
       "</table>\n"
      ],
      "text/latex": [
       "A data.frame: 4 x 2\n",
       "\\begin{tabular}{r|ll}\n",
       " V & probs\\\\\n",
       " <int> & <dbl>\\\\\n",
       "\\hline\n",
       "\t 1 & 0.015625\\\\\n",
       "\t 2 & 0.109375\\\\\n",
       "\t 3 & 0.296875\\\\\n",
       "\t 4 & 0.578125\\\\\n",
       "\\end{tabular}\n"
      ],
      "text/markdown": [
       "\n",
       "A data.frame: 4 x 2\n",
       "\n",
       "| V &lt;int&gt; | probs &lt;dbl&gt; |\n",
       "|---|---|\n",
       "| 1 | 0.015625 |\n",
       "| 2 | 0.109375 |\n",
       "| 3 | 0.296875 |\n",
       "| 4 | 0.578125 |\n",
       "\n"
      ],
      "text/plain": [
       "  V probs   \n",
       "1 1 0.015625\n",
       "2 2 0.109375\n",
       "3 3 0.296875\n",
       "4 4 0.578125"
      ]
     },
     "metadata": {},
     "output_type": "display_data"
    }
   ],
   "source": [
    "marginal(S, vars = \"V\") #equivalente a realizar: sum(S[S$V==1,]$probs) por ejemplo\n",
    "                        #para valor V=1"
   ]
  },
  {
   "cell_type": "markdown",
   "metadata": {},
   "source": [
    "Esto se conoce como la distribución de probabilidad marginal de $V$ o sólo distribución marginal."
   ]
  },
  {
   "cell_type": "markdown",
   "metadata": {},
   "source": [
    "También es posible calcular la distribución de probabilidad conjunta entre $V$ y $W$:"
   ]
  },
  {
   "cell_type": "code",
   "execution_count": 17,
   "metadata": {},
   "outputs": [
    {
     "data": {
      "text/html": [
       "<table>\n",
       "<caption>A data.frame: 16 x 3</caption>\n",
       "<thead>\n",
       "\t<tr><th scope=col>V</th><th scope=col>W</th><th scope=col>probs</th></tr>\n",
       "\t<tr><th scope=col>&lt;int&gt;</th><th scope=col>&lt;int&gt;</th><th scope=col>&lt;dbl&gt;</th></tr>\n",
       "</thead>\n",
       "<tbody>\n",
       "\t<tr><td>1</td><td> 3</td><td>0.015625</td></tr>\n",
       "\t<tr><td>2</td><td> 4</td><td>0.046875</td></tr>\n",
       "\t<tr><td>2</td><td> 5</td><td>0.046875</td></tr>\n",
       "\t<tr><td>3</td><td> 5</td><td>0.046875</td></tr>\n",
       "\t<tr><td>2</td><td> 6</td><td>0.015625</td></tr>\n",
       "\t<tr><td>3</td><td> 6</td><td>0.093750</td></tr>\n",
       "\t<tr><td>4</td><td> 6</td><td>0.046875</td></tr>\n",
       "\t<tr><td>3</td><td> 7</td><td>0.093750</td></tr>\n",
       "\t<tr><td>4</td><td> 7</td><td>0.093750</td></tr>\n",
       "\t<tr><td>3</td><td> 8</td><td>0.046875</td></tr>\n",
       "\t<tr><td>4</td><td> 8</td><td>0.140625</td></tr>\n",
       "\t<tr><td>3</td><td> 9</td><td>0.015625</td></tr>\n",
       "\t<tr><td>4</td><td> 9</td><td>0.140625</td></tr>\n",
       "\t<tr><td>4</td><td>10</td><td>0.093750</td></tr>\n",
       "\t<tr><td>4</td><td>11</td><td>0.046875</td></tr>\n",
       "\t<tr><td>4</td><td>12</td><td>0.015625</td></tr>\n",
       "</tbody>\n",
       "</table>\n"
      ],
      "text/latex": [
       "A data.frame: 16 x 3\n",
       "\\begin{tabular}{r|lll}\n",
       " V & W & probs\\\\\n",
       " <int> & <int> & <dbl>\\\\\n",
       "\\hline\n",
       "\t 1 &  3 & 0.015625\\\\\n",
       "\t 2 &  4 & 0.046875\\\\\n",
       "\t 2 &  5 & 0.046875\\\\\n",
       "\t 3 &  5 & 0.046875\\\\\n",
       "\t 2 &  6 & 0.015625\\\\\n",
       "\t 3 &  6 & 0.093750\\\\\n",
       "\t 4 &  6 & 0.046875\\\\\n",
       "\t 3 &  7 & 0.093750\\\\\n",
       "\t 4 &  7 & 0.093750\\\\\n",
       "\t 3 &  8 & 0.046875\\\\\n",
       "\t 4 &  8 & 0.140625\\\\\n",
       "\t 3 &  9 & 0.015625\\\\\n",
       "\t 4 &  9 & 0.140625\\\\\n",
       "\t 4 & 10 & 0.093750\\\\\n",
       "\t 4 & 11 & 0.046875\\\\\n",
       "\t 4 & 12 & 0.015625\\\\\n",
       "\\end{tabular}\n"
      ],
      "text/markdown": [
       "\n",
       "A data.frame: 16 x 3\n",
       "\n",
       "| V &lt;int&gt; | W &lt;int&gt; | probs &lt;dbl&gt; |\n",
       "|---|---|---|\n",
       "| 1 |  3 | 0.015625 |\n",
       "| 2 |  4 | 0.046875 |\n",
       "| 2 |  5 | 0.046875 |\n",
       "| 3 |  5 | 0.046875 |\n",
       "| 2 |  6 | 0.015625 |\n",
       "| 3 |  6 | 0.093750 |\n",
       "| 4 |  6 | 0.046875 |\n",
       "| 3 |  7 | 0.093750 |\n",
       "| 4 |  7 | 0.093750 |\n",
       "| 3 |  8 | 0.046875 |\n",
       "| 4 |  8 | 0.140625 |\n",
       "| 3 |  9 | 0.015625 |\n",
       "| 4 |  9 | 0.140625 |\n",
       "| 4 | 10 | 0.093750 |\n",
       "| 4 | 11 | 0.046875 |\n",
       "| 4 | 12 | 0.015625 |\n",
       "\n"
      ],
      "text/plain": [
       "   V W  probs   \n",
       "1  1  3 0.015625\n",
       "2  2  4 0.046875\n",
       "3  2  5 0.046875\n",
       "4  3  5 0.046875\n",
       "5  2  6 0.015625\n",
       "6  3  6 0.093750\n",
       "7  4  6 0.046875\n",
       "8  3  7 0.093750\n",
       "9  4  7 0.093750\n",
       "10 3  8 0.046875\n",
       "11 4  8 0.140625\n",
       "12 3  9 0.015625\n",
       "13 4  9 0.140625\n",
       "14 4 10 0.093750\n",
       "15 4 11 0.046875\n",
       "16 4 12 0.015625"
      ]
     },
     "metadata": {},
     "output_type": "display_data"
    }
   ],
   "source": [
    "marginal(S, vars = c(\"V\", \"W\")) #equivalente a realizar: sum(S[S$V==3 & S$W==7,]$probs) \n",
    "                                #por ejemplo para V=3 y W=7"
   ]
  },
  {
   "cell_type": "markdown",
   "metadata": {},
   "source": [
    "## Valor esperado de variables aleatorias"
   ]
  },
  {
   "cell_type": "markdown",
   "metadata": {},
   "source": [
    "Se quiere hacer una rifa para recaudar fondos para alguna buena causa. Hay un premio único de $\\$10,000$ y los boletos de la rifa cuestan $\\$100$. Sea $n$ el número de boletos que se venden, de manera que la probabilidad de ganar el premio es de $\\frac{1}{n}$. De esta forma, la compradora de un boleto tiene como valor esperado para esta rifa: $$\\frac{1}{n}(1000-100) + \\left(1-\\frac{1}{n}\\right)(-100)$$."
   ]
  },
  {
   "cell_type": "markdown",
   "metadata": {},
   "source": [
    "y la organizadora de la misma tiene la ganancia segura de: $100n-10000$. Evidentemente la rifa no debe realizarse si no se venden al menos $100$ boletos, ya que la organizadora perdería dinero. La siguiente tabla muestra el valor esperado de la rifa para la compradora del boleto y la ganancia de la organizadora para algunos valores de $n$\n",
    "\n",
    "|n|Valor esperado (comprador)|Ganancia (organizadora)|\n",
    "|:----:|:----:|:----:|\n",
    "|100|0|0|\n",
    "|150|$-33.\\bar{3}$|5000|\n",
    "|200|-50|10000|\n",
    "|500|-80|40000|"
   ]
  },
  {
   "cell_type": "markdown",
   "metadata": {},
   "source": [
    "Supongamos que la variable aleatoria $X$ toma valores $x_1, \\dots, x_n$ y sean $f(x_1),\\dots,f(x_n)$ los valores de la distribución de probabilidad asociada. Definimos el valor esperado o esperanza de $X$ como: $$E(X) = \\displaystyle \\sum_{i=1}^nx_iP(X=x_i) = \\sum_{i=1}^nx_if(x_i)$$."
   ]
  },
  {
   "cell_type": "markdown",
   "metadata": {},
   "source": [
    "**Obs:** obsérvese que si todos los valores son equiprobables, esto es: $P(X=x_1) = P(X = x_2) = \\cdots = P(X = x_n) = \\frac{1}{n}$, el valor esperado de $X$ es: $$E(X) = \\frac{1}{n}\\displaystyle\\sum_{i=1}^nx_i$$."
   ]
  },
  {
   "cell_type": "markdown",
   "metadata": {},
   "source": [
    "Así, el valor esperado no es más que un promedio ponderado por la probabilidad de obtener $x_i$ como resultado."
   ]
  },
  {
   "cell_type": "code",
   "execution_count": null,
   "metadata": {},
   "outputs": [],
   "source": []
  },
  {
   "cell_type": "markdown",
   "metadata": {},
   "source": [
    "## Ejercicios"
   ]
  },
  {
   "cell_type": "markdown",
   "metadata": {},
   "source": [
    "1) Considérese lanzar dos monedas. Sea $X$ la variable aleatoria que cuenta el número de águilas que aparecen. Calcula la probabilidad de $P(X=0), P(X=1), P(X=2)$."
   ]
  },
  {
   "cell_type": "markdown",
   "metadata": {},
   "source": [
    "2)Considérese el sorteo de Melate (elegir una combinación de seis números diferentes entre el $1$ y el $56$ sin orden y sin reemplazo) \"simplificado\" con una bolsa acumulada de $N$ y la variable aleatoria $X$ que toma dos valores: $N$ si se elige la combinación ganadora y $0$ en cualquier otro caso. ¿Cuál es la distribución de probabilidad de $X$?\n",
    "\n",
    "(es simplificado pues en realidad la bolsa acumulada se reparte entre el número de ganadores y varios premios menores, según el número de cifras acertadas entre dos y seis.)"
   ]
  },
  {
   "cell_type": "code",
   "execution_count": null,
   "metadata": {},
   "outputs": [],
   "source": []
  }
 ],
 "metadata": {
  "kernelspec": {
   "display_name": "R",
   "language": "R",
   "name": "ir"
  },
  "language_info": {
   "codemirror_mode": "r",
   "file_extension": ".r",
   "mimetype": "text/x-r-source",
   "name": "R",
   "pygments_lexer": "r",
   "version": "3.6.0"
  }
 },
 "nbformat": 4,
 "nbformat_minor": 2
}
