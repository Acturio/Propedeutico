{
 "cells": [
  {
   "cell_type": "markdown",
   "metadata": {},
   "source": [
    "Si no usamos el bloque \n",
    "\n",
    "```\n",
    "if __name__ == \"__main__\":\n",
    "```\n",
    "\n",
    "en el archivo `central_finite_derivative_2.py` observen:"
   ]
  },
  {
   "cell_type": "code",
   "execution_count": 1,
   "metadata": {},
   "outputs": [
    {
     "name": "stdout",
     "output_type": "stream",
     "text": [
      "Writing central_finite_derivative_2.py\n"
     ]
    }
   ],
   "source": [
    "%%file central_finite_derivative_2.py\n",
    "def approx_first_derivative(f,x,h):\n",
    "    \"\"\"\n",
    "    Numerical differentiation by finite differences. Uses central point formula\n",
    "    to approximate first derivative of function.\n",
    "    Args:\n",
    "        f (function): function definition.\n",
    "        x (float): point where first derivative will be approximated\n",
    "        h (float): step size for central differences. Tipically less than 1\n",
    "    Returns:\n",
    "        df (float): approximation to first_derivative.\n",
    "    \"\"\"\n",
    "    df = (f(x+h) - f(x-h))/(2.0*h)\n",
    "    return df\n",
    "\n",
    "def approx_second_derivative(f,x,h):\n",
    "    \"\"\"\n",
    "    Numerical differentiation by finite differences. Uses central point formula\n",
    "    to approximate second derivative of function.\n",
    "    Args:\n",
    "        f (function): function definition.\n",
    "        x (float): point where second derivative will be approximated\n",
    "        h (float): step size for central differences. Tipically less than 1\n",
    "    Returns:\n",
    "        ddf (float): approximation to second_derivative.\n",
    "    \"\"\"\n",
    "    ddf =(f(x+h) - 2.0*f(x) + f(x-h))/h**2\n",
    "    return ddf\n",
    "\n",
    "## Python libraries\n",
    "import numpy as np\n",
    "\n",
    "## Parameters\n",
    "f = np.arctan\n",
    "x = 0.9\n",
    "h = 1e-6\n",
    "\n",
    "## Main code\n",
    "res_first_d = approx_first_derivative(f,x,h)\n",
    "res_second_d = approx_second_derivative(f,x,h)\n",
    "\n",
    "print(res_first_d)\n",
    "print(res_second_d)"
   ]
  },
  {
   "cell_type": "code",
   "execution_count": 2,
   "metadata": {},
   "outputs": [
    {
     "name": "stdout",
     "output_type": "stream",
     "text": [
      "0.5524861879102616\n",
      "-0.5493383525845275\n"
     ]
    }
   ],
   "source": [
    "from central_finite_derivative_2 import approx_first_derivative, approx_second_derivative\n",
    "import math"
   ]
  },
  {
   "cell_type": "markdown",
   "metadata": {},
   "source": [
    "**Al hacer los imports se ejecutan las instrucciones que están en el archivo de `central_finite_derivative_2.py` en este caso se imprimen los resultados de las aproximaciones**"
   ]
  },
  {
   "cell_type": "markdown",
   "metadata": {},
   "source": [
    "Entonces mejor hacemos:"
   ]
  },
  {
   "cell_type": "code",
   "execution_count": 3,
   "metadata": {},
   "outputs": [
    {
     "name": "stdout",
     "output_type": "stream",
     "text": [
      "Writing central_finite_derivative.py\n"
     ]
    }
   ],
   "source": [
    "%%file central_finite_derivative.py\n",
    "def approx_first_derivative(f,x,h):\n",
    "    \"\"\"\n",
    "    Numerical differentiation by finite differences. Uses central point formula\n",
    "    to approximate first derivative of function.\n",
    "    Args:\n",
    "        f (function): function definition.\n",
    "        x (float): point where first derivative will be approximated\n",
    "        h (float): step size for central differences. Tipically less than 1\n",
    "    Returns:\n",
    "        df (float): approximation to first_derivative.\n",
    "    \"\"\"\n",
    "    df = (f(x+h) - f(x-h))/(2.0*h)\n",
    "    return df\n",
    "\n",
    "def approx_second_derivative(f,x,h):\n",
    "    \"\"\"\n",
    "    Numerical differentiation by finite differences. Uses central point formula\n",
    "    to approximate second derivative of function.\n",
    "    Args:\n",
    "        f (function): function definition.\n",
    "        x (float): point where second derivative will be approximated\n",
    "        h (float): step size for central differences. Tipically less than 1\n",
    "    Returns:\n",
    "        ddf (float): approximation to second_derivative.\n",
    "    \"\"\"\n",
    "    ddf =(f(x+h) - 2.0*f(x) + f(x-h))/h**2\n",
    "    return ddf\n",
    "\n",
    "def main_function():\n",
    "    \"\"\"\n",
    "    Main execution function\n",
    "      args:\n",
    "        -\n",
    "      returns:\n",
    "        -\n",
    "    \"\"\"\n",
    "    \n",
    "    ## Python libraries\n",
    "    import numpy as np\n",
    "\n",
    "    ## Parameters\n",
    "    f = np.arctan\n",
    "    x = 0.9\n",
    "    h = 1e-6\n",
    "\n",
    "    ## Main code\n",
    "    res_first_d = approx_first_derivative(f,x,h)\n",
    "    res_second_d = approx_second_derivative(f,x,h)\n",
    "\n",
    "    print(res_first_d)\n",
    "    print(res_second_d)\n",
    "\n",
    "if __name__ == \"__main__\":\n",
    "    main_function()\n"
   ]
  },
  {
   "cell_type": "code",
   "execution_count": 4,
   "metadata": {},
   "outputs": [],
   "source": [
    "from central_finite_derivative import approx_first_derivative, approx_second_derivative\n",
    "import math"
   ]
  },
  {
   "cell_type": "markdown",
   "metadata": {},
   "source": [
    "**ya no se imprime nada**"
   ]
  },
  {
   "cell_type": "markdown",
   "metadata": {},
   "source": [
    "**Ejecutamos las líneas del `main`:**"
   ]
  },
  {
   "cell_type": "code",
   "execution_count": 5,
   "metadata": {},
   "outputs": [],
   "source": [
    "import numpy as np"
   ]
  },
  {
   "cell_type": "code",
   "execution_count": 6,
   "metadata": {},
   "outputs": [],
   "source": [
    "## Parameters\n",
    "f = np.arctan\n",
    "x = 0.9\n",
    "h = 1e-6"
   ]
  },
  {
   "cell_type": "code",
   "execution_count": 7,
   "metadata": {},
   "outputs": [],
   "source": [
    "## Main code\n",
    "res_first_d = approx_first_derivative(f,x,h)\n",
    "res_second_d = approx_second_derivative(f,x,h)"
   ]
  },
  {
   "cell_type": "code",
   "execution_count": 8,
   "metadata": {},
   "outputs": [
    {
     "name": "stdout",
     "output_type": "stream",
     "text": [
      "0.5524861879102616\n",
      "-0.5493383525845275\n"
     ]
    }
   ],
   "source": [
    "print(res_first_d)\n",
    "print(res_second_d)"
   ]
  }
 ],
 "metadata": {
  "kernelspec": {
   "display_name": "Python 3",
   "language": "python",
   "name": "python3"
  },
  "language_info": {
   "codemirror_mode": {
    "name": "ipython",
    "version": 3
   },
   "file_extension": ".py",
   "mimetype": "text/x-python",
   "name": "python",
   "nbconvert_exporter": "python",
   "pygments_lexer": "ipython3",
   "version": "3.6.9"
  }
 },
 "nbformat": 4,
 "nbformat_minor": 4
}
