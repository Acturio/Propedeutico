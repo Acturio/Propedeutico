{
 "cells": [
  {
   "cell_type": "markdown",
   "metadata": {},
   "source": [
    "|n  |grado|# (nodos + pesos)|pesos: $w_i, w_{i+1}$    |nodos: $x_i, x_{i+1}$              |\n",
    "|---|:----:|:---:|:-------:|:-----------------:|\n",
    "|0  |1|2|2|0|\n",
    "|1  |3|4|1,1|-$\\sqrt{\\frac{1}{3}}$,$\\sqrt{\\frac{1}{3}}$|\n",
    "|2  |5|6|$\\frac{5}{9}$, $\\frac{8}{9}$, $\\frac{5}{9}$ |$-\\sqrt{\\frac{3}{5}}$, 0, $\\sqrt{\\frac{3}{5}}$  |\n",
    "|3  |7|8|0.347855, 0.652145, 0.652145, 0.347855|-0.861136,-0.339981,0.339981,0.861136|\n",
    "|4  |9|10|0.236927, 0.478629, 0.568889, 0.478629, 0.236927 | -0.90618, -0.538469, 0, 0.538469, 0.90618|"
   ]
  },
  {
   "cell_type": "code",
   "execution_count": null,
   "metadata": {},
   "outputs": [],
   "source": []
  }
 ],
 "metadata": {
  "kernelspec": {
   "display_name": "Python 3",
   "language": "python",
   "name": "python3"
  },
  "language_info": {
   "codemirror_mode": {
    "name": "ipython",
    "version": 3
   },
   "file_extension": ".py",
   "mimetype": "text/x-python",
   "name": "python",
   "nbconvert_exporter": "python",
   "pygments_lexer": "ipython3",
   "version": "3.6.9"
  }
 },
 "nbformat": 4,
 "nbformat_minor": 4
}
