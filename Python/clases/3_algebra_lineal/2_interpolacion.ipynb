{
 "cells": [
  {
   "cell_type": "markdown",
   "metadata": {},
   "source": [
    "**Notas para contenedor de docker:**"
   ]
  },
  {
   "cell_type": "markdown",
   "metadata": {},
   "source": [
    "Comando de docker para ejecución de la nota de forma local:\n",
    "\n",
    "nota: cambiar `dir_montar` por la ruta de directorio que se desea mapear a `/datos` dentro del contenedor de docker.\n",
    "\n",
    "```\n",
    "dir_montar=<ruta completa de mi máquina a mi directorio>#aquí colocar la ruta al directorio a montar, por ejemplo: \n",
    "#dir_montar=/Users/erick/midirectorio.\n",
    "```\n",
    "\n",
    "Ejecutar:\n",
    "\n",
    "```\n",
    "$docker run --rm -v $dir_montar:/datos --name jupyterlab_prope_r_kernel_tidyverse -p 8888:8888 -d palmoreck/jupyterlab_prope_r_kernel_tidyverse:2.1.4   \n",
    "\n",
    "```"
   ]
  },
  {
   "cell_type": "markdown",
   "metadata": {},
   "source": [
    "Ir a `localhost:8888` y escribir el password para jupyterlab: `qwerty`\n",
    "\n",
    "Detener el contenedor de docker:\n",
    "\n",
    "```\n",
    "docker stop jupyterlab_prope_r_kernel_tidyverse\n",
    "```\n"
   ]
  },
  {
   "cell_type": "markdown",
   "metadata": {},
   "source": [
    "Documentación de la imagen de docker `palmoreck/jupyterlab_prope_r_kernel_tidyverse:2.1.4` en [liga](https://github.com/palmoreck/dockerfiles/tree/master/jupyterlab/prope_r_kernel_tidyverse)."
   ]
  },
  {
   "cell_type": "markdown",
   "metadata": {},
   "source": [
    "---"
   ]
  },
  {
   "cell_type": "markdown",
   "metadata": {},
   "source": [
    "Para ejecución de la nota usar:\n",
    "\n",
    "[docker](https://www.docker.com/) (instalación de forma **local** con [Get docker](https://docs.docker.com/install/)) y ejecutar comandos que están al inicio de la nota de forma **local**. \n",
    "\n",
    "**Esta nota utiliza la versión clásica de notebooks de jupyter a través del siguiente botón:**"
   ]
  },
  {
   "cell_type": "markdown",
   "metadata": {},
   "source": [
    "[![Binder](https://mybinder.org/badge_logo.svg)](https://mybinder.org/v2/gh/palmoreck/dockerfiles-for-binder/jupyterlab_prope_r_kernel_tidyerse?urlpath=) esta opción crea una máquina individual en un servidor de Google, clona el repositorio y permite la ejecución de los notebooks de jupyter. **Se utiliza la versión clásica pues se usará el comando de magic `%matplotlib notebook`**"
   ]
  },
  {
   "cell_type": "markdown",
   "metadata": {},
   "source": [
    "[![Run on Repl.it](https://repl.it/badge/github/palmoreck/dummy)](https://repl.it/languages/python3) Esta opción no clona el repositorio, no ejecuta los notebooks de jupyter pero permite ejecución de instrucciones de Python de forma colaborativa con [repl.it](https://repl.it/). Al dar click se crearán nuevos ***repl*** debajo de sus users de ***repl.it***.\n"
   ]
  },
  {
   "cell_type": "markdown",
   "metadata": {},
   "source": [
    "# Interpolación"
   ]
  },
  {
   "cell_type": "markdown",
   "metadata": {},
   "source": [
    "Dados $n+1$ puntos $x_0,x_1,\\dots,x_n$ el objetivo es construir una función $f(x)$ tal que $f(x_i) = y_i$ con $y_i$ conocido $\\forall i=0,1,\\dots,n$."
   ]
  },
  {
   "cell_type": "markdown",
   "metadata": {},
   "source": [
    "<img src=\"https://dl.dropboxusercontent.com/s/m0gks881yffz85f/interpolacion.jpg?dl=0\" heigth=\"300\" width=\"300\">"
   ]
  },
  {
   "cell_type": "markdown",
   "metadata": {},
   "source": [
    "Entre las aplicaciones en interpolación se encuentran:\n",
    "\n",
    "* Reconstrucción de funciones.\n",
    "* Aproximación a derivadas e integrales.\n",
    "* Estimación de funciones en cantidades no conocidas."
   ]
  },
  {
   "cell_type": "markdown",
   "metadata": {},
   "source": [
    "## Modelo en interpolación"
   ]
  },
  {
   "cell_type": "markdown",
   "metadata": {},
   "source": [
    "Típicamente el modelo $f$ es de la forma $f(x|w) = \\displaystyle \\sum_{j=0}^nw_j \\phi_j(x)$ con $\\phi_j:\\mathbb{R} \\rightarrow \\mathbb{R}$ funciones conocidas y $w_j$ parámetros desconocidos por determinar $\\forall j=0,1,\\dots,n$."
   ]
  },
  {
   "cell_type": "markdown",
   "metadata": {},
   "source": [
    "**Obs:**\n",
    "\n",
    "* Comúnmente las $\\phi_j$'s son funciones polinomiales, trigonométricas, racionales y exponenciales.\n",
    "* La notación $f(x|w)$ se utiliza para denotar que $w$ es un vector de parámetros a estimar."
   ]
  },
  {
   "cell_type": "markdown",
   "metadata": {},
   "source": [
    "## ¿Cómo ajustar el modelo anterior?"
   ]
  },
  {
   "cell_type": "markdown",
   "metadata": {},
   "source": [
    "El problema de interpolación conduce a plantear y posteriormente resolver un sistema de ecuaciones lineales de la forma $Aw = y$ pues $f(x_i|w_i) = y_i$, $\\forall i=0,1,\\dots,n$ con $A \\in \\mathbb{R}^{{n+1}x{n+1}}$, $w,y \\in \\mathbb{R}^{n+1}$ definidas como sigue:"
   ]
  },
  {
   "cell_type": "markdown",
   "metadata": {},
   "source": [
    "$$A = \\left[\\begin{array}{cccc}\n",
    "\\phi_0(x_0) &\\phi_1(x_0)&\\dots&\\phi_n(x_0)\\\\\n",
    "\\phi_0(x_1) &\\phi_1(x_1)&\\dots&\\phi_n(x_1)\\\\\n",
    "\\vdots &\\vdots& \\vdots&\\vdots\\\\\n",
    "\\phi_0(x_n) &\\phi_1(x_n)&\\dots&\\phi_n(x_n)\n",
    "\\end{array}\n",
    "\\right],\n",
    "w=\n",
    "\\left[\\begin{array}{c}\n",
    "w_0\\\\\n",
    "w_1\\\\\n",
    "\\vdots \\\\\n",
    "w_n\n",
    "\\end{array}\n",
    "\\right] ,\n",
    "y=\n",
    "\\left[\\begin{array}{c}\n",
    "y_0\\\\\n",
    "y_1\\\\\n",
    "\\vdots \\\\\n",
    "y_n\n",
    "\\end{array}\n",
    "\\right]\n",
    "$$"
   ]
  },
  {
   "cell_type": "markdown",
   "metadata": {},
   "source": [
    "Esto es, hay que resolver: $$\\begin{array}{ccc} \\phi_0(x_0)w_0 + \\phi_1(x_0)w_1 + \\cdots + \\phi_n(x_0)w_n  &= & y_0 \\\\ \\phi_0(x_1)w_0 + \\phi_1(x_1)w_1 + \\cdots + \\phi_n(x_1)w_n  &= & y_1\\\\ \\vdots & & \\\\ \\phi_0(x_n)w_0 + \\phi_1(x_n)w_1 + \\cdots + \\phi_n(x_n)w_n  &= & y_n \\end{array}$$ "
   ]
  },
  {
   "cell_type": "markdown",
   "metadata": {},
   "source": [
    "que es la condición de  interpolación $f(x_i|w) = y_i \\forall i=0,1,\\dots,n$ bajo el modelo: $f(x|w) = \\displaystyle \\sum_{j=0}^nw_j \\phi_j(x)$."
   ]
  },
  {
   "cell_type": "markdown",
   "metadata": {},
   "source": [
    "## Interpolación polinomial: funciones $\\phi_j$'s son polinomios"
   ]
  },
  {
   "cell_type": "markdown",
   "metadata": {},
   "source": [
    "**En numpy ...**"
   ]
  },
  {
   "cell_type": "code",
   "execution_count": 1,
   "metadata": {},
   "outputs": [],
   "source": [
    "import numpy as np\n",
    "import matplotlib.pyplot as plt\n",
    "import pprint"
   ]
  },
  {
   "cell_type": "markdown",
   "metadata": {},
   "source": [
    "Supongamos que queremos realizar la interpolación a los siguientes puntos:"
   ]
  },
  {
   "cell_type": "code",
   "execution_count": 2,
   "metadata": {},
   "outputs": [
    {
     "name": "stdout",
     "output_type": "stream",
     "text": [
      "'x:'\n",
      "array([11.73673761, 11.89791391,  7.89322658,  9.85108791, 10.58306155,\n",
      "        7.74076697])\n",
      "'y:'\n",
      "array([ -9.86276046, -10.70121322, -10.62078008, -10.47961976,\n",
      "        -8.79026123, -11.07518386])\n"
     ]
    }
   ],
   "source": [
    "#pseudorandom array\n",
    "np.random.seed(2000) #for reproducibility\n",
    "npoints = 6\n",
    "x = np.random.randn(npoints) + 10\n",
    "y = np.random.randn(npoints) - 10\n",
    "pprint.pprint('x:')\n",
    "pprint.pprint(x)\n",
    "pprint.pprint('y:')\n",
    "pprint.pprint(y)"
   ]
  },
  {
   "cell_type": "markdown",
   "metadata": {},
   "source": [
    "ver: [numpy.random.randn](https://docs.scipy.org/doc/numpy/reference/generated/numpy.random.randn.html#numpy.random.randn)"
   ]
  },
  {
   "cell_type": "markdown",
   "metadata": {},
   "source": [
    "**Los datos ejemplo**"
   ]
  },
  {
   "cell_type": "code",
   "execution_count": 3,
   "metadata": {},
   "outputs": [
    {
     "data": {
      "image/png": "[encoded data removed]",
      "text/plain": [
       "<Figure size 432x288 with 1 Axes>"
      ]
     },
     "metadata": {
      "needs_background": "light"
     },
     "output_type": "display_data"
    }
   ],
   "source": [
    "plt.plot(x,y, 'r*')\n",
    "plt.xlabel('x')\n",
    "plt.ylabel('y')\n",
    "plt.title('Puntos ejemplo')\n",
    "plt.show()"
   ]
  },
  {
   "cell_type": "markdown",
   "metadata": {},
   "source": [
    "Con numpy podemos usar la función `polyfit` en el paquete de `numpy` para realizar lo anterior: (ver [numpy.polyfit](https://docs.scipy.org/doc/numpy/reference/generated/numpy.polyfit.html))"
   ]
  },
  {
   "cell_type": "markdown",
   "metadata": {},
   "source": [
    "El tercer argumento de polyfit especifica el grado del polinomio a ajustar. Como tenemos `npoints = 6` puntos, entonces debemos generar un polinomio de grado $5$"
   ]
  },
  {
   "cell_type": "code",
   "execution_count": 4,
   "metadata": {},
   "outputs": [],
   "source": [
    "ndegree = npoints -1\n",
    "coefficients = np.polyfit(x,y,ndegree)"
   ]
  },
  {
   "cell_type": "markdown",
   "metadata": {},
   "source": [
    "Una vez realizado el llamado a la función `polyfit` se regresan los coeficientes de $x$ ordenados del mayor grado al menor."
   ]
  },
  {
   "cell_type": "code",
   "execution_count": 5,
   "metadata": {},
   "outputs": [
    {
     "name": "stdout",
     "output_type": "stream",
     "text": [
      "array([ 8.16e-02, -4.26e+00,  8.78e+01, -8.95e+02,  4.50e+03, -8.98e+03])\n"
     ]
    }
   ],
   "source": [
    "np.set_printoptions(precision = 2) #sólo dos decimales que se muestren\n",
    "pprint.pprint(coefficients)"
   ]
  },
  {
   "cell_type": "markdown",
   "metadata": {},
   "source": [
    "Entonces nuestro polinomio es: $$p_{npoints}(x) = .0816x^5 -4.26x^4 +87.8x^3-895x^2+4500x-8980$$"
   ]
  },
  {
   "cell_type": "markdown",
   "metadata": {},
   "source": [
    "**La gráfica**"
   ]
  },
  {
   "cell_type": "markdown",
   "metadata": {},
   "source": [
    "Ahora nos gustaría graficarlo en el intervalo `[min(x),max(x)]` con `min(x)` la entrada con valor mínimo del numpy array `x` y `max(x)` su entrada con valor máximo."
   ]
  },
  {
   "cell_type": "markdown",
   "metadata": {},
   "source": [
    "Para lo anterior debemos evaluar $p_{npoints}(x)$ en diferentes valores de $x$. Para esto, generamos un numpy array con un número de puntos `neval`:"
   ]
  },
  {
   "cell_type": "code",
   "execution_count": 6,
   "metadata": {},
   "outputs": [
    {
     "name": "stdout",
     "output_type": "stream",
     "text": [
      "xeval.shape: 100\n",
      "yeval.shape: 100\n"
     ]
    }
   ],
   "source": [
    "neval = 100\n",
    "xeval = np.linspace(min(x),max(x), neval)\n",
    "yeval = np.polyval(coefficients,xeval)\n",
    "print('xeval.shape:', xeval.shape[0])\n",
    "print('yeval.shape:', yeval.shape[0])"
   ]
  },
  {
   "cell_type": "code",
   "execution_count": 7,
   "metadata": {},
   "outputs": [
    {
     "data": {
      "image/png": "[encoded data removed]",
      "text/plain": [
       "<Figure size 432x288 with 1 Axes>"
      ]
     },
     "metadata": {
      "needs_background": "light"
     },
     "output_type": "display_data"
    }
   ],
   "source": [
    "plt.plot(x, y, 'r*', xeval, yeval, 'k-')\n",
    "plt.legend(['datos','interpolador'], loc='best')\n",
    "plt.show()"
   ]
  },
  {
   "cell_type": "code",
   "execution_count": 8,
   "metadata": {},
   "outputs": [
    {
     "data": {
      "text/plain": [
       "-8.309683115548978"
      ]
     },
     "execution_count": 8,
     "metadata": {},
     "output_type": "execute_result"
    }
   ],
   "source": [
    "max(yeval)"
   ]
  },
  {
   "cell_type": "markdown",
   "metadata": {},
   "source": [
    "Si tuviéramos que estimar cantidades negativas con nuestro interpolador, entonces la siguiente estimación calcularíamos:"
   ]
  },
  {
   "cell_type": "code",
   "execution_count": 9,
   "metadata": {},
   "outputs": [
    {
     "data": {
      "text/plain": [
       "-10.740611757830266"
      ]
     },
     "execution_count": 9,
     "metadata": {},
     "output_type": "execute_result"
    }
   ],
   "source": [
    "np.polyval(coefficients, 8.5)"
   ]
  },
  {
   "cell_type": "markdown",
   "metadata": {},
   "source": [
    "### Problema con: número de puntos y la interpolación polinomial"
   ]
  },
  {
   "cell_type": "markdown",
   "metadata": {},
   "source": [
    "Si incrementamos a 9 puntos por los que deseamos hacer pasar un interpolador tenemos:"
   ]
  },
  {
   "cell_type": "code",
   "execution_count": 10,
   "metadata": {},
   "outputs": [
    {
     "name": "stdout",
     "output_type": "stream",
     "text": [
      "'x:'\n",
      "array([11.74, 11.9 ,  7.89,  9.85, 10.58,  7.74, 10.14,  9.3 ,  9.38])\n",
      "'y:'\n",
      "array([-10.48,  -8.79, -11.08,  -9.19, -10.29, -10.22, -10.17,  -8.9 ,\n",
      "        -9.92])\n"
     ]
    }
   ],
   "source": [
    "#pseudorandom array\n",
    "np.random.seed(2000) #for reproducibility\n",
    "npoints = 9\n",
    "x = np.random.randn(npoints) + 10\n",
    "y = np.random.randn(npoints) - 10\n",
    "pprint.pprint('x:')\n",
    "pprint.pprint(x)\n",
    "pprint.pprint('y:')\n",
    "pprint.pprint(y)"
   ]
  },
  {
   "cell_type": "markdown",
   "metadata": {},
   "source": [
    "**Los datos**"
   ]
  },
  {
   "cell_type": "code",
   "execution_count": 11,
   "metadata": {},
   "outputs": [
    {
     "data": {
      "image/png": "[encoded data removed]",
      "text/plain": [
       "<Figure size 432x288 with 1 Axes>"
      ]
     },
     "metadata": {
      "needs_background": "light"
     },
     "output_type": "display_data"
    }
   ],
   "source": [
    "plt.plot(x,y, 'r*')\n",
    "plt.xlabel('x')\n",
    "plt.ylabel('y')\n",
    "plt.title('Puntos ejemplo')\n",
    "plt.show()"
   ]
  },
  {
   "cell_type": "code",
   "execution_count": 12,
   "metadata": {},
   "outputs": [
    {
     "name": "stdout",
     "output_type": "stream",
     "text": [
      "array([ 2.55e+00, -2.01e+02,  6.94e+03, -1.36e+05,  1.66e+06, -1.30e+07,\n",
      "        6.31e+07, -1.75e+08,  2.11e+08])\n"
     ]
    }
   ],
   "source": [
    "ndegree = npoints -1\n",
    "new_coefficients = np.polyfit(x,y,ndegree)\n",
    "pprint.pprint(new_coefficients)"
   ]
  },
  {
   "cell_type": "markdown",
   "metadata": {},
   "source": [
    "Nuestro polinomio ahora es: $$p_{npoints}(x) = 2.55x^8 -201x^7 + 6940x^6-1.36*10^5x^5+1.66*10^6x^4-1.3*10^7x^3 +6.31*10^7x^2-1.75*10^8x+2.11*10^8$$"
   ]
  },
  {
   "cell_type": "markdown",
   "metadata": {},
   "source": [
    "**La gráfica**"
   ]
  },
  {
   "cell_type": "code",
   "execution_count": 13,
   "metadata": {},
   "outputs": [
    {
     "name": "stdout",
     "output_type": "stream",
     "text": [
      "xeval.shape: 100\n",
      "yeval.shape: 100\n"
     ]
    }
   ],
   "source": [
    "neval = 100\n",
    "xeval = np.linspace(min(x),max(x), neval)\n",
    "yeval = np.polyval(new_coefficients,xeval)\n",
    "print('xeval.shape:', xeval.shape[0])\n",
    "print('yeval.shape:', yeval.shape[0])"
   ]
  },
  {
   "cell_type": "markdown",
   "metadata": {},
   "source": [
    "Obsérvese la oscilación que debe tener el polinomio de grado $9$ para pasar por los $10$ puntos:"
   ]
  },
  {
   "cell_type": "code",
   "execution_count": 14,
   "metadata": {},
   "outputs": [
    {
     "data": {
      "image/png": "[encoded data removed]",
      "text/plain": [
       "<Figure size 432x288 with 1 Axes>"
      ]
     },
     "metadata": {
      "needs_background": "light"
     },
     "output_type": "display_data"
    }
   ],
   "source": [
    "plt.plot(x, y, 'r*',xeval, yeval, 'k-')\n",
    "plt.legend(['datos','interpolador'], loc='best')\n",
    "plt.show()"
   ]
  },
  {
   "cell_type": "code",
   "execution_count": 15,
   "metadata": {},
   "outputs": [
    {
     "data": {
      "text/plain": [
       "34.32728150486946"
      ]
     },
     "execution_count": 15,
     "metadata": {},
     "output_type": "execute_result"
    }
   ],
   "source": [
    "max(yeval)"
   ]
  },
  {
   "cell_type": "markdown",
   "metadata": {},
   "source": [
    "Este tipo de oscilación es típica al tener un polinomio mayor o igual a $6$ (más de $7$ puntos). Si tuviéramos que estimar cantidades negativas con nuestro interpolador, entonces la siguiente estimación sería errórena:"
   ]
  },
  {
   "cell_type": "code",
   "execution_count": 16,
   "metadata": {},
   "outputs": [
    {
     "data": {
      "text/plain": [
       "32.87599244713783"
      ]
     },
     "execution_count": 16,
     "metadata": {},
     "output_type": "execute_result"
    }
   ],
   "source": [
    "np.polyval(new_coefficients,8.5)"
   ]
  },
  {
   "cell_type": "markdown",
   "metadata": {},
   "source": [
    "lo cual es erróneo."
   ]
  },
  {
   "cell_type": "markdown",
   "metadata": {},
   "source": [
    "**Nota**"
   ]
  },
  {
   "cell_type": "markdown",
   "metadata": {},
   "source": [
    "Los interpoladores obtenidos con alguno de los métodos anteriores se utilizan para estimar cantidades en el intervalo con el que fueron construídos. Si deseamos estimar fuera del intervalo debe de realizarse con cuidado pues se pueden tener estimaciones incorrectas."
   ]
  },
  {
   "cell_type": "code",
   "execution_count": 17,
   "metadata": {},
   "outputs": [
    {
     "data": {
      "text/plain": [
       "35.30285072463266"
      ]
     },
     "execution_count": 17,
     "metadata": {},
     "output_type": "execute_result"
    }
   ],
   "source": [
    "np.polyval(coefficients, 15)"
   ]
  },
  {
   "cell_type": "code",
   "execution_count": 18,
   "metadata": {},
   "outputs": [
    {
     "data": {
      "text/plain": [
       "867307.2892590165"
      ]
     },
     "execution_count": 18,
     "metadata": {},
     "output_type": "execute_result"
    }
   ],
   "source": [
    "np.polyval(new_coefficients, 15)"
   ]
  },
  {
   "cell_type": "markdown",
   "metadata": {},
   "source": [
    "### Polinomios piecewise"
   ]
  },
  {
   "cell_type": "markdown",
   "metadata": {},
   "source": [
    "Para arreglar la oscilación de interpoladores de grado alto, una solución es interpolar con polinomios de grado bajo en cada subintervalo compuesto por las $x$'s, esto es, una forma *piecewise*. En python se realiza con el método `interpolate` del paquete `scipy`:"
   ]
  },
  {
   "cell_type": "markdown",
   "metadata": {},
   "source": [
    "**Lineal**"
   ]
  },
  {
   "cell_type": "code",
   "execution_count": 19,
   "metadata": {},
   "outputs": [],
   "source": [
    "from scipy.interpolate import interp1d"
   ]
  },
  {
   "cell_type": "code",
   "execution_count": 20,
   "metadata": {},
   "outputs": [],
   "source": [
    "pw_l = interp1d(x, y) #linear piecewise "
   ]
  },
  {
   "cell_type": "code",
   "execution_count": 21,
   "metadata": {},
   "outputs": [
    {
     "name": "stdout",
     "output_type": "stream",
     "text": [
      "xeval.shape: 100\n",
      "yeval.shape: 100\n"
     ]
    }
   ],
   "source": [
    "neval = 100\n",
    "xeval = np.linspace(min(x),max(x), neval)\n",
    "yeval = pw_l(xeval)\n",
    "print('xeval.shape:', xeval.shape[0])\n",
    "print('yeval.shape:', yeval.shape[0])"
   ]
  },
  {
   "cell_type": "code",
   "execution_count": 22,
   "metadata": {},
   "outputs": [
    {
     "data": {
      "image/png": "[encoded data removed]",
      "text/plain": [
       "<Figure size 432x288 with 1 Axes>"
      ]
     },
     "metadata": {
      "needs_background": "light"
     },
     "output_type": "display_data"
    }
   ],
   "source": [
    "plt.plot(x, y, 'r*',xeval, yeval, 'k-')\n",
    "plt.legend(['datos','interpolador lineal piecewise'], loc='best')\n",
    "plt.show()"
   ]
  },
  {
   "cell_type": "markdown",
   "metadata": {},
   "source": [
    "Aunque se ha resuelto la estimación:"
   ]
  },
  {
   "cell_type": "code",
   "execution_count": 23,
   "metadata": {},
   "outputs": [
    {
     "name": "stdout",
     "output_type": "stream",
     "text": [
      "-10.1358074696758\n"
     ]
    }
   ],
   "source": [
    "print(pw_l(8.5))"
   ]
  },
  {
   "cell_type": "markdown",
   "metadata": {},
   "source": [
    "**Splines**"
   ]
  },
  {
   "cell_type": "markdown",
   "metadata": {},
   "source": [
    "Los *splines* cúbicos *piecewise* resuelven la no diferenciabilidad del interpolador lineal en los puntos dados:"
   ]
  },
  {
   "cell_type": "code",
   "execution_count": 24,
   "metadata": {},
   "outputs": [
    {
     "name": "stdout",
     "output_type": "stream",
     "text": [
      "xeval.shape: 100\n",
      "yeval.shape: 100\n"
     ]
    }
   ],
   "source": [
    "pw_spline = interp1d(x, y, kind = 'cubic') #spline piecewise \n",
    "neval = 100\n",
    "xeval = np.linspace(min(x),max(x), neval)\n",
    "yeval = pw_spline(xeval)\n",
    "print('xeval.shape:', xeval.shape[0])\n",
    "print('yeval.shape:', yeval.shape[0])"
   ]
  },
  {
   "cell_type": "code",
   "execution_count": 25,
   "metadata": {},
   "outputs": [
    {
     "data": {
      "image/png": "[encoded data removed]",
      "text/plain": [
       "<Figure size 432x288 with 1 Axes>"
      ]
     },
     "metadata": {
      "needs_background": "light"
     },
     "output_type": "display_data"
    }
   ],
   "source": [
    "plt.plot(x, y, 'r*',xeval, yeval, 'k-')\n",
    "plt.legend(['datos','cubic splines piecewise'], loc='best')\n",
    "plt.show()"
   ]
  },
  {
   "cell_type": "code",
   "execution_count": 26,
   "metadata": {},
   "outputs": [
    {
     "name": "stdout",
     "output_type": "stream",
     "text": [
      "-8.864195192656851\n"
     ]
    }
   ],
   "source": [
    "print(pw_spline(8.5))"
   ]
  },
  {
   "cell_type": "markdown",
   "metadata": {},
   "source": [
    "Ver: [Interpolation (scipy.interpolate)](https://docs.scipy.org/doc/scipy/reference/tutorial/interpolate.html)"
   ]
  },
  {
   "cell_type": "markdown",
   "metadata": {},
   "source": [
    "**(Tarea)Ejercicio: Interpolar con 10 puntos generados de la función de [Runge](https://en.wikipedia.org/wiki/Runge%27s_phenomenon) $f(x) = \\frac{1}{1+25x^2}$ en el intervalo $[-1,1]$ equidistantes. Hacer la gráfica con $10,000$ puntos en el mismo intervalo. Utilizar polyfit para el polinomio interpolador y splines cúbicos.**"
   ]
  },
  {
   "cell_type": "markdown",
   "metadata": {},
   "source": [
    "# Curvas paramétricas"
   ]
  },
  {
   "cell_type": "markdown",
   "metadata": {},
   "source": [
    "Ninguna de las técnicas vistas anteriormente pueden usarse para generar curvas como la de una circunferencia:"
   ]
  },
  {
   "cell_type": "code",
   "execution_count": 27,
   "metadata": {},
   "outputs": [],
   "source": [
    "radius = 1\n",
    "npoints = 100"
   ]
  },
  {
   "cell_type": "code",
   "execution_count": 28,
   "metadata": {},
   "outputs": [],
   "source": [
    "x = np.linspace(-radius,radius,npoints)\n",
    "y1 = np.sqrt(radius-x**2)\n",
    "y2 = -np.sqrt(radius-x**2)"
   ]
  },
  {
   "cell_type": "code",
   "execution_count": 29,
   "metadata": {},
   "outputs": [
    {
     "data": {
      "image/png": "[encoded data removed]",
      "text/plain": [
       "<Figure size 432x288 with 1 Axes>"
      ]
     },
     "metadata": {
      "needs_background": "light"
     },
     "output_type": "display_data"
    }
   ],
   "source": [
    "plt.plot(x,y1,'m',\n",
    "         x,y2,'m')\n",
    "plt.title(\"Circunferencia\")\n",
    "plt.show()"
   ]
  },
  {
   "cell_type": "markdown",
   "metadata": {},
   "source": [
    "pues no puede expresarse como una función del tipo: $y = f(x)$. Obsérvese que para la gráfica anterior se han usado dos funciones: $y_1 = f_1(x) = \\sqrt{r-x^2}$, $y_2 = f_2(x) =  -\\sqrt{r-x^2}$."
   ]
  },
  {
   "cell_type": "markdown",
   "metadata": {},
   "source": [
    "Lo anterior puede resolverse definiendo una función, $f: \\mathbb{R} \\rightarrow \\mathbb{R}^2$, de un parámetro $t$ que tome valores en el intervalo $[0,2\\pi)$ y definida por $f(t) = (\\cos(t), \\sin(t))$. Obsérvese que para $t=0$ se obtiene el punto $(1,0)$, para $t=\\frac{\\pi}{2}$ se obtiene $(0,1)$ y así sucesivamente hasta $t=2\\pi$ en el que obtendríamos nuevamente el punto $(1,0)$."
   ]
  },
  {
   "cell_type": "code",
   "execution_count": 30,
   "metadata": {},
   "outputs": [],
   "source": [
    "import time"
   ]
  },
  {
   "cell_type": "code",
   "execution_count": 31,
   "metadata": {},
   "outputs": [],
   "source": [
    "npoints = 100\n",
    "a = 0\n",
    "b = 2*np.pi\n",
    "t = np.linspace(a,b,npoints)\n",
    "x = np.cos(t)\n",
    "y = np.sin(t)\n",
    "x_min = np.min(x)\n",
    "y_min = np.min(y)\n",
    "x_max = np.max(x)\n",
    "y_max = np.max(y)"
   ]
  },
  {
   "cell_type": "code",
   "execution_count": 32,
   "metadata": {},
   "outputs": [],
   "source": [
    "def make_plot(ax, idx):\n",
    "    ax.plot(x[:idx], y[:idx])\n",
    "    window = 0.5\n",
    "    plt.xlim(x_min-window, x_max+window)\n",
    "    plt.ylim(y_min-window, y_max+window)\n",
    "    plt.plot(x[:idx], y[:idx], 'mo')\n",
    "    fig.canvas.draw()"
   ]
  },
  {
   "cell_type": "code",
   "execution_count": 33,
   "metadata": {},
   "outputs": [
    {
     "data": {
      "application/javascript": [
       "/* Put everything inside the global mpl namespace */\n",
       "window.mpl = {};\n",
       "\n",
       "\n",
       "mpl.get_websocket_type = function() {\n",
       "    if (typeof(WebSocket) !== 'undefined') {\n",
       "        return WebSocket;\n",
       "    } else if (typeof(MozWebSocket) !== 'undefined') {\n",
       "        return MozWebSocket;\n",
       "    } else {\n",
       "        alert('Your browser does not have WebSocket support. ' +\n",
       "              'Please try Chrome, Safari or Firefox ≥ 6. ' +\n",
       "              'Firefox 4 and 5 are also supported but you ' +\n",
       "              'have to enable WebSockets in about:config.');\n",
       "    };\n",
       "}\n",
       "\n",
       "mpl.figure = function(figure_id, websocket, ondownload, parent_element) {\n",
       "    this.id = figure_id;\n",
       "\n",
       "    this.ws = websocket;\n",
       "\n",
       "    this.supports_binary = (this.ws.binaryType != undefined);\n",
       "\n",
       "    if (!this.supports_binary) {\n",
       "        var warnings = document.getElementById(\"mpl-warnings\");\n",
       "        if (warnings) {\n",
       "            warnings.style.display = 'block';\n",
       "            warnings.textContent = (\n",
       "                \"This browser does not support binary websocket messages. \" +\n",
       "                    \"Performance may be slow.\");\n",
       "        }\n",
       "    }\n",
       "\n",
       "    this.imageObj = new Image();\n",
       "\n",
       "    this.context = undefined;\n",
       "    this.message = undefined;\n",
       "    this.canvas = undefined;\n",
       "    this.rubberband_canvas = undefined;\n",
       "    this.rubberband_context = undefined;\n",
       "    this.format_dropdown = undefined;\n",
       "\n",
       "    this.image_mode = 'full';\n",
       "\n",
       "    this.root = $('<div/>');\n",
       "    this._root_extra_style(this.root)\n",
       "    this.root.attr('style', 'display: inline-block');\n",
       "\n",
       "    $(parent_element).append(this.root);\n",
       "\n",
       "    this._init_header(this);\n",
       "    this._init_canvas(this);\n",
       "    this._init_toolbar(this);\n",
       "\n",
       "    var fig = this;\n",
       "\n",
       "    this.waiting = false;\n",
       "\n",
       "    this.ws.onopen =  function () {\n",
       "            fig.send_message(\"supports_binary\", {value: fig.supports_binary});\n",
       "            fig.send_message(\"send_image_mode\", {});\n",
       "            if (mpl.ratio != 1) {\n",
       "                fig.send_message(\"set_dpi_ratio\", {'dpi_ratio': mpl.ratio});\n",
       "            }\n",
       "            fig.send_message(\"refresh\", {});\n",
       "        }\n",
       "\n",
       "    this.imageObj.onload = function() {\n",
       "            if (fig.image_mode == 'full') {\n",
       "                // Full images could contain transparency (where diff images\n",
       "                // almost always do), so we need to clear the canvas so that\n",
       "                // there is no ghosting.\n",
       "                fig.context.clearRect(0, 0, fig.canvas.width, fig.canvas.height);\n",
       "            }\n",
       "            fig.context.drawImage(fig.imageObj, 0, 0);\n",
       "        };\n",
       "\n",
       "    this.imageObj.onunload = function() {\n",
       "        fig.ws.close();\n",
       "    }\n",
       "\n",
       "    this.ws.onmessage = this._make_on_message_function(this);\n",
       "\n",
       "    this.ondownload = ondownload;\n",
       "}\n",
       "\n",
       "mpl.figure.prototype._init_header = function() {\n",
       "    var titlebar = $(\n",
       "        '<div class=\"ui-dialog-titlebar ui-widget-header ui-corner-all ' +\n",
       "        'ui-helper-clearfix\"/>');\n",
       "    var titletext = $(\n",
       "        '<div class=\"ui-dialog-title\" style=\"width: 100%; ' +\n",
       "        'text-align: center; padding: 3px;\"/>');\n",
       "    titlebar.append(titletext)\n",
       "    this.root.append(titlebar);\n",
       "    this.header = titletext[0];\n",
       "}\n",
       "\n",
       "\n",
       "\n",
       "mpl.figure.prototype._canvas_extra_style = function(canvas_div) {\n",
       "\n",
       "}\n",
       "\n",
       "\n",
       "mpl.figure.prototype._root_extra_style = function(canvas_div) {\n",
       "\n",
       "}\n",
       "\n",
       "mpl.figure.prototype._init_canvas = function() {\n",
       "    var fig = this;\n",
       "\n",
       "    var canvas_div = $('<div/>');\n",
       "\n",
       "    canvas_div.attr('style', 'position: relative; clear: both; outline: 0');\n",
       "\n",
       "    function canvas_keyboard_event(event) {\n",
       "        return fig.key_event(event, event['data']);\n",
       "    }\n",
       "\n",
       "    canvas_div.keydown('key_press', canvas_keyboard_event);\n",
       "    canvas_div.keyup('key_release', canvas_keyboard_event);\n",
       "    this.canvas_div = canvas_div\n",
       "    this._canvas_extra_style(canvas_div)\n",
       "    this.root.append(canvas_div);\n",
       "\n",
       "    var canvas = $('<canvas/>');\n",
       "    canvas.addClass('mpl-canvas');\n",
       "    canvas.attr('style', \"left: 0; top: 0; z-index: 0; outline: 0\")\n",
       "\n",
       "    this.canvas = canvas[0];\n",
       "    this.context = canvas[0].getContext(\"2d\");\n",
       "\n",
       "    var backingStore = this.context.backingStorePixelRatio ||\n",
       "\tthis.context.webkitBackingStorePixelRatio ||\n",
       "\tthis.context.mozBackingStorePixelRatio ||\n",
       "\tthis.context.msBackingStorePixelRatio ||\n",
       "\tthis.context.oBackingStorePixelRatio ||\n",
       "\tthis.context.backingStorePixelRatio || 1;\n",
       "\n",
       "    mpl.ratio = (window.devicePixelRatio || 1) / backingStore;\n",
       "\n",
       "    var rubberband = $('<canvas/>');\n",
       "    rubberband.attr('style', \"position: absolute; left: 0; top: 0; z-index: 1;\")\n",
       "\n",
       "    var pass_mouse_events = true;\n",
       "\n",
       "    canvas_div.resizable({\n",
       "        start: function(event, ui) {\n",
       "            pass_mouse_events = false;\n",
       "        },\n",
       "        resize: function(event, ui) {\n",
       "            fig.request_resize(ui.size.width, ui.size.height);\n",
       "        },\n",
       "        stop: function(event, ui) {\n",
       "            pass_mouse_events = true;\n",
       "            fig.request_resize(ui.size.width, ui.size.height);\n",
       "        },\n",
       "    });\n",
       "\n",
       "    function mouse_event_fn(event) {\n",
       "        if (pass_mouse_events)\n",
       "            return fig.mouse_event(event, event['data']);\n",
       "    }\n",
       "\n",
       "    rubberband.mousedown('button_press', mouse_event_fn);\n",
       "    rubberband.mouseup('button_release', mouse_event_fn);\n",
       "    // Throttle sequential mouse events to 1 every 20ms.\n",
       "    rubberband.mousemove('motion_notify', mouse_event_fn);\n",
       "\n",
       "    rubberband.mouseenter('figure_enter', mouse_event_fn);\n",
       "    rubberband.mouseleave('figure_leave', mouse_event_fn);\n",
       "\n",
       "    canvas_div.on(\"wheel\", function (event) {\n",
       "        event = event.originalEvent;\n",
       "        event['data'] = 'scroll'\n",
       "        if (event.deltaY < 0) {\n",
       "            event.step = 1;\n",
       "        } else {\n",
       "            event.step = -1;\n",
       "        }\n",
       "        mouse_event_fn(event);\n",
       "    });\n",
       "\n",
       "    canvas_div.append(canvas);\n",
       "    canvas_div.append(rubberband);\n",
       "\n",
       "    this.rubberband = rubberband;\n",
       "    this.rubberband_canvas = rubberband[0];\n",
       "    this.rubberband_context = rubberband[0].getContext(\"2d\");\n",
       "    this.rubberband_context.strokeStyle = \"#000000\";\n",
       "\n",
       "    this._resize_canvas = function(width, height) {\n",
       "        // Keep the size of the canvas, canvas container, and rubber band\n",
       "        // canvas in synch.\n",
       "        canvas_div.css('width', width)\n",
       "        canvas_div.css('height', height)\n",
       "\n",
       "        canvas.attr('width', width * mpl.ratio);\n",
       "        canvas.attr('height', height * mpl.ratio);\n",
       "        canvas.attr('style', 'width: ' + width + 'px; height: ' + height + 'px;');\n",
       "\n",
       "        rubberband.attr('width', width);\n",
       "        rubberband.attr('height', height);\n",
       "    }\n",
       "\n",
       "    // Set the figure to an initial 600x600px, this will subsequently be updated\n",
       "    // upon first draw.\n",
       "    this._resize_canvas(600, 600);\n",
       "\n",
       "    // Disable right mouse context menu.\n",
       "    $(this.rubberband_canvas).bind(\"contextmenu\",function(e){\n",
       "        return false;\n",
       "    });\n",
       "\n",
       "    function set_focus () {\n",
       "        canvas.focus();\n",
       "        canvas_div.focus();\n",
       "    }\n",
       "\n",
       "    window.setTimeout(set_focus, 100);\n",
       "}\n",
       "\n",
       "mpl.figure.prototype._init_toolbar = function() {\n",
       "    var fig = this;\n",
       "\n",
       "    var nav_element = $('<div/>');\n",
       "    nav_element.attr('style', 'width: 100%');\n",
       "    this.root.append(nav_element);\n",
       "\n",
       "    // Define a callback function for later on.\n",
       "    function toolbar_event(event) {\n",
       "        return fig.toolbar_button_onclick(event['data']);\n",
       "    }\n",
       "    function toolbar_mouse_event(event) {\n",
       "        return fig.toolbar_button_onmouseover(event['data']);\n",
       "    }\n",
       "\n",
       "    for(var toolbar_ind in mpl.toolbar_items) {\n",
       "        var name = mpl.toolbar_items[toolbar_ind][0];\n",
       "        var tooltip = mpl.toolbar_items[toolbar_ind][1];\n",
       "        var image = mpl.toolbar_items[toolbar_ind][2];\n",
       "        var method_name = mpl.toolbar_items[toolbar_ind][3];\n",
       "\n",
       "        if (!name) {\n",
       "            // put a spacer in here.\n",
       "            continue;\n",
       "        }\n",
       "        var button = $('<button/>');\n",
       "        button.addClass('ui-button ui-widget ui-state-default ui-corner-all ' +\n",
       "                        'ui-button-icon-only');\n",
       "        button.attr('role', 'button');\n",
       "        button.attr('aria-disabled', 'false');\n",
       "        button.click(method_name, toolbar_event);\n",
       "        button.mouseover(tooltip, toolbar_mouse_event);\n",
       "\n",
       "        var icon_img = $('<span/>');\n",
       "        icon_img.addClass('ui-button-icon-primary ui-icon');\n",
       "        icon_img.addClass(image);\n",
       "        icon_img.addClass('ui-corner-all');\n",
       "\n",
       "        var tooltip_span = $('<span/>');\n",
       "        tooltip_span.addClass('ui-button-text');\n",
       "        tooltip_span.html(tooltip);\n",
       "\n",
       "        button.append(icon_img);\n",
       "        button.append(tooltip_span);\n",
       "\n",
       "        nav_element.append(button);\n",
       "    }\n",
       "\n",
       "    var fmt_picker_span = $('<span/>');\n",
       "\n",
       "    var fmt_picker = $('<select/>');\n",
       "    fmt_picker.addClass('mpl-toolbar-option ui-widget ui-widget-content');\n",
       "    fmt_picker_span.append(fmt_picker);\n",
       "    nav_element.append(fmt_picker_span);\n",
       "    this.format_dropdown = fmt_picker[0];\n",
       "\n",
       "    for (var ind in mpl.extensions) {\n",
       "        var fmt = mpl.extensions[ind];\n",
       "        var option = $(\n",
       "            '<option/>', {selected: fmt === mpl.default_extension}).html(fmt);\n",
       "        fmt_picker.append(option);\n",
       "    }\n",
       "\n",
       "    // Add hover states to the ui-buttons\n",
       "    $( \".ui-button\" ).hover(\n",
       "        function() { $(this).addClass(\"ui-state-hover\");},\n",
       "        function() { $(this).removeClass(\"ui-state-hover\");}\n",
       "    );\n",
       "\n",
       "    var status_bar = $('<span class=\"mpl-message\"/>');\n",
       "    nav_element.append(status_bar);\n",
       "    this.message = status_bar[0];\n",
       "}\n",
       "\n",
       "mpl.figure.prototype.request_resize = function(x_pixels, y_pixels) {\n",
       "    // Request matplotlib to resize the figure. Matplotlib will then trigger a resize in the client,\n",
       "    // which will in turn request a refresh of the image.\n",
       "    this.send_message('resize', {'width': x_pixels, 'height': y_pixels});\n",
       "}\n",
       "\n",
       "mpl.figure.prototype.send_message = function(type, properties) {\n",
       "    properties['type'] = type;\n",
       "    properties['figure_id'] = this.id;\n",
       "    this.ws.send(JSON.stringify(properties));\n",
       "}\n",
       "\n",
       "mpl.figure.prototype.send_draw_message = function() {\n",
       "    if (!this.waiting) {\n",
       "        this.waiting = true;\n",
       "        this.ws.send(JSON.stringify({type: \"draw\", figure_id: this.id}));\n",
       "    }\n",
       "}\n",
       "\n",
       "\n",
       "mpl.figure.prototype.handle_save = function(fig, msg) {\n",
       "    var format_dropdown = fig.format_dropdown;\n",
       "    var format = format_dropdown.options[format_dropdown.selectedIndex].value;\n",
       "    fig.ondownload(fig, format);\n",
       "}\n",
       "\n",
       "\n",
       "mpl.figure.prototype.handle_resize = function(fig, msg) {\n",
       "    var size = msg['size'];\n",
       "    if (size[0] != fig.canvas.width || size[1] != fig.canvas.height) {\n",
       "        fig._resize_canvas(size[0], size[1]);\n",
       "        fig.send_message(\"refresh\", {});\n",
       "    };\n",
       "}\n",
       "\n",
       "mpl.figure.prototype.handle_rubberband = function(fig, msg) {\n",
       "    var x0 = msg['x0'] / mpl.ratio;\n",
       "    var y0 = (fig.canvas.height - msg['y0']) / mpl.ratio;\n",
       "    var x1 = msg['x1'] / mpl.ratio;\n",
       "    var y1 = (fig.canvas.height - msg['y1']) / mpl.ratio;\n",
       "    x0 = Math.floor(x0) + 0.5;\n",
       "    y0 = Math.floor(y0) + 0.5;\n",
       "    x1 = Math.floor(x1) + 0.5;\n",
       "    y1 = Math.floor(y1) + 0.5;\n",
       "    var min_x = Math.min(x0, x1);\n",
       "    var min_y = Math.min(y0, y1);\n",
       "    var width = Math.abs(x1 - x0);\n",
       "    var height = Math.abs(y1 - y0);\n",
       "\n",
       "    fig.rubberband_context.clearRect(\n",
       "        0, 0, fig.canvas.width / mpl.ratio, fig.canvas.height / mpl.ratio);\n",
       "\n",
       "    fig.rubberband_context.strokeRect(min_x, min_y, width, height);\n",
       "}\n",
       "\n",
       "mpl.figure.prototype.handle_figure_label = function(fig, msg) {\n",
       "    // Updates the figure title.\n",
       "    fig.header.textContent = msg['label'];\n",
       "}\n",
       "\n",
       "mpl.figure.prototype.handle_cursor = function(fig, msg) {\n",
       "    var cursor = msg['cursor'];\n",
       "    switch(cursor)\n",
       "    {\n",
       "    case 0:\n",
       "        cursor = 'pointer';\n",
       "        break;\n",
       "    case 1:\n",
       "        cursor = 'default';\n",
       "        break;\n",
       "    case 2:\n",
       "        cursor = 'crosshair';\n",
       "        break;\n",
       "    case 3:\n",
       "        cursor = 'move';\n",
       "        break;\n",
       "    }\n",
       "    fig.rubberband_canvas.style.cursor = cursor;\n",
       "}\n",
       "\n",
       "mpl.figure.prototype.handle_message = function(fig, msg) {\n",
       "    fig.message.textContent = msg['message'];\n",
       "}\n",
       "\n",
       "mpl.figure.prototype.handle_draw = function(fig, msg) {\n",
       "    // Request the server to send over a new figure.\n",
       "    fig.send_draw_message();\n",
       "}\n",
       "\n",
       "mpl.figure.prototype.handle_image_mode = function(fig, msg) {\n",
       "    fig.image_mode = msg['mode'];\n",
       "}\n",
       "\n",
       "mpl.figure.prototype.updated_canvas_event = function() {\n",
       "    // Called whenever the canvas gets updated.\n",
       "    this.send_message(\"ack\", {});\n",
       "}\n",
       "\n",
       "// A function to construct a web socket function for onmessage handling.\n",
       "// Called in the figure constructor.\n",
       "mpl.figure.prototype._make_on_message_function = function(fig) {\n",
       "    return function socket_on_message(evt) {\n",
       "        if (evt.data instanceof Blob) {\n",
       "            /* FIXME: We get \"Resource interpreted as Image but\n",
       "             * transferred with MIME type text/plain:\" errors on\n",
       "             * Chrome.  But how to set the MIME type?  It doesn't seem\n",
       "             * to be part of the websocket stream */\n",
       "            evt.data.type = \"image/png\";\n",
       "\n",
       "            /* Free the memory for the previous frames */\n",
       "            if (fig.imageObj.src) {\n",
       "                (window.URL || window.webkitURL).revokeObjectURL(\n",
       "                    fig.imageObj.src);\n",
       "            }\n",
       "\n",
       "            fig.imageObj.src = (window.URL || window.webkitURL).createObjectURL(\n",
       "                evt.data);\n",
       "            fig.updated_canvas_event();\n",
       "            fig.waiting = false;\n",
       "            return;\n",
       "        }\n",
       "        else if (typeof evt.data === 'string' && evt.data.slice(0, 21) == \"data:image/png;base64\") {\n",
       "            fig.imageObj.src = evt.data;\n",
       "            fig.updated_canvas_event();\n",
       "            fig.waiting = false;\n",
       "            return;\n",
       "        }\n",
       "\n",
       "        var msg = JSON.parse(evt.data);\n",
       "        var msg_type = msg['type'];\n",
       "\n",
       "        // Call the  \"handle_{type}\" callback, which takes\n",
       "        // the figure and JSON message as its only arguments.\n",
       "        try {\n",
       "            var callback = fig[\"handle_\" + msg_type];\n",
       "        } catch (e) {\n",
       "            console.log(\"No handler for the '\" + msg_type + \"' message type: \", msg);\n",
       "            return;\n",
       "        }\n",
       "\n",
       "        if (callback) {\n",
       "            try {\n",
       "                // console.log(\"Handling '\" + msg_type + \"' message: \", msg);\n",
       "                callback(fig, msg);\n",
       "            } catch (e) {\n",
       "                console.log(\"Exception inside the 'handler_\" + msg_type + \"' callback:\", e, e.stack, msg);\n",
       "            }\n",
       "        }\n",
       "    };\n",
       "}\n",
       "\n",
       "// from http://stackoverflow.com/questions/1114465/getting-mouse-location-in-canvas\n",
       "mpl.findpos = function(e) {\n",
       "    //this section is from http://www.quirksmode.org/js/events_properties.html\n",
       "    var targ;\n",
       "    if (!e)\n",
       "        e = window.event;\n",
       "    if (e.target)\n",
       "        targ = e.target;\n",
       "    else if (e.srcElement)\n",
       "        targ = e.srcElement;\n",
       "    if (targ.nodeType == 3) // defeat Safari bug\n",
       "        targ = targ.parentNode;\n",
       "\n",
       "    // jQuery normalizes the pageX and pageY\n",
       "    // pageX,Y are the mouse positions relative to the document\n",
       "    // offset() returns the position of the element relative to the document\n",
       "    var x = e.pageX - $(targ).offset().left;\n",
       "    var y = e.pageY - $(targ).offset().top;\n",
       "\n",
       "    return {\"x\": x, \"y\": y};\n",
       "};\n",
       "\n",
       "/*\n",
       " * return a copy of an object with only non-object keys\n",
       " * we need this to avoid circular references\n",
       " * http://stackoverflow.com/a/24161582/3208463\n",
       " */\n",
       "function simpleKeys (original) {\n",
       "  return Object.keys(original).reduce(function (obj, key) {\n",
       "    if (typeof original[key] !== 'object')\n",
       "        obj[key] = original[key]\n",
       "    return obj;\n",
       "  }, {});\n",
       "}\n",
       "\n",
       "mpl.figure.prototype.mouse_event = function(event, name) {\n",
       "    var canvas_pos = mpl.findpos(event)\n",
       "\n",
       "    if (name === 'button_press')\n",
       "    {\n",
       "        this.canvas.focus();\n",
       "        this.canvas_div.focus();\n",
       "    }\n",
       "\n",
       "    var x = canvas_pos.x * mpl.ratio;\n",
       "    var y = canvas_pos.y * mpl.ratio;\n",
       "\n",
       "    this.send_message(name, {x: x, y: y, button: event.button,\n",
       "                             step: event.step,\n",
       "                             guiEvent: simpleKeys(event)});\n",
       "\n",
       "    /* This prevents the web browser from automatically changing to\n",
       "     * the text insertion cursor when the button is pressed.  We want\n",
       "     * to control all of the cursor setting manually through the\n",
       "     * 'cursor' event from matplotlib */\n",
       "    event.preventDefault();\n",
       "    return false;\n",
       "}\n",
       "\n",
       "mpl.figure.prototype._key_event_extra = function(event, name) {\n",
       "    // Handle any extra behaviour associated with a key event\n",
       "}\n",
       "\n",
       "mpl.figure.prototype.key_event = function(event, name) {\n",
       "\n",
       "    // Prevent repeat events\n",
       "    if (name == 'key_press')\n",
       "    {\n",
       "        if (event.which === this._key)\n",
       "            return;\n",
       "        else\n",
       "            this._key = event.which;\n",
       "    }\n",
       "    if (name == 'key_release')\n",
       "        this._key = null;\n",
       "\n",
       "    var value = '';\n",
       "    if (event.ctrlKey && event.which != 17)\n",
       "        value += \"ctrl+\";\n",
       "    if (event.altKey && event.which != 18)\n",
       "        value += \"alt+\";\n",
       "    if (event.shiftKey && event.which != 16)\n",
       "        value += \"shift+\";\n",
       "\n",
       "    value += 'k';\n",
       "    value += event.which.toString();\n",
       "\n",
       "    this._key_event_extra(event, name);\n",
       "\n",
       "    this.send_message(name, {key: value,\n",
       "                             guiEvent: simpleKeys(event)});\n",
       "    return false;\n",
       "}\n",
       "\n",
       "mpl.figure.prototype.toolbar_button_onclick = function(name) {\n",
       "    if (name == 'download') {\n",
       "        this.handle_save(this, null);\n",
       "    } else {\n",
       "        this.send_message(\"toolbar_button\", {name: name});\n",
       "    }\n",
       "};\n",
       "\n",
       "mpl.figure.prototype.toolbar_button_onmouseover = function(tooltip) {\n",
       "    this.message.textContent = tooltip;\n",
       "};\n",
       "mpl.toolbar_items = [[\"Home\", \"Reset original view\", \"fa fa-home icon-home\", \"home\"], [\"Back\", \"Back to previous view\", \"fa fa-arrow-left icon-arrow-left\", \"back\"], [\"Forward\", \"Forward to next view\", \"fa fa-arrow-right icon-arrow-right\", \"forward\"], [\"\", \"\", \"\", \"\"], [\"Pan\", \"Pan axes with left mouse, zoom with right\", \"fa fa-arrows icon-move\", \"pan\"], [\"Zoom\", \"Zoom to rectangle\", \"fa fa-square-o icon-check-empty\", \"zoom\"], [\"\", \"\", \"\", \"\"], [\"Download\", \"Download plot\", \"fa fa-floppy-o icon-save\", \"download\"]];\n",
       "\n",
       "mpl.extensions = [\"eps\", \"pdf\", \"png\", \"ps\", \"raw\", \"svg\"];\n",
       "\n",
       "mpl.default_extension = \"png\";var comm_websocket_adapter = function(comm) {\n",
       "    // Create a \"websocket\"-like object which calls the given IPython comm\n",
       "    // object with the appropriate methods. Currently this is a non binary\n",
       "    // socket, so there is still some room for performance tuning.\n",
       "    var ws = {};\n",
       "\n",
       "    ws.close = function() {\n",
       "        comm.close()\n",
       "    };\n",
       "    ws.send = function(m) {\n",
       "        //console.log('sending', m);\n",
       "        comm.send(m);\n",
       "    };\n",
       "    // Register the callback with on_msg.\n",
       "    comm.on_msg(function(msg) {\n",
       "        //console.log('receiving', msg['content']['data'], msg);\n",
       "        // Pass the mpl event to the overridden (by mpl) onmessage function.\n",
       "        ws.onmessage(msg['content']['data'])\n",
       "    });\n",
       "    return ws;\n",
       "}\n",
       "\n",
       "mpl.mpl_figure_comm = function(comm, msg) {\n",
       "    // This is the function which gets called when the mpl process\n",
       "    // starts-up an IPython Comm through the \"matplotlib\" channel.\n",
       "\n",
       "    var id = msg.content.data.id;\n",
       "    // Get hold of the div created by the display call when the Comm\n",
       "    // socket was opened in Python.\n",
       "    var element = $(\"#\" + id);\n",
       "    var ws_proxy = comm_websocket_adapter(comm)\n",
       "\n",
       "    function ondownload(figure, format) {\n",
       "        window.open(figure.imageObj.src);\n",
       "    }\n",
       "\n",
       "    var fig = new mpl.figure(id, ws_proxy,\n",
       "                           ondownload,\n",
       "                           element.get(0));\n",
       "\n",
       "    // Call onopen now - mpl needs it, as it is assuming we've passed it a real\n",
       "    // web socket which is closed, not our websocket->open comm proxy.\n",
       "    ws_proxy.onopen();\n",
       "\n",
       "    fig.parent_element = element.get(0);\n",
       "    fig.cell_info = mpl.find_output_cell(\"<div id='\" + id + \"'></div>\");\n",
       "    if (!fig.cell_info) {\n",
       "        console.error(\"Failed to find cell for figure\", id, fig);\n",
       "        return;\n",
       "    }\n",
       "\n",
       "    var output_index = fig.cell_info[2]\n",
       "    var cell = fig.cell_info[0];\n",
       "\n",
       "};\n",
       "\n",
       "mpl.figure.prototype.handle_close = function(fig, msg) {\n",
       "    var width = fig.canvas.width/mpl.ratio\n",
       "    fig.root.unbind('remove')\n",
       "\n",
       "    // Update the output cell to use the data from the current canvas.\n",
       "    fig.push_to_output();\n",
       "    var dataURL = fig.canvas.toDataURL();\n",
       "    // Re-enable the keyboard manager in IPython - without this line, in FF,\n",
       "    // the notebook keyboard shortcuts fail.\n",
       "    IPython.keyboard_manager.enable()\n",
       "    $(fig.parent_element).html('<img src=\"' + dataURL + '\" width=\"' + width + '\">');\n",
       "    fig.close_ws(fig, msg);\n",
       "}\n",
       "\n",
       "mpl.figure.prototype.close_ws = function(fig, msg){\n",
       "    fig.send_message('closing', msg);\n",
       "    // fig.ws.close()\n",
       "}\n",
       "\n",
       "mpl.figure.prototype.push_to_output = function(remove_interactive) {\n",
       "    // Turn the data on the canvas into data in the output cell.\n",
       "    var width = this.canvas.width/mpl.ratio\n",
       "    var dataURL = this.canvas.toDataURL();\n",
       "    this.cell_info[1]['text/html'] = '<img src=\"' + dataURL + '\" width=\"' + width + '\">';\n",
       "}\n",
       "\n",
       "mpl.figure.prototype.updated_canvas_event = function() {\n",
       "    // Tell IPython that the notebook contents must change.\n",
       "    IPython.notebook.set_dirty(true);\n",
       "    this.send_message(\"ack\", {});\n",
       "    var fig = this;\n",
       "    // Wait a second, then push the new image to the DOM so\n",
       "    // that it is saved nicely (might be nice to debounce this).\n",
       "    setTimeout(function () { fig.push_to_output() }, 1000);\n",
       "}\n",
       "\n",
       "mpl.figure.prototype._init_toolbar = function() {\n",
       "    var fig = this;\n",
       "\n",
       "    var nav_element = $('<div/>');\n",
       "    nav_element.attr('style', 'width: 100%');\n",
       "    this.root.append(nav_element);\n",
       "\n",
       "    // Define a callback function for later on.\n",
       "    function toolbar_event(event) {\n",
       "        return fig.toolbar_button_onclick(event['data']);\n",
       "    }\n",
       "    function toolbar_mouse_event(event) {\n",
       "        return fig.toolbar_button_onmouseover(event['data']);\n",
       "    }\n",
       "\n",
       "    for(var toolbar_ind in mpl.toolbar_items){\n",
       "        var name = mpl.toolbar_items[toolbar_ind][0];\n",
       "        var tooltip = mpl.toolbar_items[toolbar_ind][1];\n",
       "        var image = mpl.toolbar_items[toolbar_ind][2];\n",
       "        var method_name = mpl.toolbar_items[toolbar_ind][3];\n",
       "\n",
       "        if (!name) { continue; };\n",
       "\n",
       "        var button = $('<button class=\"btn btn-default\" href=\"#\" title=\"' + name + '\"><i class=\"fa ' + image + ' fa-lg\"></i></button>');\n",
       "        button.click(method_name, toolbar_event);\n",
       "        button.mouseover(tooltip, toolbar_mouse_event);\n",
       "        nav_element.append(button);\n",
       "    }\n",
       "\n",
       "    // Add the status bar.\n",
       "    var status_bar = $('<span class=\"mpl-message\" style=\"text-align:right; float: right;\"/>');\n",
       "    nav_element.append(status_bar);\n",
       "    this.message = status_bar[0];\n",
       "\n",
       "    // Add the close button to the window.\n",
       "    var buttongrp = $('<div class=\"btn-group inline pull-right\"></div>');\n",
       "    var button = $('<button class=\"btn btn-mini btn-primary\" href=\"#\" title=\"Stop Interaction\"><i class=\"fa fa-power-off icon-remove icon-large\"></i></button>');\n",
       "    button.click(function (evt) { fig.handle_close(fig, {}); } );\n",
       "    button.mouseover('Stop Interaction', toolbar_mouse_event);\n",
       "    buttongrp.append(button);\n",
       "    var titlebar = this.root.find($('.ui-dialog-titlebar'));\n",
       "    titlebar.prepend(buttongrp);\n",
       "}\n",
       "\n",
       "mpl.figure.prototype._root_extra_style = function(el){\n",
       "    var fig = this\n",
       "    el.on(\"remove\", function(){\n",
       "\tfig.close_ws(fig, {});\n",
       "    });\n",
       "}\n",
       "\n",
       "mpl.figure.prototype._canvas_extra_style = function(el){\n",
       "    // this is important to make the div 'focusable\n",
       "    el.attr('tabindex', 0)\n",
       "    // reach out to IPython and tell the keyboard manager to turn it's self\n",
       "    // off when our div gets focus\n",
       "\n",
       "    // location in version 3\n",
       "    if (IPython.notebook.keyboard_manager) {\n",
       "        IPython.notebook.keyboard_manager.register_events(el);\n",
       "    }\n",
       "    else {\n",
       "        // location in version 2\n",
       "        IPython.keyboard_manager.register_events(el);\n",
       "    }\n",
       "\n",
       "}\n",
       "\n",
       "mpl.figure.prototype._key_event_extra = function(event, name) {\n",
       "    var manager = IPython.notebook.keyboard_manager;\n",
       "    if (!manager)\n",
       "        manager = IPython.keyboard_manager;\n",
       "\n",
       "    // Check for shift+enter\n",
       "    if (event.shiftKey && event.which == 13) {\n",
       "        this.canvas_div.blur();\n",
       "        // select the cell after this one\n",
       "        var index = IPython.notebook.find_cell_index(this.cell_info[0]);\n",
       "        IPython.notebook.select(index + 1);\n",
       "    }\n",
       "}\n",
       "\n",
       "mpl.figure.prototype.handle_save = function(fig, msg) {\n",
       "    fig.ondownload(fig, null);\n",
       "}\n",
       "\n",
       "\n",
       "mpl.find_output_cell = function(html_output) {\n",
       "    // Return the cell and output element which can be found *uniquely* in the notebook.\n",
       "    // Note - this is a bit hacky, but it is done because the \"notebook_saving.Notebook\"\n",
       "    // IPython event is triggered only after the cells have been serialised, which for\n",
       "    // our purposes (turning an active figure into a static one), is too late.\n",
       "    var cells = IPython.notebook.get_cells();\n",
       "    var ncells = cells.length;\n",
       "    for (var i=0; i<ncells; i++) {\n",
       "        var cell = cells[i];\n",
       "        if (cell.cell_type === 'code'){\n",
       "            for (var j=0; j<cell.output_area.outputs.length; j++) {\n",
       "                var data = cell.output_area.outputs[j];\n",
       "                if (data.data) {\n",
       "                    // IPython >= 3 moved mimebundle to data attribute of output\n",
       "                    data = data.data;\n",
       "                }\n",
       "                if (data['text/html'] == html_output) {\n",
       "                    return [cell, data, j];\n",
       "                }\n",
       "            }\n",
       "        }\n",
       "    }\n",
       "}\n",
       "\n",
       "// Register the function which deals with the matplotlib target/channel.\n",
       "// The kernel may be null if the page has been refreshed.\n",
       "if (IPython.notebook.kernel != null) {\n",
       "    IPython.notebook.kernel.comm_manager.register_target('matplotlib', mpl.mpl_figure_comm);\n",
       "}\n"
      ],
      "text/plain": [
       "<IPython.core.display.Javascript object>"
      ]
     },
     "metadata": {},
     "output_type": "display_data"
    },
    {
     "data": {
      "text/html": [
       "<img src=\"data:image/png;base64,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\" width=\"640\">"
      ],
      "text/plain": [
       "<IPython.core.display.HTML object>"
      ]
     },
     "metadata": {},
     "output_type": "display_data"
    }
   ],
   "source": [
    "%matplotlib notebook\n",
    "fig, ax = plt.subplots()\n",
    "for idx,_ in enumerate(t):\n",
    "    make_plot(ax, idx)\n",
    "    time.sleep(0.2)"
   ]
  },
  {
   "cell_type": "code",
   "execution_count": null,
   "metadata": {},
   "outputs": [],
   "source": []
  }
 ],
 "metadata": {
  "kernelspec": {
   "display_name": "Python 3",
   "language": "python",
   "name": "python3"
  },
  "language_info": {
   "codemirror_mode": {
    "name": "ipython",
    "version": 3
   },
   "file_extension": ".py",
   "mimetype": "text/x-python",
   "name": "python",
   "nbconvert_exporter": "python",
   "pygments_lexer": "ipython3",
   "version": "3.6.9"
  }
 },
 "nbformat": 4,
 "nbformat_minor": 4
}
