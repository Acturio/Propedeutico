{
 "cells": [
  {
   "cell_type": "markdown",
   "metadata": {},
   "source": [
    "Lo siguiente está basado en el capítulo 2 y apéndice del libro de texto de J. Kiusalas Numerical Methods in Engineering with Python 3 y el libro de Matrix Analysis and Applied Linear Algebra de Carl D. Meyer."
   ]
  },
  {
   "cell_type": "markdown",
   "metadata": {},
   "source": [
    "# Sistemas de ecuaciones lineales"
   ]
  },
  {
   "cell_type": "markdown",
   "metadata": {},
   "source": [
    "$$ \\begin{array}{c,c,c} a_{11}x_1 + a_{12}x_2 + \\cdots + a_{1n}x_n  &= & b_1 \\\\ a_{21}x_1 + a_{22}x_2 +  \\cdots + a_{2n}x_n &= & b_2 \\\\ \\vdots & & \\\\ a_{m1}x_1 + a_{m2}x_2 + \\cdots + a_{mn}x_n &=& b_m\\end{array} $$"
   ]
  },
  {
   "cell_type": "markdown",
   "metadata": {},
   "source": [
    "donde: las $x_i$'s son las incógnitas y las $a_i$'s y $b_i$'s son constantes conocidas."
   ]
  },
  {
   "cell_type": "markdown",
   "metadata": {},
   "source": [
    "Las entradas $a_{ij}$'s son llamadas coeficientes del sistema y el conjunto de $b_i$'s se le llama lado derecho del sistema."
   ]
  },
  {
   "cell_type": "markdown",
   "metadata": {},
   "source": [
    "**3 posibilidades para solución del sistema anterior:**\n",
    "\n",
    "* Una única solución: sólo existe uno y sólo un conjunto de valores de $x_i$'s que satisfacen todas las ecuaciones simultáneamente y el sistema se nombra **consistente** o **no singular**.\n",
    "\n",
    "* Ninguna solución: no existe ningún conjunto de valores de $x_i$'s que satisfacen todas las ecuaciones simultáneamente (el conjunto solución es vacío) y el sistema se nombra **inconsistente** o singular.\n",
    "\n",
    "* Infinitas soluciones: hay una infinidad de conjuntos (distintos) de valores de las $x_i$'s que satisfacen todas las ecuaciones simultáneamente. **obs:** si un sistema tiene más de una solución entonces tiene una infinidad de soluciones y el sistema se nombra **consistente** o **no singular**.\n",
    "\n"
   ]
  },
  {
   "cell_type": "markdown",
   "metadata": {},
   "source": [
    "El arreglo de coeficientes: $$\\begin{bmatrix} a_{11} & a_{12} & \\cdots& a_{1n} \\\\ a_{21} & a_{22} & \\cdots& a_{2n} \\\\ &&\\vdots \\\\ a_{m1} & a_{m2} & \\cdots& a_{mn} \\end{bmatrix}$$ "
   ]
  },
  {
   "cell_type": "markdown",
   "metadata": {},
   "source": [
    "se le llama matriz de coeficientes del sistema y la matriz de coeficientes aumentada con el lado derecho se le llama matriz aumentada: $$ \\left [\\begin{array}{cccc|c} a_{11} & a_{12} & \\cdots& a_{1n} & b_1 \\\\ a_{21} & a_{22} & \\cdots& a_{2n} & b_2 \\\\ && \\vdots& & \\\\ a_{m1} & a_{m2} & \\cdots& a_{mn} & b_m \\end{array} \\right ]$$"
   ]
  },
  {
   "cell_type": "markdown",
   "metadata": {},
   "source": [
    "Si a la matriz de coeficientes se denota por $A$ y el lado derecho por $b$ entonces la matriz aumentada es $[A|b]$."
   ]
  },
  {
   "cell_type": "markdown",
   "metadata": {},
   "source": [
    "**Def** Formalmente un escalar es un número real o complejo y una matriz es un arreglo rectangular de escalares y se escribe $A \\in \\mathcal{R}^{mxn}$ o $A \\in \\mathcal{C}^{mxn}$ para denotar que $A$ es un arreglo de dos dimensiones de números reales o de números complejos respectivamente y $A$ tiene dimensiones $mxn$: $m$ renglones y $n$ columnas."
   ]
  },
  {
   "cell_type": "markdown",
   "metadata": {},
   "source": [
    "Una matriz se nombra cuadrada si $m=n$ y rectangular si $m \\neq n$."
   ]
  },
  {
   "cell_type": "markdown",
   "metadata": {},
   "source": [
    "**Def** Una submatriz de una matriz $A$ es un arreglo que se forma al eliminar cualquier combinación de renglones y columnas de $A$. Por ejemplo, $B = \\begin{bmatrix} 2 &4 \\\\ -3& 7\\end{bmatrix}$ es una submatriz de $A = \\begin{bmatrix} 2 &1& 3& 4 \\\\ 8& 6& 5& -9\\\\ -3& 8& 3& 7 \\end{bmatrix}$."
   ]
  },
  {
   "cell_type": "markdown",
   "metadata": {},
   "source": [
    "El símbolo $A_{i*}$ es utilizado para denotar el $i$-ésimo renglón de $A$ y $A_{*j}$ la $j$-ésima columna de A. Por ejemplo $A_{2*} = \\begin{bmatrix} 8& 6& 5& -9 \\end{bmatrix}$ y $A_{*2} = \\begin{bmatrix} 1 \\\\6\\\\8 \\end{bmatrix}$ en la definición anterior."
   ]
  },
  {
   "cell_type": "markdown",
   "metadata": {},
   "source": [
    "## Interpretación geométrica"
   ]
  },
  {
   "cell_type": "markdown",
   "metadata": {},
   "source": [
    "Resolver un sistema de ecuaciones lineales equivale a encontrar la intersección entre rectas, planos o hiperplanos (2,3 o n dimensiones respectivamente). Por ejemplo para un caso de dos dimensiones se tiene:"
   ]
  },
  {
   "cell_type": "markdown",
   "metadata": {},
   "source": [
    "<p align=\"center\">\n",
    "<img src=\"https://drive.google.com/file/d/0B66Kmqpqr3IQdHlOQk9LOWxZQ0VINVd6SlFELWdjR0c3d2lz/view?usp=sharing\" alt=\"a\" heigth=\"700\" width=\"700\">\n",
    "</p>"
   ]
  },
  {
   "cell_type": "markdown",
   "metadata": {},
   "source": [
    "## Algoritmos"
   ]
  },
  {
   "cell_type": "markdown",
   "metadata": {},
   "source": [
    "Existen una gran cantidad de algoritmos para resolver los sistemas de ecuaciones. Típicamente se elige el algoritmo de acuerdo a las características de los coeficientes.\n",
    "\n",
    "Los hay iterativos y directos o basados en factorizaciones matriciales. Entre los directos o basados en factorizaciones matriciales se encuentran:\n",
    "\n",
    "\n",
    "* Eliminación Gaussiana o factorización LU.\n",
    "* Factorización de Cholesky.\n",
    "* Factorización QR.\n",
    "* Descomposición en valores singulares.\n",
    "\n",
    "y como ejemplo de los iterativos están:\n",
    "\n",
    "* Jacobi.\n",
    "* Gauss-Seidel.\n",
    "* Gradiente conjugado.\n",
    "\n"
   ]
  },
  {
   "cell_type": "markdown",
   "metadata": {},
   "source": [
    "### Algoritmos directos o basados en factorizaciones matriciales"
   ]
  },
  {
   "cell_type": "markdown",
   "metadata": {},
   "source": [
    "Los algoritmos directos encuentran sistemas de ecuaciones equivalentes a partir de operaciones básicas del álgebra lineal. **Obs:** dos sistemas de ecuaciones lineales son equivalentes si tienen el mismo conjunto solución."
   ]
  },
  {
   "cell_type": "markdown",
   "metadata": {},
   "source": [
    "### Ejemplos de uso de los paquetes numpy y scipy para resolver ecuaciones lineales"
   ]
  },
  {
   "cell_type": "markdown",
   "metadata": {},
   "source": [
    "1)Resolver: $$\\begin{array}{c,c,c} 8x_1 -6x_2 + 2x_3  &= & 28 \\\\ -4x_1 + 11x_2 -7x_3 &= & -40 \\\\ 4x_1 -7x_2 + 6x_3 &=& 33\\end{array} $$"
   ]
  },
  {
   "cell_type": "code",
   "execution_count": 4,
   "metadata": {},
   "outputs": [],
   "source": [
    "import numpy as np"
   ]
  },
  {
   "cell_type": "code",
   "execution_count": 7,
   "metadata": {},
   "outputs": [
    {
     "name": "stdout",
     "output_type": "stream",
     "text": [
      "A: [[ 8 -6  2]\n",
      " [-4 11 -7]\n",
      " [ 4 -7  6]]\n",
      "b: [ 28 -40  33]\n"
     ]
    }
   ],
   "source": [
    "A = np.array([[8, -6, 2], [-4, 11, -7], [4, -7, 6]])\n",
    "b = np.array([28,-40,33])\n",
    "print('A:',A)\n",
    "print('b:',b)"
   ]
  },
  {
   "cell_type": "code",
   "execution_count": 8,
   "metadata": {},
   "outputs": [
    {
     "data": {
      "text/plain": [
       "array([ 2., -1.,  3.])"
      ]
     },
     "execution_count": 8,
     "metadata": {},
     "output_type": "execute_result"
    }
   ],
   "source": [
    "np.linalg.solve(A,b)"
   ]
  },
  {
   "cell_type": "markdown",
   "metadata": {},
   "source": [
    "2) Resolver $AX = B$ $$ \\begin{array}{c,c} 6x_1 -4x_2 + x_3  &= \\\\ -4x_1 + 6x_2 - 4x_3 &=  \\\\ x_1 -4x_2 + 6x_3 &=\\end{array} \\begin{bmatrix}-14 &22 \\\\ 36& -18 \\\\ 6& 7\\end{bmatrix} $$"
   ]
  },
  {
   "cell_type": "code",
   "execution_count": 20,
   "metadata": {},
   "outputs": [],
   "source": [
    "import numpy as np\n",
    "import pprint"
   ]
  },
  {
   "cell_type": "code",
   "execution_count": 27,
   "metadata": {},
   "outputs": [
    {
     "name": "stdout",
     "output_type": "stream",
     "text": [
      "A:\n",
      "array([[ 6, -4,  1],\n",
      "       [-4,  6, -4],\n",
      "       [ 1, -4,  6]])\n",
      "B:\n",
      "array([[-14,  22],\n",
      "       [ 36, -18],\n",
      "       [  6,   7]])\n"
     ]
    }
   ],
   "source": [
    "A = np.array([[6,-4,1], [-4,6,-4], [1,-4,6]])\n",
    "B = np.array([[-14,22],[36,-18],[6,7]])\n",
    "print('A:')\n",
    "pprint.pprint(A)\n",
    "print('B:')\n",
    "pprint.pprint(B)"
   ]
  },
  {
   "cell_type": "code",
   "execution_count": 13,
   "metadata": {},
   "outputs": [
    {
     "data": {
      "text/plain": [
       "array([[10.,  3.],\n",
       "       [22., -1.],\n",
       "       [14.,  0.]])"
      ]
     },
     "execution_count": 13,
     "metadata": {},
     "output_type": "execute_result"
    }
   ],
   "source": [
    "np.linalg.solve(A,B)"
   ]
  },
  {
   "cell_type": "markdown",
   "metadata": {},
   "source": [
    "3) Obtener los factores $L, U$ de la matriz $A$: $$A = \\begin{bmatrix} 1& 4& 1 \\\\ 1& 6& -1 \\\\2& -1&2 \\end{bmatrix}$$ "
   ]
  },
  {
   "cell_type": "markdown",
   "metadata": {},
   "source": [
    "y utilizarlos para resolver $Ax = B$ con $$B=\\begin{bmatrix}7 & -1\\\\13 & 6\\\\5 & 7\\end{bmatrix}$$"
   ]
  },
  {
   "cell_type": "code",
   "execution_count": 39,
   "metadata": {},
   "outputs": [],
   "source": [
    "import scipy\n",
    "import scipy.linalg \n",
    "import numpy as np\n",
    "import pprint"
   ]
  },
  {
   "cell_type": "code",
   "execution_count": 49,
   "metadata": {},
   "outputs": [
    {
     "name": "stdout",
     "output_type": "stream",
     "text": [
      "A:\n",
      "array([[ 2, -1,  2],\n",
      "       [ 1,  6, -1],\n",
      "       [ 1,  4,  1]])\n",
      "P:\n",
      "array([[1., 0., 0.],\n",
      "       [0., 1., 0.],\n",
      "       [0., 0., 1.]])\n",
      "L:\n",
      "array([[1.        , 0.        , 0.        ],\n",
      "       [0.5       , 1.        , 0.        ],\n",
      "       [0.5       , 0.69230769, 1.        ]])\n",
      "U:\n",
      "array([[ 2.        , -1.        ,  2.        ],\n",
      "       [ 0.        ,  6.5       , -2.        ],\n",
      "       [ 0.        ,  0.        ,  1.38461538]])\n"
     ]
    }
   ],
   "source": [
    "A = scipy.array([[2,-1,2], [1,6,-1], [1,4,1]])\n",
    "P, L, U = scipy.linalg.lu(A)\n",
    "\n",
    "print('A:')\n",
    "pprint.pprint(A)\n",
    "print('P:')\n",
    "pprint.pprint(P)\n",
    "print('L:')\n",
    "pprint.pprint(L)\n",
    "print('U:')\n",
    "pprint.pprint(U)\n"
   ]
  },
  {
   "cell_type": "code",
   "execution_count": 50,
   "metadata": {},
   "outputs": [
    {
     "name": "stdout",
     "output_type": "stream",
     "text": [
      "Verificando resultado\n",
      "L*U:\n",
      "array([[ 2., -1.,  2.],\n",
      "       [ 1.,  6., -1.],\n",
      "       [ 1.,  4.,  1.]])\n",
      "P*A\n",
      "array([[ 2., -1.,  2.],\n",
      "       [ 1.,  6., -1.],\n",
      "       [ 1.,  4.,  1.]])\n"
     ]
    }
   ],
   "source": [
    "print('Verificando resultado')\n",
    "print('L*U:')\n",
    "pprint.pprint(np.dot(L,U))\n",
    "print('P*A')\n",
    "pprint.pprint(np.dot(P,A))"
   ]
  },
  {
   "cell_type": "code",
   "execution_count": 55,
   "metadata": {},
   "outputs": [
    {
     "name": "stdout",
     "output_type": "stream",
     "text": [
      "x:\n",
      "array([[ 7.33333333, -1.83333333],\n",
      "       [ 0.33333333,  1.66666667],\n",
      "       [-3.66666667,  2.16666667]])\n"
     ]
    }
   ],
   "source": [
    "B = scipy.array([[7,-1],[13,6],[5,7]])\n",
    "D = scipy.linalg.solve_triangular(L,B,lower=True)\n",
    "x = scipy.linalg.solve_triangular(U,D,lower=False)\n",
    "print('x:')\n",
    "pprint.pprint(x)"
   ]
  },
  {
   "cell_type": "code",
   "execution_count": 56,
   "metadata": {},
   "outputs": [
    {
     "name": "stdout",
     "output_type": "stream",
     "text": [
      "Verificando resultado\n",
      "array([ 7., 13.,  5.])\n",
      "array([-1.,  6.,  7.])\n"
     ]
    }
   ],
   "source": [
    "print('Verificando resultado')\n",
    "pprint.pprint(A.dot(x[:,0]))\n",
    "pprint.pprint(A.dot(x[:,1]))"
   ]
  },
  {
   "cell_type": "markdown",
   "metadata": {},
   "source": [
    "ver [numpy.linalg.solve](https://docs.scipy.org/doc/numpy/reference/generated/numpy.linalg.solve.html) y [scipy.linalg.lu](https://docs.scipy.org/doc/scipy-0.14.0/reference/generated/scipy.linalg.lu.html), [scipy.linalg.solve_triangular](https://docs.scipy.org/doc/scipy/reference/generated/scipy.linalg.solve_triangular.html)."
   ]
  },
  {
   "cell_type": "markdown",
   "metadata": {},
   "source": [
    "### Algoritmos iterativos"
   ]
  },
  {
   "cell_type": "markdown",
   "metadata": {},
   "source": [
    "A diferencia de los algoritmos directos que utilizan un número finito de pasos para resolver un sistema de ecuaciones lineales, esta clase de algoritmos utilizan un punto inicial y con un proceso iterativo van mejorando la solución hasta que se satisfaga un criterio de paro. Típicamente tienen un desempeño más lento que los directos pero aprovechan mejor la estructura de las matrices. Dependiendo de las características de las matrices convergen o no a la solución.\n",
    "\n",
    "Revisar sección 2.7 del libro de texto de J. Kiusalas Numerical Methods in Engineering with Python 3:\n",
    "\n",
    "* Gauss-Seidel.\n",
    "* Gradiente conjugado.\n"
   ]
  },
  {
   "cell_type": "code",
   "execution_count": null,
   "metadata": {},
   "outputs": [],
   "source": []
  }
 ],
 "metadata": {
  "kernelspec": {
   "display_name": "Python 3",
   "language": "python",
   "name": "python3"
  },
  "language_info": {
   "codemirror_mode": {
    "name": "ipython",
    "version": 3
   },
   "file_extension": ".py",
   "mimetype": "text/x-python",
   "name": "python",
   "nbconvert_exporter": "python",
   "pygments_lexer": "ipython3",
   "version": "3.6.8"
  }
 },
 "nbformat": 4,
 "nbformat_minor": 2
}
