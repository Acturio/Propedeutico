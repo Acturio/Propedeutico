{
 "cells": [
  {
   "cell_type": "markdown",
   "metadata": {},
   "source": [
    "Lo siguiente está basado en el libro de Álgebra Lineal de Grossman, S. y Flores, J."
   ]
  },
  {
   "cell_type": "markdown",
   "metadata": {},
   "source": [
    "# Vectores"
   ]
  },
  {
   "cell_type": "markdown",
   "metadata": {},
   "source": [
    "## Vector renglón de $n$ componentes "
   ]
  },
  {
   "cell_type": "markdown",
   "metadata": {},
   "source": [
    "Un vector de $n$ componentes se define como un conjunto **ordenado** de $n$ números escritos de la siguiente forma: $(x_1, x_2, \\dots, x_n)$"
   ]
  },
  {
   "cell_type": "markdown",
   "metadata": {},
   "source": [
    "## Vector columna  de $n$ componentes "
   ]
  },
  {
   "cell_type": "markdown",
   "metadata": {},
   "source": [
    "Un vector columna de $n$ componentes es un conjunto **ordenado** de $n$ números escritos de la siguiente forma: \n",
    "$\\left( \n",
    "\\begin{array}{c}\n",
    "x_1\\\\\n",
    "x_2\\\\\n",
    "\\vdots\\\\\n",
    "x_n\n",
    "\\end{array}\n",
    "\\right)$"
   ]
  },
  {
   "cell_type": "markdown",
   "metadata": {},
   "source": [
    "**Obs:** $x_k$ se denomina la **k-ésima** componente del vector y puede estar en algún conjunto de números como $\\mathbb{R}$ o $\\mathbb{C}$. Típicamente si no se especifica el conjunto se supone $\\mathbb{R}$."
   ]
  },
  {
   "cell_type": "markdown",
   "metadata": {},
   "source": [
    "Los vectores renglón se encuentran en el conjunto $\\mathbb{R}^{1xn}$ y los vectores columna se encuentran en el conjunto $\\mathbb{R}^{nx1}$ o simplemente $\\mathbb{R}^n$."
   ]
  },
  {
   "cell_type": "markdown",
   "metadata": {},
   "source": [
    "### En numpy..."
   ]
  },
  {
   "cell_type": "markdown",
   "metadata": {},
   "source": [
    "**Con numpy creamos array's de la siguiente forma:**"
   ]
  },
  {
   "cell_type": "code",
   "execution_count": 2,
   "metadata": {},
   "outputs": [
    {
     "name": "stdout",
     "output_type": "stream",
     "text": [
      "array([1, 2, 3])\n"
     ]
    }
   ],
   "source": [
    "import numpy as np\n",
    "import pprint\n",
    "v = np.array([1,2,3])\n",
    "pprint.pprint(v)"
   ]
  },
  {
   "cell_type": "markdown",
   "metadata": {},
   "source": [
    "**y cada array tiene atributos `ndim` (número de dimensiones), `shape` (tamaño de cada dimensión) y `size` (el tamaño total del array) y `dtype` el tipo de dato del array**"
   ]
  },
  {
   "cell_type": "code",
   "execution_count": 5,
   "metadata": {},
   "outputs": [
    {
     "name": "stdout",
     "output_type": "stream",
     "text": [
      "v.ndim: 1\n",
      "v.shape: (3,)\n",
      "v.size: 3\n",
      "v.dtype int64\n"
     ]
    }
   ],
   "source": [
    "print('v.ndim:', v.ndim)\n",
    "print('v.shape:', v.shape)\n",
    "print('v.size:', v.size)\n",
    "print('v.dtype', v.dtype)"
   ]
  },
  {
   "cell_type": "markdown",
   "metadata": {},
   "source": [
    "**accedemos con corchetes a sus componentes**"
   ]
  },
  {
   "cell_type": "code",
   "execution_count": 20,
   "metadata": {},
   "outputs": [
    {
     "name": "stdout",
     "output_type": "stream",
     "text": [
      "primer elemento 1\n",
      "último elemento 3\n",
      "segundo elemento 2\n",
      "penúltimo elemento 2\n",
      "del primero al 2º elemento incluyendo este último [1 2]\n",
      "del 2º al último elemento sin incluir el 2º [3]\n"
     ]
    }
   ],
   "source": [
    "print('primer elemento', v[0])\n",
    "print('último elemento', v[-1])\n",
    "print('segundo elemento', v[1])\n",
    "print('penúltimo elemento', v[-2])\n",
    "print('del primero al 2º elemento incluyendo este último', v[:2])\n",
    "print('del 2º al último elemento sin incluir el 2º', v[2:])"
   ]
  },
  {
   "cell_type": "markdown",
   "metadata": {},
   "source": [
    "**otra forma de generar arrays en numpy es con la función arange o random para un array pseudo aleatorio:**"
   ]
  },
  {
   "cell_type": "code",
   "execution_count": 10,
   "metadata": {},
   "outputs": [
    {
     "name": "stdout",
     "output_type": "stream",
     "text": [
      "array([0, 1, 2, 3, 4])\n",
      "array([0. , 0.2, 0.4, 0.6, 0.8])\n"
     ]
    }
   ],
   "source": [
    "pprint.pprint(np.arange(5))\n",
    "pprint.pprint(np.arange(0,1,.2))"
   ]
  },
  {
   "cell_type": "code",
   "execution_count": 24,
   "metadata": {},
   "outputs": [
    {
     "name": "stdout",
     "output_type": "stream",
     "text": [
      "array([2, 4, 4])\n"
     ]
    }
   ],
   "source": [
    "#array pseudo aleatorio\n",
    "np.random.seed(1989)\n",
    "pprint.pprint(np.random.randint(5, size=3)) #números enteros pseudo aleatorios del 0 al 4"
   ]
  },
  {
   "cell_type": "markdown",
   "metadata": {},
   "source": [
    "ver: \n",
    "* [numpy.reshape](https://docs.scipy.org/doc/numpy/reference/generated/numpy.reshape.html)\n",
    "* [numpy.random.randint](https://docs.scipy.org/doc/numpy-1.15.1/reference/generated/numpy.random.randint.html)"
   ]
  },
  {
   "cell_type": "markdown",
   "metadata": {},
   "source": [
    "**Para obtener vectores renglón se puede utilizar la función `reshape`**"
   ]
  },
  {
   "cell_type": "code",
   "execution_count": 22,
   "metadata": {},
   "outputs": [
    {
     "data": {
      "text/plain": [
       "array([[1, 2, 3]])"
      ]
     },
     "execution_count": 22,
     "metadata": {},
     "output_type": "execute_result"
    }
   ],
   "source": [
    "v.reshape(1,3)"
   ]
  },
  {
   "cell_type": "markdown",
   "metadata": {},
   "source": [
    "**y vectores columna con:**"
   ]
  },
  {
   "cell_type": "code",
   "execution_count": 23,
   "metadata": {},
   "outputs": [
    {
     "data": {
      "text/plain": [
       "array([[1],\n",
       "       [2],\n",
       "       [3]])"
      ]
     },
     "execution_count": 23,
     "metadata": {},
     "output_type": "execute_result"
    }
   ],
   "source": [
    "v.reshape(3,1)"
   ]
  },
  {
   "cell_type": "markdown",
   "metadata": {},
   "source": [
    "ver: [numpy.reshape](https://docs.scipy.org/doc/numpy/reference/generated/numpy.reshape.html)"
   ]
  }
 ],
 "metadata": {
  "kernelspec": {
   "display_name": "Python 3",
   "language": "python",
   "name": "python3"
  },
  "language_info": {
   "codemirror_mode": {
    "name": "ipython",
    "version": 3
   },
   "file_extension": ".py",
   "mimetype": "text/x-python",
   "name": "python",
   "nbconvert_exporter": "python",
   "pygments_lexer": "ipython3",
   "version": "3.6.8"
  }
 },
 "nbformat": 4,
 "nbformat_minor": 2
}
