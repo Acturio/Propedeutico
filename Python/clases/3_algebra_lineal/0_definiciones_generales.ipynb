{
 "cells": [
  {
   "cell_type": "markdown",
   "metadata": {},
   "source": [
    "Lo siguiente está basado en el capítulo 2 y apéndice del libro de texto de J. Kiusalas Numerical Methods in Engineering with Python 3 y el libro de Álgebra Lineal de Grossman, S. y Flores, J."
   ]
  },
  {
   "cell_type": "markdown",
   "metadata": {},
   "source": [
    "**Se sugiere haber revisado la sección 1.5 del libro de texto de J. Kiusalas Numerical Methods in Engineering with Python 3: uso de numpy**"
   ]
  },
  {
   "cell_type": "markdown",
   "metadata": {},
   "source": [
    "# Vectores"
   ]
  },
  {
   "cell_type": "markdown",
   "metadata": {},
   "source": [
    "## Vector renglón de $n$ componentes "
   ]
  },
  {
   "cell_type": "markdown",
   "metadata": {},
   "source": [
    "Un vector de $n$ componentes se define como un conjunto **ordenado** de $n$ números escritos de la siguiente forma: $(x_1, x_2, \\dots, x_n)$"
   ]
  },
  {
   "cell_type": "markdown",
   "metadata": {},
   "source": [
    "## Vector columna  de $n$ componentes "
   ]
  },
  {
   "cell_type": "markdown",
   "metadata": {},
   "source": [
    "Un vector columna de $n$ componentes es un conjunto **ordenado** de $n$ números escritos de la siguiente forma: \n",
    "$\\left( \n",
    "\\begin{array}{c}\n",
    "x_1\\\\\n",
    "x_2\\\\\n",
    "\\vdots\\\\\n",
    "x_n\n",
    "\\end{array}\n",
    "\\right)$"
   ]
  },
  {
   "cell_type": "markdown",
   "metadata": {},
   "source": [
    "**Obs:** $x_k$ se denomina la **k-ésima** componente del vector y puede estar en algún conjunto de números como $\\mathbb{R}$ o $\\mathbb{C}$. Típicamente si no se especifica el conjunto se supone $\\mathbb{R}$."
   ]
  },
  {
   "cell_type": "markdown",
   "metadata": {},
   "source": [
    "Los vectores renglón se encuentran en el conjunto $\\mathbb{R}^{1xn}$ y los vectores columna se encuentran en el conjunto $\\mathbb{R}^{nx1}$ o simplemente $\\mathbb{R}^n$."
   ]
  },
  {
   "cell_type": "markdown",
   "metadata": {},
   "source": [
    "### En numpy..."
   ]
  },
  {
   "cell_type": "markdown",
   "metadata": {},
   "source": [
    "**En numpy creamos array's de la siguiente forma: (un array en numpy se considera tanto columna o vector y dependiendo del uso se toma uno u otro)**"
   ]
  },
  {
   "cell_type": "code",
   "execution_count": 1,
   "metadata": {},
   "outputs": [
    {
     "name": "stdout",
     "output_type": "stream",
     "text": [
      "array([1, 2, 3])\n"
     ]
    }
   ],
   "source": [
    "import numpy as np\n",
    "import pprint\n",
    "v = np.array([1,2,3])\n",
    "pprint.pprint(v)"
   ]
  },
  {
   "cell_type": "markdown",
   "metadata": {},
   "source": [
    "**y cada array tiene atributos `ndim` (número de dimensiones), `shape` (tamaño de cada dimensión) y `size` (el tamaño total del array) y `dtype` el tipo de dato del array**"
   ]
  },
  {
   "cell_type": "code",
   "execution_count": 2,
   "metadata": {},
   "outputs": [
    {
     "name": "stdout",
     "output_type": "stream",
     "text": [
      "v.ndim: 1\n",
      "v.shape: (3,)\n",
      "v.size: 3\n",
      "v.dtype int64\n"
     ]
    }
   ],
   "source": [
    "print('v.ndim:', v.ndim)\n",
    "print('v.shape:', v.shape)\n",
    "print('v.size:', v.size)\n",
    "print('v.dtype', v.dtype)"
   ]
  },
  {
   "cell_type": "markdown",
   "metadata": {},
   "source": [
    "**accedemos con corchetes a sus componentes**"
   ]
  },
  {
   "cell_type": "code",
   "execution_count": 3,
   "metadata": {},
   "outputs": [
    {
     "name": "stdout",
     "output_type": "stream",
     "text": [
      "primer elemento 1\n",
      "último elemento 3\n",
      "segundo elemento 2\n",
      "penúltimo elemento 2\n",
      "del primero al 2º elemento incluyendo este último [1 2]\n",
      "del 2º al último elemento sin incluir el 2º [3]\n"
     ]
    }
   ],
   "source": [
    "print('primer elemento', v[0])\n",
    "print('último elemento', v[-1])\n",
    "print('segundo elemento', v[1])\n",
    "print('penúltimo elemento', v[-2])\n",
    "print('del primero al 2º elemento incluyendo este último', v[:2])\n",
    "print('del 2º al último elemento sin incluir el 2º', v[2:])"
   ]
  },
  {
   "cell_type": "markdown",
   "metadata": {},
   "source": [
    "**otra forma de generar arrays en numpy es con la función arange o random para un array pseudo aleatorio:**"
   ]
  },
  {
   "cell_type": "code",
   "execution_count": 4,
   "metadata": {},
   "outputs": [
    {
     "name": "stdout",
     "output_type": "stream",
     "text": [
      "array([0, 1, 2, 3, 4])\n",
      "array([0. , 0.2, 0.4, 0.6, 0.8])\n"
     ]
    }
   ],
   "source": [
    "pprint.pprint(np.arange(5))\n",
    "pprint.pprint(np.arange(0,1,.2))"
   ]
  },
  {
   "cell_type": "code",
   "execution_count": 5,
   "metadata": {},
   "outputs": [
    {
     "name": "stdout",
     "output_type": "stream",
     "text": [
      "array([2, 4, 4])\n"
     ]
    }
   ],
   "source": [
    "#array pseudo aleatorio\n",
    "np.random.seed(1989)\n",
    "pprint.pprint(np.random.randint(5, size=3)) #números enteros pseudo aleatorios del 0 al 4"
   ]
  },
  {
   "cell_type": "markdown",
   "metadata": {},
   "source": [
    "ver: \n",
    "* [numpy.reshape](https://docs.scipy.org/doc/numpy/reference/generated/numpy.reshape.html)\n",
    "* [numpy.random.randint](https://docs.scipy.org/doc/numpy-1.15.1/reference/generated/numpy.random.randint.html)\n",
    "* [numpy-for-matlab-users](https://www.numpy.org/devdocs/user/numpy-for-matlab-users.html)"
   ]
  },
  {
   "cell_type": "markdown",
   "metadata": {},
   "source": [
    "**Para obtener vectores renglón se puede utilizar la función `reshape`**"
   ]
  },
  {
   "cell_type": "code",
   "execution_count": 6,
   "metadata": {},
   "outputs": [
    {
     "data": {
      "text/plain": [
       "array([[1, 2, 3]])"
      ]
     },
     "execution_count": 6,
     "metadata": {},
     "output_type": "execute_result"
    }
   ],
   "source": [
    "v.reshape(1,3)"
   ]
  },
  {
   "cell_type": "markdown",
   "metadata": {},
   "source": [
    "**y vectores columna con:**"
   ]
  },
  {
   "cell_type": "code",
   "execution_count": 7,
   "metadata": {},
   "outputs": [
    {
     "data": {
      "text/plain": [
       "array([[1],\n",
       "       [2],\n",
       "       [3]])"
      ]
     },
     "execution_count": 7,
     "metadata": {},
     "output_type": "execute_result"
    }
   ],
   "source": [
    "v.reshape(3,1)"
   ]
  },
  {
   "cell_type": "markdown",
   "metadata": {},
   "source": [
    "ver: [numpy.reshape](https://docs.scipy.org/doc/numpy/reference/generated/numpy.reshape.html)"
   ]
  },
  {
   "cell_type": "markdown",
   "metadata": {},
   "source": [
    "# Matrices"
   ]
  },
  {
   "cell_type": "markdown",
   "metadata": {},
   "source": [
    "El arreglo de coeficientes: $$\\begin{bmatrix} a_{11} & a_{12} & \\cdots& a_{1n} \\\\ a_{21} & a_{22} & \\cdots& a_{2n} \\\\ &&\\vdots \\\\ a_{m1} & a_{m2} & \\cdots& a_{mn} \\end{bmatrix}$$ "
   ]
  },
  {
   "cell_type": "markdown",
   "metadata": {},
   "source": [
    "se le llama matriz de coeficientes del sistema y la matriz de coeficientes aumentada con el lado derecho se le llama matriz aumentada: $$ \\left [\\begin{array}{cccc|c} a_{11} & a_{12} & \\cdots& a_{1n} & b_1 \\\\ a_{21} & a_{22} & \\cdots& a_{2n} & b_2 \\\\ && \\vdots& & \\\\ a_{m1} & a_{m2} & \\cdots& a_{mn} & b_m \\end{array} \\right ]$$"
   ]
  },
  {
   "cell_type": "markdown",
   "metadata": {},
   "source": [
    "Si a la matriz de coeficientes se denota por $A$ y el lado derecho por $b$ entonces la matriz aumentada es $[A|b]$."
   ]
  },
  {
   "cell_type": "markdown",
   "metadata": {},
   "source": [
    "**Def** Formalmente un escalar es un número real o complejo y una matriz es un arreglo rectangular de escalares y se escribe $A \\in \\mathbb{R}^{mxn}$ o $A \\in \\mathbb{C}^{mxn}$ para denotar que $A$ es un arreglo de dos dimensiones de números reales o de números complejos respectivamente y $A$ tiene dimensiones $mxn$: $m$ renglones y $n$ columnas."
   ]
  },
  {
   "cell_type": "markdown",
   "metadata": {},
   "source": [
    "Una matriz se nombra cuadrada si $m=n$ y rectangular si $m \\neq n$."
   ]
  },
  {
   "cell_type": "markdown",
   "metadata": {},
   "source": [
    "**Def** Una submatriz de una matriz $A$ es un arreglo que se forma al eliminar cualquier combinación de renglones y columnas de $A$. Por ejemplo, $B = \\begin{bmatrix} 2 &4 \\\\ -3& 7\\end{bmatrix}$ es una submatriz de $A = \\begin{bmatrix} 2 &1& 3& 4 \\\\ 8& 6& 5& -9\\\\ -3& 8& 3& 7 \\end{bmatrix}$."
   ]
  },
  {
   "cell_type": "markdown",
   "metadata": {},
   "source": [
    "El símbolo $A_{i*}$ es utilizado para denotar el $i$-ésimo renglón de $A$ y $A_{*j}$ la $j$-ésima columna de A. Por ejemplo $A_{2*} = \\begin{bmatrix} 8& 6& 5& -9 \\end{bmatrix}$ y $A_{*2} = \\begin{bmatrix} 1 \\\\6\\\\8 \\end{bmatrix}$ en la definición anterior."
   ]
  },
  {
   "cell_type": "markdown",
   "metadata": {},
   "source": [
    "### En numpy..."
   ]
  },
  {
   "cell_type": "markdown",
   "metadata": {},
   "source": [
    "**En numpy creamos arrays de dos dimensiones de la siguiente forma:**"
   ]
  },
  {
   "cell_type": "code",
   "execution_count": 8,
   "metadata": {},
   "outputs": [
    {
     "name": "stdout",
     "output_type": "stream",
     "text": [
      "array([[1, 2, 3],\n",
      "       [4, 5, 6]])\n"
     ]
    }
   ],
   "source": [
    "import numpy as np\n",
    "import pprint\n",
    "A = np.array([[1,2,3],[4,5,6]])\n",
    "pprint.pprint(A)"
   ]
  },
  {
   "cell_type": "markdown",
   "metadata": {},
   "source": [
    "**y cada array tiene atributos `ndim` (número de dimensiones), `shape` (tamaño de cada dimensión) y `size` (el tamaño total del array) y `dtype` el tipo de dato del array**"
   ]
  },
  {
   "cell_type": "code",
   "execution_count": 9,
   "metadata": {},
   "outputs": [
    {
     "name": "stdout",
     "output_type": "stream",
     "text": [
      "A.ndim: 2\n",
      "A.shape: (2, 3)\n",
      "A.size: 6\n",
      "A.dtype int64\n"
     ]
    }
   ],
   "source": [
    "print('A.ndim:', A.ndim)\n",
    "print('A.shape:', A.shape)\n",
    "print('A.size:', A.size)\n",
    "print('A.dtype', A.dtype)"
   ]
  },
  {
   "cell_type": "markdown",
   "metadata": {},
   "source": [
    "**accedemos con corchetes a sus componentes**"
   ]
  },
  {
   "cell_type": "code",
   "execution_count": 10,
   "metadata": {},
   "outputs": [
    {
     "name": "stdout",
     "output_type": "stream",
     "text": [
      "elemento en la posición (0,0): 1\n",
      "elemento en la posición (1,2): 6\n",
      "elemento en la posición (0,0): 1\n",
      "elemento en la posición (1,2): 6\n"
     ]
    }
   ],
   "source": [
    "print('elemento en la posición (0,0):', A[0][0])\n",
    "print('elemento en la posición (1,2):', A[1][2])\n",
    "#también con la siguiente notación:\n",
    "print('elemento en la posición (0,0):', A[0,0])\n",
    "print('elemento en la posición (1,2):', A[1,2])"
   ]
  },
  {
   "cell_type": "code",
   "execution_count": 11,
   "metadata": {},
   "outputs": [
    {
     "name": "stdout",
     "output_type": "stream",
     "text": [
      "primer columna: [1 4]\n",
      "tercer columna: [3 6]\n",
      "segundo renglón: [4 5 6]\n"
     ]
    }
   ],
   "source": [
    "print('primer columna:', A[:,0])\n",
    "print('tercer columna:', A[:,2])\n",
    "print('segundo renglón:', A[1,:])"
   ]
  },
  {
   "cell_type": "markdown",
   "metadata": {},
   "source": [
    "**otra forma de generar arrays en numpy es con la función arange o random para un array pseudo aleatorio:**"
   ]
  },
  {
   "cell_type": "code",
   "execution_count": 12,
   "metadata": {},
   "outputs": [
    {
     "name": "stdout",
     "output_type": "stream",
     "text": [
      "array([[0, 1, 2],\n",
      "       [3, 4, 5]])\n",
      "array([[0. , 0.2],\n",
      "       [0.4, 0.6],\n",
      "       [0.8, 1. ]])\n"
     ]
    }
   ],
   "source": [
    "pprint.pprint(np.arange(6).reshape(2,3))\n",
    "pprint.pprint(np.arange(0,1.2,.2).reshape(3,2))"
   ]
  },
  {
   "cell_type": "code",
   "execution_count": 13,
   "metadata": {},
   "outputs": [
    {
     "name": "stdout",
     "output_type": "stream",
     "text": [
      "array([[2, 4],\n",
      "       [4, 2],\n",
      "       [3, 4]])\n"
     ]
    }
   ],
   "source": [
    "#array pseudo aleatorio\n",
    "np.random.seed(1989)\n",
    "pprint.pprint(np.random.randint(5, size=(3,2))) #números enteros pseudo aleatorios del 0 al 4"
   ]
  },
  {
   "cell_type": "markdown",
   "metadata": {},
   "source": [
    "ver: \n",
    "* [numpy.reshape](https://docs.scipy.org/doc/numpy/reference/generated/numpy.reshape.html)\n",
    "* [numpy.random.randint](https://docs.scipy.org/doc/numpy-1.15.1/reference/generated/numpy.random.randint.html)\n",
    "* [numpy-for-matlab-users](https://www.numpy.org/devdocs/user/numpy-for-matlab-users.html)"
   ]
  },
  {
   "cell_type": "markdown",
   "metadata": {},
   "source": [
    "# Operaciones en el álgebra lineal con numpy"
   ]
  },
  {
   "cell_type": "code",
   "execution_count": 14,
   "metadata": {},
   "outputs": [],
   "source": [
    "import numpy as np\n",
    "import pprint"
   ]
  },
  {
   "cell_type": "markdown",
   "metadata": {},
   "source": [
    "## Producto escalar-vector, suma y punto entre vectores"
   ]
  },
  {
   "cell_type": "code",
   "execution_count": 15,
   "metadata": {},
   "outputs": [],
   "source": [
    "v1 = np.array([6,-3,4])\n",
    "v2 = np.array([4,5,0])\n",
    "escalar = -1/2"
   ]
  },
  {
   "cell_type": "code",
   "execution_count": 16,
   "metadata": {},
   "outputs": [
    {
     "data": {
      "text/plain": [
       "array([-3. ,  1.5, -2. ])"
      ]
     },
     "execution_count": 16,
     "metadata": {},
     "output_type": "execute_result"
    }
   ],
   "source": [
    "escalar*v1"
   ]
  },
  {
   "cell_type": "code",
   "execution_count": 17,
   "metadata": {},
   "outputs": [
    {
     "data": {
      "text/plain": [
       "9"
      ]
     },
     "execution_count": 17,
     "metadata": {},
     "output_type": "execute_result"
    }
   ],
   "source": [
    "v1.dot(v2)"
   ]
  },
  {
   "cell_type": "code",
   "execution_count": 32,
   "metadata": {},
   "outputs": [
    {
     "data": {
      "text/plain": [
       "array([10,  2,  4])"
      ]
     },
     "execution_count": 32,
     "metadata": {},
     "output_type": "execute_result"
    }
   ],
   "source": [
    "v1+v2"
   ]
  },
  {
   "cell_type": "markdown",
   "metadata": {},
   "source": [
    "## Producto matriz vector point-wise"
   ]
  },
  {
   "cell_type": "code",
   "execution_count": 18,
   "metadata": {},
   "outputs": [
    {
     "data": {
      "text/plain": [
       "array([[ 2,  5,  0],\n",
       "       [ 3,  6,  6],\n",
       "       [-6,  4, -1],\n",
       "       [ 5,  4,  9]])"
      ]
     },
     "execution_count": 18,
     "metadata": {},
     "output_type": "execute_result"
    }
   ],
   "source": [
    "A = np.array([[2,5,0],[3,6,6],[-6,4,-1],[5,4,9]])\n",
    "A"
   ]
  },
  {
   "cell_type": "code",
   "execution_count": 19,
   "metadata": {},
   "outputs": [
    {
     "data": {
      "text/plain": [
       "array([-2,  1,  4])"
      ]
     },
     "execution_count": 19,
     "metadata": {},
     "output_type": "execute_result"
    }
   ],
   "source": [
    "v = np.array([-2,1,4])\n",
    "v"
   ]
  },
  {
   "cell_type": "code",
   "execution_count": 20,
   "metadata": {},
   "outputs": [
    {
     "data": {
      "text/plain": [
       "array([[ -4,   5,   0],\n",
       "       [ -6,   6,  24],\n",
       "       [ 12,   4,  -4],\n",
       "       [-10,   4,  36]])"
      ]
     },
     "execution_count": 20,
     "metadata": {},
     "output_type": "execute_result"
    }
   ],
   "source": [
    "A*v"
   ]
  },
  {
   "cell_type": "markdown",
   "metadata": {},
   "source": [
    "## Producto matriz vector point-wise"
   ]
  },
  {
   "cell_type": "code",
   "execution_count": 21,
   "metadata": {},
   "outputs": [
    {
     "data": {
      "text/plain": [
       "array([[ 2,  5,  0],\n",
       "       [ 3,  6,  6],\n",
       "       [-6,  4, -1],\n",
       "       [ 5,  4,  9]])"
      ]
     },
     "execution_count": 21,
     "metadata": {},
     "output_type": "execute_result"
    }
   ],
   "source": [
    "A = np.array([[2,5,0],[3,6,6],[-6,4,-1],[5,4,9]])\n",
    "A"
   ]
  },
  {
   "cell_type": "code",
   "execution_count": 22,
   "metadata": {},
   "outputs": [
    {
     "data": {
      "text/plain": [
       "array([-2,  1,  4])"
      ]
     },
     "execution_count": 22,
     "metadata": {},
     "output_type": "execute_result"
    }
   ],
   "source": [
    "v = np.array([-2,1,4])\n",
    "v"
   ]
  },
  {
   "cell_type": "code",
   "execution_count": 23,
   "metadata": {},
   "outputs": [
    {
     "data": {
      "text/plain": [
       "array([ 1, 24, 12, 30])"
      ]
     },
     "execution_count": 23,
     "metadata": {},
     "output_type": "execute_result"
    }
   ],
   "source": [
    "A.dot(v)"
   ]
  },
  {
   "cell_type": "code",
   "execution_count": 24,
   "metadata": {},
   "outputs": [
    {
     "data": {
      "text/plain": [
       "array([ 1, 24, 12, 30])"
      ]
     },
     "execution_count": 24,
     "metadata": {},
     "output_type": "execute_result"
    }
   ],
   "source": [
    "A@v"
   ]
  },
  {
   "cell_type": "markdown",
   "metadata": {},
   "source": [
    "## Suma y producto matriz-matriz pointwise"
   ]
  },
  {
   "cell_type": "code",
   "execution_count": 25,
   "metadata": {},
   "outputs": [
    {
     "data": {
      "text/plain": [
       "array([[ 2,  5,  0],\n",
       "       [ 3,  6,  6],\n",
       "       [-6,  4, -1],\n",
       "       [ 5,  4,  9]])"
      ]
     },
     "execution_count": 25,
     "metadata": {},
     "output_type": "execute_result"
    }
   ],
   "source": [
    "A = np.array([[2,5,0],[3,6,6],[-6,4,-1],[5,4,9]])\n",
    "A"
   ]
  },
  {
   "cell_type": "code",
   "execution_count": 26,
   "metadata": {},
   "outputs": [
    {
     "data": {
      "text/plain": [
       "array([[ 2, -2,  3],\n",
       "       [ 1, -1,  5],\n",
       "       [ 0, -2,  1],\n",
       "       [ 0,  0, -3]])"
      ]
     },
     "execution_count": 26,
     "metadata": {},
     "output_type": "execute_result"
    }
   ],
   "source": [
    "B = np.array([[2,-2,3],[1,-1,5],[0,-2,1],[0,0,-3]])\n",
    "B"
   ]
  },
  {
   "cell_type": "code",
   "execution_count": 27,
   "metadata": {},
   "outputs": [
    {
     "data": {
      "text/plain": [
       "array([[ 4,  3,  3],\n",
       "       [ 4,  5, 11],\n",
       "       [-6,  2,  0],\n",
       "       [ 5,  4,  6]])"
      ]
     },
     "execution_count": 27,
     "metadata": {},
     "output_type": "execute_result"
    }
   ],
   "source": [
    "A+B"
   ]
  },
  {
   "cell_type": "code",
   "execution_count": 28,
   "metadata": {},
   "outputs": [
    {
     "data": {
      "text/plain": [
       "array([[  4, -10,   0],\n",
       "       [  3,  -6,  30],\n",
       "       [  0,  -8,  -1],\n",
       "       [  0,   0, -27]])"
      ]
     },
     "execution_count": 28,
     "metadata": {},
     "output_type": "execute_result"
    }
   ],
   "source": [
    "A*B"
   ]
  },
  {
   "cell_type": "markdown",
   "metadata": {},
   "source": [
    "## Producto matriz-matriz"
   ]
  },
  {
   "cell_type": "code",
   "execution_count": 29,
   "metadata": {},
   "outputs": [
    {
     "data": {
      "text/plain": [
       "array([[ 2,  5,  0],\n",
       "       [ 3,  6,  6],\n",
       "       [-6,  4, -1],\n",
       "       [ 5,  4,  9]])"
      ]
     },
     "execution_count": 29,
     "metadata": {},
     "output_type": "execute_result"
    }
   ],
   "source": [
    "A = np.array([[2,5,0],[3,6,6],[-6,4,-1],[5,4,9]])\n",
    "A"
   ]
  },
  {
   "cell_type": "code",
   "execution_count": 30,
   "metadata": {},
   "outputs": [
    {
     "data": {
      "text/plain": [
       "array([[ 2, -2,  3],\n",
       "       [ 1, -1,  5],\n",
       "       [ 0, -2,  1]])"
      ]
     },
     "execution_count": 30,
     "metadata": {},
     "output_type": "execute_result"
    }
   ],
   "source": [
    "B = np.array([[2,-2,3],[1,-1,5],[0,-2,1]])\n",
    "B"
   ]
  },
  {
   "cell_type": "code",
   "execution_count": 31,
   "metadata": {},
   "outputs": [
    {
     "data": {
      "text/plain": [
       "array([[  9,  -9,  31],\n",
       "       [ 12, -24,  45],\n",
       "       [ -8,  10,   1],\n",
       "       [ 14, -32,  44]])"
      ]
     },
     "execution_count": 31,
     "metadata": {},
     "output_type": "execute_result"
    }
   ],
   "source": [
    "A@B"
   ]
  },
  {
   "cell_type": "markdown",
   "metadata": {},
   "source": [
    "Ver:\n",
    "\n",
    "* [numpy-for-matlab-users](https://www.numpy.org/devdocs/user/numpy-for-matlab-users.html)\n",
    "* [Quickstart tutorial](https://docs.scipy.org/doc/numpy/user/quickstart.html)\n"
   ]
  },
  {
   "cell_type": "markdown",
   "metadata": {},
   "source": [
    "# Para más sobre operaciones vectoriales, matriciales y propiedades y definiciones de matrices especiales:\n",
    "\n",
    "* Capítulo 2 del libro de Álgebra Lineal de Grossman, S. y Flores, J. hasta sección 2.3. De esta sección hasta la 2.7 se trabajan las definiciones de matriz inversa, simétrica y triangular inferior-superior. En el capítulo 3 se trabaja con la definición del determinante de una matriz y sus propiedades."
   ]
  },
  {
   "cell_type": "markdown",
   "metadata": {},
   "source": [
    "# Espacios vectoriales"
   ]
  },
  {
   "cell_type": "markdown",
   "metadata": {},
   "source": [
    "Lo siguiente está basado en el capítulo 5 del libro de Álgebra Lineal de Grossman, S. y Flores, J."
   ]
  },
  {
   "cell_type": "markdown",
   "metadata": {},
   "source": [
    "Como se vio arriba, las operaciones binarias de (suma, producto por un escalar): $(+,\\cdot)$ se encuentran definidas para el conjunto $\\mathbb{R}^n$ que es el conjunto de tuplas ordenadas de tamaño $n$ y tales operaciones están bien definidas pues obtenemos elementos del mismo conjunto. También, tales operaciones están bien definidas para el conjunto $\\mathbb{R}^{mxn}$, el cual es el conjunto de matrices de tamaño $mxn$."
   ]
  },
  {
   "cell_type": "markdown",
   "metadata": {},
   "source": [
    "Para aquellos conjuntos $V$ a los que se les define una (suma, producto por un escalar), $(+,\\cdot)$, y el escalar está definido en un conjunto $K$ llamado campo, y cumplen con las siguientes propiedades se les llama *espacios vectoriales* y estos en general son distintos a $\\mathbb{R}^n$ o $\\mathbb{R}^{mxn}$:"
   ]
  },
  {
   "cell_type": "markdown",
   "metadata": {},
   "source": [
    "1) Si $x \\in V$, $y \\in V$ entonces $x+y \\in V$ (cerradura bajo la suma).\n",
    "\n",
    "2) $\\forall x,y,z \\in V$ se cumple: $(x+y)+z=x+(y+z)$ (ley asociativa de la suma de vectores).\n",
    "\n",
    "3) $\\exists 0 \\in V$ tal que para todo $x \\in V$, $x+0=0+x=x$ (el $0$ se llama vector cero).\n",
    "\n",
    "4) Si $x \\in V$, $\\exists -x \\in V$ tal que $x+(-x)=0$ ($-x$ se llama inverso aditivo de $x$ y $0$ es el elemento descrito por la propiedad 3).\n",
    "\n",
    "5) Si $x,y \\in V$, entonces $x+y=y+x$ (ley conmutativa de la suma de vectores).\n",
    "\n",
    "6) Si $x \\in V$, $\\alpha \\in K$ entonces $\\alpha \\cdot x \\in V$ (cerradura bajo la multiplicación por un escalar).\n",
    "\n",
    "7) Si $x, y \\in V$, $\\alpha \\in K$ entonces $\\alpha \\cdot (x+y)=\\alpha \\cdot x + \\alpha \\cdot y$ (primera ley distributiva).\n",
    "\n",
    "8) Si $x \\in V$, $\\alpha, \\beta \\in K$ entonces $(\\alpha + \\beta)\\cdot x = \\alpha \\cdot x + \\beta \\cdot x$ (segunda ley distributiva).\n",
    "\n",
    "9) Si $x \\in V$, $\\alpha, \\beta \\in K$ entonces $\\alpha(\\beta \\cdot x) = (\\alpha \\beta)\\cdot x$ (ley asociativa de la multiplicación por escalares).\n",
    "\n",
    "10) $\\forall x \\in V,$ $\\exists 1 \\in K$ tal que: $1\\cdot x = x$."
   ]
  },
  {
   "cell_type": "markdown",
   "metadata": {},
   "source": [
    "## Ejemplos de espacios vectoriales\n",
    "\n",
    "* $\\mathbb{R}^n, \\mathbb{R}^{mxn}, \\mathbb{C}^n, \\mathbb{C}^{mxn}$.\n",
    "\n",
    "* $V=\\{0\\}$.\n",
    "\n",
    "* $V=\\{ (x,y) \\in \\mathbb{R}^2 : y = mx, m \\in \\mathbb{R}, x \\in \\mathbb{R}\\}$.\n",
    "\n",
    "* $V=\\{ (x,y,z) \\in \\mathbb{R}^3 : ax+by+cz=0, a \\in \\mathbb{R}, b \\in \\mathbb{R}, c\\in \\mathbb{R} \\}$.\n",
    "\n",
    "* $V = \\{ a_0 + a_1x + a_2x^2 + \\dots a_{n-1}x^{n-1} + a_nx^n : a_0, a_1, \\dots, a_n \\in \\mathbb{R}\\}$.\n",
    "\n",
    "* $V = \\mathcal{C}([0,1])$."
   ]
  },
  {
   "cell_type": "markdown",
   "metadata": {},
   "source": [
    "Ver:\n",
    "    \n",
    "* Fin de la sección $5.1$ y sección $5.2$ el libro de Álgebra Lineal de Grossman, S. y Flores, J. para tema de subespacios vectoriales. "
   ]
  },
  {
   "cell_type": "code",
   "execution_count": null,
   "metadata": {},
   "outputs": [],
   "source": []
  }
 ],
 "metadata": {
  "kernelspec": {
   "display_name": "Python 3",
   "language": "python",
   "name": "python3"
  },
  "language_info": {
   "codemirror_mode": {
    "name": "ipython",
    "version": 3
   },
   "file_extension": ".py",
   "mimetype": "text/x-python",
   "name": "python",
   "nbconvert_exporter": "python",
   "pygments_lexer": "ipython3",
   "version": "3.6.8"
  }
 },
 "nbformat": 4,
 "nbformat_minor": 2
}
