{
 "cells": [
  {
   "cell_type": "markdown",
   "metadata": {},
   "source": [
    "# Revisar y ejecutar los ejemplos de la sección 1.2 del libro de texto \"Numerical Methods in Engineering with Python3\" de J. Kiusalaas"
   ]
  },
  {
   "cell_type": "markdown",
   "metadata": {},
   "source": [
    "Temas:\n",
    "\n",
    "* Variables, strings, tuples, listas.\n",
    "* Operadores aritméticos y operadores de comparación.\n",
    "* Condicionales.\n",
    "* Loops.\n",
    "* Conversión de tipo.\n",
    "* Funciones matemáticas.\n",
    "* Input/Output.\n",
    "* Abrir/Cerrar un archivo.\n",
    "* Control de errores.\n"
   ]
  },
  {
   "cell_type": "markdown",
   "metadata": {},
   "source": [
    "Para ejecución de los ejemplos (excepto el de Input/Output y abrir/cerrar un archivo) se puede utilizar:\n",
    "\n",
    "https://repl.it/languages/python3\n",
    "    "
   ]
  },
  {
   "cell_type": "markdown",
   "metadata": {},
   "source": [
    "## Diccionarios"
   ]
  },
  {
   "cell_type": "markdown",
   "metadata": {},
   "source": [
    "Creamos un diccionario con: *{}* o dict()"
   ]
  },
  {
   "cell_type": "code",
   "execution_count": 27,
   "metadata": {},
   "outputs": [
    {
     "name": "stdout",
     "output_type": "stream",
     "text": [
      "{'llave1': 1, 'llave2': 'string1'}\n"
     ]
    }
   ],
   "source": [
    "dic = {'llave1': 1,'llave2':'string1'}\n",
    "print(dic)"
   ]
  },
  {
   "cell_type": "code",
   "execution_count": 28,
   "metadata": {},
   "outputs": [
    {
     "name": "stdout",
     "output_type": "stream",
     "text": [
      "{'key1': -1, 'key2': 'mistring'}\n"
     ]
    }
   ],
   "source": [
    "dic2 = dict([('key1', -1), ('key2', 'mistring')])\n",
    "print(dic2)"
   ]
  },
  {
   "cell_type": "code",
   "execution_count": 29,
   "metadata": {},
   "outputs": [
    {
     "name": "stdout",
     "output_type": "stream",
     "text": [
      "valor guardado en la llave1: 1\n",
      "valor guardado en la llave2: string1\n"
     ]
    }
   ],
   "source": [
    "#podemos acceder a los valores\n",
    "#guardados en cada llave como sigue:\n",
    "print('valor guardado en la llave1:', dic['llave1'])\n",
    "print('valor guardado en la llave2:',dic['llave2'])\n"
   ]
  },
  {
   "cell_type": "code",
   "execution_count": 30,
   "metadata": {},
   "outputs": [
    {
     "name": "stdout",
     "output_type": "stream",
     "text": [
      "valor guardado en la key1: -1\n",
      "valor guardado en la key2: mistring\n"
     ]
    }
   ],
   "source": [
    "print('valor guardado en la key1:', dic2['key1'])\n",
    "print('valor guardado en la key2:', dic2['key2'])"
   ]
  },
  {
   "cell_type": "code",
   "execution_count": 31,
   "metadata": {},
   "outputs": [
    {
     "name": "stdout",
     "output_type": "stream",
     "text": [
      "llaves del diccionario: dict_keys(['llave1', 'llave2'])\n",
      "valores del diccionario: dict_values([1, 'string1'])\n"
     ]
    }
   ],
   "source": [
    "#imprimimos las llaves\n",
    "print('llaves del diccionario:',dic.keys())\n",
    "#imprimimos los valores:\n",
    "print('valores del diccionario:', dic.values())"
   ]
  },
  {
   "cell_type": "code",
   "execution_count": 32,
   "metadata": {},
   "outputs": [
    {
     "name": "stdout",
     "output_type": "stream",
     "text": [
      "llaves del diccionario: dict_keys(['key1', 'key2'])\n",
      "valores del diccionario: dict_values([-1, 'mistring'])\n"
     ]
    }
   ],
   "source": [
    "print('llaves del diccionario:',dic2.keys())\n",
    "print('valores del diccionario:', dic2.values())"
   ]
  },
  {
   "cell_type": "code",
   "execution_count": 33,
   "metadata": {},
   "outputs": [
    {
     "name": "stdout",
     "output_type": "stream",
     "text": [
      "añadiendo pareja llave-valor al diccionario: \n",
      " {'llave1': 1, 'llave2': 'string1', 'llave3': -34}\n"
     ]
    }
   ],
   "source": [
    "#añadimos entradas a un diccionario \n",
    "#con:\n",
    "dic['llave3'] = -34\n",
    "print('añadiendo pareja llave-valor al diccionario: \\n',dic)"
   ]
  },
  {
   "cell_type": "code",
   "execution_count": 34,
   "metadata": {},
   "outputs": [
    {
     "name": "stdout",
     "output_type": "stream",
     "text": [
      "añadiendo pareja llave-valor al diccionario: \n",
      " {'key1': -1, 'key2': 'mistring', 'key3': 'mistring2'}\n"
     ]
    }
   ],
   "source": [
    "dic2['key3'] = 'mistring2'\n",
    "print('añadiendo pareja llave-valor al diccionario: \\n',dic2)"
   ]
  },
  {
   "cell_type": "code",
   "execution_count": 37,
   "metadata": {},
   "outputs": [],
   "source": [
    "valor=dic.pop('llave1')"
   ]
  },
  {
   "cell_type": "code",
   "execution_count": 38,
   "metadata": {},
   "outputs": [
    {
     "name": "stdout",
     "output_type": "stream",
     "text": [
      "1\n"
     ]
    }
   ],
   "source": [
    "print(valor)"
   ]
  },
  {
   "cell_type": "code",
   "execution_count": 39,
   "metadata": {},
   "outputs": [
    {
     "name": "stdout",
     "output_type": "stream",
     "text": [
      "el diccionario: {'llave2': 'string1', 'llave3': -34}\n"
     ]
    }
   ],
   "source": [
    "print('el diccionario:', dic)"
   ]
  },
  {
   "cell_type": "code",
   "execution_count": 40,
   "metadata": {},
   "outputs": [],
   "source": [
    "valor2=dic2.pop('key3')"
   ]
  },
  {
   "cell_type": "code",
   "execution_count": 41,
   "metadata": {},
   "outputs": [
    {
     "name": "stdout",
     "output_type": "stream",
     "text": [
      "mistring2\n"
     ]
    }
   ],
   "source": [
    "print(valor2)"
   ]
  },
  {
   "cell_type": "code",
   "execution_count": 42,
   "metadata": {},
   "outputs": [
    {
     "name": "stdout",
     "output_type": "stream",
     "text": [
      "el diccionario2: {'key1': -1, 'key2': 'mistring'}\n"
     ]
    }
   ],
   "source": [
    "print('el diccionario2:', dic2)"
   ]
  },
  {
   "cell_type": "markdown",
   "metadata": {},
   "source": [
    "## List & dictionaries comprehension"
   ]
  },
  {
   "cell_type": "code",
   "execution_count": 44,
   "metadata": {},
   "outputs": [
    {
     "data": {
      "text/plain": [
       "[0, 1, 2]"
      ]
     },
     "execution_count": 44,
     "metadata": {},
     "output_type": "execute_result"
    }
   ],
   "source": [
    "[x for x in range(0,3)]"
   ]
  },
  {
   "cell_type": "code",
   "execution_count": 45,
   "metadata": {},
   "outputs": [
    {
     "data": {
      "text/plain": [
       "{2: 4, 4: 16, 6: 36}"
      ]
     },
     "execution_count": 45,
     "metadata": {},
     "output_type": "execute_result"
    }
   ],
   "source": [
    "{x: x**2 for x in (2, 4, 6)}"
   ]
  },
  {
   "cell_type": "markdown",
   "metadata": {},
   "source": [
    "## Referencias para diccionarios:"
   ]
  },
  {
   "cell_type": "code",
   "execution_count": null,
   "metadata": {},
   "outputs": [],
   "source": [
    "* "
   ]
  }
 ],
 "metadata": {
  "kernelspec": {
   "display_name": "Python 3",
   "language": "python",
   "name": "python3"
  },
  "language_info": {
   "codemirror_mode": {
    "name": "ipython",
    "version": 3
   },
   "file_extension": ".py",
   "mimetype": "text/x-python",
   "name": "python",
   "nbconvert_exporter": "python",
   "pygments_lexer": "ipython3",
   "version": "3.6.8"
  }
 },
 "nbformat": 4,
 "nbformat_minor": 2
}
