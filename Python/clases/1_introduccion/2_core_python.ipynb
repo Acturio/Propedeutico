{
 "cells": [
  {
   "cell_type": "markdown",
   "metadata": {},
   "source": [
    "# Revisar y ejecutar los ejemplos de la sección 1.2 del libro de texto \"Numerical Methods in Engineering with Python3\" de J. Kiusalaas"
   ]
  },
  {
   "cell_type": "markdown",
   "metadata": {},
   "source": [
    "Temas:\n",
    "\n",
    "* Variables, strings, tuples, listas.\n",
    "* Operadores aritméticos y operadores de comparación.\n",
    "* Condicionales.\n",
    "* Loops.\n",
    "* Conversión de tipo.\n",
    "* Funciones matemáticas.\n",
    "* Input/Output.\n",
    "* Abrir/cerrar un archivo.\n",
    "* Escribir datos a un archivo.\n",
    "* Control de errores.\n"
   ]
  },
  {
   "cell_type": "markdown",
   "metadata": {},
   "source": [
    "Para ejecución de los ejemplos (excepto el de Input/Output) se puede utilizar:\n",
    "\n",
    "https://repl.it/languages/python3\n",
    "    "
   ]
  },
  {
   "cell_type": "code",
   "execution_count": null,
   "metadata": {},
   "outputs": [],
   "source": []
  }
 ],
 "metadata": {
  "kernelspec": {
   "display_name": "Python 3",
   "language": "python",
   "name": "python3"
  },
  "language_info": {
   "codemirror_mode": {
    "name": "ipython",
    "version": 3
   },
   "file_extension": ".py",
   "mimetype": "text/x-python",
   "name": "python",
   "nbconvert_exporter": "python",
   "pygments_lexer": "ipython3",
   "version": "3.5.2"
  }
 },
 "nbformat": 4,
 "nbformat_minor": 2
}
