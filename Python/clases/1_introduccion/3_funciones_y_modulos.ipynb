{
 "cells": [
  {
   "cell_type": "markdown",
   "metadata": {},
   "source": [
    "# Funciones y módulos"
   ]
  },
  {
   "cell_type": "markdown",
   "metadata": {},
   "source": [
    "## Funciones"
   ]
  },
  {
   "cell_type": "markdown",
   "metadata": {},
   "source": [
    "La estructura general de una función en Python es:"
   ]
  },
  {
   "cell_type": "code",
   "execution_count": 2,
   "metadata": {},
   "outputs": [],
   "source": [
    "def func(param1, param2): #puede haber más parámetros\n",
    "    #statements\n",
    "    return #return_values"
   ]
  },
  {
   "cell_type": "markdown",
   "metadata": {},
   "source": [
    "donde: `param1`, `param2` son los parámetros.\n",
    "\n",
    "Una función puede no tener `return` statement con lo que se regresará un objeto `Null`. \n",
    "\n",
    "Un parámetro puede ser cualquier objeto de Python incluyendo una función. Los parámetros se les puede dar valores por default, en cuyo caso al llamar a la función es opcional escribir los parámetros por ejemplo:"
   ]
  },
  {
   "cell_type": "code",
   "execution_count": 3,
   "metadata": {},
   "outputs": [],
   "source": [
    "p1 = 2\n",
    "p2 = -5\n",
    "func(p1, p2)"
   ]
  },
  {
   "cell_type": "code",
   "execution_count": 4,
   "metadata": {},
   "outputs": [],
   "source": [
    "def func(param1, param2=0):\n",
    "    #statements\n",
    "    return #return_values"
   ]
  },
  {
   "cell_type": "code",
   "execution_count": 5,
   "metadata": {},
   "outputs": [],
   "source": [
    "p1 = 2\n",
    "func(p1)"
   ]
  },
  {
   "cell_type": "markdown",
   "metadata": {},
   "source": [
    "**Obs: es común utilizar el nombre de párametros y argumentos como sinónimos, sin embargo sí existe diferencia:** el nombre **parámetros** se utiliza dentro de funciones y el nombre **argumentos** se utiliza en llamadas a funciones, esto es, los valores que se le pasan a la función. En el ejemplo anterior p1 es una variable con valor 2 y en la línea `func(p1)` p1 es el argumento de func y en la definición de `func`, `param1`, `param2` son parámetros."
   ]
  },
  {
   "cell_type": "markdown",
   "metadata": {},
   "source": [
    "### Ejemplo: Aproximación de derivadas de funciones por diferencias finitas"
   ]
  },
  {
   "cell_type": "markdown",
   "metadata": {},
   "source": [
    "#### Aproximación por diferencias hacia delante"
   ]
  },
  {
   "cell_type": "markdown",
   "metadata": {},
   "source": [
    "$$ \\frac{df(x)}{dx} \\approx \\frac{f(x+h)-f(x)}{h}$$\n",
    "\n",
    "$$\\frac{d^2f(x)}{dx} \\approx \\frac{f(x+2h)-2f(x+h)+f(x)}{h^2}$$"
   ]
  },
  {
   "cell_type": "markdown",
   "metadata": {},
   "source": [
    "#### Aproximación por diferencias centradas"
   ]
  },
  {
   "cell_type": "markdown",
   "metadata": {},
   "source": [
    "$$ \\frac{df(x)}{dx} \\approx \\frac{f(x+h)-f(x-h)}{2h}$$\n",
    "\n",
    "$$ \\frac{d^2f(x)}{dx} \\approx \\frac{f(x+h)-2f(x)+f(x-h)}{h^2}$$"
   ]
  },
  {
   "cell_type": "markdown",
   "metadata": {},
   "source": [
    "##### Ejercicio: aproximar la primera y segunda derivadas de la función `arctan` con diferencias finitas centradas en el punto x=0.5"
   ]
  },
  {
   "cell_type": "code",
   "execution_count": 6,
   "metadata": {},
   "outputs": [],
   "source": [
    "def aprox_dif_centradas(f,x,h=0.0001): #el parámetro h tiene un valor default\n",
    "    df =(f(x+h) - f(x-h))/(2.0*h)\n",
    "    ddf =(f(x+h) - 2.0*f(x) + f(x-h))/h**2\n",
    "    return df,ddf"
   ]
  },
  {
   "cell_type": "code",
   "execution_count": 7,
   "metadata": {},
   "outputs": [],
   "source": [
    "from math import atan"
   ]
  },
  {
   "cell_type": "code",
   "execution_count": 8,
   "metadata": {},
   "outputs": [
    {
     "name": "stdout",
     "output_type": "stream",
     "text": [
      "Primera derivada: 0.7999999995730867\n",
      "Segunda derivada: -0.6399999918915711\n"
     ]
    }
   ],
   "source": [
    "#Ejemplo de llamada a función utilizando el parámetro de default de h=0.0001\n",
    "x = 0.5 #punto donde se realizará la aproximación\n",
    "df, ddf = aprox_dif_centradas(atan, x)\n",
    "print('Primera derivada:', df)\n",
    "print('Segunda derivada:', ddf)"
   ]
  },
  {
   "cell_type": "code",
   "execution_count": 9,
   "metadata": {},
   "outputs": [
    {
     "name": "stdout",
     "output_type": "stream",
     "text": [
      "Primera derivada: 0.799999999995249\n",
      "Segunda derivada: -0.639877040242709\n"
     ]
    }
   ],
   "source": [
    "#Ejemplo de llamada a función utilizando h=1e-6\n",
    "h = 1e-6\n",
    "x = 0.5\n",
    "df, ddf = aprox_dif_centradas(atan, 0.5,h)\n",
    "print('Primera derivada:', df)\n",
    "print('Segunda derivada:', ddf)"
   ]
  },
  {
   "cell_type": "markdown",
   "metadata": {},
   "source": [
    "### Parámetros posicionales, excess parameters y packing-unpacking"
   ]
  },
  {
   "cell_type": "markdown",
   "metadata": {},
   "source": [
    "El número de parámetros de entrada en la definición de una función puede dejarse de forma arbitraria. Por ejemplo en la definición: \n",
    "\n",
    "```\n",
    "def func(x1,x2,*x3)\n",
    "```\n",
    "\n",
    "x1 y x2 son parámetros posicionales y x3 es una *tuple* de longitud arbitraria que contiene *excess parameters*. Al llamar a la función anterior con:\n",
    "\n",
    "```\n",
    "func(a,b,c,d,e)\n",
    "```\n",
    "\n",
    "resulta en la siguiente correspondencia entre los parámetros:\n",
    "\n",
    "```\n",
    "a<->x1, b<->x2, (c,d,e)<->x3\n",
    "```\n",
    "\n",
    "**obs: los parámetros posicionales siempre deben estar antes que los excess parameters**\n"
   ]
  },
  {
   "cell_type": "markdown",
   "metadata": {},
   "source": [
    "El operador `*` en este caso está realizando un *packing* de los *excess parameters*"
   ]
  },
  {
   "cell_type": "markdown",
   "metadata": {},
   "source": [
    "Ejemplo:"
   ]
  },
  {
   "cell_type": "code",
   "execution_count": 71,
   "metadata": {},
   "outputs": [],
   "source": [
    "def func(x,*y):\n",
    "    print(x)\n",
    "    print(y)"
   ]
  },
  {
   "cell_type": "code",
   "execution_count": 72,
   "metadata": {},
   "outputs": [
    {
     "name": "stdout",
     "output_type": "stream",
     "text": [
      "-1\n",
      "()\n"
     ]
    }
   ],
   "source": [
    "func(-1)"
   ]
  },
  {
   "cell_type": "code",
   "execution_count": 73,
   "metadata": {},
   "outputs": [
    {
     "name": "stdout",
     "output_type": "stream",
     "text": [
      "3\n",
      "('Ejemplo', 4, 'excess', -1, 'parameters')\n"
     ]
    }
   ],
   "source": [
    "func(3,'Ejemplo', 4, 'excess',-1, 'parameters')"
   ]
  },
  {
   "cell_type": "markdown",
   "metadata": {},
   "source": [
    "y se podría haber llamado a `func` con:"
   ]
  },
  {
   "cell_type": "code",
   "execution_count": 74,
   "metadata": {},
   "outputs": [
    {
     "name": "stdout",
     "output_type": "stream",
     "text": [
      "3\n",
      "('Ejemplo', 4, 'excess', -1, 'parameters')\n"
     ]
    }
   ],
   "source": [
    "tup = ('Ejemplo', 4, 'excess',-1, 'parameters')\n",
    "func(3, tup[0], tup[1], tup[2], tup[3], tup[4])"
   ]
  },
  {
   "cell_type": "markdown",
   "metadata": {},
   "source": [
    "O bien realizar un *unpacking* de la variable *tup*:"
   ]
  },
  {
   "cell_type": "code",
   "execution_count": 75,
   "metadata": {},
   "outputs": [
    {
     "name": "stdout",
     "output_type": "stream",
     "text": [
      "3\n",
      "('Ejemplo', 4, 'excess', -1, 'parameters')\n"
     ]
    }
   ],
   "source": [
    "func(3,*tup)"
   ]
  },
  {
   "cell_type": "markdown",
   "metadata": {},
   "source": [
    "Si se utiliza el operador `**` en los *excess parameters* se indica que se recibe un diccionario, por ejemplo:"
   ]
  },
  {
   "cell_type": "code",
   "execution_count": 76,
   "metadata": {},
   "outputs": [],
   "source": [
    "def func(x, **y):\n",
    "    print(x)\n",
    "    print(y)"
   ]
  },
  {
   "cell_type": "code",
   "execution_count": 77,
   "metadata": {},
   "outputs": [
    {
     "name": "stdout",
     "output_type": "stream",
     "text": [
      "-1\n",
      "{}\n"
     ]
    }
   ],
   "source": [
    "func(-1)"
   ]
  },
  {
   "cell_type": "markdown",
   "metadata": {},
   "source": [
    "Lo que se realizó fue un *packing* de los *excess parameters*."
   ]
  },
  {
   "cell_type": "markdown",
   "metadata": {},
   "source": [
    "Para mandar a llamar a la función se realiza un *unpacking* con el operador `**`:"
   ]
  },
  {
   "cell_type": "code",
   "execution_count": 78,
   "metadata": {},
   "outputs": [
    {
     "name": "stdout",
     "output_type": "stream",
     "text": [
      "3\n",
      "{'k': 1, 'k3': 'cadena'}\n"
     ]
    }
   ],
   "source": [
    "func(3, **{'k': 1, 'k3': 'cadena'})"
   ]
  },
  {
   "cell_type": "markdown",
   "metadata": {},
   "source": [
    "y se podría haber llamado `func`con:"
   ]
  },
  {
   "cell_type": "code",
   "execution_count": 79,
   "metadata": {},
   "outputs": [
    {
     "name": "stdout",
     "output_type": "stream",
     "text": [
      "3\n",
      "{'k3': 'cadena', 'k': 1}\n"
     ]
    }
   ],
   "source": [
    "dic = {'k': 1, 'k3': 'cadena'}\n",
    "func(3, k=dic['k'], k3=dic['k3'])"
   ]
  },
  {
   "cell_type": "markdown",
   "metadata": {},
   "source": [
    "o bien realizar un *unpacking* de la variable *dic*:"
   ]
  },
  {
   "cell_type": "code",
   "execution_count": 80,
   "metadata": {},
   "outputs": [
    {
     "name": "stdout",
     "output_type": "stream",
     "text": [
      "3\n",
      "{'k': 1, 'k3': 'cadena'}\n"
     ]
    }
   ],
   "source": [
    "func(3,**dic)"
   ]
  },
  {
   "cell_type": "markdown",
   "metadata": {},
   "source": [
    "### Key-words arguments"
   ]
  },
  {
   "cell_type": "markdown",
   "metadata": {},
   "source": [
    "Las funciones también pueden ser llamadas en la forma `kwarg = value`. Por ejemplo:"
   ]
  },
  {
   "cell_type": "code",
   "execution_count": 35,
   "metadata": {},
   "outputs": [],
   "source": [
    "def func(par_posicional, kwpar1 = 'un día', kwpar2 = 'como hoy'):\n",
    "    print('mi par posicional:', par_posicional)\n",
    "    print('mi key-word parameter 1:', kwpar1)\n",
    "    print('mi key-word parameter 2:', kwpar2)\n",
    "    print(kwpar1, kwpar2)"
   ]
  },
  {
   "cell_type": "code",
   "execution_count": 36,
   "metadata": {},
   "outputs": [
    {
     "name": "stdout",
     "output_type": "stream",
     "text": [
      "mi par posicional: 3\n",
      "mi key-word parameter 1: un día\n",
      "mi key-word parameter 2: como hoy\n",
      "un día como hoy\n",
      "----------\n",
      "mi par posicional: 3\n",
      "mi key-word parameter 1: un día\n",
      "mi key-word parameter 2: como hoy\n",
      "un día como hoy\n",
      "----------\n",
      "mi par posicional: -1\n",
      "mi key-word parameter 1: un día\n",
      "mi key-word parameter 2: lluvioso\n",
      "un día lluvioso\n",
      "----------\n",
      "mi par posicional: 5\n",
      "mi key-word parameter 1: el día de hoy está\n",
      "mi key-word parameter 2: soleado\n",
      "el día de hoy está soleado\n"
     ]
    }
   ],
   "source": [
    "#Obsérvese que al llamar a la función los argumentos posicionales preceden a los key words arguments\n",
    "#y esto debe ser así para evitar errores en los llamados a la función\n",
    "\n",
    "func(3) #argumento posicional\n",
    "print('-'*10)\n",
    "func(par_posicional = 3) #1 key-word argument\n",
    "print('-'*10)\n",
    "func(par_posicional = -1, kwpar2 = 'lluvioso') #2 key-words arguments\n",
    "print('-'*10)\n",
    "func(5, kwpar2 = 'soleado', kwpar1 = 'el día de hoy está') #2 key-words arguments"
   ]
  },
  {
   "cell_type": "markdown",
   "metadata": {},
   "source": [
    "En el ejemplo de la aproximación por derivadas se tiene:"
   ]
  },
  {
   "cell_type": "code",
   "execution_count": 81,
   "metadata": {},
   "outputs": [],
   "source": [
    "def aprox_dif_centradas(f,*t): #el parámetro t es un excess parameter y está packed\n",
    "    x,h = t\n",
    "    df =(f(x+h) - f(x-h))/(2.0*h)\n",
    "    ddf =(f(x+h) - 2.0*f(x) + f(x-h))/h**2\n",
    "    return df,ddf"
   ]
  },
  {
   "cell_type": "code",
   "execution_count": 82,
   "metadata": {},
   "outputs": [],
   "source": [
    "from math import atan"
   ]
  },
  {
   "cell_type": "code",
   "execution_count": 83,
   "metadata": {},
   "outputs": [
    {
     "name": "stdout",
     "output_type": "stream",
     "text": [
      "Primera derivada: 0.799999999995249\n",
      "Segunda derivada: -0.639877040242709\n"
     ]
    }
   ],
   "source": [
    "#Ejemplo de llamada a función utilizando un tuple\n",
    "tup = (0.5, 1e-6)\n",
    "df, ddf = aprox_dif_centradas(atan, *tup)\n",
    "print('Primera derivada:', df)\n",
    "print('Segunda derivada:', ddf)"
   ]
  },
  {
   "cell_type": "markdown",
   "metadata": {},
   "source": [
    "o bien utilizando un parámetro por default para la variable *h*:"
   ]
  },
  {
   "cell_type": "code",
   "execution_count": null,
   "metadata": {},
   "outputs": [],
   "source": [
    "def aprox_dif_centradas(f,x,h=0.0001):\n",
    "    x,h = t\n",
    "    df =(f(x+h) - f(x-h))/(2.0*h)\n",
    "    ddf =(f(x+h) - 2.0*f(x) + f(x-h))/h**2\n",
    "    return df,ddf"
   ]
  },
  {
   "cell_type": "markdown",
   "metadata": {},
   "source": [
    "y *keyword arguments*:"
   ]
  },
  {
   "cell_type": "code",
   "execution_count": null,
   "metadata": {},
   "outputs": [],
   "source": [
    "#Ejemplo de llamada a función utilizando un diccionario\n",
    "dic = {'x': 0.5, 'h': 1e-6}\n",
    "df, ddf = aprox_dif_centradas(atan, **dic)\n",
    "print('Primera derivada:', df)\n",
    "print('Segunda derivada:', ddf)"
   ]
  },
  {
   "cell_type": "markdown",
   "metadata": {},
   "source": [
    "### Lambda statement"
   ]
  },
  {
   "cell_type": "markdown",
   "metadata": {},
   "source": [
    "Es conveniente utilizar este statement para definir funciones que realizan operaciones sencillas en su cuerpo:"
   ]
  },
  {
   "cell_type": "code",
   "execution_count": null,
   "metadata": {},
   "outputs": [],
   "source": [
    "def func(x, y):\n",
    "    return x**2+y**2"
   ]
  },
  {
   "cell_type": "code",
   "execution_count": null,
   "metadata": {},
   "outputs": [],
   "source": [
    "lamb = lambda x,y : x**2 + y**2"
   ]
  },
  {
   "cell_type": "markdown",
   "metadata": {},
   "source": [
    "## Módulos"
   ]
  },
  {
   "cell_type": "markdown",
   "metadata": {},
   "source": [
    "Un módulo es un archivo que contiene funciones, métodos y definiciones. \n",
    "El nombre del módulo es el nombre del archivo y muchos de los módulos vienen en la distribución estándar de Python pero otros deben instalarse con un manager para Python packages."
   ]
  },
  {
   "cell_type": "markdown",
   "metadata": {},
   "source": [
    "Hay tres formas de acceder a las funciones de un módulo:\n",
    "\n",
    "```\n",
    "* from math import *\n",
    "* from math import func1, func2\n",
    "* import math\n",
    "```\n",
    "\n",
    "La primer forma carga todas las definiciones de funciones en el módulo `math` y no se recomienda por el posible conflicto que puede existir con las definiciones cargadas de otros módulos. Por ejemplo, hay dos definiciones distintas de la función seno en los módulos `math` y `numpy` por lo que al importarse ambos módulos en el programa no es claro cual definición debe usarse al llamado `sin(x)`. La segunda forma también tiene este problema.\n",
    "\n",
    "La tercer forma hace accesible el módulo `math` y para acceder a sus definiciones se utiliza el nombre del módulo como prefijo:\n"
   ]
  },
  {
   "cell_type": "code",
   "execution_count": 2,
   "metadata": {},
   "outputs": [
    {
     "name": "stdout",
     "output_type": "stream",
     "text": [
      "-0.7351666863853142\n"
     ]
    }
   ],
   "source": [
    "import math\n",
    "print(math.log(math.sin(0.5)))"
   ]
  },
  {
   "cell_type": "markdown",
   "metadata": {},
   "source": [
    "A un módulo también se le puede dar un alias para tener acceso a sus definiciones:"
   ]
  },
  {
   "cell_type": "code",
   "execution_count": 3,
   "metadata": {},
   "outputs": [
    {
     "name": "stdout",
     "output_type": "stream",
     "text": [
      "-0.7351666863853142\n"
     ]
    }
   ],
   "source": [
    "import math as m\n",
    "print(m.log(m.sin(0.5)))"
   ]
  },
  {
   "cell_type": "markdown",
   "metadata": {},
   "source": [
    "El contenido de un módulo puede imprimirse con `dir(module)`:"
   ]
  },
  {
   "cell_type": "code",
   "execution_count": 6,
   "metadata": {},
   "outputs": [
    {
     "name": "stdout",
     "output_type": "stream",
     "text": [
      "['__doc__', '__loader__', '__name__', '__package__', '__spec__', 'acos', 'acosh', 'asin', 'asinh', 'atan', 'atan2', 'atanh', 'ceil', 'copysign', 'cos', 'cosh', 'degrees', 'e', 'erf', 'erfc', 'exp', 'expm1', 'fabs', 'factorial', 'floor', 'fmod', 'frexp', 'fsum', 'gamma', 'gcd', 'hypot', 'inf', 'isclose', 'isfinite', 'isinf', 'isnan', 'ldexp', 'lgamma', 'log', 'log10', 'log1p', 'log2', 'modf', 'nan', 'pi', 'pow', 'radians', 'sin', 'sinh', 'sqrt', 'tan', 'tanh', 'trunc']\n"
     ]
    }
   ],
   "source": [
    "import math\n",
    "print(dir(math))"
   ]
  },
  {
   "cell_type": "code",
   "execution_count": 13,
   "metadata": {},
   "outputs": [
    {
     "name": "stdout",
     "output_type": "stream",
     "text": [
      "3.141592653589793\n",
      "2.718281828459045\n"
     ]
    }
   ],
   "source": [
    "#Obsérvese que se tienen dos constantes:\n",
    "print(math.pi)\n",
    "print(math.e)"
   ]
  },
  {
   "cell_type": "markdown",
   "metadata": {},
   "source": [
    "**Obs: un paquete contiene módulos en una jerarquía de árbol**, por ejemplo el paquete de `scipy` contiene los siguientes sub-módulos:\n",
    "\n",
    "* scipy.fftpack\n",
    "* scipy.stats\n",
    "* scipy.linalg\n",
    "* scipy.linalg.blas\n",
    "* scipy.linalg.lapack"
   ]
  },
  {
   "cell_type": "code",
   "execution_count": null,
   "metadata": {},
   "outputs": [],
   "source": []
  }
 ],
 "metadata": {
  "kernelspec": {
   "display_name": "Python 3",
   "language": "python",
   "name": "python3"
  },
  "language_info": {
   "codemirror_mode": {
    "name": "ipython",
    "version": 3
   },
   "file_extension": ".py",
   "mimetype": "text/x-python",
   "name": "python",
   "nbconvert_exporter": "python",
   "pygments_lexer": "ipython3",
   "version": "3.5.2"
  }
 },
 "nbformat": 4,
 "nbformat_minor": 2
}
