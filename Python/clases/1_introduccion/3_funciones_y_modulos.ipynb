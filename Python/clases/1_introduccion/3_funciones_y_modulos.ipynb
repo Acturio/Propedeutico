{
 "cells": [
  {
   "cell_type": "markdown",
   "metadata": {},
   "source": [
    "# Funciones y módulos"
   ]
  },
  {
   "cell_type": "markdown",
   "metadata": {},
   "source": [
    "## Funciones"
   ]
  },
  {
   "cell_type": "markdown",
   "metadata": {},
   "source": [
    "La estructura general de una función en Python es:"
   ]
  },
  {
   "cell_type": "code",
   "execution_count": 2,
   "metadata": {},
   "outputs": [],
   "source": [
    "def func_name(param1, param2): #puede haber más parámetros\n",
    "    #statements\n",
    "    return #return_values"
   ]
  },
  {
   "cell_type": "markdown",
   "metadata": {},
   "source": [
    "donde: `param1`, `param2` son los parámetros.\n",
    "\n",
    "Una función puede no tener `return` statement con lo que se regresará un objeto `Null`. \n",
    "\n",
    "Un parámetro puede ser cualquier objeto de Python incluyendo una función. Los parámetros se les puede dar valores por default, en cuyo caso al llamar a la función es opcional escribir los parámetros por ejemplo:"
   ]
  },
  {
   "cell_type": "code",
   "execution_count": 3,
   "metadata": {},
   "outputs": [],
   "source": [
    "param1 = 2\n",
    "param2 = -5\n",
    "func_name(param1, param2)"
   ]
  },
  {
   "cell_type": "code",
   "execution_count": 4,
   "metadata": {},
   "outputs": [],
   "source": [
    "def func_name(param1, param2=0):\n",
    "    #statements\n",
    "    return #return_values"
   ]
  },
  {
   "cell_type": "code",
   "execution_count": 5,
   "metadata": {},
   "outputs": [],
   "source": [
    "param1 = 2\n",
    "func_name(param1)"
   ]
  },
  {
   "cell_type": "markdown",
   "metadata": {},
   "source": [
    "## Ejemplo: Aproximación de derivadas de funciones por diferencias finitas"
   ]
  },
  {
   "cell_type": "markdown",
   "metadata": {},
   "source": [
    "### Aproximación por diferencias hacia delante"
   ]
  },
  {
   "cell_type": "markdown",
   "metadata": {},
   "source": [
    "$$ \\frac{df(x)}{dx} \\approx \\frac{f(x+h)-f(x)}{h}$$\n",
    "\n",
    "$$\\frac{d^2f(x)}{dx} \\approx \\frac{f(x+2h)-2f(x+h)+f(x)}{h^2}$$"
   ]
  },
  {
   "cell_type": "markdown",
   "metadata": {},
   "source": [
    "### Aproximación por diferencias centradas"
   ]
  },
  {
   "cell_type": "markdown",
   "metadata": {},
   "source": [
    "$$ \\frac{df(x)}{dx} \\approx \\frac{f(x+h)-f(x-h)}{2h}$$\n",
    "\n",
    "$$ \\frac{d^2f(x)}{dx} \\approx \\frac{f(x+h)-2f(x)+f(x-h)}{h^2}$$"
   ]
  },
  {
   "cell_type": "markdown",
   "metadata": {},
   "source": [
    "#### Ejercicio: aproximar la primera y segunda derivadas de la función `arctan` con diferencias finitas centradas en el punto x=0.5"
   ]
  },
  {
   "cell_type": "code",
   "execution_count": 6,
   "metadata": {},
   "outputs": [],
   "source": [
    "def aprox_dif_centradas(f,x,h=0.0001): #el parámetro h tiene un valor default\n",
    "    df =(f(x+h) - f(x-h))/(2.0*h)\n",
    "    ddf =(f(x+h) - 2.0*f(x) + f(x-h))/h**2\n",
    "    return df,ddf"
   ]
  },
  {
   "cell_type": "code",
   "execution_count": 7,
   "metadata": {},
   "outputs": [],
   "source": [
    "from math import atan"
   ]
  },
  {
   "cell_type": "code",
   "execution_count": 8,
   "metadata": {},
   "outputs": [
    {
     "name": "stdout",
     "output_type": "stream",
     "text": [
      "Primera derivada: 0.7999999995730867\n",
      "Segunda derivada: -0.6399999918915711\n"
     ]
    }
   ],
   "source": [
    "#Ejemplo de llamada a función utilizando el parámetro de default de h=0.0001\n",
    "x = 0.5 #punto donde se realizará la aproximación\n",
    "df, ddf = aprox_dif_centradas(atan, x)\n",
    "print('Primera derivada:', df)\n",
    "print('Segunda derivada:', ddf)"
   ]
  },
  {
   "cell_type": "code",
   "execution_count": 9,
   "metadata": {},
   "outputs": [
    {
     "name": "stdout",
     "output_type": "stream",
     "text": [
      "Primera derivada: 0.799999999995249\n",
      "Segunda derivada: -0.639877040242709\n"
     ]
    }
   ],
   "source": [
    "#Ejemplo de llamada a función utilizando h=1e-6\n",
    "h = 1e-6\n",
    "x = 0.5\n",
    "df, ddf = aprox_dif_centradas(atan, 0.5,h)\n",
    "print('Primera derivada:', df)\n",
    "print('Segunda derivada:', ddf)"
   ]
  },
  {
   "cell_type": "code",
   "execution_count": null,
   "metadata": {},
   "outputs": [],
   "source": []
  }
 ],
 "metadata": {
  "kernelspec": {
   "display_name": "Python 3",
   "language": "python",
   "name": "python3"
  },
  "language_info": {
   "codemirror_mode": {
    "name": "ipython",
    "version": 3
   },
   "file_extension": ".py",
   "mimetype": "text/x-python",
   "name": "python",
   "nbconvert_exporter": "python",
   "pygments_lexer": "ipython3",
   "version": "3.5.2"
  }
 },
 "nbformat": 4,
 "nbformat_minor": 2
}
