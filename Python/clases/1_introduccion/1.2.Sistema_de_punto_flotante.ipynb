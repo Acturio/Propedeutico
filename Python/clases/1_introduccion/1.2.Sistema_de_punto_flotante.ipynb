{
 "cells": [
  {
   "cell_type": "markdown",
   "metadata": {},
   "source": [
    "# 1.2.Sistema de punto flotante"
   ]
  },
  {
   "cell_type": "markdown",
   "metadata": {},
   "source": [
    "## Representación de los números en la computadora"
   ]
  },
  {
   "cell_type": "markdown",
   "metadata": {},
   "source": [
    "### Enteros"
   ]
  },
  {
   "cell_type": "markdown",
   "metadata": {},
   "source": [
    "Tenemos distintos métodos y uno que más es utilizado es el de \"magnitud con signo\" en el que se utiliza un bit para el signo del número y los bits restantes para almacenar al número. El bit $0$ codifica al signo `+` y el bit $1$ codifica al bit `-`. Entonces el número $-173$ se almacena con la cadena:\n",
    "\n",
    "| | | | | | | | | | | | | | | | |\n",
    "|:---:|:---:|:---:|:---:|:---:|:---:|:---:|:---:|:---:|:---:|:---:|:---:|:---:|:---:|:---:|:---:|\n",
    "|1|0|0|0|0|0|0|0|1|0|1|0|1|1|0|1|\n",
    "\n",
    "**Ejercicio:**\n",
    "\n",
    "Determina el rango de enteros de base $10$ que puede representarse en una computadora de $16$ bits utilizando el primer bit para el signo"
   ]
  },
  {
   "cell_type": "markdown",
   "metadata": {},
   "source": [
    "### Reales"
   ]
  },
  {
   "cell_type": "markdown",
   "metadata": {},
   "source": [
    "Dadas las limitaciones en el almacenamiento de una computadora (hardware), sólo se representa un subconjunto de los números reales en ella, tal conjunto se denota como $\\mathcal{F}\\mathcal{l}$ y contiene números racionales:\n",
    "\n",
    "$$\\mathcal{F}\\mathcal{l} \\subset \\mathbb{Q} \\subset \\mathbb{R}.$$\n"
   ]
  },
  {
   "cell_type": "markdown",
   "metadata": {},
   "source": [
    "## Sistema de punto flotante (SPF)"
   ]
  },
  {
   "cell_type": "markdown",
   "metadata": {},
   "source": [
    "En un sistema de punto flotante se define:\n",
    "\n",
    "1. Rango de un exponente definido por un límite inferior y uno superior.\n",
    "\n",
    "2. Base del sistema.\n",
    "\n",
    "3. Precisión."
   ]
  },
  {
   "cell_type": "markdown",
   "metadata": {},
   "source": [
    "Así, un número $x$ en el SPF, $x \\in \\mathcal{F}\\mathcal{l}$ se representa de la forma:\n",
    "\n",
    "$$\\pm 0.d_1d_2 \\dots d_k \\times \\beta^n .$$\n",
    "\n",
    "donde:\n",
    "\n",
    "$n$ es el exponente, $n \\in [L,U] \\cap \\mathbb{Z}$ con $L, U$ fijos.\n",
    "\n",
    "$k$ es la precisión.\n",
    "\n",
    "$\\beta$ es la base.\n",
    "\n",
    "$d_i \\in \\{0,1,\\dots,\\beta-1\\} \\forall i=1,\\dots,k$ son los dígitos.\n",
    "\n",
    "**Obs:** a la parte $\\pm 0.d_1d_2 \\dots d_k$ se le llama **mantisa**."
   ]
  },
  {
   "cell_type": "markdown",
   "metadata": {},
   "source": [
    "## SPFN"
   ]
  },
  {
   "cell_type": "markdown",
   "metadata": {},
   "source": [
    "Un SPFN"
   ]
  },
  {
   "cell_type": "markdown",
   "metadata": {},
   "source": [
    "## Características de un SPFN de doble precisión"
   ]
  },
  {
   "cell_type": "markdown",
   "metadata": {},
   "source": [
    "El número de máquina más grande positivo es del orden de $2^{1023}(2-2^{-52}) \\approx 10^{308}$."
   ]
  },
  {
   "cell_type": "code",
   "execution_count": 1,
   "metadata": {},
   "outputs": [
    {
     "name": "stdout",
     "output_type": "stream",
     "text": [
      "Numéro más grande positivo: 1.797693e+308\n"
     ]
    }
   ],
   "source": [
    "#include<stdio.h>\n",
    "#include<float.h>\n",
    "int main(){\n",
    "    printf(\"Numéro más grande positivo: %e\\n\", DBL_MAX);\n",
    "    return 0;\n",
    "}\n"
   ]
  },
  {
   "cell_type": "markdown",
   "metadata": {},
   "source": [
    "El número de máquina normalizado más chico positivo es del orden de $2^{-1022} \\approx 10^{-308}$."
   ]
  },
  {
   "cell_type": "code",
   "execution_count": 2,
   "metadata": {},
   "outputs": [
    {
     "name": "stdout",
     "output_type": "stream",
     "text": [
      "Numéro más chico positivo: 2.225074e-308\n"
     ]
    }
   ],
   "source": [
    "#include<stdio.h>\n",
    "#include<float.h>\n",
    "int main(){\n",
    "    printf(\"Numéro más chico positivo: %e\\n\", DBL_MIN);\n",
    "    return 0;\n",
    "}\n"
   ]
  },
  {
   "cell_type": "markdown",
   "metadata": {},
   "source": [
    "El número de máquina no normalizado más chico positivo es del orden de $2^{-1074} \\approx 10^{-324}$."
   ]
  },
  {
   "cell_type": "code",
   "execution_count": 3,
   "metadata": {},
   "outputs": [
    {
     "name": "stdout",
     "output_type": "stream",
     "text": [
      "Numéro más chico positivo: 4.940656e-324\n"
     ]
    }
   ],
   "source": [
    "#include<stdio.h>\n",
    "#include<float.h>\n",
    "int main(){\n",
    "    printf(\"Numéro más chico positivo: %e\\n\", DBL_EPSILON*DBL_MIN);\n",
    "    return 0;\n",
    "}"
   ]
  },
  {
   "cell_type": "markdown",
   "metadata": {},
   "source": [
    "Epsilon de la máquina"
   ]
  },
  {
   "cell_type": "code",
   "execution_count": 4,
   "metadata": {},
   "outputs": [
    {
     "name": "stdout",
     "output_type": "stream",
     "text": [
      "Numéro más chico positivo: 2.220446e-16\n"
     ]
    }
   ],
   "source": [
    "#include<stdio.h>\n",
    "#include<float.h>\n",
    "int main(){\n",
    "    printf(\"Epsilon de la máquina: %e\\n\", DBL_EPSILON);\n",
    "    return 0;\n",
    "}"
   ]
  },
  {
   "cell_type": "code",
   "execution_count": null,
   "metadata": {},
   "outputs": [],
   "source": []
  }
 ],
 "metadata": {
  "kernelspec": {
   "display_name": "C",
   "language": "c",
   "name": "c"
  },
  "language_info": {
   "file_extension": ".c",
   "mimetype": "text/plain",
   "name": "c"
  }
 },
 "nbformat": 4,
 "nbformat_minor": 4
}
