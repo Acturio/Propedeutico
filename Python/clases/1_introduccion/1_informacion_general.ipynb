{
 "cells": [
  {
   "cell_type": "markdown",
   "metadata": {},
   "source": [
    "# Información general"
   ]
  },
  {
   "cell_type": "markdown",
   "metadata": {},
   "source": [
    "Python es un lenguaje orientado a objetos desarrollado a finales de los 80's como un *scripting language* y actualmente es utilizado en las ciencias de datos y millones de proyectos afines."
   ]
  },
  {
   "cell_type": "markdown",
   "metadata": {},
   "source": [
    "Los programas de Python no se compilan en lenguaje de máquina y más bien son interpretados. Los lenguajes intérpretes (como MATLAB o R) tienen la ventaja que pueden ser probados y *debuggeados* rápidamente. Por esto, el desarrollo de software en Python resulta ser más rápido que sus equivalentes en Fortran o en C. Sin embargo, una desventaja de los lenguajes intérpretes es que no producen aplicaciones *stand alone* por lo que los programas hechos en Python sólo pueden ejecutarse en computadoras que tengan el intérprete de Python instalado. Otra desventaja es que la velocidad de los programas en Python es menor que los programas compilados, por ejemplo los compilados en C."
   ]
  },
  {
   "cell_type": "markdown",
   "metadata": {},
   "source": [
    "Algunas ventajas que tiene Python sobre los lenguajes *mainstream* son las siguientes:\n",
    "* Es open source o de código abierto.\n",
    "* Disponible para la mayoría de sistemas operativos (GNU/Linux, Unix, Windows, Mac OS) y en varios de éstos se encuentra de inicio instalado.\n",
    "* Sencillo de instalar sus extensiones (paqueterías y librerías). El *core language* de Python es pequeño para mantener su simplicidad y se utilizan extensiones como paquetes y librerías para hacerlo más poderoso."
   ]
  },
  {
   "cell_type": "markdown",
   "metadata": {},
   "source": [
    "Hay una notable influencia de java y C++ y similitud con MATLAB, aunque la documentación de MATLAB es mejor que la de Python principalmente por ser open source y que la documentación depende de la comunidad de developers y users y puede estar dispersa a lo largo de distintos sitios. Python implementa los conceptos de lenguajes orientados a objetos como clases, herencia, métodos (en este curso no se profundizará sobre ellos). Un ejemplo para ver la similitud entre MATLAB y Python es el siguiente:"
   ]
  },
  {
   "cell_type": "markdown",
   "metadata": {},
   "source": [
    "```\n",
    "%Función en MATLAB\n",
    "function resultado = mifuncion(a,b)\n",
    "    n = length(a);\n",
    "    resultado = zeros(n,1);\n",
    "    for i = 1:n\n",
    "            resultado(i) = a(i) + b(i);\n",
    "    end\n",
    "end\n",
    "\n",
    "%Llamada a función mifuncion:\n",
    "a=[1 2 3]\n",
    "b=[4 5 6]\n",
    "mifuncion(a,b)\n",
    "ans =\n",
    "\n",
    "   5\n",
    "   7\n",
    "   9\n",
    "```"
   ]
  },
  {
   "cell_type": "code",
   "execution_count": null,
   "metadata": {},
   "outputs": [],
   "source": [
    "#importamos el paquete de numpy:\n",
    "import numpy as np"
   ]
  },
  {
   "cell_type": "code",
   "execution_count": null,
   "metadata": {},
   "outputs": [],
   "source": [
    "#Función en Python:\n",
    "def mifuncion(a,b):\n",
    "    n, = a.shape\n",
    "    resultado = np.zeros(n)\n",
    "    for i in range(0,n):\n",
    "        resultado[i] = a[i] + b[i]\n",
    "    return resultado"
   ]
  },
  {
   "cell_type": "code",
   "execution_count": 4,
   "metadata": {},
   "outputs": [
    {
     "name": "stdout",
     "output_type": "stream",
     "text": [
      "[5. 7. 9.]\n"
     ]
    }
   ],
   "source": [
    "#Llamada a función mifuncion:\n",
    "a=np.array([1,2,3])\n",
    "b=np.array([4,5,6])\n",
    "resultado = mifuncion(a,b)\n",
    "print(resultado)"
   ]
  },
  {
   "cell_type": "markdown",
   "metadata": {},
   "source": [
    "En el ejemplo anterior se importó `numpy`. [NumPy](https://www.numpy.org/) es un paquete para cómputo científico con Python. Entre lo que contiene se encuentra:\n",
    "\n",
    "* Objetos array n-dimensionales.\n",
    "* Funciones para cálculos típicos en el álgebra lineal, cálculo, probabilidad y estadística. \n",
    "* Integración de código de C/C++ y Fortran a través de herramientas.\n",
    "\n",
    "Además, NumPy procesa de forma multi-dimensional arrays que pueden contener no sólo números sino otro tipo de datos por ejemplo `strings`. **Obs:** si el array contiene números entonces deben ser del mismo *data-type* para formar al *numpy array*.\n",
    "\n",
    "Numpy puede instalarse como parte del *stack* del paquete [SciPy](https://www.scipy.org/) el cual es \"... a Python-based ecosystem of open-source software for mathematics, science, and engineering. In particular, these are some of the core packages: NumPy, Scipy library, Matplotlib, IPython, Sympy, Pandas...\n"
   ]
  },
  {
   "cell_type": "markdown",
   "metadata": {},
   "source": [
    "Algunas observaciones del código de Python anterior:\n",
    "\n",
    "* No se tienen que definir o declararse variables para empezar a usarlas (a diferencia de java o C)\n",
    "* La línea `import numpy` indica al intérprete que se importe el paquete numpy y por convención se importa como `np` (ver por ejemplo [liga](https://medium.com/google-cloud/naming-conventions-in-python-import-statements-a-bigquery-adventure-using-the-github-db-dump-d900159ab680)).\n",
    "* La función `range` crea la secuencia: [0,1,...,n-1].\n",
    "* El primer elemento del array tiene índice 0 a diferencia de MATLAB o R.\n",
    "* En Python no se tienen `end` statements para indicar que un loop o función termina pues se utiliza `indentation` para definirse el cuerpo.\n",
    "* Python es case-sensitive (como R y MATLAB)"
   ]
  },
  {
   "cell_type": "markdown",
   "metadata": {},
   "source": [
    "## Versión"
   ]
  },
  {
   "cell_type": "markdown",
   "metadata": {},
   "source": [
    "**Python 3** es la versión que se utilizará en el curso."
   ]
  },
  {
   "cell_type": "markdown",
   "metadata": {},
   "source": [
    "## Referencias para saber más sobre Python:\n",
    "\n",
    "* [NumPy User Guide](https://docs.scipy.org/doc/numpy/user/)\n",
    "* [SciPy Tutorial](https://docs.scipy.org/doc/scipy/reference/tutorial/index.html). En esta referencia (sección Introduction) se hace mención sobre la convención en la comunidad para realizar imports:\n",
    "\n",
    "```\n",
    "import numpy as np\n",
    "import matplotlib as mpl\n",
    "import matplotlib.pyplot as plt\n",
    "\n",
    "```\n",
    "\n",
    "...\"These are the import conventions that our community has adopted after discussion on public mailing lists. You will see these conventions used throughout NumPy and SciPy source code and documentation. While we obviously don’t require you to follow these conventions in your own code, it is highly recommended...\"\n",
    "\n",
    "* Una diferencia entre SciPy y NumPy pueden encontrarla en la liga [Linear Algebra (scipy.linalg)](https://docs.scipy.org/doc/scipy/reference/tutorial/linalg.html) en donde se hace mención lo siguiente: \"...`scipy.linalg` contains all the functions in `numpy.linalg` plus some other more advanced ones not contained in `numpy.linalg`.\n",
    "\n",
    "Another advantage of using `scipy.linalg` over `numpy.linalg` is that it is always compiled with `BLAS/LAPACK` support, while for numpy this is optional. Therefore, the scipy version might be faster depending on how numpy was installed.\n",
    "\n",
    "Therefore, unless you don’t want to add scipy as a dependency to your numpy program, use `scipy.linag` instead of `numpy.linalg`...\"\n",
    "\n",
    "* [PEP 8 -- Style Guide for Python Code](https://www.python.org/dev/peps/pep-0008/) en la que encontramos convención para los imports: [PEP 8 -- Style Guide for Python Code:imports](https://www.python.org/dev/peps/pep-0008/#imports)."
   ]
  },
  {
   "cell_type": "code",
   "execution_count": null,
   "metadata": {},
   "outputs": [],
   "source": []
  }
 ],
 "metadata": {
  "kernelspec": {
   "display_name": "Python 3",
   "language": "python",
   "name": "python3"
  },
  "language_info": {
   "codemirror_mode": {
    "name": "ipython",
    "version": 3
   },
   "file_extension": ".py",
   "mimetype": "text/x-python",
   "name": "python",
   "nbconvert_exporter": "python",
   "pygments_lexer": "ipython3",
   "version": "3.6.8"
  }
 },
 "nbformat": 4,
 "nbformat_minor": 2
}
