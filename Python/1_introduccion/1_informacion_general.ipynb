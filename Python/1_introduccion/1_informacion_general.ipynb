{
 "cells": [
  {
   "cell_type": "markdown",
   "metadata": {},
   "source": [
    "# Información general"
   ]
  },
  {
   "cell_type": "markdown",
   "metadata": {},
   "source": [
    "Python es un lenguaje orientado a objetos desarrollado a finales de los 80's como un *scripting language* y actualmente es utilizado en las ciencias de datos y millones de proyectos afines."
   ]
  },
  {
   "cell_type": "markdown",
   "metadata": {},
   "source": [
    "Los programas de Python no se compilan en lenguaje de máquina y más bien son interpretados. Los lenguajes intérpretes (como MATLAB o R) tienen la ventaja que pueden ser probados y *debuggeados* rápidamente. Por esto, el desarrollo de software en Python resulta ser más rápido que sus equivalentes en Fortran o en C. Sin embargo, una desventaja de los lenguajes intérpretes es que no producen aplicaciones *stand alone* por lo que los programas hechos en Python sólo pueden ejecutarse en computadoras que tengan el intérprete de Python instalado. Otra desventaja es que la velocidad de los programas en Python es menor que los programas compilados, por ejemplo los compilados en C."
   ]
  },
  {
   "cell_type": "markdown",
   "metadata": {},
   "source": [
    "Algunas ventajas que tiene Python sobre los lenguajes *mainstream* son las siguientes:\n",
    "* Es open source o de código abierto.\n",
    "* Disponible para la mayoría de sistemas operativos (GNU/Linux, Unix, Windows, Mac OS) y en varios de éstos se encuentra de inicio instalado.\n",
    "* Sencillo de instalar sus extensiones (paqueterías y librerías). El *core languaje* de Python es pequeño para mantener su simplicidad y se utilizan extensiones como paquetes y librerías para hacerlo más poderoso."
   ]
  },
  {
   "cell_type": "markdown",
   "metadata": {},
   "source": [
    "Hay una notable influencia de java y C++ y similitud con MATLAB, aunque la documentación de MATLAB es mejor que la de Python principalmente por ser open source y que la documentación depende de la comunidad de developers y users y puede estar dispersa a lo largo de distintos sitios. Python implementa los conceptos de lenguajes orientados a objetos como clases, herencia, métodos (en este curso no se profundizará sobre ellos). Un ejemplo para ver la similitud entre MATLAB y Python es el siguiente:"
   ]
  },
  {
   "cell_type": "markdown",
   "metadata": {},
   "source": [
    "```\n",
    "%Función en MATLAB\n",
    "function resultado = mifuncion(a,b)\n",
    "    n = length(a);\n",
    "    resultado = zeros(n,1);\n",
    "    for i = 1:n\n",
    "            resultado(i) = a(i) + b(i);\n",
    "    end\n",
    "end\n",
    "\n",
    "%Llamada a función mifuncion:\n",
    "a=[1 2 3]\n",
    "b=[4 5 6]\n",
    "mifuncion(a,b)\n",
    "ans =\n",
    "\n",
    "   5\n",
    "   7\n",
    "   9\n",
    "```"
   ]
  },
  {
   "cell_type": "code",
   "execution_count": null,
   "metadata": {},
   "outputs": [],
   "source": [
    "#importamos el módulo de numpy:\n",
    "import numpy as np"
   ]
  },
  {
   "cell_type": "code",
   "execution_count": null,
   "metadata": {},
   "outputs": [],
   "source": [
    "#Función en Python:\n",
    "def mifuncion(a,b):\n",
    "    n, = a.shape\n",
    "    resultado = np.zeros(n)\n",
    "    for i in range(0,n):\n",
    "        resultado[i] = a[i] + b[i]\n",
    "    return resultado"
   ]
  },
  {
   "cell_type": "code",
   "execution_count": null,
   "metadata": {},
   "outputs": [],
   "source": [
    "#Llamada a función mifuncion:\n",
    "a=np.array([1,2,3])\n",
    "b=np.array([4,5,6])\n",
    "resultado = mifuncion(a,b)\n",
    "print(resultado)"
   ]
  },
  {
   "cell_type": "markdown",
   "metadata": {},
   "source": [
    "En el ejemplo anterior se importó `numpy`. [NumPy](https://www.numpy.org/) es un paquete para cómputo científico con Python. Entre lo que contiene se encuentra:\n",
    "\n",
    "* Objetos array n-dimensionales.\n",
    "* Funciones para cálculos típicos en el álgebra lineal, cálculo, probabilidad y estadística. \n",
    "* Integración de código de C/C++ y Fortran a través de herramientas.\n",
    "\n",
    "Además, NumPy procesa de forma multi-dimensional arrays que pueden contener no sólo números sino otro tipo de datos por ejemplo `strings`. **Obs:** si el array contiene números entonces deben ser del mismo *data-type* para formar al *numpy array*.\n"
   ]
  },
  {
   "cell_type": "markdown",
   "metadata": {},
   "source": [
    "Obsérvese en el código de Python anterior que:\n",
    "* No se tienen que definir o declararse variables para empezar a usarlas (a diferencia de java o C)\n",
    "* La línea `import numpy` indica al intérprete que se importe el paquete numpy.\n",
    "* La función `range` crea la secuencia: [0,1,...,n-2].\n",
    "* El primer elemento del array tiene índice 0 a diferencia de MATLAB o R.\n",
    "* En Python no se tienen `end` statements para indicar que un loop o función termina pues se utiliza `indentation` para definirse el cuerpo.\n",
    "* Python es case-sensitive (como R y MATLAB)"
   ]
  },
  {
   "cell_type": "code",
   "execution_count": null,
   "metadata": {},
   "outputs": [],
   "source": []
  }
 ],
 "metadata": {
  "kernelspec": {
   "display_name": "Python 3",
   "language": "python",
   "name": "python3"
  },
  "language_info": {
   "codemirror_mode": {
    "name": "ipython",
    "version": 3
   },
   "file_extension": ".py",
   "mimetype": "text/x-python",
   "name": "python",
   "nbconvert_exporter": "python",
   "pygments_lexer": "ipython3",
   "version": "3.5.2"
  }
 },
 "nbformat": 4,
 "nbformat_minor": 2
}
